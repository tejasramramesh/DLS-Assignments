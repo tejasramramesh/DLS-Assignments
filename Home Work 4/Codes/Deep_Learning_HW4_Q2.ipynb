{
  "nbformat": 4,
  "nbformat_minor": 0,
  "metadata": {
    "colab": {
      "provenance": []
    },
    "kernelspec": {
      "name": "python3",
      "display_name": "Python 3"
    },
    "language_info": {
      "name": "python"
    },
    "gpuClass": "standard"
  },
  "cells": [
    {
      "cell_type": "markdown",
      "source": [
        "#Home Work 4\n",
        "\n",
        "1) https://scikit-learn.org/stable/modules/generated/sklearn.preprocessing.OneHotEncoder.html\n",
        "\n",
        "2) https://scikit-learn.org/stable/modules/generated/sklearn.model_selection.train_test_split.html\n",
        "\n",
        "3)https://www.google.com/search?client=safari&rls=en&q=what+is+rank+of+a+matrix&ie=UTF-8&oe=UTF-8\n",
        "\n",
        "4)https://keras.io/api/layers/base_layer/#getweights-method\n",
        "\n",
        "5)https://stackoverflow.com/questions/68353001/keras-weight-contraints-including-both-bias-and-kernel-matrix-at-the-same-time\n",
        "\n",
        "6)https://math.stackexchange.com/questions/243533/how-to-intuitively-understand-eigenvalue-and-eigenvector\n",
        "\n",
        "7) Steve Brunton youtube playlist on SVD ( loved his explanation !)\n",
        "\n",
        "8)https://medium.com/@mukeshkumar_46704/my-intuition-to-learn-eigenvalues-and-eigenvectors-c185f4f3435c\n",
        "\n",
        "9)https://www.tensorflow.org/api_docs/python/tf/keras/Model\n",
        "\n",
        "10)http://databookuw.com/databook.pdf (Steve Bruntons book)\n",
        "\n",
        "\n",
        "Discussed and Collaborated with Sushant and Ramki"
      ],
      "metadata": {
        "id": "sJqbFy3q3tJP"
      }
    },
    {
      "cell_type": "markdown",
      "source": [
        "#GPU Check"
      ],
      "metadata": {
        "id": "C5SJzCjBPsq6"
      }
    },
    {
      "cell_type": "code",
      "execution_count": null,
      "metadata": {
        "colab": {
          "base_uri": "https://localhost:8080/"
        },
        "id": "IwYGdTCs27Ww",
        "outputId": "49e6345b-8539-4e19-88fc-5d212f8ff47a"
      },
      "outputs": [
        {
          "output_type": "stream",
          "name": "stdout",
          "text": [
            "Found GPU at: /device:GPU:0\n"
          ]
        }
      ],
      "source": [
        "#Path: TensorFlow/Tejas/\n",
        "import tensorflow as tf\n",
        "device_name = tf.test.gpu_device_name()\n",
        "if device_name != '/device:GPU:0':\n",
        "  raise SystemError('GPU device not found')\n",
        "print('Found GPU at: {}'.format(device_name))"
      ]
    },
    {
      "cell_type": "code",
      "source": [
        "print(\"TensorFlow version:\", tf.__version__)"
      ],
      "metadata": {
        "colab": {
          "base_uri": "https://localhost:8080/"
        },
        "id": "hLX5fbg-Pvj6",
        "outputId": "8da2a128-cc59-4d98-adf9-68f76b8d739a"
      },
      "execution_count": null,
      "outputs": [
        {
          "output_type": "stream",
          "name": "stdout",
          "text": [
            "TensorFlow version: 2.9.2\n"
          ]
        }
      ]
    },
    {
      "cell_type": "code",
      "source": [
        "import tensorflow as tf\n",
        "import timeit\n",
        "\n",
        "device_name = tf.test.gpu_device_name()\n",
        "if device_name != '/device:GPU:0':\n",
        "  print(\n",
        "      '\\n\\nThis error most likely means that this notebook is not '\n",
        "      'configured to use a GPU.  Change this in Notebook Settings via the '\n",
        "      'command palette (cmd/ctrl-shift-P) or the Edit menu.\\n\\n')\n",
        "  raise SystemError('GPU device not found')\n",
        "\n",
        "def cpu():\n",
        "  with tf.device('/cpu:0'):\n",
        "    random_image_cpu = tf.random.normal((100, 100, 100, 3))\n",
        "    net_cpu = tf.keras.layers.Conv2D(32, 7)(random_image_cpu)\n",
        "    return tf.math.reduce_sum(net_cpu)\n",
        "\n",
        "def gpu():\n",
        "  with tf.device('/device:GPU:0'):\n",
        "    random_image_gpu = tf.random.normal((100, 100, 100, 3))\n",
        "    net_gpu = tf.keras.layers.Conv2D(32, 7)(random_image_gpu)\n",
        "    return tf.math.reduce_sum(net_gpu)\n",
        "  \n",
        "# We run each op once to warm up; see: https://stackoverflow.com/a/45067900\n",
        "cpu()\n",
        "gpu()\n",
        "\n",
        "# Run the op several times.\n",
        "print('Time (s) to convolve 32x7x7x3 filter over random 100x100x100x3 images '\n",
        "      '(batch x height x width x channel). Sum of ten runs.')\n",
        "print('CPU (s):')\n",
        "cpu_time = timeit.timeit('cpu()', number=10, setup=\"from __main__ import cpu\")\n",
        "print(cpu_time)\n",
        "print('GPU (s):')\n",
        "gpu_time = timeit.timeit('gpu()', number=10, setup=\"from __main__ import gpu\")\n",
        "print(gpu_time)\n",
        "print('GPU speedup over CPU: {}x'.format(int(cpu_time/gpu_time)))"
      ],
      "metadata": {
        "colab": {
          "base_uri": "https://localhost:8080/"
        },
        "id": "sDB3Vm8yPxas",
        "outputId": "53f60fbb-3ffb-4d59-dab1-d5af5bcc9855"
      },
      "execution_count": null,
      "outputs": [
        {
          "output_type": "stream",
          "name": "stdout",
          "text": [
            "Time (s) to convolve 32x7x7x3 filter over random 100x100x100x3 images (batch x height x width x channel). Sum of ten runs.\n",
            "CPU (s):\n",
            "3.3472951630000125\n",
            "GPU (s):\n",
            "0.0423514290000071\n",
            "GPU speedup over CPU: 79x\n"
          ]
        }
      ]
    },
    {
      "cell_type": "markdown",
      "source": [
        "#Dependencies"
      ],
      "metadata": {
        "id": "Tiv74L3zPz6w"
      }
    },
    {
      "cell_type": "code",
      "source": [
        "import numpy as np\n",
        "import random\n",
        "import pandas as pd\n",
        "import seaborn as sns\n",
        "import matplotlib.pyplot as plt\n",
        "from sklearn.decomposition import PCA\n",
        "from sklearn.manifold import TSNE\n",
        "from tensorflow import keras\n",
        "from tensorflow.keras import layers\n",
        "from keras.models import Model\n",
        "import keras.utils\n",
        "from keras import utils as np_utils\n",
        "from keras.models import Sequential\n",
        "from keras.layers import  Dense, Dropout, Activation, Flatten\n",
        "from librosa.core import stft,istft\n",
        "import soundfile as sf\n",
        "from sklearn.model_selection import train_test_split\n",
        "import tensorflow as tf\n",
        "import matplotlib.pyplot as plt\n",
        "%matplotlib inline"
      ],
      "metadata": {
        "id": "QF55mBTjP29s"
      },
      "execution_count": null,
      "outputs": []
    },
    {
      "cell_type": "markdown",
      "source": [
        "##Load Data Set"
      ],
      "metadata": {
        "id": "6rzK3js9P7Ez"
      }
    },
    {
      "cell_type": "code",
      "source": [
        "from google.colab import drive\n",
        "drive.mount('/content/drive')"
      ],
      "metadata": {
        "colab": {
          "base_uri": "https://localhost:8080/"
        },
        "id": "u6fyEyCMP5uK",
        "outputId": "11799e1e-3d0d-426f-d285-5c22f8462361"
      },
      "execution_count": null,
      "outputs": [
        {
          "output_type": "stream",
          "name": "stdout",
          "text": [
            "Mounted at /content/drive\n"
          ]
        }
      ]
    },
    {
      "cell_type": "code",
      "source": [
        "data = tf.keras.datasets.mnist\n",
        "(X_train, y_train), (X_test, y_test) = data.load_data()\n",
        "\n",
        "print('dimensions of X_train : {}'.format(X_train.shape))\n",
        "print('dimensions of y_train : {}'.format(y_train.shape))\n",
        "print('dimensions of X_test  : {}'.format(X_test.shape))\n",
        "print('dimensions of y_test  : {}'.format(y_test.shape))"
      ],
      "metadata": {
        "colab": {
          "base_uri": "https://localhost:8080/"
        },
        "id": "XYBPwYOkQLy2",
        "outputId": "fe2a5a09-9be0-4a7a-bc89-8d1c12fde1b0"
      },
      "execution_count": null,
      "outputs": [
        {
          "output_type": "stream",
          "name": "stdout",
          "text": [
            "Downloading data from https://storage.googleapis.com/tensorflow/tf-keras-datasets/mnist.npz\n",
            "11490434/11490434 [==============================] - 2s 0us/step\n",
            "dimensions of X_train : (60000, 28, 28)\n",
            "dimensions of y_train : (60000,)\n",
            "dimensions of X_test  : (10000, 28, 28)\n",
            "dimensions of y_test  : (10000,)\n"
          ]
        }
      ]
    },
    {
      "cell_type": "code",
      "source": [
        "X_test = X_test/255\n",
        "X_train = X_train/255"
      ],
      "metadata": {
        "id": "4FxGkD_Gj5O3"
      },
      "execution_count": null,
      "outputs": []
    },
    {
      "cell_type": "code",
      "source": [
        "import matplotlib.pyplot as plt\n",
        "\n",
        "plt.imshow(X_train[1])"
      ],
      "metadata": {
        "colab": {
          "base_uri": "https://localhost:8080/",
          "height": 282
        },
        "id": "uTCk88dkQOK7",
        "outputId": "87bb92d2-5947-451e-e6d3-5dbdf59c723a"
      },
      "execution_count": null,
      "outputs": [
        {
          "output_type": "execute_result",
          "data": {
            "text/plain": [
              "<matplotlib.image.AxesImage at 0x7f50e230c250>"
            ]
          },
          "metadata": {},
          "execution_count": 8
        },
        {
          "output_type": "display_data",
          "data": {
            "text/plain": [
              "<Figure size 432x288 with 1 Axes>"
            ],
            "image/png": "[encoded data removed]"
          },
          "metadata": {
            "needs_background": "light"
          }
        }
      ]
    },
    {
      "cell_type": "markdown",
      "source": [
        "##Split Train Data Set to Train and Validation"
      ],
      "metadata": {
        "id": "zp0mflzgQUwc"
      }
    },
    {
      "cell_type": "code",
      "source": [
        "from sklearn.model_selection import train_test_split\n",
        "\n",
        "X_train2,X_val,y_train2,y_val = train_test_split(X_train,y_train,train_size = 0.8,random_state= None, shuffle=False, stratify=None)\n",
        "\n",
        "print('dimensions of X_train2 : {}'.format(X_train2.shape))\n",
        "print('dimensions of y_train2 : {}'.format(y_train2.shape))\n",
        "print('dimensions of X_val  : {}'.format(X_val.shape))\n",
        "print('dimensions of y_val  : {}'.format(y_val.shape))"
      ],
      "metadata": {
        "colab": {
          "base_uri": "https://localhost:8080/"
        },
        "id": "v6KCJ44oQQnS",
        "outputId": "17b57d18-880b-4df2-92c7-17f959dec207"
      },
      "execution_count": null,
      "outputs": [
        {
          "output_type": "stream",
          "name": "stdout",
          "text": [
            "dimensions of X_train2 : (48000, 28, 28)\n",
            "dimensions of y_train2 : (48000,)\n",
            "dimensions of X_val  : (12000, 28, 28)\n",
            "dimensions of y_val  : (12000,)\n"
          ]
        }
      ]
    },
    {
      "cell_type": "markdown",
      "source": [
        "##SVD "
      ],
      "metadata": {
        "id": "9aOj_4oHY0ZP"
      }
    },
    {
      "cell_type": "code",
      "source": [
        "sum1, direction1, value1 = tf.linalg.svd(model.get_layer(index=1).get_weights()[0])\n",
        "sum2, direction2, value2 = tf.linalg.svd(model.get_layer(index=2).get_weights()[0])\n",
        "sum3, direction3, value3 = tf.linalg.svd(model.get_layer(index=3).get_weights()[0])\n",
        "sum4, direction4, value4 = tf.linalg.svd(model.get_layer(index=4).get_weights()[0])\n",
        "sum5, direction5, value5 = tf.linalg.svd(model.get_layer(index=5).get_weights()[0])\n",
        "\n",
        "S1 = tf.linalg.diag(sum1)\n",
        "S2 = tf.linalg.diag(sum2)\n",
        "S3 = tf.linalg.diag(sum3)\n",
        "S4 = tf.linalg.diag(sum4)\n",
        "S5 = tf.linalg.diag(sum5)\n",
        "\n",
        "V1 = tf.transpose(value1)\n",
        "V2 = tf.transpose(value2)\n",
        "V3 = tf.transpose(value3)\n",
        "V4 = tf.transpose(value4)\n",
        "V5 = tf.transpose(value5)\n",
        "\n",
        "D1 = direction1\n",
        "D2 = direction2\n",
        "D3 = direction3\n",
        "D4 = direction4\n",
        "D5 = direction5\n",
        "\n",
        "\n",
        "B1 = model.get_layer(index=1).get_weights()[1]\n",
        "B2 = model.get_layer(index=2).get_weights()[1]\n",
        "B3 = model.get_layer(index=3).get_weights()[1]\n",
        "B4 = model.get_layer(index=4).get_weights()[1]\n",
        "B5 = model.get_layer(index=5).get_weights()[1]\n"
      ],
      "metadata": {
        "id": "_Sa3TPsMYvrQ"
      },
      "execution_count": null,
      "outputs": []
    },
    {
      "cell_type": "markdown",
      "source": [
        "##Slice sum,value and direction for rank 20"
      ],
      "metadata": {
        "id": "tbS9v7mKZcaV"
      }
    },
    {
      "cell_type": "code",
      "source": [
        "rank = 20\n",
        "D1_20 = D1[:, :rank]\n",
        "S1_20 = S1[:rank, :rank]\n",
        "V1_20 = V1[:rank, :]\n",
        "V1_20f = tf.matmul(S1_20,V1_20)\n",
        "\n",
        "D2_20 = D2[:, :rank]\n",
        "S2_20 = S2[:rank, :rank]\n",
        "V2_20 = V2[:rank, :]\n",
        "V2_20f = tf.matmul(S2_20,V2_20)\n",
        "\n",
        "D3_20 = D3[:, :rank]\n",
        "S3_20 = S3[:rank, :rank]\n",
        "V3_20 = V3[:rank, :]\n",
        "V3_20f = tf.matmul(S3_20,V3_20)\n",
        "\n",
        "D4_20 = D4[:, :rank]\n",
        "S4_20 = S4[:rank, :rank]\n",
        "V4_20 = V4[:rank, :]\n",
        "V4_20f = tf.matmul(S4_20,V4_20)\n",
        "\n",
        "D5_20 = D5[:, :rank]\n",
        "S5_20 = S5[:rank, :rank]\n",
        "V5_20 = V5[:rank, :]\n",
        "V5_20f = tf.matmul(S5_20,V5_20)"
      ],
      "metadata": {
        "id": "IpYNv91pY586"
      },
      "execution_count": null,
      "outputs": []
    },
    {
      "cell_type": "code",
      "source": [
        "print(\"Shape of U initial is : \",D1_20.shape)\n",
        "print(\"Shape of V initial is : \",V1_20f.shape)\n",
        "print(\"Shape of U later is : \",D5_20.shape)\n",
        "print(\"Shape of V later is : \",V5_20f.shape)\n",
        "\n",
        "\n"
      ],
      "metadata": {
        "colab": {
          "base_uri": "https://localhost:8080/"
        },
        "id": "Hth6ozUgkrnn",
        "outputId": "aa1001dc-da3d-47d9-8449-95f12da8dcf2"
      },
      "execution_count": null,
      "outputs": [
        {
          "output_type": "stream",
          "name": "stdout",
          "text": [
            "Shape of U initial is :  (784, 20)\n",
            "Shape of V initial is :  (20, 1024)\n",
            "Shape of U later is :  (1024, 20)\n",
            "Shape of V later is :  (20, 1024)\n"
          ]
        }
      ]
    },
    {
      "cell_type": "markdown",
      "source": [
        "Shapes Map :\n",
        "\n",
        "U ( m * rank) \n",
        "\n",
        "V ( rank * n)\n",
        "\n",
        "Dot product shape is M * N \n",
        "\n"
      ],
      "metadata": {
        "id": "y5xoarV4lC6i"
      }
    },
    {
      "cell_type": "code",
      "source": [
        "weights =[]\n",
        "weights.append(D1_20)\n",
        "weights.append(V1_20f)\n",
        "weights.append(D2_20)\n",
        "weights.append(V2_20f)\n",
        "weights.append(D3_20)\n",
        "weights.append(V3_20f)\n",
        "weights.append(D4_20)\n",
        "weights.append(V4_20f)\n",
        "weights.append(D5_20)\n",
        "weights.append(V5_20f)"
      ],
      "metadata": {
        "id": "_AvNRqbTdEDZ"
      },
      "execution_count": null,
      "outputs": []
    },
    {
      "cell_type": "markdown",
      "source": [
        "#Model"
      ],
      "metadata": {
        "id": "y-UlK03gY3E9"
      }
    },
    {
      "cell_type": "code",
      "source": [
        "model2 = tf.keras.Sequential([\n",
        "    tf.keras.layers.Reshape(target_shape=(28 * 28,), input_shape=(28,28)),\n",
        "\n",
        "    tf.keras.layers.Dense(units=20,name=\"D1_layer\"),\n",
        "    tf.keras.layers.Dense(units=1024,activation='relu',name=\"target_layer1\"),\n",
        "\n",
        "    tf.keras.layers.Dense(units=20,name=\"D2_layer\"),\n",
        "    tf.keras.layers.Dense(units=1024,activation='relu',name=\"target_layer2\"),\n",
        "\n",
        "    tf.keras.layers.Dense(units=20,name=\"D3_layer\"),\n",
        "    tf.keras.layers.Dense(units=1024,activation='relu',name=\"target_layer3\"),\n",
        "\n",
        "    tf.keras.layers.Dense(units=20,name=\"D4_layer\"),\n",
        "    tf.keras.layers.Dense(units=1024,activation='relu',name=\"target_layer4\"),\n",
        "\n",
        "    tf.keras.layers.Dense(units=20,name=\"D5_layer\"),\n",
        "    tf.keras.layers.Dense(units=1024,activation='relu',name=\"target_layer5\"),\n",
        "    \n",
        "    tf.keras.layers.Dense(units=10,activation='softmax')\n",
        "  ])"
      ],
      "metadata": {
        "id": "KsQ-Z_lMhnoS"
      },
      "execution_count": null,
      "outputs": []
    },
    {
      "cell_type": "code",
      "source": [
        "model2.summary()"
      ],
      "metadata": {
        "colab": {
          "base_uri": "https://localhost:8080/"
        },
        "id": "FcakIg6eiK-5",
        "outputId": "e7787594-2cee-4ee4-8f4b-571073fb2a7d"
      },
      "execution_count": null,
      "outputs": [
        {
          "output_type": "stream",
          "name": "stdout",
          "text": [
            "Model: \"sequential\"\n",
            "_________________________________________________________________\n",
            " Layer (type)                Output Shape              Param #   \n",
            "=================================================================\n",
            " reshape (Reshape)           (None, 784)               0         \n",
            "                                                                 \n",
            " D1_layer (Dense)            (None, 20)                15700     \n",
            "                                                                 \n",
            " target_layer1 (Dense)       (None, 1024)              21504     \n",
            "                                                                 \n",
            " D2_layer (Dense)            (None, 20)                20500     \n",
            "                                                                 \n",
            " target_layer2 (Dense)       (None, 1024)              21504     \n",
            "                                                                 \n",
            " D3_layer (Dense)            (None, 20)                20500     \n",
            "                                                                 \n",
            " target_layer3 (Dense)       (None, 1024)              21504     \n",
            "                                                                 \n",
            " D4_layer (Dense)            (None, 20)                20500     \n",
            "                                                                 \n",
            " target_layer4 (Dense)       (None, 1024)              21504     \n",
            "                                                                 \n",
            " D5_layer (Dense)            (None, 20)                20500     \n",
            "                                                                 \n",
            " target_layer5 (Dense)       (None, 1024)              21504     \n",
            "                                                                 \n",
            " dense (Dense)               (None, 10)                10250     \n",
            "                                                                 \n",
            "=================================================================\n",
            "Total params: 215,470\n",
            "Trainable params: 215,470\n",
            "Non-trainable params: 0\n",
            "_________________________________________________________________\n"
          ]
        }
      ]
    },
    {
      "cell_type": "code",
      "source": [
        "# bias1 = model2.get_layer(index = 1).get_weights()[1]\n",
        "# bias2 = model2.get_layer(index = 2).get_weights()[1]\n",
        "# bias3 = model2.get_layer(index = 3).get_weights()[1]\n",
        "# bias4 = model2.get_layer(index = 4).get_weights()[1]\n",
        "# bias5 = model2.get_layer(index = 5).get_weights()[1]\n",
        "# bias6 = model2.get_layer(index = 6).get_weights()[1]\n",
        "# bias7 = model2.get_layer(index = 7).get_weights()[1]\n",
        "# bias8 = model2.get_layer(index = 8).get_weights()[1]\n",
        "# bias9 = model2.get_layer(index = 9).get_weights()[1]\n",
        "# bias10 = model2.get_layer(index = 10).get_weights()[1]"
      ],
      "metadata": {
        "id": "JzRg3sennUiA"
      },
      "execution_count": null,
      "outputs": []
    },
    {
      "cell_type": "code",
      "source": [
        "bias = []\n",
        "\n",
        "for i in range(1,len(model2.layers)-1):\n",
        "  bias.append(model2.layers[i].get_weights()[1])"
      ],
      "metadata": {
        "id": "dKLfon2Hoay8"
      },
      "execution_count": null,
      "outputs": []
    },
    {
      "cell_type": "markdown",
      "source": [
        "##Set Weights of layers\n",
        "\n",
        "D values in DX_layers. (X = index of layer for D, see model summary)\n",
        "\n",
        "VX_20f in target_layers. ( X = index of layer for SV, see model summary)"
      ],
      "metadata": {
        "id": "_1b6ywVvkIG5"
      }
    },
    {
      "cell_type": "code",
      "source": [
        "len(weights)"
      ],
      "metadata": {
        "colab": {
          "base_uri": "https://localhost:8080/"
        },
        "id": "DQxM2QPapNb_",
        "outputId": "bcf14f17-6cb5-4029-bd26-9c1da77d33e0"
      },
      "execution_count": null,
      "outputs": [
        {
          "output_type": "execute_result",
          "data": {
            "text/plain": [
              "10"
            ]
          },
          "metadata": {},
          "execution_count": 20
        }
      ]
    },
    {
      "cell_type": "code",
      "source": [
        "for i in range(len(weights)):\n",
        "  model2.layers[i+1].set_weights([weights[i],bias[i]])\n"
      ],
      "metadata": {
        "id": "hgWY2WjAjWSB"
      },
      "execution_count": null,
      "outputs": []
    },
    {
      "cell_type": "markdown",
      "source": [
        "Just the shape of weight matrix at odd layers i.e U"
      ],
      "metadata": {
        "id": "wxFW8rMNmFeT"
      }
    },
    {
      "cell_type": "code",
      "source": [
        " WL1 = model2.layers[1].get_weights()[0]\n",
        "\n",
        " WL1.shape"
      ],
      "metadata": {
        "colab": {
          "base_uri": "https://localhost:8080/"
        },
        "id": "5xpQfzjnluVV",
        "outputId": "597c5476-a47c-43d6-c318-9f06e6baa68e"
      },
      "execution_count": null,
      "outputs": [
        {
          "output_type": "execute_result",
          "data": {
            "text/plain": [
              "(784, 20)"
            ]
          },
          "metadata": {},
          "execution_count": 22
        }
      ]
    },
    {
      "cell_type": "markdown",
      "source": [
        "Just the shape of weight matrix at even layers i.e S*V"
      ],
      "metadata": {
        "id": "Qs1nUnYAmKdz"
      }
    },
    {
      "cell_type": "code",
      "source": [
        "WL4 = model2.layers[4].get_weights()[0]\n",
        "WL4.shape"
      ],
      "metadata": {
        "colab": {
          "base_uri": "https://localhost:8080/"
        },
        "id": "odAqEbXllvM1",
        "outputId": "f0398680-dabb-4c57-e122-4f59ff4b925c"
      },
      "execution_count": null,
      "outputs": [
        {
          "output_type": "execute_result",
          "data": {
            "text/plain": [
              "(20, 1024)"
            ]
          },
          "metadata": {},
          "execution_count": 23
        }
      ]
    },
    {
      "cell_type": "code",
      "source": [
        "model2.compile(optimizer=tf.keras.optimizers.Adam(learning_rate=0.00005),loss = tf.losses.SparseCategoricalCrossentropy(from_logits=False),metrics=['accuracy'])"
      ],
      "metadata": {
        "id": "DmE_RLyHmr5z"
      },
      "execution_count": null,
      "outputs": []
    },
    {
      "cell_type": "code",
      "source": [
        "history2 = model2.fit(X_train,y_train,epochs = 30, batch_size = 256 )"
      ],
      "metadata": {
        "colab": {
          "base_uri": "https://localhost:8080/"
        },
        "id": "HnPWJpzEqxtT",
        "outputId": "1439600e-c1a6-4984-b1e9-860c742c5dfa"
      },
      "execution_count": null,
      "outputs": [
        {
          "output_type": "stream",
          "name": "stdout",
          "text": [
            "Epoch 1/30\n",
            "235/235 [==============================] - 2s 4ms/step - loss: 1.7243 - accuracy: 0.5440\n",
            "Epoch 2/30\n",
            "235/235 [==============================] - 1s 4ms/step - loss: 0.3492 - accuracy: 0.9018\n",
            "Epoch 3/30\n",
            "235/235 [==============================] - 1s 4ms/step - loss: 0.1977 - accuracy: 0.9430\n",
            "Epoch 4/30\n",
            "235/235 [==============================] - 1s 4ms/step - loss: 0.1565 - accuracy: 0.9546\n",
            "Epoch 5/30\n",
            "235/235 [==============================] - 1s 4ms/step - loss: 0.1340 - accuracy: 0.9605\n",
            "Epoch 6/30\n",
            "235/235 [==============================] - 1s 4ms/step - loss: 0.1188 - accuracy: 0.9649\n",
            "Epoch 7/30\n",
            "235/235 [==============================] - 1s 4ms/step - loss: 0.1077 - accuracy: 0.9672\n",
            "Epoch 8/30\n",
            "235/235 [==============================] - 1s 4ms/step - loss: 0.0986 - accuracy: 0.9702\n",
            "Epoch 9/30\n",
            "235/235 [==============================] - 1s 4ms/step - loss: 0.0906 - accuracy: 0.9728\n",
            "Epoch 10/30\n",
            "235/235 [==============================] - 1s 4ms/step - loss: 0.0847 - accuracy: 0.9743\n",
            "Epoch 11/30\n",
            "235/235 [==============================] - 1s 4ms/step - loss: 0.0789 - accuracy: 0.9765\n",
            "Epoch 12/30\n",
            "235/235 [==============================] - 1s 4ms/step - loss: 0.0742 - accuracy: 0.9777\n",
            "Epoch 13/30\n",
            "235/235 [==============================] - 1s 4ms/step - loss: 0.0693 - accuracy: 0.9791\n",
            "Epoch 14/30\n",
            "235/235 [==============================] - 1s 4ms/step - loss: 0.0653 - accuracy: 0.9803\n",
            "Epoch 15/30\n",
            "235/235 [==============================] - 1s 4ms/step - loss: 0.0617 - accuracy: 0.9809\n",
            "Epoch 16/30\n",
            "235/235 [==============================] - 1s 4ms/step - loss: 0.0585 - accuracy: 0.9824\n",
            "Epoch 17/30\n",
            "235/235 [==============================] - 1s 4ms/step - loss: 0.0550 - accuracy: 0.9832\n",
            "Epoch 18/30\n",
            "235/235 [==============================] - 1s 4ms/step - loss: 0.0523 - accuracy: 0.9845\n",
            "Epoch 19/30\n",
            "235/235 [==============================] - 1s 4ms/step - loss: 0.0495 - accuracy: 0.9854\n",
            "Epoch 20/30\n",
            "235/235 [==============================] - 1s 4ms/step - loss: 0.0470 - accuracy: 0.9859\n",
            "Epoch 21/30\n",
            "235/235 [==============================] - 1s 4ms/step - loss: 0.0447 - accuracy: 0.9869\n",
            "Epoch 22/30\n",
            "235/235 [==============================] - 1s 4ms/step - loss: 0.0426 - accuracy: 0.9876\n",
            "Epoch 23/30\n",
            "235/235 [==============================] - 1s 4ms/step - loss: 0.0402 - accuracy: 0.9883\n",
            "Epoch 24/30\n",
            "235/235 [==============================] - 1s 4ms/step - loss: 0.0388 - accuracy: 0.9887\n",
            "Epoch 25/30\n",
            "235/235 [==============================] - 1s 4ms/step - loss: 0.0368 - accuracy: 0.9893\n",
            "Epoch 26/30\n",
            "235/235 [==============================] - 1s 4ms/step - loss: 0.0351 - accuracy: 0.9901\n",
            "Epoch 27/30\n",
            "235/235 [==============================] - 1s 4ms/step - loss: 0.0334 - accuracy: 0.9905\n",
            "Epoch 28/30\n",
            "235/235 [==============================] - 1s 4ms/step - loss: 0.0322 - accuracy: 0.9911\n",
            "Epoch 29/30\n",
            "235/235 [==============================] - 1s 4ms/step - loss: 0.0303 - accuracy: 0.9914\n",
            "Epoch 30/30\n",
            "235/235 [==============================] - 1s 4ms/step - loss: 0.0288 - accuracy: 0.9919\n"
          ]
        }
      ]
    },
    {
      "cell_type": "code",
      "source": [
        "model2.evaluate(X_test,y_test)"
      ],
      "metadata": {
        "colab": {
          "base_uri": "https://localhost:8080/"
        },
        "id": "OQ2VUkQspnUC",
        "outputId": "69427dec-dd37-4462-fd97-ae31f00c8270"
      },
      "execution_count": null,
      "outputs": [
        {
          "output_type": "stream",
          "name": "stdout",
          "text": [
            "313/313 [==============================] - 1s 3ms/step - loss: 0.0925 - accuracy: 0.9761\n"
          ]
        },
        {
          "output_type": "execute_result",
          "data": {
            "text/plain": [
              "[0.092485211789608, 0.9761000275611877]"
            ]
          },
          "metadata": {},
          "execution_count": 33
        }
      ]
    },
    {
      "cell_type": "code",
      "source": [
        "plt.plot(history2.history['loss'], color='blue')\n",
        "plt.ylabel(\"Loss\")\n",
        "plt.xlabel(\"Epochs\")\n",
        "plt.title(\"Model Loss Progression\")"
      ],
      "metadata": {
        "colab": {
          "base_uri": "https://localhost:8080/",
          "height": 312
        },
        "id": "AsvvAf9nrz68",
        "outputId": "3065e036-4a84-4c99-bf68-10e9d7ccb637"
      },
      "execution_count": null,
      "outputs": [
        {
          "output_type": "execute_result",
          "data": {
            "text/plain": [
              "Text(0.5, 1.0, 'Model Loss Progression')"
            ]
          },
          "metadata": {},
          "execution_count": 34
        },
        {
          "output_type": "display_data",
          "data": {
            "text/plain": [
              "<Figure size 432x288 with 1 Axes>"
            ],
            "image/png": "[encoded data removed]"
          },
          "metadata": {
            "needs_background": "light"
          }
        }
      ]
    },
    {
      "cell_type": "code",
      "source": [
        "%%shell\n",
        "jupyter nbconvert --to html /content/Deep_Learning_HW4_Q4.ipynb"
      ],
      "metadata": {
        "id": "TyH58tKeCNpl"
      },
      "execution_count": null,
      "outputs": []
    }
  ]
}