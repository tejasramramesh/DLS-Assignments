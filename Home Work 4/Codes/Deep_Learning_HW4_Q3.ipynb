{
  "nbformat": 4,
  "nbformat_minor": 0,
  "metadata": {
    "colab": {
      "provenance": [],
      "collapsed_sections": [],
      "machine_shape": "hm"
    },
    "kernelspec": {
      "name": "python3",
      "display_name": "Python 3"
    },
    "language_info": {
      "name": "python"
    },
    "accelerator": "GPU",
    "gpuClass": "premium"
  },
  "cells": [
    {
      "cell_type": "markdown",
      "source": [
        "#Home Work 4 \n",
        "\n",
        "References:\n",
        "\n",
        "\n",
        "1.   https://www.tensorflow.org/api_docs/python/tf/keras/layers/Layer#build\n",
        "2.  Custom Gradient and Layers: https://stackoverflow.com/questions/56657993/how-to-create-a-keras-layer-with-a-custom-gradient-in-tf2-0\n",
        "\n",
        "3. https://goodboychan.github.io/python/coursera/tensorflow/deeplearning.ai/2022/02/08/02-Tensorflow2-Custom-Layers.html#Activation-in-a-custom-layer\n",
        "\n",
        "Error Solving Ref:\n",
        "\n",
        "1. https://stackoverflow.com/questions/56657993/how-to-create-a-keras-layer-with-a-custom-gradient-in-tf2-0\n",
        "\n",
        "2. https://stackoverflow.com/questions/49029105/get-weights-from-keras-layer\n",
        "\n",
        "3. https://stackoverflow.com/questions/67085779/typeerror-fit-got-an-unexpected-keyword-argument-test\n",
        "4. https://stackoverflow.com/questions/57892492/why-the-gradient-of-categorical-crossentropy-loss-with-respect-to-logits-is-0-wi\n",
        "\n",
        "5. Loss had to be spare categorical cross entropy. Else gives error with shapes.\n",
        "\n",
        "Discussed and collaborated with Ramki and Sushant\n"
      ],
      "metadata": {
        "id": "8PP5xDipwQms"
      }
    },
    {
      "cell_type": "code",
      "execution_count": 2,
      "metadata": {
        "id": "IG82c2P6wOcD"
      },
      "outputs": [],
      "source": [
        "\n",
        "import numpy as np\n",
        "import random\n",
        "import pandas as pd\n",
        "import seaborn as sns\n",
        "import matplotlib.pyplot as plt\n",
        "from sklearn.decomposition import PCA\n",
        "from sklearn.manifold import TSNE\n",
        "from tensorflow import keras\n",
        "from tensorflow.keras import layers\n",
        "from keras.models import Model\n",
        "import keras.utils\n",
        "from keras import utils as np_utils\n",
        "from keras.models import Sequential\n",
        "from keras.layers import  Dense, Dropout, Activation, Flatten\n",
        "from librosa.core import stft,istft\n",
        "import soundfile as sf\n",
        "from sklearn.model_selection import train_test_split\n",
        "import tensorflow as tf\n",
        "import matplotlib.pyplot as plt\n",
        "%matplotlib inline"
      ]
    },
    {
      "cell_type": "markdown",
      "source": [
        "#Load Data"
      ],
      "metadata": {
        "id": "3cuDgu542bLu"
      }
    },
    {
      "cell_type": "code",
      "source": [
        "data = tf.keras.datasets.mnist\n",
        "(X_train, y_train), (X_test, y_test) = data.load_data()\n",
        "\n",
        "print('dimensions of X_train : {}'.format(X_train.shape))\n",
        "print('dimensions of y_train : {}'.format(y_train.shape))\n",
        "print('dimensions of X_test  : {}'.format(X_test.shape))\n",
        "print('dimensions of y_test  : {}'.format(y_test.shape))"
      ],
      "metadata": {
        "colab": {
          "base_uri": "https://localhost:8080/"
        },
        "id": "_s6yDzkB15T-",
        "outputId": "83e7284e-1c30-4ece-ba24-3a836afe1af8"
      },
      "execution_count": 3,
      "outputs": [
        {
          "output_type": "stream",
          "name": "stdout",
          "text": [
            "Downloading data from https://storage.googleapis.com/tensorflow/tf-keras-datasets/mnist.npz\n",
            "11490434/11490434 [==============================] - 0s 0us/step\n",
            "dimensions of X_train : (60000, 28, 28)\n",
            "dimensions of y_train : (60000,)\n",
            "dimensions of X_test  : (10000, 28, 28)\n",
            "dimensions of y_test  : (10000,)\n"
          ]
        }
      ]
    },
    {
      "cell_type": "markdown",
      "source": [
        "##Split Data"
      ],
      "metadata": {
        "id": "jiVmq_0M2cwm"
      }
    },
    {
      "cell_type": "code",
      "source": [
        "from sklearn.model_selection import train_test_split\n",
        "\n",
        "X_train2,X_val,y_train2,y_val = train_test_split(X_train,y_train,train_size = 0.8,random_state= None, shuffle=False, stratify=None)\n",
        "\n",
        "print('dimensions of X_train2 : {}'.format(X_train2.shape))\n",
        "print('dimensions of y_train2 : {}'.format(y_train2.shape))\n",
        "print('dimensions of X_val  : {}'.format(X_val.shape))\n",
        "print('dimensions of y_val  : {}'.format(y_val.shape))"
      ],
      "metadata": {
        "colab": {
          "base_uri": "https://localhost:8080/"
        },
        "id": "i18JwUmS2S-K",
        "outputId": "06216c79-a1f7-4ef9-d595-4204965809af"
      },
      "execution_count": 5,
      "outputs": [
        {
          "output_type": "stream",
          "name": "stdout",
          "text": [
            "dimensions of X_train2 : (48000, 28, 28)\n",
            "dimensions of y_train2 : (48000,)\n",
            "dimensions of X_val  : (12000, 28, 28)\n",
            "dimensions of y_val  : (12000,)\n"
          ]
        }
      ]
    },
    {
      "cell_type": "markdown",
      "source": [
        "##Load Baseline Model"
      ],
      "metadata": {
        "id": "Rs1OjoBg2XPk"
      }
    },
    {
      "cell_type": "code",
      "source": [
        "from google.colab import drive\n",
        "drive.mount('/content/drive')"
      ],
      "metadata": {
        "colab": {
          "base_uri": "https://localhost:8080/"
        },
        "id": "UejhGHq52fv7",
        "outputId": "be345d01-22ba-4e1e-b419-791528c77f36"
      },
      "execution_count": 6,
      "outputs": [
        {
          "output_type": "stream",
          "name": "stdout",
          "text": [
            "Mounted at /content/drive\n"
          ]
        }
      ]
    },
    {
      "cell_type": "code",
      "source": [
        "baselinemodel = tf.keras.Sequential([\n",
        "    tf.keras.layers.Reshape(target_shape=(28 * 28,), input_shape=(28,28)),\n",
        "    tf.keras.layers.Dense(units=1024,activation='relu', name=\"target_layer1\"),\n",
        "    tf.keras.layers.Dense(units=1024,activation='relu', name=\"target_layer2\"),\n",
        "    tf.keras.layers.Dense(units=1024,activation='relu', name=\"target_layer3\"),\n",
        "    tf.keras.layers.Dense(units=1024,activation='relu', name=\"target_layer4\"),\n",
        "    tf.keras.layers.Dense(units=1024,activation='relu', name=\"target_layer5\"),\n",
        "    tf.keras.layers.Dense(units=10,activation='softmax')\n",
        "  ])"
      ],
      "metadata": {
        "id": "KLagCZwIoi40"
      },
      "execution_count": 9,
      "outputs": []
    },
    {
      "cell_type": "code",
      "source": [
        "baselinemodel.summary()"
      ],
      "metadata": {
        "colab": {
          "base_uri": "https://localhost:8080/"
        },
        "id": "enVgi21Xokz_",
        "outputId": "00a1a081-fc16-4858-a959-f51ee2bb2759"
      },
      "execution_count": 10,
      "outputs": [
        {
          "output_type": "stream",
          "name": "stdout",
          "text": [
            "Model: \"sequential\"\n",
            "_________________________________________________________________\n",
            " Layer (type)                Output Shape              Param #   \n",
            "=================================================================\n",
            " reshape (Reshape)           (None, 784)               0         \n",
            "                                                                 \n",
            " target_layer1 (Dense)       (None, 1024)              803840    \n",
            "                                                                 \n",
            " target_layer2 (Dense)       (None, 1024)              1049600   \n",
            "                                                                 \n",
            " target_layer3 (Dense)       (None, 1024)              1049600   \n",
            "                                                                 \n",
            " target_layer4 (Dense)       (None, 1024)              1049600   \n",
            "                                                                 \n",
            " target_layer5 (Dense)       (None, 1024)              1049600   \n",
            "                                                                 \n",
            " dense (Dense)               (None, 10)                10250     \n",
            "                                                                 \n",
            "=================================================================\n",
            "Total params: 5,012,490\n",
            "Trainable params: 5,012,490\n",
            "Non-trainable params: 0\n",
            "_________________________________________________________________\n"
          ]
        }
      ]
    },
    {
      "cell_type": "code",
      "source": [
        "baselinemodel.compile(optimizer = 'adam',\n",
        "              loss = tf.losses.SparseCategoricalCrossentropy(from_logits=True),metrics='accuracy')"
      ],
      "metadata": {
        "id": "w1orDnqGpZ8B"
      },
      "execution_count": 11,
      "outputs": []
    },
    {
      "cell_type": "code",
      "source": [
        "history1 = baselinemodel.fit(X_train2,y_train2,epochs = 30, batch_size = 256,validation_data = (X_val,y_val))"
      ],
      "metadata": {
        "colab": {
          "base_uri": "https://localhost:8080/"
        },
        "id": "nFZuc65npv1B",
        "outputId": "b8c74562-1e57-4300-fd7b-9ba51065ed1a"
      },
      "execution_count": 12,
      "outputs": [
        {
          "output_type": "stream",
          "name": "stdout",
          "text": [
            "Epoch 1/30\n"
          ]
        },
        {
          "output_type": "stream",
          "name": "stderr",
          "text": [
            "/usr/local/lib/python3.7/dist-packages/tensorflow/python/util/dispatch.py:1082: UserWarning: \"`sparse_categorical_crossentropy` received `from_logits=True`, but the `output` argument was produced by a sigmoid or softmax activation and thus does not represent logits. Was this intended?\"\n",
            "  return dispatch_target(*args, **kwargs)\n"
          ]
        },
        {
          "output_type": "stream",
          "name": "stdout",
          "text": [
            "188/188 [==============================] - 4s 4ms/step - loss: 4.0372 - accuracy: 0.8587 - val_loss: 0.1594 - val_accuracy: 0.9515\n",
            "Epoch 2/30\n",
            "188/188 [==============================] - 1s 3ms/step - loss: 0.1221 - accuracy: 0.9623 - val_loss: 0.1256 - val_accuracy: 0.9637\n",
            "Epoch 3/30\n",
            "188/188 [==============================] - 1s 3ms/step - loss: 0.0800 - accuracy: 0.9755 - val_loss: 0.1635 - val_accuracy: 0.9503\n",
            "Epoch 4/30\n",
            "188/188 [==============================] - 1s 3ms/step - loss: 0.0595 - accuracy: 0.9814 - val_loss: 0.1270 - val_accuracy: 0.9649\n",
            "Epoch 5/30\n",
            "188/188 [==============================] - 1s 3ms/step - loss: 0.0512 - accuracy: 0.9846 - val_loss: 0.1227 - val_accuracy: 0.9657\n",
            "Epoch 6/30\n",
            "188/188 [==============================] - 1s 3ms/step - loss: 0.0434 - accuracy: 0.9862 - val_loss: 0.1295 - val_accuracy: 0.9684\n",
            "Epoch 7/30\n",
            "188/188 [==============================] - 1s 4ms/step - loss: 0.0446 - accuracy: 0.9861 - val_loss: 0.1183 - val_accuracy: 0.9677\n",
            "Epoch 8/30\n",
            "188/188 [==============================] - 1s 3ms/step - loss: 0.0356 - accuracy: 0.9882 - val_loss: 0.1195 - val_accuracy: 0.9682\n",
            "Epoch 9/30\n",
            "188/188 [==============================] - 1s 3ms/step - loss: 0.0369 - accuracy: 0.9891 - val_loss: 0.1360 - val_accuracy: 0.9646\n",
            "Epoch 10/30\n",
            "188/188 [==============================] - 1s 3ms/step - loss: 0.0330 - accuracy: 0.9902 - val_loss: 0.1243 - val_accuracy: 0.9718\n",
            "Epoch 11/30\n",
            "188/188 [==============================] - 1s 4ms/step - loss: 0.0235 - accuracy: 0.9926 - val_loss: 0.1331 - val_accuracy: 0.9717\n",
            "Epoch 12/30\n",
            "188/188 [==============================] - 1s 3ms/step - loss: 0.0334 - accuracy: 0.9898 - val_loss: 0.1487 - val_accuracy: 0.9646\n",
            "Epoch 13/30\n",
            "188/188 [==============================] - 1s 3ms/step - loss: 0.0290 - accuracy: 0.9912 - val_loss: 0.1294 - val_accuracy: 0.9715\n",
            "Epoch 14/30\n",
            "188/188 [==============================] - 1s 3ms/step - loss: 0.0266 - accuracy: 0.9924 - val_loss: 0.1285 - val_accuracy: 0.9721\n",
            "Epoch 15/30\n",
            "188/188 [==============================] - 1s 3ms/step - loss: 0.0302 - accuracy: 0.9913 - val_loss: 0.1297 - val_accuracy: 0.9697\n",
            "Epoch 16/30\n",
            "188/188 [==============================] - 1s 3ms/step - loss: 0.0281 - accuracy: 0.9917 - val_loss: 0.1451 - val_accuracy: 0.9649\n",
            "Epoch 17/30\n",
            "188/188 [==============================] - 1s 3ms/step - loss: 0.0267 - accuracy: 0.9916 - val_loss: 0.1298 - val_accuracy: 0.9741\n",
            "Epoch 18/30\n",
            "188/188 [==============================] - 1s 3ms/step - loss: 0.0185 - accuracy: 0.9944 - val_loss: 0.1307 - val_accuracy: 0.9743\n",
            "Epoch 19/30\n",
            "188/188 [==============================] - 1s 3ms/step - loss: 0.0321 - accuracy: 0.9910 - val_loss: 0.1310 - val_accuracy: 0.9718\n",
            "Epoch 20/30\n",
            "188/188 [==============================] - 1s 3ms/step - loss: 0.0265 - accuracy: 0.9923 - val_loss: 0.1335 - val_accuracy: 0.9722\n",
            "Epoch 21/30\n",
            "188/188 [==============================] - 1s 3ms/step - loss: 0.0268 - accuracy: 0.9923 - val_loss: 0.1156 - val_accuracy: 0.9753\n",
            "Epoch 22/30\n",
            "188/188 [==============================] - 1s 4ms/step - loss: 0.0233 - accuracy: 0.9934 - val_loss: 0.1213 - val_accuracy: 0.9748\n",
            "Epoch 23/30\n",
            "188/188 [==============================] - 1s 3ms/step - loss: 0.0243 - accuracy: 0.9933 - val_loss: 0.1420 - val_accuracy: 0.9723\n",
            "Epoch 24/30\n",
            "188/188 [==============================] - 1s 3ms/step - loss: 0.0251 - accuracy: 0.9926 - val_loss: 0.1466 - val_accuracy: 0.9711\n",
            "Epoch 25/30\n",
            "188/188 [==============================] - 1s 4ms/step - loss: 0.0255 - accuracy: 0.9926 - val_loss: 0.1277 - val_accuracy: 0.9761\n",
            "Epoch 26/30\n",
            "188/188 [==============================] - 1s 3ms/step - loss: 0.0227 - accuracy: 0.9935 - val_loss: 0.1371 - val_accuracy: 0.9747\n",
            "Epoch 27/30\n",
            "188/188 [==============================] - 1s 3ms/step - loss: 0.0172 - accuracy: 0.9953 - val_loss: 0.1290 - val_accuracy: 0.9750\n",
            "Epoch 28/30\n",
            "188/188 [==============================] - 1s 3ms/step - loss: 0.0199 - accuracy: 0.9948 - val_loss: 0.1552 - val_accuracy: 0.9708\n",
            "Epoch 29/30\n",
            "188/188 [==============================] - 1s 4ms/step - loss: 0.0257 - accuracy: 0.9935 - val_loss: 0.1349 - val_accuracy: 0.9729\n",
            "Epoch 30/30\n",
            "188/188 [==============================] - 1s 4ms/step - loss: 0.0205 - accuracy: 0.9947 - val_loss: 0.1574 - val_accuracy: 0.9710\n"
          ]
        }
      ]
    },
    {
      "cell_type": "code",
      "source": [
        "accuracy = model.evaluate(X_test,y_test)"
      ],
      "metadata": {
        "colab": {
          "base_uri": "https://localhost:8080/"
        },
        "id": "lAPWXZSop_GW",
        "outputId": "13f02846-2b68-482f-f4d6-7722f3a629d7"
      },
      "execution_count": 13,
      "outputs": [
        {
          "output_type": "stream",
          "name": "stdout",
          "text": [
            "313/313 [==============================] - 1s 2ms/step - loss: 0.1432 - accuracy: 0.9747\n"
          ]
        }
      ]
    },
    {
      "cell_type": "code",
      "source": [
        "baselinemodel.layers"
      ],
      "metadata": {
        "colab": {
          "base_uri": "https://localhost:8080/"
        },
        "id": "mmz0CsIHrkK9",
        "outputId": "fa7dce4f-d016-49d8-e09b-42bce39a5452"
      },
      "execution_count": 14,
      "outputs": [
        {
          "output_type": "execute_result",
          "data": {
            "text/plain": [
              "[<keras.layers.reshaping.reshape.Reshape at 0x7f4d00261bd0>,\n",
              " <keras.layers.core.dense.Dense at 0x7f4d00261190>,\n",
              " <keras.layers.core.dense.Dense at 0x7f4d00261c90>,\n",
              " <keras.layers.core.dense.Dense at 0x7f4d0024b890>,\n",
              " <keras.layers.core.dense.Dense at 0x7f4d00252e90>,\n",
              " <keras.layers.core.dense.Dense at 0x7f4d91e51ad0>,\n",
              " <keras.layers.core.dense.Dense at 0x7f4d00227d90>]"
            ]
          },
          "metadata": {},
          "execution_count": 14
        }
      ]
    },
    {
      "cell_type": "code",
      "source": [
        "baselinemodel.get_weights()[0][1]"
      ],
      "metadata": {
        "colab": {
          "base_uri": "https://localhost:8080/"
        },
        "id": "HFZqitxjsZAt",
        "outputId": "97de25bd-553d-4adf-a627-9f0829ab7159"
      },
      "execution_count": 15,
      "outputs": [
        {
          "output_type": "execute_result",
          "data": {
            "text/plain": [
              "array([-0.04912192, -0.02060894,  0.00868594, ...,  0.05099872,\n",
              "        0.03124828, -0.0214364 ], dtype=float32)"
            ]
          },
          "metadata": {},
          "execution_count": 15
        }
      ]
    },
    {
      "cell_type": "code",
      "source": [
        "W1 = baselinemodel.get_layer(name = \"target_layer1\").get_weights()[0]\n",
        "W2 = baselinemodel.get_layer(name = \"target_layer2\").get_weights()[0]\n",
        "W3 = baselinemodel.get_layer(name = \"target_layer3\").get_weights()[0]\n",
        "W4 = baselinemodel.get_layer(name = \"target_layer4\").get_weights()[0]\n",
        "W5 = baselinemodel.get_layer(name = \"target_layer5\").get_weights()[0]\n",
        "\n"
      ],
      "metadata": {
        "id": "UNXx_UWYJGiP"
      },
      "execution_count": 16,
      "outputs": []
    },
    {
      "cell_type": "code",
      "source": [
        "W5.shape"
      ],
      "metadata": {
        "colab": {
          "base_uri": "https://localhost:8080/"
        },
        "id": "z9fv2PnU4hT7",
        "outputId": "b35cd53b-51fc-4f77-a6b2-3a9cc6e664f0"
      },
      "execution_count": 17,
      "outputs": [
        {
          "output_type": "execute_result",
          "data": {
            "text/plain": [
              "(1024, 1024)"
            ]
          },
          "metadata": {},
          "execution_count": 17
        }
      ]
    },
    {
      "cell_type": "code",
      "source": [
        "print(W1.shape)\n",
        "print(W2.shape)\n",
        "print(W5.shape)"
      ],
      "metadata": {
        "colab": {
          "base_uri": "https://localhost:8080/"
        },
        "id": "izwzTJXWMvBc",
        "outputId": "fee216b9-004b-4493-f9c7-3160e237da9d"
      },
      "execution_count": 31,
      "outputs": [
        {
          "output_type": "stream",
          "name": "stdout",
          "text": [
            "(784, 1024)\n",
            "(1024, 1024)\n",
            "(1024, 1024)\n"
          ]
        }
      ]
    },
    {
      "cell_type": "code",
      "source": [
        "B1 = baselinemodel.get_layer(name = \"target_layer1\").get_weights()[1]\n",
        "B2 = baselinemodel.get_layer(name = \"target_layer2\").get_weights()[1]\n",
        "B3 = baselinemodel.get_layer(name = \"target_layer3\").get_weights()[1]\n",
        "B4 = baselinemodel.get_layer(name = \"target_layer4\").get_weights()[1]\n",
        "B5 = baselinemodel.get_layer(name = \"target_layer5\").get_weights()[1]"
      ],
      "metadata": {
        "id": "Kq7ZGStbmthg"
      },
      "execution_count": 18,
      "outputs": []
    },
    {
      "cell_type": "code",
      "source": [
        "print(B1.shape)\n",
        "print(B2.shape)\n",
        "print(B5.shape)"
      ],
      "metadata": {
        "colab": {
          "base_uri": "https://localhost:8080/"
        },
        "id": "7kGRkhR5Mx0W",
        "outputId": "7ae69938-b5cf-4fd8-a2f1-931b65b7eaed"
      },
      "execution_count": 32,
      "outputs": [
        {
          "output_type": "stream",
          "name": "stdout",
          "text": [
            "(1024,)\n",
            "(1024,)\n",
            "(1024,)\n"
          ]
        }
      ]
    },
    {
      "cell_type": "markdown",
      "source": [
        "Note: Shapes of weights are changing. We cannot hard code 784. We need to use input_shape[-1] as given in documentation.\n",
        "\n",
        "\n",
        "But its giving error "
      ],
      "metadata": {
        "id": "gYkU_XudMz40"
      }
    },
    {
      "cell_type": "markdown",
      "source": [
        "#Custom Definitions"
      ],
      "metadata": {
        "id": "J4XUpk9G2f8O"
      }
    },
    {
      "cell_type": "code",
      "source": [
        "# @tf.custom_gradient\n",
        "# def customgrad(weight):\n",
        "#   sum, direction, value = tf.linalg.svd(weight)\n",
        "#   S = tf.linalg.diag(sum[0:20,0:20])\n",
        "#   D = direction[:,0:20] \n",
        "#   V = tf.transpose(value[:,0:20])\n",
        "\n",
        "#   W_hat = tf.matmul(tf.matmul(D, S), V)\n",
        "  \n",
        "#   #backprop\n",
        "#   def grad(dy):\n",
        "#     gradient = dy\n",
        "#     return gradient\n",
        "\n",
        "#   return W_hat, grad\n",
        "\n",
        "\n",
        "\n",
        "\n",
        "\n",
        "\n",
        "\n",
        "\n",
        "\n",
        "# class CustomDense(tf.keras.layers.Layer):\n",
        "#   def __init__(self, units):\n",
        "#       super(CustomDense, self).__init__()\n",
        "#       self.units = units\n",
        "#       self.activation = tf.nn.relu\n",
        "#       #self.weight = tf.Variable(W)\n",
        "\n",
        "\n",
        "#   def build(self, input_shape):\n",
        "#     self.w = self.add_weight(\"weight\",shape=[int(input_shape[-1]), self.units])\n",
        "#     self.bias = self.add_weight(\"bias\", shape = [self.units,])\n",
        "#     #self.w = tf.Variable(self.W)\n",
        "\n",
        "#       #self.bias = self.add_weight(B)\n",
        "\n",
        "#   def call(self, inputs):\n",
        "#     W_hat = customgrad(self.w)\n",
        "#     return self.activation((tf.matmul(inputs, W_hat) + self.bias))\n",
        "\n",
        "\n",
        "\n",
        "\n",
        "\n",
        "\n",
        "  "
      ],
      "metadata": {
        "id": "5bXfiRPbJVxb"
      },
      "execution_count": 19,
      "outputs": []
    },
    {
      "cell_type": "markdown",
      "source": [
        "Defined Weights in _init_ layer as  build layer will addweights and bias only based on input shape.\n",
        "\n",
        "I could not use set_weight(baselinemodel.get_weights()) and set the weights and use input shape as for some reason while compiling the model i faced an shape error.\n",
        "\n",
        "Hence i am manually setting the weights by fetching the weights and biases outside and passing it as a layer attribute.\n",
        "\n",
        "I tried that in above code, Huge Issues !"
      ],
      "metadata": {
        "id": "Trfh3iOSMYuF"
      }
    },
    {
      "cell_type": "code",
      "source": [
        "\n",
        "class CustomDense(tf.keras.layers.Layer):\n",
        "  def __init__(self, units, activation,W,B):\n",
        "        super(CustomDense, self).__init__()\n",
        "        self.units = units\n",
        "        W = tf.Variable(W, name='Weights')\n",
        "        B = tf.Variable(B, name='Biases')\n",
        "        self.w = W\n",
        "        self.b = B\n",
        "        self.activation=activation\n",
        "\n",
        "\n",
        "  # def weight_biases(self, input_shape,W,B):\n",
        "  #       #w_init = tf.random_normal_initializer()\n",
        "\n",
        "\n",
        "  def call(self, inputs):\n",
        "        W_svd = customgrad(self.w)\n",
        "        \n",
        "        return self.activation(tf.matmul(inputs,W_svd) + self.b)\n",
        "\n",
        "\n",
        "\n",
        "@tf.custom_gradient\n",
        "def customgrad(weight):\n",
        "  sum , direction, value = tf.linalg.svd(weight)\n",
        "  S = tf.linalg.diag(sum)\n",
        "\n",
        "  V = tf.transpose(value)\n",
        "\n",
        "  W = tf.matmul(tf.matmul(direction[:,:20], S[:20,:20]), V[:20,:])\n",
        "\n",
        "    #backprop\n",
        "  def grad(dy):\n",
        "    gradient = dy\n",
        "    return gradient\n",
        "\n",
        "  return W, grad"
      ],
      "metadata": {
        "id": "-v3xplaa5zsR"
      },
      "execution_count": 30,
      "outputs": []
    },
    {
      "cell_type": "code",
      "source": [
        "activation = tf.nn.relu"
      ],
      "metadata": {
        "id": "6jDtIBxr7DMp"
      },
      "execution_count": 21,
      "outputs": []
    },
    {
      "cell_type": "code",
      "source": [
        "model3 = tf.keras.Sequential([\n",
        "    tf.keras.layers.Reshape(target_shape=(28 * 28,), input_shape=(28,28)),\n",
        "    CustomDense(1024,activation,W1,B1),\n",
        "    CustomDense(1024,activation,W2,B2),\n",
        "    CustomDense(1024,activation,W3,B3),\n",
        "    CustomDense(1024,activation,W4,B4),\n",
        "    CustomDense(1024,activation,W5,B5),\n",
        "    \n",
        "    tf.keras.layers.Dense(units=10,activation='softmax')\n",
        "  ])"
      ],
      "metadata": {
        "id": "H_L8NnVu1i-6"
      },
      "execution_count": 22,
      "outputs": []
    },
    {
      "cell_type": "code",
      "source": [
        "model3.compile(optimizer='adam',loss='sparse_categorical_crossentropy',metrics=['accuracy'])\n",
        "\n"
      ],
      "metadata": {
        "id": "qnEWWf4C26ok"
      },
      "execution_count": 23,
      "outputs": []
    },
    {
      "cell_type": "code",
      "source": [
        "model3.summary()"
      ],
      "metadata": {
        "id": "_oBrrXL76tSG",
        "colab": {
          "base_uri": "https://localhost:8080/"
        },
        "outputId": "62b3f922-5941-48a8-a7c2-6bd0c33db980"
      },
      "execution_count": 24,
      "outputs": [
        {
          "output_type": "stream",
          "name": "stdout",
          "text": [
            "Model: \"sequential_1\"\n",
            "_________________________________________________________________\n",
            " Layer (type)                Output Shape              Param #   \n",
            "=================================================================\n",
            " reshape_1 (Reshape)         (None, 784)               0         \n",
            "                                                                 \n",
            " custom_dense (CustomDense)  (None, 1024)              803840    \n",
            "                                                                 \n",
            " custom_dense_1 (CustomDense  (None, 1024)             1049600   \n",
            " )                                                               \n",
            "                                                                 \n",
            " custom_dense_2 (CustomDense  (None, 1024)             1049600   \n",
            " )                                                               \n",
            "                                                                 \n",
            " custom_dense_3 (CustomDense  (None, 1024)             1049600   \n",
            " )                                                               \n",
            "                                                                 \n",
            " custom_dense_4 (CustomDense  (None, 1024)             1049600   \n",
            " )                                                               \n",
            "                                                                 \n",
            " dense_1 (Dense)             (None, 10)                10250     \n",
            "                                                                 \n",
            "=================================================================\n",
            "Total params: 5,012,490\n",
            "Trainable params: 5,012,490\n",
            "Non-trainable params: 0\n",
            "_________________________________________________________________\n"
          ]
        }
      ]
    },
    {
      "cell_type": "code",
      "source": [
        "X_train2.shape"
      ],
      "metadata": {
        "colab": {
          "base_uri": "https://localhost:8080/"
        },
        "id": "OKBNiXJZ78Hr",
        "outputId": "2d5cb34b-90bc-48e4-eb9d-4615b011d92f"
      },
      "execution_count": 25,
      "outputs": [
        {
          "output_type": "execute_result",
          "data": {
            "text/plain": [
              "(48000, 28, 28)"
            ]
          },
          "metadata": {},
          "execution_count": 25
        }
      ]
    },
    {
      "cell_type": "code",
      "source": [
        "y_train2.shape"
      ],
      "metadata": {
        "colab": {
          "base_uri": "https://localhost:8080/"
        },
        "id": "5E8vtHEO8Mxy",
        "outputId": "7cedfd71-ed2b-4c8a-d628-7f1691896afd"
      },
      "execution_count": 26,
      "outputs": [
        {
          "output_type": "execute_result",
          "data": {
            "text/plain": [
              "(48000,)"
            ]
          },
          "metadata": {},
          "execution_count": 26
        }
      ]
    },
    {
      "cell_type": "code",
      "source": [
        "history = model3.fit(X_train2, y_train2, batch_size=256, epochs=10,verbose=True)"
      ],
      "metadata": {
        "id": "OAADEuO63CVB",
        "colab": {
          "base_uri": "https://localhost:8080/"
        },
        "outputId": "245fb4d0-6155-4333-c70e-726dbd6ba508"
      },
      "execution_count": 27,
      "outputs": [
        {
          "output_type": "stream",
          "name": "stdout",
          "text": [
            "Epoch 1/10\n",
            "188/188 [==============================] - 378s 2s/step - loss: 0.2453 - accuracy: 0.9299\n",
            "Epoch 2/10\n",
            "188/188 [==============================] - 375s 2s/step - loss: 0.1200 - accuracy: 0.9655\n",
            "Epoch 3/10\n",
            "188/188 [==============================] - 375s 2s/step - loss: 0.0979 - accuracy: 0.9721\n",
            "Epoch 4/10\n",
            "188/188 [==============================] - 375s 2s/step - loss: 0.0883 - accuracy: 0.9737\n",
            "Epoch 5/10\n",
            "188/188 [==============================] - 374s 2s/step - loss: 0.0883 - accuracy: 0.9744\n",
            "Epoch 6/10\n",
            "188/188 [==============================] - 373s 2s/step - loss: 0.0833 - accuracy: 0.9760\n",
            "Epoch 7/10\n",
            "188/188 [==============================] - 372s 2s/step - loss: 0.0784 - accuracy: 0.9768\n",
            "Epoch 8/10\n",
            "188/188 [==============================] - 373s 2s/step - loss: 0.0792 - accuracy: 0.9770\n",
            "Epoch 9/10\n",
            "188/188 [==============================] - 371s 2s/step - loss: 0.0724 - accuracy: 0.9786\n",
            "Epoch 10/10\n",
            "188/188 [==============================] - 371s 2s/step - loss: 0.0684 - accuracy: 0.9796\n"
          ]
        }
      ]
    },
    {
      "cell_type": "code",
      "source": [
        "accuracy  = model3.evaluate(X_test, y_test,verbose=True,batch_size=256)"
      ],
      "metadata": {
        "id": "SXswyBXO3JlX",
        "colab": {
          "base_uri": "https://localhost:8080/"
        },
        "outputId": "c5b6023f-3264-4085-c913-4f2bbc2cac7c"
      },
      "execution_count": 29,
      "outputs": [
        {
          "output_type": "stream",
          "name": "stdout",
          "text": [
            "40/40 [==============================] - 79s 2s/step - loss: 0.1292 - accuracy: 0.9664\n"
          ]
        }
      ]
    },
    {
      "cell_type": "code",
      "source": [
        "%%shell\n",
        "jupyter nbconvert --to html "
      ],
      "metadata": {
        "id": "JpEuiPOGOURM"
      },
      "execution_count": null,
      "outputs": []
    }
  ]
}