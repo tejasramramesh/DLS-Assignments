{
  "nbformat": 4,
  "nbformat_minor": 0,
  "metadata": {
    "colab": {
      "provenance": []
    },
    "kernelspec": {
      "name": "python3",
      "display_name": "Python 3"
    },
    "language_info": {
      "name": "python"
    },
    "gpuClass": "standard"
  },
  "cells": [
    {
      "cell_type": "markdown",
      "source": [
        "# HW 5\n",
        "\n",
        "References:\n",
        "*   https://keras.io/examples/generative/vae/\n",
        "\n",
        "\n",
        "Discussed and Colaborated with : Ramki, Rahul and sushant"
      ],
      "metadata": {
        "id": "lYLZimfM3Jef"
      }
    },
    {
      "cell_type": "markdown",
      "source": [
        "##GPU Check"
      ],
      "metadata": {
        "id": "TkpxrkZV3SyP"
      }
    },
    {
      "cell_type": "code",
      "execution_count": null,
      "metadata": {
        "colab": {
          "base_uri": "https://localhost:8080/"
        },
        "id": "QWlwOdso0UcX",
        "outputId": "aca32774-eda7-42a0-ce39-178860227020"
      },
      "outputs": [
        {
          "output_type": "stream",
          "name": "stdout",
          "text": [
            "Found GPU at: /device:GPU:0\n"
          ]
        }
      ],
      "source": [
        "#Path: TensorFlow/Tejas/\n",
        "import tensorflow as tf\n",
        "device_name = tf.test.gpu_device_name()\n",
        "if device_name != '/device:GPU:0':\n",
        "  raise SystemError('GPU device not found')\n",
        "print('Found GPU at: {}'.format(device_name))"
      ]
    },
    {
      "cell_type": "code",
      "source": [
        "print(\"TensorFlow version:\", tf.__version__)"
      ],
      "metadata": {
        "colab": {
          "base_uri": "https://localhost:8080/"
        },
        "id": "hqGlVg1z3bTi",
        "outputId": "0f695098-5c21-4479-d8bc-143bed1dfab8"
      },
      "execution_count": null,
      "outputs": [
        {
          "output_type": "stream",
          "name": "stdout",
          "text": [
            "TensorFlow version: 2.9.2\n"
          ]
        }
      ]
    },
    {
      "cell_type": "code",
      "source": [
        "import tensorflow as tf\n",
        "import timeit\n",
        "\n",
        "device_name = tf.test.gpu_device_name()\n",
        "if device_name != '/device:GPU:0':\n",
        "  print(\n",
        "      '\\n\\nThis error most likely means that this notebook is not '\n",
        "      'configured to use a GPU.  Change this in Notebook Settings via the '\n",
        "      'command palette (cmd/ctrl-shift-P) or the Edit menu.\\n\\n')\n",
        "  raise SystemError('GPU device not found')\n",
        "\n",
        "def cpu():\n",
        "  with tf.device('/cpu:0'):\n",
        "    random_image_cpu = tf.random.normal((100, 100, 100, 3))\n",
        "    net_cpu = tf.keras.layers.Conv2D(32, 7)(random_image_cpu)\n",
        "    return tf.math.reduce_sum(net_cpu)\n",
        "\n",
        "def gpu():\n",
        "  with tf.device('/device:GPU:0'):\n",
        "    random_image_gpu = tf.random.normal((100, 100, 100, 3))\n",
        "    net_gpu = tf.keras.layers.Conv2D(32, 7)(random_image_gpu)\n",
        "    return tf.math.reduce_sum(net_gpu)\n",
        "  \n",
        "# We run each op once to warm up; see: https://stackoverflow.com/a/45067900\n",
        "cpu()\n",
        "gpu()\n",
        "\n",
        "# Run the op several times.\n",
        "print('Time (s) to convolve 32x7x7x3 filter over random 100x100x100x3 images '\n",
        "      '(batch x height x width x channel). Sum of ten runs.')\n",
        "print('CPU (s):')\n",
        "cpu_time = timeit.timeit('cpu()', number=10, setup=\"from __main__ import cpu\")\n",
        "print(cpu_time)\n",
        "print('GPU (s):')\n",
        "gpu_time = timeit.timeit('gpu()', number=10, setup=\"from __main__ import gpu\")\n",
        "print(gpu_time)\n",
        "print('GPU speedup over CPU: {}x'.format(int(cpu_time/gpu_time)))"
      ],
      "metadata": {
        "colab": {
          "base_uri": "https://localhost:8080/"
        },
        "id": "zrUbwp013dd0",
        "outputId": "72b2ee8a-de94-44b3-87c8-5e6321082f70"
      },
      "execution_count": null,
      "outputs": [
        {
          "output_type": "stream",
          "name": "stdout",
          "text": [
            "Time (s) to convolve 32x7x7x3 filter over random 100x100x100x3 images (batch x height x width x channel). Sum of ten runs.\n",
            "CPU (s):\n",
            "4.919598944999997\n",
            "GPU (s):\n",
            "0.051543502999990665\n",
            "GPU speedup over CPU: 95x\n"
          ]
        }
      ]
    },
    {
      "cell_type": "markdown",
      "source": [
        "##Dependencies"
      ],
      "metadata": {
        "id": "vR9ipApW3n8M"
      }
    },
    {
      "cell_type": "code",
      "source": [
        "import numpy as np\n",
        "import random\n",
        "import pandas as pd\n",
        "import seaborn as sns\n",
        "import matplotlib.pyplot as plt\n",
        "from sklearn.decomposition import PCA\n",
        "from sklearn.manifold import TSNE\n",
        "from tensorflow import keras\n",
        "from tensorflow.keras import layers\n",
        "from keras.models import Model\n",
        "import keras.utils\n",
        "from keras import utils as np_utils\n",
        "from keras.models import Sequential\n",
        "from keras.layers import  Dense, Dropout, Activation, Flatten\n",
        "from librosa.core import stft,istft\n",
        "import soundfile as sf\n",
        "from sklearn.model_selection import train_test_split\n",
        "import tensorflow as tf\n",
        "import matplotlib.pyplot as plt\n",
        "import librosa\n",
        "%matplotlib inline"
      ],
      "metadata": {
        "id": "_xU7vRzv3ibq"
      },
      "execution_count": null,
      "outputs": []
    },
    {
      "cell_type": "markdown",
      "source": [
        "##Load Dataset"
      ],
      "metadata": {
        "id": "kgnjRCT03hax"
      }
    },
    {
      "cell_type": "code",
      "source": [
        "#Dependencies for Loading data \n",
        "\n",
        "import gzip\n",
        "import pickle\n",
        "import random\n",
        "from itertools import combinations,product"
      ],
      "metadata": {
        "id": "gZY-TBl33xki"
      },
      "execution_count": null,
      "outputs": []
    },
    {
      "cell_type": "code",
      "source": [
        "from google.colab import drive\n",
        "drive.mount('/content/drive')"
      ],
      "metadata": {
        "colab": {
          "base_uri": "https://localhost:8080/"
        },
        "id": "ZSqhSKdR34Sx",
        "outputId": "0ff6a91d-4beb-41d1-9006-453384789408"
      },
      "execution_count": null,
      "outputs": [
        {
          "output_type": "stream",
          "name": "stdout",
          "text": [
            "Mounted at /content/drive\n"
          ]
        }
      ]
    },
    {
      "cell_type": "code",
      "source": [
        "with open('/content/drive/MyDrive/ENGR-E-533 /DATA/HW5/hw5_tr7.pkl', 'rb') as f:\n",
        "    train_data = pickle.load(f)"
      ],
      "metadata": {
        "id": "YxCJ_-oQ4Zr-"
      },
      "execution_count": null,
      "outputs": []
    },
    {
      "cell_type": "code",
      "source": [
        "type(train_data)"
      ],
      "metadata": {
        "colab": {
          "base_uri": "https://localhost:8080/"
        },
        "id": "Prq7xrLb4sF3",
        "outputId": "6cc67ac2-b5df-4d9d-b8f0-70e5d1c46780"
      },
      "execution_count": null,
      "outputs": [
        {
          "output_type": "execute_result",
          "data": {
            "text/plain": [
              "numpy.ndarray"
            ]
          },
          "metadata": {},
          "execution_count": 8
        }
      ]
    },
    {
      "cell_type": "code",
      "source": [
        "#X_train[:10]"
      ],
      "metadata": {
        "id": "ZrM_kbTa4x4a"
      },
      "execution_count": null,
      "outputs": []
    },
    {
      "cell_type": "code",
      "source": [
        "with open('/content/drive/MyDrive/ENGR-E-533 /DATA/HW5/hw5_te7.pkl', 'rb') as f:\n",
        "    test_data = pickle.load(f)"
      ],
      "metadata": {
        "id": "qVw_z2aR41J_"
      },
      "execution_count": null,
      "outputs": []
    },
    {
      "cell_type": "code",
      "source": [
        "print(\"X_train shape is {} and y_train shape is {} \".format(train_data.shape,test_data.shape))"
      ],
      "metadata": {
        "colab": {
          "base_uri": "https://localhost:8080/"
        },
        "id": "aC1THpas5SQQ",
        "outputId": "432e36fb-87b7-4f36-caa3-10102af705c3"
      },
      "execution_count": null,
      "outputs": [
        {
          "output_type": "stream",
          "name": "stdout",
          "text": [
            "X_train shape is (6265, 28, 28) and y_train shape is (1028, 28, 28) \n"
          ]
        }
      ]
    },
    {
      "cell_type": "markdown",
      "source": [
        "##VAE Code Start\n"
      ],
      "metadata": {
        "id": "nAj0l1NL6O_M"
      }
    },
    {
      "cell_type": "markdown",
      "source": [
        "###Sampling"
      ],
      "metadata": {
        "id": "fzSn4Ljx6SO_"
      }
    },
    {
      "cell_type": "code",
      "source": [
        "class Sampling(layers.Layer):\n",
        "    \"\"\"Uses (z_mean, z_log_var) to sample z, the vector encoding a digit.\"\"\"\n",
        "\n",
        "    def call(self, inputs):\n",
        "        z_mean, z_log_var = inputs\n",
        "        batch = tf.shape(z_mean)[0]\n",
        "        dim = tf.shape(z_mean)[1]\n",
        "        epsilon = tf.keras.backend.random_normal(shape=(batch, dim))\n",
        "        return z_mean + tf.exp(0.5 * z_log_var) * epsilon"
      ],
      "metadata": {
        "id": "1kOy4KPX5jG0"
      },
      "execution_count": null,
      "outputs": []
    },
    {
      "cell_type": "markdown",
      "source": [
        "###Model\n",
        "\n",
        "##Why I chose FCN instead of CNN, even though CNN is better\n",
        "\n",
        "\n",
        "*   So I know that Encoder and Decoder should work **amazingly well with a Convolution Network** because of how **filters** work and how that **feaures are handled**. We visualized this aspect in **one of our homeworks**. \n",
        "*   But I do not want to keep experimenting with different number of filters, layers , windowsize, padding. So to save time i just use simple fully connected layers.\n",
        "\n",
        "\n",
        "\n",
        "*   In Encoder i will **progressively reduce** the nodes as I see each node to be the **best cummulation** of all **judegments **taken by previous nodes. This should kind of be similar to a CNN as we reduce the nodes, My intuition is that the **features will be captured in the right way** and encoded.\n",
        "*   Tradeoff is that encoding will be better in CNN as we reduce size and expand using dot product. But for simplicity I use Vanilla FCN ( without dropout )\n",
        "\n",
        "\n",
        "\n",
        "*   Though Dropout would be amazing for this task but will require more epochs to get it right.\n"
      ],
      "metadata": {
        "id": "tTW2c9krhNxg"
      }
    },
    {
      "cell_type": "code",
      "source": [
        "latent_dim = 3\n",
        "\n",
        "encoder_inputs = keras.Input(shape=(28, 28, 1))\n",
        "x = layers.Flatten()(encoder_inputs)\n",
        "x = layers.Dense(1024, activation=\"gelu\")(x),\n",
        "x = layers.Dense(612, activation=\"gelu\")(x[0]),\n",
        "x = layers.Dense(256, activation=\"gelu\")(x[0]),\n",
        "x = layers.Dense(64, activation=\"gelu\")(x[0]),\n",
        "x = layers.Dense(32, activation=\"gelu\")(x[0]),\n",
        "z_mean = layers.Dense(latent_dim, name=\"z_mean\")(x[0])\n",
        "z_log_var = layers.Dense(latent_dim, name=\"z_log_var\")(x[0])\n",
        "z = Sampling()([z_mean, z_log_var])\n",
        "encoder = keras.Model(encoder_inputs, [z_mean, z_log_var, z], name=\"encoder\")\n",
        "encoder.summary()"
      ],
      "metadata": {
        "colab": {
          "base_uri": "https://localhost:8080/"
        },
        "id": "kOzNMaFvgYxI",
        "outputId": "5b3b16f0-3d19-400c-8125-3bbaa90dc8be"
      },
      "execution_count": null,
      "outputs": [
        {
          "output_type": "stream",
          "name": "stdout",
          "text": [
            "Model: \"encoder\"\n",
            "__________________________________________________________________________________________________\n",
            " Layer (type)                   Output Shape         Param #     Connected to                     \n",
            "==================================================================================================\n",
            " input_2 (InputLayer)           [(None, 28, 28, 1)]  0           []                               \n",
            "                                                                                                  \n",
            " flatten_1 (Flatten)            (None, 784)          0           ['input_2[0][0]']                \n",
            "                                                                                                  \n",
            " dense_5 (Dense)                (None, 1024)         803840      ['flatten_1[0][0]']              \n",
            "                                                                                                  \n",
            " dense_6 (Dense)                (None, 612)          627300      ['dense_5[0][0]']                \n",
            "                                                                                                  \n",
            " dense_7 (Dense)                (None, 256)          156928      ['dense_6[0][0]']                \n",
            "                                                                                                  \n",
            " dense_8 (Dense)                (None, 64)           16448       ['dense_7[0][0]']                \n",
            "                                                                                                  \n",
            " dense_9 (Dense)                (None, 32)           2080        ['dense_8[0][0]']                \n",
            "                                                                                                  \n",
            " z_mean (Dense)                 (None, 3)            99          ['dense_9[0][0]']                \n",
            "                                                                                                  \n",
            " z_log_var (Dense)              (None, 3)            99          ['dense_9[0][0]']                \n",
            "                                                                                                  \n",
            " sampling (Sampling)            (None, 3)            0           ['z_mean[0][0]',                 \n",
            "                                                                  'z_log_var[0][0]']              \n",
            "                                                                                                  \n",
            "==================================================================================================\n",
            "Total params: 1,606,794\n",
            "Trainable params: 1,606,794\n",
            "Non-trainable params: 0\n",
            "__________________________________________________________________________________________________\n"
          ]
        }
      ]
    },
    {
      "cell_type": "code",
      "source": [
        "\n",
        "latent_inputs = keras.Input(shape=(latent_dim,))\n",
        "x = layers.Dense(1024, activation=\"gelu\")(latent_inputs),\n",
        "x = layers.Dense(1024, activation=\"gelu\")(x[0]),\n",
        "x = layers.Dense(1024, activation=\"gelu\")(x[0]),\n",
        "x = layers.Dense(1024, activation=\"gelu\")(x[0]),\n",
        "x = layers.Dense(1024, activation=\"gelu\")(x[0]),\n",
        "decoder_outputs = layers.Dense(784, activation=\"sigmoid\")(x[0])\n",
        "outputs = keras.layers.Reshape(target_shape=(28,28,1),input_shape=(784,))(decoder_outputs)\n",
        "decoder = keras.Model(latent_inputs, outputs, name=\"decoder\")\n",
        "decoder.summary()"
      ],
      "metadata": {
        "colab": {
          "base_uri": "https://localhost:8080/"
        },
        "id": "fULOBUzegdrg",
        "outputId": "ba5f8cd9-79b0-4cc5-80f5-37d381a184a4"
      },
      "execution_count": null,
      "outputs": [
        {
          "output_type": "stream",
          "name": "stdout",
          "text": [
            "Model: \"decoder\"\n",
            "_________________________________________________________________\n",
            " Layer (type)                Output Shape              Param #   \n",
            "=================================================================\n",
            " input_3 (InputLayer)        [(None, 3)]               0         \n",
            "                                                                 \n",
            " dense_10 (Dense)            (None, 1024)              4096      \n",
            "                                                                 \n",
            " dense_11 (Dense)            (None, 1024)              1049600   \n",
            "                                                                 \n",
            " dense_12 (Dense)            (None, 1024)              1049600   \n",
            "                                                                 \n",
            " dense_13 (Dense)            (None, 1024)              1049600   \n",
            "                                                                 \n",
            " dense_14 (Dense)            (None, 1024)              1049600   \n",
            "                                                                 \n",
            " dense_15 (Dense)            (None, 784)               803600    \n",
            "                                                                 \n",
            " reshape (Reshape)           (None, 28, 28, 1)         0         \n",
            "                                                                 \n",
            "=================================================================\n",
            "Total params: 5,006,096\n",
            "Trainable params: 5,006,096\n",
            "Non-trainable params: 0\n",
            "_________________________________________________________________\n"
          ]
        }
      ]
    },
    {
      "cell_type": "code",
      "source": [
        "class VAE(keras.Model):\n",
        "    def __init__(self, encoder, decoder, **kwargs):\n",
        "        super(VAE, self).__init__(**kwargs)\n",
        "        self.encoder = encoder\n",
        "        self.decoder = decoder\n",
        "        self.total_loss_tracker = keras.metrics.Mean(name=\"total_loss\")\n",
        "        self.reconstruction_loss_tracker = keras.metrics.Mean(\n",
        "            name=\"reconstruction_loss\"\n",
        "        )\n",
        "        self.kl_loss_tracker = keras.metrics.Mean(name=\"kl_loss\")\n",
        "\n",
        "    @property\n",
        "    def metrics(self):\n",
        "        return [\n",
        "            self.total_loss_tracker,\n",
        "            self.reconstruction_loss_tracker,\n",
        "            self.kl_loss_tracker,\n",
        "        ]\n",
        "\n",
        "    def train_step(self, data):\n",
        "        with tf.GradientTape() as tape:\n",
        "            z_mean, z_log_var, z = self.encoder(data)\n",
        "            reconstruction = self.decoder(z)\n",
        "            reconstruction_loss = tf.reduce_mean(\n",
        "                tf.reduce_sum(\n",
        "                    keras.losses.binary_crossentropy(data, reconstruction), axis=(1, 2)\n",
        "                )\n",
        "            )\n",
        "            kl_loss = -0.5 * (1 + z_log_var - tf.square(z_mean) - tf.exp(z_log_var))\n",
        "            kl_loss = tf.reduce_mean(tf.reduce_sum(kl_loss, axis=1))\n",
        "            total_loss = reconstruction_loss + kl_loss\n",
        "        grads = tape.gradient(total_loss, self.trainable_weights)\n",
        "        self.optimizer.apply_gradients(zip(grads, self.trainable_weights))\n",
        "        self.total_loss_tracker.update_state(total_loss)\n",
        "        self.reconstruction_loss_tracker.update_state(reconstruction_loss)\n",
        "        self.kl_loss_tracker.update_state(kl_loss)\n",
        "        return {\n",
        "            \"loss\": self.total_loss_tracker.result(),\n",
        "            \"reconstruction_loss\": self.reconstruction_loss_tracker.result(),\n",
        "            \"kl_loss\": self.kl_loss_tracker.result(),\n",
        "        }"
      ],
      "metadata": {
        "id": "7ieyku1tR_5e"
      },
      "execution_count": null,
      "outputs": []
    },
    {
      "cell_type": "code",
      "source": [
        "mnist_digits = np.concatenate([train_data, test_data], axis=0)\n",
        "mnist_digits = np.expand_dims(mnist_digits, -1).astype(\"float32\")"
      ],
      "metadata": {
        "id": "NtHuRQ8P5YTK"
      },
      "execution_count": null,
      "outputs": []
    },
    {
      "cell_type": "code",
      "source": [
        "mnist_digits.shape"
      ],
      "metadata": {
        "colab": {
          "base_uri": "https://localhost:8080/"
        },
        "id": "8DrX-uUk6DhT",
        "outputId": "01f7a4db-0e9f-436e-d3d3-3c67c7d9e324"
      },
      "execution_count": null,
      "outputs": [
        {
          "output_type": "execute_result",
          "data": {
            "text/plain": [
              "(7293, 28, 28, 1)"
            ]
          },
          "metadata": {},
          "execution_count": 19
        }
      ]
    },
    {
      "cell_type": "code",
      "source": [
        "vae = VAE(encoder, decoder)\n",
        "vae.compile(optimizer=keras.optimizers.Adam())\n",
        "vae.fit(mnist_digits, epochs=30, batch_size=128)"
      ],
      "metadata": {
        "colab": {
          "base_uri": "https://localhost:8080/"
        },
        "id": "0L2-D7vG6PQT",
        "outputId": "aaf43131-80b6-456e-9546-3971aba894c7"
      },
      "execution_count": null,
      "outputs": [
        {
          "output_type": "stream",
          "name": "stdout",
          "text": [
            "Epoch 1/30\n",
            "57/57 [==============================] - 2s 8ms/step - loss: 303.0280 - reconstruction_loss: 225.3033 - kl_loss: 4.3563\n",
            "Epoch 2/30\n",
            "57/57 [==============================] - 0s 7ms/step - loss: 189.7700 - reconstruction_loss: 183.3959 - kl_loss: 1.8034\n",
            "Epoch 3/30\n",
            "57/57 [==============================] - 0s 8ms/step - loss: 167.5897 - reconstruction_loss: 157.9459 - kl_loss: 3.6538\n",
            "Epoch 4/30\n",
            "57/57 [==============================] - 0s 7ms/step - loss: 143.9385 - reconstruction_loss: 137.3728 - kl_loss: 4.7653\n",
            "Epoch 5/30\n",
            "57/57 [==============================] - 0s 8ms/step - loss: 138.3104 - reconstruction_loss: 130.9685 - kl_loss: 5.2030\n",
            "Epoch 6/30\n",
            "57/57 [==============================] - 0s 7ms/step - loss: 131.8245 - reconstruction_loss: 123.7772 - kl_loss: 6.3177\n",
            "Epoch 7/30\n",
            "57/57 [==============================] - 0s 8ms/step - loss: 125.9083 - reconstruction_loss: 118.6873 - kl_loss: 6.7928\n",
            "Epoch 8/30\n",
            "57/57 [==============================] - 0s 7ms/step - loss: 122.3392 - reconstruction_loss: 114.7982 - kl_loss: 7.0680\n",
            "Epoch 9/30\n",
            "57/57 [==============================] - 0s 8ms/step - loss: 119.7862 - reconstruction_loss: 112.6704 - kl_loss: 7.2095\n",
            "Epoch 10/30\n",
            "57/57 [==============================] - 0s 8ms/step - loss: 118.7505 - reconstruction_loss: 111.3993 - kl_loss: 7.3516\n",
            "Epoch 11/30\n",
            "57/57 [==============================] - 0s 8ms/step - loss: 117.7415 - reconstruction_loss: 110.1182 - kl_loss: 7.3991\n",
            "Epoch 12/30\n",
            "57/57 [==============================] - 0s 7ms/step - loss: 116.4352 - reconstruction_loss: 109.3350 - kl_loss: 7.5067\n",
            "Epoch 13/30\n",
            "57/57 [==============================] - 0s 7ms/step - loss: 115.9227 - reconstruction_loss: 108.3088 - kl_loss: 7.5721\n",
            "Epoch 14/30\n",
            "57/57 [==============================] - 0s 7ms/step - loss: 114.9464 - reconstruction_loss: 107.8160 - kl_loss: 7.5876\n",
            "Epoch 15/30\n",
            "57/57 [==============================] - 0s 8ms/step - loss: 114.8306 - reconstruction_loss: 107.3413 - kl_loss: 7.6619\n",
            "Epoch 16/30\n",
            "57/57 [==============================] - 0s 7ms/step - loss: 114.0260 - reconstruction_loss: 106.7034 - kl_loss: 7.7019\n",
            "Epoch 17/30\n",
            "57/57 [==============================] - 0s 8ms/step - loss: 113.7510 - reconstruction_loss: 106.2009 - kl_loss: 7.7504\n",
            "Epoch 18/30\n",
            "57/57 [==============================] - 0s 7ms/step - loss: 113.2692 - reconstruction_loss: 105.8972 - kl_loss: 7.7676\n",
            "Epoch 19/30\n",
            "57/57 [==============================] - 0s 7ms/step - loss: 113.5375 - reconstruction_loss: 105.4833 - kl_loss: 7.7784\n",
            "Epoch 20/30\n",
            "57/57 [==============================] - 0s 7ms/step - loss: 112.6711 - reconstruction_loss: 105.2607 - kl_loss: 7.8233\n",
            "Epoch 21/30\n",
            "57/57 [==============================] - 0s 8ms/step - loss: 112.4862 - reconstruction_loss: 104.7702 - kl_loss: 7.8499\n",
            "Epoch 22/30\n",
            "57/57 [==============================] - 0s 7ms/step - loss: 112.4873 - reconstruction_loss: 104.3487 - kl_loss: 7.9228\n",
            "Epoch 23/30\n",
            "57/57 [==============================] - 0s 7ms/step - loss: 111.6737 - reconstruction_loss: 104.4166 - kl_loss: 7.9030\n",
            "Epoch 24/30\n",
            "57/57 [==============================] - 0s 7ms/step - loss: 112.0691 - reconstruction_loss: 103.9307 - kl_loss: 7.9445\n",
            "Epoch 25/30\n",
            "57/57 [==============================] - 0s 7ms/step - loss: 111.2886 - reconstruction_loss: 103.3371 - kl_loss: 8.0085\n",
            "Epoch 26/30\n",
            "57/57 [==============================] - 0s 7ms/step - loss: 110.4731 - reconstruction_loss: 102.9443 - kl_loss: 7.9853\n",
            "Epoch 27/30\n",
            "57/57 [==============================] - 0s 7ms/step - loss: 110.8948 - reconstruction_loss: 103.2410 - kl_loss: 8.0229\n",
            "Epoch 28/30\n",
            "57/57 [==============================] - 0s 8ms/step - loss: 111.0656 - reconstruction_loss: 102.8639 - kl_loss: 8.0508\n",
            "Epoch 29/30\n",
            "57/57 [==============================] - 0s 8ms/step - loss: 110.6774 - reconstruction_loss: 102.5125 - kl_loss: 8.0819\n",
            "Epoch 30/30\n",
            "57/57 [==============================] - 0s 7ms/step - loss: 109.9055 - reconstruction_loss: 102.3878 - kl_loss: 8.0965\n"
          ]
        },
        {
          "output_type": "execute_result",
          "data": {
            "text/plain": [
              "<keras.callbacks.History at 0x7f1476b05400>"
            ]
          },
          "metadata": {},
          "execution_count": 20
        }
      ]
    },
    {
      "cell_type": "markdown",
      "source": [
        "#Plotting"
      ],
      "metadata": {
        "id": "CFj8PjjdoLxA"
      }
    },
    {
      "cell_type": "markdown",
      "source": [
        "##Keep 2 dimensions constant and change 1 Dimension"
      ],
      "metadata": {
        "id": "7mnalQ8XoNXn"
      }
    },
    {
      "cell_type": "markdown",
      "source": [
        "###Change first dimension"
      ],
      "metadata": {
        "id": "hReUka_poUgY"
      }
    },
    {
      "cell_type": "code",
      "source": [
        "  ##Dimension 1\n",
        "  \n",
        "  dim1 = np.repeat(tf.random.normal([1],mean=0,stddev=1,seed=1),10)\n",
        "  dim2 = np.repeat(tf.random.normal([1],mean=0,stddev=1,seed=2),10)\n",
        "  dim3 = np.linspace(-5.0,5.0,10)\n",
        "  input_to_decoder = np.array([dim3,dim1,dim2]).T\n",
        "  outputs_dim1 = decoder.predict(input_to_decoder).reshape(-1,28,28)"
      ],
      "metadata": {
        "colab": {
          "base_uri": "https://localhost:8080/"
        },
        "id": "VtQaKJn-lBYd",
        "outputId": "0dbc8cfa-17e1-49dd-e76a-38acd7f1b322"
      },
      "execution_count": null,
      "outputs": [
        {
          "output_type": "stream",
          "name": "stdout",
          "text": [
            "1/1 [==============================] - 0s 18ms/step\n"
          ]
        }
      ]
    },
    {
      "cell_type": "code",
      "source": [
        "outputs_dim1.shape"
      ],
      "metadata": {
        "colab": {
          "base_uri": "https://localhost:8080/"
        },
        "id": "zwBsqMpPme-m",
        "outputId": "97eeaa04-3e35-4c2e-bbcc-e2b25a371e89"
      },
      "execution_count": null,
      "outputs": [
        {
          "output_type": "execute_result",
          "data": {
            "text/plain": [
              "(10, 28, 28)"
            ]
          },
          "metadata": {},
          "execution_count": 66
        }
      ]
    },
    {
      "cell_type": "code",
      "source": [
        "outputs_dim1"
      ],
      "metadata": {
        "colab": {
          "base_uri": "https://localhost:8080/"
        },
        "id": "tsGKk8NRaQf-",
        "outputId": "cec435d8-3f6e-4bd3-dfd9-f8910e30ef1f"
      },
      "execution_count": null,
      "outputs": [
        {
          "output_type": "execute_result",
          "data": {
            "text/plain": [
              "array([[[9.68304326e-11, 6.51148913e-10, 9.67302460e-10, ...,\n",
              "         1.18149845e-09, 4.57929084e-10, 5.36796607e-10],\n",
              "        [5.66714320e-09, 5.33136535e-10, 2.79117240e-09, ...,\n",
              "         5.73516734e-10, 2.23927366e-09, 7.39237394e-10],\n",
              "        [7.98757505e-10, 2.44199736e-08, 6.03611872e-09, ...,\n",
              "         9.76302927e-11, 2.05564143e-09, 1.04751701e-08],\n",
              "        ...,\n",
              "        [9.14193610e-10, 2.33143616e-09, 9.16965437e-09, ...,\n",
              "         1.00939479e-09, 9.81757897e-10, 5.82722814e-10],\n",
              "        [8.83092266e-10, 2.41392795e-09, 1.27605537e-09, ...,\n",
              "         1.50134488e-10, 6.80263446e-09, 2.34155806e-08],\n",
              "        [4.45276029e-08, 2.19489138e-08, 1.78961148e-08, ...,\n",
              "         1.48628401e-10, 9.35917677e-10, 2.86232565e-10]],\n",
              "\n",
              "       [[5.32343281e-09, 2.48112517e-08, 2.60898982e-08, ...,\n",
              "         4.71319979e-08, 1.63947309e-08, 1.49593831e-08],\n",
              "        [7.83701850e-08, 1.38316585e-08, 6.45676934e-08, ...,\n",
              "         2.27716441e-08, 5.19370431e-08, 2.71263563e-08],\n",
              "        [2.43787870e-08, 3.57907510e-07, 9.73169705e-08, ...,\n",
              "         4.90120255e-09, 4.81472000e-08, 1.73200263e-07],\n",
              "        ...,\n",
              "        [3.52408307e-08, 8.61491856e-08, 1.81603212e-07, ...,\n",
              "         3.38745600e-08, 2.38972291e-08, 1.98366052e-08],\n",
              "        [1.96437568e-08, 4.92705503e-08, 3.08750394e-08, ...,\n",
              "         6.69502365e-09, 1.21025991e-07, 3.99070615e-07],\n",
              "        [5.69012400e-07, 3.35349057e-07, 2.54983206e-07, ...,\n",
              "         6.80647627e-09, 2.25069048e-08, 1.22030652e-08]],\n",
              "\n",
              "       [[1.43195734e-07, 4.87674583e-07, 3.16294205e-07, ...,\n",
              "         8.81627045e-07, 2.52784019e-07, 1.87149880e-07],\n",
              "        [4.67829693e-07, 2.28143875e-07, 6.41614008e-07, ...,\n",
              "         4.07765185e-07, 6.66959863e-07, 4.48612667e-07],\n",
              "        [3.87148305e-07, 1.82664621e-06, 9.73290071e-07, ...,\n",
              "         1.06940099e-07, 4.15788151e-07, 1.46113655e-06],\n",
              "        ...,\n",
              "        [6.96890595e-07, 1.64001335e-06, 1.75952914e-06, ...,\n",
              "         5.21218794e-07, 3.28649321e-07, 3.19918513e-07],\n",
              "        [2.41484884e-07, 4.47602872e-07, 3.26117572e-07, ...,\n",
              "         1.43608602e-07, 1.26317047e-06, 2.91205470e-06],\n",
              "        [3.45352464e-06, 2.13149997e-06, 1.64636288e-06, ...,\n",
              "         1.62942925e-07, 3.02464684e-07, 2.41540135e-07]],\n",
              "\n",
              "       ...,\n",
              "\n",
              "       [[2.61768105e-06, 3.96469022e-06, 2.67204337e-06, ...,\n",
              "         4.74002536e-06, 5.31373462e-06, 4.12041715e-07],\n",
              "        [3.40519750e-06, 4.06174149e-06, 5.85589078e-06, ...,\n",
              "         1.72484056e-06, 9.59714544e-06, 1.18535081e-06],\n",
              "        [6.54464247e-06, 3.38127711e-06, 5.80920459e-05, ...,\n",
              "         1.38157793e-06, 1.41157739e-06, 1.10898454e-05],\n",
              "        ...,\n",
              "        [3.90988134e-06, 3.90503283e-06, 1.53639633e-07, ...,\n",
              "         8.23854805e-07, 1.64510584e-06, 1.96345968e-06],\n",
              "        [1.56914837e-06, 1.68643112e-06, 7.58326269e-06, ...,\n",
              "         5.97811049e-06, 1.41500786e-05, 3.99684859e-06],\n",
              "        [2.00205486e-05, 3.45100580e-06, 2.67303199e-06, ...,\n",
              "         8.87907277e-07, 8.66514893e-06, 1.27758278e-06]],\n",
              "\n",
              "       [[2.08892607e-06, 3.66923405e-06, 2.25961753e-06, ...,\n",
              "         3.39658618e-06, 4.41628254e-06, 3.76743685e-07],\n",
              "        [3.75224090e-06, 2.58088335e-06, 6.95636982e-06, ...,\n",
              "         1.24978737e-06, 7.29375643e-06, 6.66074413e-07],\n",
              "        [4.61524769e-06, 2.50641369e-06, 6.14952369e-05, ...,\n",
              "         9.78253752e-07, 1.15457749e-06, 1.10428191e-05],\n",
              "        ...,\n",
              "        [2.98166901e-06, 3.06623247e-06, 1.25752351e-07, ...,\n",
              "         4.27979415e-07, 8.23169955e-07, 1.40764939e-06],\n",
              "        [1.24134863e-06, 1.92370658e-06, 6.36618870e-06, ...,\n",
              "         5.77040100e-06, 1.07734550e-05, 1.74540514e-06],\n",
              "        [2.15599048e-05, 2.29828743e-06, 1.64123992e-06, ...,\n",
              "         6.80639403e-07, 7.20016669e-06, 1.36856022e-06]],\n",
              "\n",
              "       [[8.71514487e-07, 2.46134846e-06, 1.21698952e-06, ...,\n",
              "         1.14920579e-06, 2.33223682e-06, 2.21929099e-07],\n",
              "        [1.96095607e-06, 1.18386072e-06, 4.91286164e-06, ...,\n",
              "         6.00031228e-07, 3.64595121e-06, 2.68574439e-07],\n",
              "        [1.83795044e-06, 8.95095582e-07, 6.03629596e-05, ...,\n",
              "         4.49773609e-07, 5.24940219e-07, 8.23667688e-06],\n",
              "        ...,\n",
              "        [1.20769607e-06, 1.46277614e-06, 6.18862828e-08, ...,\n",
              "         1.42837976e-07, 2.78257403e-07, 5.71498845e-07],\n",
              "        [7.24890754e-07, 1.36382141e-06, 3.84778514e-06, ...,\n",
              "         3.26952022e-06, 5.80293272e-06, 5.82451150e-07],\n",
              "        [1.81762662e-05, 1.08027109e-06, 8.21459537e-07, ...,\n",
              "         2.94406959e-07, 4.39102587e-06, 8.92509377e-07]]], dtype=float32)"
            ]
          },
          "metadata": {},
          "execution_count": 74
        }
      ]
    },
    {
      "cell_type": "code",
      "source": [
        "fig,ax = plt.subplots(nrows = 1,ncols = 10, figsize = (20,20))\n",
        "\n",
        "for row in range(10):\n",
        "  ax[row ].imshow(outputs_dim1[row].reshape(28,28))\n"
      ],
      "metadata": {
        "colab": {
          "base_uri": "https://localhost:8080/",
          "height": 130
        },
        "id": "ioB-Ddt-lV_3",
        "outputId": "4321391a-ad9c-465c-e160-cd53668410ae"
      },
      "execution_count": null,
      "outputs": [
        {
          "output_type": "display_data",
          "data": {
            "text/plain": [
              "<Figure size 1440x1440 with 10 Axes>"
            ],
            "image/png": "[encoded data removed]"
          },
          "metadata": {
            "needs_background": "light"
          }
        }
      ]
    },
    {
      "cell_type": "markdown",
      "source": [
        "###Change second Dimension"
      ],
      "metadata": {
        "id": "ud0S2S73oaId"
      }
    },
    {
      "cell_type": "code",
      "source": [
        "  ##Dimension 2\n",
        "  ##Simply change way the val are passed to decoder\n",
        "  \n",
        "  dim1 = np.repeat(tf.random.normal([1],mean=0,stddev=1,seed=1),10)\n",
        "  dim2 = np.repeat(tf.random.normal([1],mean=0,stddev=1,seed=2),10)\n",
        "  dim3 = np.linspace(-5.0,5.0,10)\n",
        "  input_to_decoder = np.array([dim1,dim3,dim2]).T\n",
        "  outputs_dim2 = decoder.predict(input_to_decoder).reshape(-1,28,28)"
      ],
      "metadata": {
        "colab": {
          "base_uri": "https://localhost:8080/"
        },
        "id": "ckqSBCaJocND",
        "outputId": "ded23ae8-8c0e-4196-86be-b3274e63278a"
      },
      "execution_count": null,
      "outputs": [
        {
          "output_type": "stream",
          "name": "stdout",
          "text": [
            "1/1 [==============================] - 0s 15ms/step\n"
          ]
        }
      ]
    },
    {
      "cell_type": "code",
      "source": [
        "outputs_dim2.shape"
      ],
      "metadata": {
        "colab": {
          "base_uri": "https://localhost:8080/"
        },
        "id": "HwM680d5ouQ1",
        "outputId": "a80f1ecc-d5ef-4e92-a548-2768b9390b28"
      },
      "execution_count": null,
      "outputs": [
        {
          "output_type": "execute_result",
          "data": {
            "text/plain": [
              "(10, 28, 28)"
            ]
          },
          "metadata": {},
          "execution_count": 69
        }
      ]
    },
    {
      "cell_type": "code",
      "source": [
        "fig,ax = plt.subplots(nrows = 1,ncols = 10, figsize = (20,20))\n",
        "\n",
        "for row in range(10):\n",
        "  ax[row ].imshow(outputs_dim2[row].reshape(28,28))\n"
      ],
      "metadata": {
        "colab": {
          "base_uri": "https://localhost:8080/",
          "height": 130
        },
        "id": "7cBlrRGRoxrU",
        "outputId": "5d8574cb-269c-49cf-fb81-b15b9b3c5b72"
      },
      "execution_count": null,
      "outputs": [
        {
          "output_type": "display_data",
          "data": {
            "text/plain": [
              "<Figure size 1440x1440 with 10 Axes>"
            ],
            "image/png": "[encoded data removed]"
          },
          "metadata": {
            "needs_background": "light"
          }
        }
      ]
    },
    {
      "cell_type": "markdown",
      "source": [
        "###Change dimension 3 "
      ],
      "metadata": {
        "id": "uo94M0Ffo2Lj"
      }
    },
    {
      "cell_type": "code",
      "source": [
        "  ##Dimension 3\n",
        "  ##Simply change way the val are passed to decoder\n",
        "  \n",
        "  dim1 = np.repeat(tf.random.normal([1],mean=0,stddev=1,seed=1),10)\n",
        "  dim2 = np.repeat(tf.random.normal([1],mean=0,stddev=1,seed=2),10)\n",
        "  dim3 = np.linspace(-5.0,5.0,10)\n",
        "  input_to_decoder = np.array([dim1,dim2,dim3]).T\n",
        "  outputs_dim3 = decoder.predict(input_to_decoder).reshape(-1,28,28)"
      ],
      "metadata": {
        "colab": {
          "base_uri": "https://localhost:8080/"
        },
        "id": "p20T7yTxo4Zd",
        "outputId": "e068e9aa-10e1-47d3-bb6c-6dfe2632b575"
      },
      "execution_count": null,
      "outputs": [
        {
          "output_type": "stream",
          "name": "stdout",
          "text": [
            "1/1 [==============================] - 0s 15ms/step\n"
          ]
        }
      ]
    },
    {
      "cell_type": "code",
      "source": [
        "outputs_dim3.shape"
      ],
      "metadata": {
        "colab": {
          "base_uri": "https://localhost:8080/"
        },
        "id": "hVaZ82kqpLbv",
        "outputId": "aea2e60f-f6ae-4bac-edb6-a4524592d11a"
      },
      "execution_count": null,
      "outputs": [
        {
          "output_type": "execute_result",
          "data": {
            "text/plain": [
              "(10, 28, 28)"
            ]
          },
          "metadata": {},
          "execution_count": 72
        }
      ]
    },
    {
      "cell_type": "code",
      "source": [
        "fig,ax = plt.subplots(nrows = 1,ncols = 10, figsize = (20,20))\n",
        "\n",
        "for row in range(10):\n",
        "  ax[row ].imshow(outputs_dim3[row].reshape(28,28))"
      ],
      "metadata": {
        "colab": {
          "base_uri": "https://localhost:8080/",
          "height": 130
        },
        "id": "DrY_wkvRpP7q",
        "outputId": "307a0aa3-9c6e-4974-8b93-4e9f0d5132d9"
      },
      "execution_count": null,
      "outputs": [
        {
          "output_type": "display_data",
          "data": {
            "text/plain": [
              "<Figure size 1440x1440 with 10 Axes>"
            ],
            "image/png": "[encoded data removed]"
          },
          "metadata": {
            "needs_background": "light"
          }
        }
      ]
    },
    {
      "cell_type": "markdown",
      "source": [
        "The images generated follows the trend and observations given in the question."
      ],
      "metadata": {
        "id": "rxC25Ia7zlAv"
      }
    },
    {
      "cell_type": "code",
      "source": [
        "%%shell\n",
        "jupyter nbconvert --to html "
      ],
      "metadata": {
        "id": "s8C0riFxhhAk"
      },
      "execution_count": null,
      "outputs": []
    }
  ]
}