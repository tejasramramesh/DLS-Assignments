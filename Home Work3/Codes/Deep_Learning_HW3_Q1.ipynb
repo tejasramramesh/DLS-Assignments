{
  "nbformat": 4,
  "nbformat_minor": 0,
  "metadata": {
    "colab": {
      "provenance": [],
      "toc_visible": true,
      "machine_shape": "hm"
    },
    "kernelspec": {
      "name": "python3",
      "display_name": "Python 3"
    },
    "language_info": {
      "name": "python"
    },
    "accelerator": "GPU",
    "gpuClass": "standard"
  },
  "cells": [
    {
      "cell_type": "markdown",
      "source": [
        "#Home Work 3 \n",
        "\n",
        "\n",
        "References:\n",
        "\n",
        "1. https://stackoverflow.com/questions/68673846/attributeerror-module-tensorflow-has-no-attribute-div\n",
        "\n",
        "2. https://www.cs.toronto.edu/~kriz/cifar.html ( instruction and code at py version section )\n",
        "\n",
        "3. https://www.tensorflow.org/api_docs/python/tf/keras/datasets/cifar10/load_data\n",
        "\n",
        "4. https://knowyourdata-tfds.withgoogle.com/tab=STATS&dataset=cifar10\n",
        "\n",
        "5. https://machinelearningmastery.com/how-to-manually-scale-image-pixel-data-for-deep-learning/\n",
        "\n",
        "6. https://www.tensorflow.org/api_docs/python/tf/convert_to_tensor\n",
        "\n",
        "7. https://www.tensorflow.org/api_docs/python/tf/concat\n",
        "\n",
        "\n",
        "\n",
        "\n"
      ],
      "metadata": {
        "id": "XHPt92A6o-UY"
      }
    },
    {
      "cell_type": "markdown",
      "source": [
        "##GPU Check"
      ],
      "metadata": {
        "id": "bIEyn94PuHc7"
      }
    },
    {
      "cell_type": "code",
      "execution_count": null,
      "metadata": {
        "id": "yxxMnZ5Bi0y0",
        "colab": {
          "base_uri": "https://localhost:8080/"
        },
        "outputId": "75444b4a-81cb-421f-837d-102482f47706"
      },
      "outputs": [
        {
          "output_type": "stream",
          "name": "stdout",
          "text": [
            "Found GPU at: /device:GPU:0\n"
          ]
        }
      ],
      "source": [
        "#Path: TensorFlow/Tejas/\n",
        "import tensorflow as tf\n",
        "device_name = tf.test.gpu_device_name()\n",
        "if device_name != '/device:GPU:0':\n",
        "  raise SystemError('GPU device not found')\n",
        "print('Found GPU at: {}'.format(device_name))"
      ]
    },
    {
      "cell_type": "code",
      "source": [
        "print(\"TensorFlow version:\", tf.__version__)"
      ],
      "metadata": {
        "colab": {
          "base_uri": "https://localhost:8080/"
        },
        "id": "qmSJOkmouLdF",
        "outputId": "6baa0e92-339a-4e6b-ec9f-cd3be925c8d8"
      },
      "execution_count": null,
      "outputs": [
        {
          "output_type": "stream",
          "name": "stdout",
          "text": [
            "TensorFlow version: 2.9.2\n"
          ]
        }
      ]
    },
    {
      "cell_type": "code",
      "source": [
        "import tensorflow as tf\n",
        "import timeit\n",
        "\n",
        "device_name = tf.test.gpu_device_name()\n",
        "if device_name != '/device:GPU:0':\n",
        "  print(\n",
        "      '\\n\\nThis error most likely means that this notebook is not '\n",
        "      'configured to use a GPU.  Change this in Notebook Settings via the '\n",
        "      'command palette (cmd/ctrl-shift-P) or the Edit menu.\\n\\n')\n",
        "  raise SystemError('GPU device not found')\n",
        "\n",
        "def cpu():\n",
        "  with tf.device('/cpu:0'):\n",
        "    random_image_cpu = tf.random.normal((100, 100, 100, 3))\n",
        "    net_cpu = tf.keras.layers.Conv2D(32, 7)(random_image_cpu)\n",
        "    return tf.math.reduce_sum(net_cpu)\n",
        "\n",
        "def gpu():\n",
        "  with tf.device('/device:GPU:0'):\n",
        "    random_image_gpu = tf.random.normal((100, 100, 100, 3))\n",
        "    net_gpu = tf.keras.layers.Conv2D(32, 7)(random_image_gpu)\n",
        "    return tf.math.reduce_sum(net_gpu)\n",
        "  \n",
        "# We run each op once to warm up; see: https://stackoverflow.com/a/45067900\n",
        "cpu()\n",
        "gpu()\n",
        "\n",
        "# Run the op several times.\n",
        "print('Time (s) to convolve 32x7x7x3 filter over random 100x100x100x3 images '\n",
        "      '(batch x height x width x channel). Sum of ten runs.')\n",
        "print('CPU (s):')\n",
        "cpu_time = timeit.timeit('cpu()', number=10, setup=\"from __main__ import cpu\")\n",
        "print(cpu_time)\n",
        "print('GPU (s):')\n",
        "gpu_time = timeit.timeit('gpu()', number=10, setup=\"from __main__ import gpu\")\n",
        "print(gpu_time)\n",
        "print('GPU speedup over CPU: {}x'.format(int(cpu_time/gpu_time)))"
      ],
      "metadata": {
        "colab": {
          "base_uri": "https://localhost:8080/"
        },
        "id": "ogwoe82ouRav",
        "outputId": "3bb0cf34-2529-4bd4-b6e2-c1b04603125c"
      },
      "execution_count": null,
      "outputs": [
        {
          "output_type": "stream",
          "name": "stdout",
          "text": [
            "Time (s) to convolve 32x7x7x3 filter over random 100x100x100x3 images (batch x height x width x channel). Sum of ten runs.\n",
            "CPU (s):\n",
            "2.641480469999806\n",
            "GPU (s):\n",
            "0.04651965899938659\n",
            "GPU speedup over CPU: 56x\n"
          ]
        }
      ]
    },
    {
      "cell_type": "markdown",
      "source": [
        "##Dependencies"
      ],
      "metadata": {
        "id": "3znvYXsru3U-"
      }
    },
    {
      "cell_type": "code",
      "source": [
        "import numpy as np\n",
        "import random\n",
        "import pandas as pd\n",
        "import seaborn as sns\n",
        "import matplotlib.pyplot as plt\n",
        "from sklearn.decomposition import PCA\n",
        "from sklearn.manifold import TSNE\n",
        "from tensorflow import keras\n",
        "from tensorflow.keras import layers\n",
        "from keras.models import Model\n",
        "import keras.utils\n",
        "from keras import utils as np_utils\n",
        "from keras.models import Sequential\n",
        "from keras.layers import  Dense, Dropout, Activation, Flatten\n",
        "from librosa.core import stft,istft\n",
        "import soundfile as sf\n",
        "from sklearn.model_selection import train_test_split\n",
        "import tensorflow as tf\n",
        "%matplotlib inline"
      ],
      "metadata": {
        "id": "JUmOnpR8u57l"
      },
      "execution_count": null,
      "outputs": []
    },
    {
      "cell_type": "markdown",
      "source": [
        "##Load Data Set"
      ],
      "metadata": {
        "id": "37y4SnA8pMf5"
      }
    },
    {
      "cell_type": "code",
      "source": [
        "from google.colab import drive\n",
        "drive.mount('/content/drive')"
      ],
      "metadata": {
        "colab": {
          "base_uri": "https://localhost:8080/"
        },
        "id": "XZ4Ih0tQuUES",
        "outputId": "351dfeed-312a-4eed-9e70-727a8bfcfe9c"
      },
      "execution_count": null,
      "outputs": [
        {
          "output_type": "stream",
          "name": "stdout",
          "text": [
            "Drive already mounted at /content/drive; to attempt to forcibly remount, call drive.mount(\"/content/drive\", force_remount=True).\n"
          ]
        }
      ]
    },
    {
      "cell_type": "code",
      "source": [
        "#Reference : https://www.cs.toronto.edu/~kriz/cifar.html ( instruction and code at py version section )\n",
        "\n",
        "def unpickle(my_file):\n",
        "    import pickle\n",
        "    with open(my_file, 'rb') as fo:\n",
        "        dict = pickle.load(fo, encoding='bytes')\n",
        "    return dict\n",
        "\n",
        "dictionary = {}\n",
        "merge_data = []\n",
        "\n",
        "\n"
      ],
      "metadata": {
        "id": "FDytvtrGuu4s"
      },
      "execution_count": null,
      "outputs": []
    },
    {
      "cell_type": "code",
      "source": [
        "# We stick with inbuilt dataset to avoid complexity \n",
        "# Ref : https://www.tensorflow.org/api_docs/python/tf/keras/datasets/cifar10/load_data\n",
        "#Data viz : https://knowyourdata-tfds.withgoogle.com/#tab=STATS&dataset=cifar10\n",
        "cifar10_data = tf.keras.datasets.cifar10\n",
        "(x_train, Y_train), (x_test, Y_test) = cifar10_data.load_data()"
      ],
      "metadata": {
        "id": "Tmqiq2ClzTTl"
      },
      "execution_count": null,
      "outputs": []
    },
    {
      "cell_type": "code",
      "source": [
        "type(x_train)"
      ],
      "metadata": {
        "colab": {
          "base_uri": "https://localhost:8080/"
        },
        "id": "S1YWeLLE1JK7",
        "outputId": "99e6390b-6125-433a-cf10-71ded4355ca9"
      },
      "execution_count": null,
      "outputs": [
        {
          "output_type": "execute_result",
          "data": {
            "text/plain": [
              "numpy.ndarray"
            ]
          },
          "metadata": {},
          "execution_count": 63
        }
      ]
    },
    {
      "cell_type": "code",
      "source": [
        "X_train, X_val, y_train, y_val = train_test_split(x_train, Y_train, test_size=0.1, random_state=3)"
      ],
      "metadata": {
        "id": "_EH4PHkp44wy"
      },
      "execution_count": null,
      "outputs": []
    },
    {
      "cell_type": "code",
      "source": [
        "\n",
        "print(\"Shape of X_train is : \",X_train.shape)\n",
        "print(\"Shape of y_train is : \",y_train.shape)\n",
        "print(\"Shape of X_val is : \",X_val.shape)\n",
        "print(\"Shape of y_val is : \",y_val.shape)"
      ],
      "metadata": {
        "colab": {
          "base_uri": "https://localhost:8080/"
        },
        "id": "T3jO5W3_5Fan",
        "outputId": "7ff983eb-c75a-42b5-8b2d-a9fb5e1e4b4d"
      },
      "execution_count": null,
      "outputs": [
        {
          "output_type": "stream",
          "name": "stdout",
          "text": [
            "Shape of X_train is :  (45000, 32, 32, 3)\n",
            "Shape of y_train is :  (45000, 1)\n",
            "Shape of X_val is :  (5000, 32, 32, 3)\n",
            "Shape of y_val is :  (5000, 1)\n"
          ]
        }
      ]
    },
    {
      "cell_type": "markdown",
      "source": [
        "Shape is (Input, Width, Height, Depth )"
      ],
      "metadata": {
        "id": "FQzUPihC5tAe"
      }
    },
    {
      "cell_type": "markdown",
      "source": [
        "##Normalize data"
      ],
      "metadata": {
        "id": "J7NCFfPl8Dfh"
      }
    },
    {
      "cell_type": "markdown",
      "source": [
        "###Black and White ( /255)"
      ],
      "metadata": {
        "id": "UMeDameG8G3j"
      }
    },
    {
      "cell_type": "code",
      "source": [
        "X_train_norm,X_val_norm, X_test_norm = X_train/255, X_val/255, x_test/255"
      ],
      "metadata": {
        "id": "GY-emPVl5zVu"
      },
      "execution_count": null,
      "outputs": []
    },
    {
      "cell_type": "code",
      "source": [
        "print('Min: %.3f, Max: %.3f' % (X_train_norm.min(), X_train_norm.max()))"
      ],
      "metadata": {
        "colab": {
          "base_uri": "https://localhost:8080/"
        },
        "id": "tY_MZTqs-j7_",
        "outputId": "590ac704-2d0c-44bf-fdf6-b0c7e9b4cda9"
      },
      "execution_count": null,
      "outputs": [
        {
          "output_type": "stream",
          "name": "stdout",
          "text": [
            "Min: 0.000, Max: 1.000\n"
          ]
        }
      ]
    },
    {
      "cell_type": "code",
      "source": [
        "print('Min: %.3f, Max: %.3f' % (X_val_norm.min(), X_val_norm.max()))"
      ],
      "metadata": {
        "colab": {
          "base_uri": "https://localhost:8080/"
        },
        "id": "1k4UfmDT-t7c",
        "outputId": "1ec2232b-fca8-4ae3-a3e6-1d26cd116810"
      },
      "execution_count": null,
      "outputs": [
        {
          "output_type": "stream",
          "name": "stdout",
          "text": [
            "Min: 0.000, Max: 1.000\n"
          ]
        }
      ]
    },
    {
      "cell_type": "code",
      "source": [
        "print('Min: %.3f, Max: %.3f' % (X_test_norm.min(), X_test_norm.max()))"
      ],
      "metadata": {
        "colab": {
          "base_uri": "https://localhost:8080/"
        },
        "id": "td6TvWP5G_Zp",
        "outputId": "a6b88920-adb0-4750-bcc4-022554eec8e0"
      },
      "execution_count": null,
      "outputs": [
        {
          "output_type": "stream",
          "name": "stdout",
          "text": [
            "Min: 0.000, Max: 1.000\n"
          ]
        }
      ]
    },
    {
      "cell_type": "markdown",
      "source": [
        "###Re-Scale Image to Range [-1,1] (Around 0)\n",
        "Have done Global Re Centering\n",
        "\n",
        "Refence: https://machinelearningmastery.com/how-to-manually-scale-image-pixel-data-for-deep-learning/"
      ],
      "metadata": {
        "id": "CiRRdsyF8V2L"
      }
    },
    {
      "cell_type": "code",
      "source": [
        "X_train_cen = (X_train_norm - X_train_norm.mean())\n",
        "X_val_cen = (X_val_norm - X_val_norm.mean())\n",
        "X_test_cen = (X_test_norm -X_test_norm.mean())"
      ],
      "metadata": {
        "id": "5rmJEUDB8Y5J"
      },
      "execution_count": null,
      "outputs": []
    },
    {
      "cell_type": "code",
      "source": [
        "print('Min: %.3f, Max: %.3f' % (X_train_cen.min(), X_train_cen.max()))"
      ],
      "metadata": {
        "colab": {
          "base_uri": "https://localhost:8080/"
        },
        "id": "mPUGNnuVCqWc",
        "outputId": "234fee76-097e-447f-a8e7-94f09ab02c48"
      },
      "execution_count": null,
      "outputs": [
        {
          "output_type": "stream",
          "name": "stdout",
          "text": [
            "Min: -0.473, Max: 0.527\n"
          ]
        }
      ]
    },
    {
      "cell_type": "code",
      "source": [
        "print('Min: %.3f, Max: %.3f' % (X_val_cen.min(), X_val_cen.max()))"
      ],
      "metadata": {
        "colab": {
          "base_uri": "https://localhost:8080/"
        },
        "id": "PldmFqGmEPrG",
        "outputId": "b482e260-f7e6-48b0-949c-ac43e2f2133a"
      },
      "execution_count": null,
      "outputs": [
        {
          "output_type": "stream",
          "name": "stdout",
          "text": [
            "Min: -0.474, Max: 0.526\n"
          ]
        }
      ]
    },
    {
      "cell_type": "code",
      "source": [
        "print('Min: %.3f, Max: %.3f' % (X_test_cen.min(), X_test_cen.max()))"
      ],
      "metadata": {
        "colab": {
          "base_uri": "https://localhost:8080/"
        },
        "id": "eiyNe2EGHEcW",
        "outputId": "31bcebe1-de0f-408c-cb48-5a03ee3ff56c"
      },
      "execution_count": null,
      "outputs": [
        {
          "output_type": "stream",
          "name": "stdout",
          "text": [
            "Min: -0.477, Max: 0.523\n"
          ]
        }
      ]
    },
    {
      "cell_type": "markdown",
      "source": [
        "###To Tensor"
      ],
      "metadata": {
        "id": "APU1KiZuFJJ9"
      }
    },
    {
      "cell_type": "code",
      "source": [
        "#Ref:https://www.tensorflow.org/api_docs/python/tf/convert_to_tensor\n",
        "X_train_tensor = tf.convert_to_tensor(X_train_cen)\n",
        "X_val_tensor = tf.convert_to_tensor(X_val_cen)\n",
        "X_test = tf.convert_to_tensor(X_test_cen)"
      ],
      "metadata": {
        "id": "i_QIaRcLEp3o"
      },
      "execution_count": null,
      "outputs": []
    },
    {
      "cell_type": "code",
      "source": [
        "type(X_train_tensor)\n"
      ],
      "metadata": {
        "colab": {
          "base_uri": "https://localhost:8080/"
        },
        "id": "DX57mzw4FLfE",
        "outputId": "99697682-becf-4845-b62b-7c2a9ba664ca"
      },
      "execution_count": null,
      "outputs": [
        {
          "output_type": "execute_result",
          "data": {
            "text/plain": [
              "tensorflow.python.framework.ops.EagerTensor"
            ]
          },
          "metadata": {},
          "execution_count": 75
        }
      ]
    },
    {
      "cell_type": "code",
      "source": [
        "type(X_test)"
      ],
      "metadata": {
        "colab": {
          "base_uri": "https://localhost:8080/"
        },
        "id": "1ZH6RNL4HrS5",
        "outputId": "67c3a4a9-e49c-4b64-e41d-d447c89d98db"
      },
      "execution_count": null,
      "outputs": [
        {
          "output_type": "execute_result",
          "data": {
            "text/plain": [
              "tensorflow.python.framework.ops.EagerTensor"
            ]
          },
          "metadata": {},
          "execution_count": 76
        }
      ]
    },
    {
      "cell_type": "code",
      "source": [
        "print('Train: ',X_train_tensor.shape)\n",
        "print('Val: ',X_val_tensor.shape)\n",
        "print('Test: ',X_test.shape)"
      ],
      "metadata": {
        "colab": {
          "base_uri": "https://localhost:8080/"
        },
        "id": "ebrtxifuF5n0",
        "outputId": "663151f2-32a5-4088-ab03-827fba68dc05"
      },
      "execution_count": null,
      "outputs": [
        {
          "output_type": "stream",
          "name": "stdout",
          "text": [
            "Train:  (45000, 32, 32, 3)\n",
            "Val:  (5000, 32, 32, 3)\n",
            "Test:  (10000, 32, 32, 3)\n"
          ]
        }
      ]
    },
    {
      "cell_type": "markdown",
      "source": [
        "##Model:\n",
        "\n",
        "1st 2d conv layer:  there are 10 kernels whose size is 5x5x3; stride=1\n",
        "Maxpooling:  2x2 with stride=2\n",
        "\n",
        "1st 2d conv layer:  there are 10 kernels whose size is 5x5x10; stride=1\n",
        "Maxpooling:  2x2 with stride=2\n",
        "\n",
        "1st fully-connected layer: [flattened final feature map] x 20 \n",
        "\n",
        "2st fully-connected layer: 20 x 10 Softmax on the 10 classes\n",
        "\n",
        "\n",
        "Reshape input to 35x35,3"
      ],
      "metadata": {
        "id": "Ib68b0wW7p9v"
      }
    },
    {
      "cell_type": "code",
      "source": [
        "model = keras.Sequential([\n",
        "    keras.layers.Conv2D(filters = 10,kernel_size = (5,5),strides = 1, activation = 'relu',data_format='channels_last',input_shape=(32,32,3)),\n",
        "    keras.layers.MaxPool2D(pool_size = (2,2),strides = 2),\n",
        "    keras.layers.Conv2D(filters = 10,kernel_size = (5,5),strides = 1, activation = 'relu',data_format='channels_last' ),\n",
        "    keras.layers.MaxPool2D(pool_size = (2,2),strides = 2),\n",
        "    keras.layers.Flatten(),\n",
        "    keras.layers.Dense(units = 20, activation = 'relu', kernel_initializer='he_normal'),\n",
        "    keras.layers.Dense(units = 10, activation = 'softmax', kernel_initializer = 'he_normal')\n",
        "])"
      ],
      "metadata": {
        "id": "4_egRd-jIBc2"
      },
      "execution_count": null,
      "outputs": []
    },
    {
      "cell_type": "code",
      "source": [
        "model.compile(optimizer='adam',loss='sparse_categorical_crossentropy',metrics=['accuracy'])"
      ],
      "metadata": {
        "id": "OmtrTeGANV54"
      },
      "execution_count": null,
      "outputs": []
    },
    {
      "cell_type": "code",
      "source": [
        "history = model.fit(X_train_tensor, y_train, validation_data=(X_val_tensor, y_val), batch_size=128, epochs=200)"
      ],
      "metadata": {
        "colab": {
          "base_uri": "https://localhost:8080/"
        },
        "id": "iqkgIeAtNd8b",
        "outputId": "80d4a801-6485-485a-a3d0-83e2f27ef836"
      },
      "execution_count": null,
      "outputs": [
        {
          "output_type": "stream",
          "name": "stdout",
          "text": [
            "Epoch 1/200\n",
            "352/352 [==============================] - 2s 5ms/step - loss: 1.7756 - accuracy: 0.3468 - val_loss: 1.5515 - val_accuracy: 0.4266\n",
            "Epoch 2/200\n",
            "352/352 [==============================] - 2s 4ms/step - loss: 1.4578 - accuracy: 0.4718 - val_loss: 1.4219 - val_accuracy: 0.4770\n",
            "Epoch 3/200\n",
            "352/352 [==============================] - 2s 4ms/step - loss: 1.3588 - accuracy: 0.5096 - val_loss: 1.3497 - val_accuracy: 0.5110\n",
            "Epoch 4/200\n",
            "352/352 [==============================] - 2s 4ms/step - loss: 1.2992 - accuracy: 0.5342 - val_loss: 1.3007 - val_accuracy: 0.5320\n",
            "Epoch 5/200\n",
            "352/352 [==============================] - 2s 4ms/step - loss: 1.2537 - accuracy: 0.5510 - val_loss: 1.2719 - val_accuracy: 0.5428\n",
            "Epoch 6/200\n",
            "352/352 [==============================] - 2s 4ms/step - loss: 1.2179 - accuracy: 0.5657 - val_loss: 1.2541 - val_accuracy: 0.5564\n",
            "Epoch 7/200\n",
            "352/352 [==============================] - 2s 4ms/step - loss: 1.1891 - accuracy: 0.5772 - val_loss: 1.2114 - val_accuracy: 0.5748\n",
            "Epoch 8/200\n",
            "352/352 [==============================] - 2s 4ms/step - loss: 1.1691 - accuracy: 0.5855 - val_loss: 1.1882 - val_accuracy: 0.5778\n",
            "Epoch 9/200\n",
            "352/352 [==============================] - 2s 4ms/step - loss: 1.1439 - accuracy: 0.5939 - val_loss: 1.1922 - val_accuracy: 0.5854\n",
            "Epoch 10/200\n",
            "352/352 [==============================] - 2s 5ms/step - loss: 1.1274 - accuracy: 0.6004 - val_loss: 1.1884 - val_accuracy: 0.5788\n",
            "Epoch 11/200\n",
            "352/352 [==============================] - 2s 4ms/step - loss: 1.1080 - accuracy: 0.6085 - val_loss: 1.1555 - val_accuracy: 0.5934\n",
            "Epoch 12/200\n",
            "352/352 [==============================] - 2s 4ms/step - loss: 1.0957 - accuracy: 0.6130 - val_loss: 1.1355 - val_accuracy: 0.5980\n",
            "Epoch 13/200\n",
            "352/352 [==============================] - 2s 4ms/step - loss: 1.0821 - accuracy: 0.6190 - val_loss: 1.1429 - val_accuracy: 0.5920\n",
            "Epoch 14/200\n",
            "352/352 [==============================] - 2s 4ms/step - loss: 1.0742 - accuracy: 0.6204 - val_loss: 1.1207 - val_accuracy: 0.5958\n",
            "Epoch 15/200\n",
            "352/352 [==============================] - 2s 4ms/step - loss: 1.0594 - accuracy: 0.6269 - val_loss: 1.1208 - val_accuracy: 0.6018\n",
            "Epoch 16/200\n",
            "352/352 [==============================] - 2s 4ms/step - loss: 1.0482 - accuracy: 0.6309 - val_loss: 1.1295 - val_accuracy: 0.5994\n",
            "Epoch 17/200\n",
            "352/352 [==============================] - 2s 4ms/step - loss: 1.0397 - accuracy: 0.6337 - val_loss: 1.1258 - val_accuracy: 0.6110\n",
            "Epoch 18/200\n",
            "352/352 [==============================] - 2s 4ms/step - loss: 1.0289 - accuracy: 0.6386 - val_loss: 1.0973 - val_accuracy: 0.6116\n",
            "Epoch 19/200\n",
            "352/352 [==============================] - 2s 4ms/step - loss: 1.0241 - accuracy: 0.6382 - val_loss: 1.1255 - val_accuracy: 0.6022\n",
            "Epoch 20/200\n",
            "352/352 [==============================] - 2s 4ms/step - loss: 1.0127 - accuracy: 0.6443 - val_loss: 1.1058 - val_accuracy: 0.6164\n",
            "Epoch 21/200\n",
            "352/352 [==============================] - 2s 4ms/step - loss: 1.0084 - accuracy: 0.6455 - val_loss: 1.1055 - val_accuracy: 0.6094\n",
            "Epoch 22/200\n",
            "352/352 [==============================] - 2s 4ms/step - loss: 1.0015 - accuracy: 0.6478 - val_loss: 1.1069 - val_accuracy: 0.6110\n",
            "Epoch 23/200\n",
            "352/352 [==============================] - 2s 5ms/step - loss: 0.9944 - accuracy: 0.6518 - val_loss: 1.0848 - val_accuracy: 0.6264\n",
            "Epoch 24/200\n",
            "352/352 [==============================] - 2s 5ms/step - loss: 0.9873 - accuracy: 0.6533 - val_loss: 1.0702 - val_accuracy: 0.6270\n",
            "Epoch 25/200\n",
            "352/352 [==============================] - 2s 4ms/step - loss: 0.9813 - accuracy: 0.6568 - val_loss: 1.0775 - val_accuracy: 0.6210\n",
            "Epoch 26/200\n",
            "352/352 [==============================] - 2s 4ms/step - loss: 0.9740 - accuracy: 0.6586 - val_loss: 1.1206 - val_accuracy: 0.6084\n",
            "Epoch 27/200\n",
            "352/352 [==============================] - 2s 4ms/step - loss: 0.9720 - accuracy: 0.6589 - val_loss: 1.0794 - val_accuracy: 0.6224\n",
            "Epoch 28/200\n",
            "352/352 [==============================] - 2s 4ms/step - loss: 0.9667 - accuracy: 0.6605 - val_loss: 1.0811 - val_accuracy: 0.6204\n",
            "Epoch 29/200\n",
            "352/352 [==============================] - 2s 4ms/step - loss: 0.9625 - accuracy: 0.6626 - val_loss: 1.0612 - val_accuracy: 0.6198\n",
            "Epoch 30/200\n",
            "352/352 [==============================] - 2s 4ms/step - loss: 0.9548 - accuracy: 0.6656 - val_loss: 1.0849 - val_accuracy: 0.6236\n",
            "Epoch 31/200\n",
            "352/352 [==============================] - 2s 4ms/step - loss: 0.9527 - accuracy: 0.6653 - val_loss: 1.0633 - val_accuracy: 0.6252\n",
            "Epoch 32/200\n",
            "352/352 [==============================] - 2s 4ms/step - loss: 0.9481 - accuracy: 0.6675 - val_loss: 1.0835 - val_accuracy: 0.6238\n",
            "Epoch 33/200\n",
            "352/352 [==============================] - 2s 4ms/step - loss: 0.9438 - accuracy: 0.6697 - val_loss: 1.0679 - val_accuracy: 0.6264\n",
            "Epoch 34/200\n",
            "352/352 [==============================] - 2s 4ms/step - loss: 0.9423 - accuracy: 0.6703 - val_loss: 1.0547 - val_accuracy: 0.6336\n",
            "Epoch 35/200\n",
            "352/352 [==============================] - 2s 4ms/step - loss: 0.9373 - accuracy: 0.6718 - val_loss: 1.0575 - val_accuracy: 0.6318\n",
            "Epoch 36/200\n",
            "352/352 [==============================] - 2s 4ms/step - loss: 0.9321 - accuracy: 0.6734 - val_loss: 1.0517 - val_accuracy: 0.6274\n",
            "Epoch 37/200\n",
            "352/352 [==============================] - 2s 4ms/step - loss: 0.9279 - accuracy: 0.6751 - val_loss: 1.0508 - val_accuracy: 0.6352\n",
            "Epoch 38/200\n",
            "352/352 [==============================] - 2s 4ms/step - loss: 0.9270 - accuracy: 0.6770 - val_loss: 1.0448 - val_accuracy: 0.6360\n",
            "Epoch 39/200\n",
            "352/352 [==============================] - 2s 4ms/step - loss: 0.9236 - accuracy: 0.6765 - val_loss: 1.0754 - val_accuracy: 0.6290\n",
            "Epoch 40/200\n",
            "352/352 [==============================] - 2s 4ms/step - loss: 0.9208 - accuracy: 0.6776 - val_loss: 1.0546 - val_accuracy: 0.6278\n",
            "Epoch 41/200\n",
            "352/352 [==============================] - 2s 4ms/step - loss: 0.9141 - accuracy: 0.6819 - val_loss: 1.0371 - val_accuracy: 0.6408\n",
            "Epoch 42/200\n",
            "352/352 [==============================] - 2s 4ms/step - loss: 0.9133 - accuracy: 0.6811 - val_loss: 1.0684 - val_accuracy: 0.6334\n",
            "Epoch 43/200\n",
            "352/352 [==============================] - 2s 4ms/step - loss: 0.9131 - accuracy: 0.6805 - val_loss: 1.0365 - val_accuracy: 0.6436\n",
            "Epoch 44/200\n",
            "352/352 [==============================] - 2s 4ms/step - loss: 0.9063 - accuracy: 0.6838 - val_loss: 1.0511 - val_accuracy: 0.6358\n",
            "Epoch 45/200\n",
            "352/352 [==============================] - 2s 4ms/step - loss: 0.9089 - accuracy: 0.6825 - val_loss: 1.0297 - val_accuracy: 0.6460\n",
            "Epoch 46/200\n",
            "352/352 [==============================] - 2s 4ms/step - loss: 0.9023 - accuracy: 0.6845 - val_loss: 1.0263 - val_accuracy: 0.6444\n",
            "Epoch 47/200\n",
            "352/352 [==============================] - 2s 5ms/step - loss: 0.8999 - accuracy: 0.6846 - val_loss: 1.0314 - val_accuracy: 0.6436\n",
            "Epoch 48/200\n",
            "352/352 [==============================] - 2s 5ms/step - loss: 0.8963 - accuracy: 0.6871 - val_loss: 1.0316 - val_accuracy: 0.6420\n",
            "Epoch 49/200\n",
            "352/352 [==============================] - 2s 4ms/step - loss: 0.8934 - accuracy: 0.6874 - val_loss: 1.0361 - val_accuracy: 0.6420\n",
            "Epoch 50/200\n",
            "352/352 [==============================] - 2s 4ms/step - loss: 0.8954 - accuracy: 0.6880 - val_loss: 1.0494 - val_accuracy: 0.6368\n",
            "Epoch 51/200\n",
            "352/352 [==============================] - 2s 5ms/step - loss: 0.8898 - accuracy: 0.6876 - val_loss: 1.0384 - val_accuracy: 0.6456\n",
            "Epoch 52/200\n",
            "352/352 [==============================] - 2s 4ms/step - loss: 0.8903 - accuracy: 0.6911 - val_loss: 1.0426 - val_accuracy: 0.6422\n",
            "Epoch 53/200\n",
            "352/352 [==============================] - 2s 4ms/step - loss: 0.8850 - accuracy: 0.6916 - val_loss: 1.0178 - val_accuracy: 0.6456\n",
            "Epoch 54/200\n",
            "352/352 [==============================] - 2s 4ms/step - loss: 0.8837 - accuracy: 0.6922 - val_loss: 1.0336 - val_accuracy: 0.6412\n",
            "Epoch 55/200\n",
            "352/352 [==============================] - 2s 4ms/step - loss: 0.8825 - accuracy: 0.6930 - val_loss: 1.0243 - val_accuracy: 0.6468\n",
            "Epoch 56/200\n",
            "352/352 [==============================] - 2s 4ms/step - loss: 0.8815 - accuracy: 0.6941 - val_loss: 1.0290 - val_accuracy: 0.6466\n",
            "Epoch 57/200\n",
            "352/352 [==============================] - 2s 4ms/step - loss: 0.8804 - accuracy: 0.6932 - val_loss: 1.0373 - val_accuracy: 0.6442\n",
            "Epoch 58/200\n",
            "352/352 [==============================] - 2s 4ms/step - loss: 0.8741 - accuracy: 0.6942 - val_loss: 1.0326 - val_accuracy: 0.6396\n",
            "Epoch 59/200\n",
            "352/352 [==============================] - 2s 4ms/step - loss: 0.8754 - accuracy: 0.6954 - val_loss: 1.0154 - val_accuracy: 0.6480\n",
            "Epoch 60/200\n",
            "352/352 [==============================] - 2s 4ms/step - loss: 0.8708 - accuracy: 0.6966 - val_loss: 1.0288 - val_accuracy: 0.6466\n",
            "Epoch 61/200\n",
            "352/352 [==============================] - 2s 4ms/step - loss: 0.8686 - accuracy: 0.6981 - val_loss: 1.0220 - val_accuracy: 0.6466\n",
            "Epoch 62/200\n",
            "352/352 [==============================] - 2s 4ms/step - loss: 0.8696 - accuracy: 0.6947 - val_loss: 1.0437 - val_accuracy: 0.6412\n",
            "Epoch 63/200\n",
            "352/352 [==============================] - 2s 4ms/step - loss: 0.8684 - accuracy: 0.6974 - val_loss: 1.0478 - val_accuracy: 0.6388\n",
            "Epoch 64/200\n",
            "352/352 [==============================] - 2s 4ms/step - loss: 0.8667 - accuracy: 0.6974 - val_loss: 1.0198 - val_accuracy: 0.6492\n",
            "Epoch 65/200\n",
            "352/352 [==============================] - 2s 4ms/step - loss: 0.8607 - accuracy: 0.6988 - val_loss: 1.0275 - val_accuracy: 0.6452\n",
            "Epoch 66/200\n",
            "352/352 [==============================] - 2s 4ms/step - loss: 0.8568 - accuracy: 0.7021 - val_loss: 1.0208 - val_accuracy: 0.6520\n",
            "Epoch 67/200\n",
            "352/352 [==============================] - 2s 4ms/step - loss: 0.8630 - accuracy: 0.6999 - val_loss: 1.0295 - val_accuracy: 0.6368\n",
            "Epoch 68/200\n",
            "352/352 [==============================] - 2s 4ms/step - loss: 0.8578 - accuracy: 0.6998 - val_loss: 1.0422 - val_accuracy: 0.6434\n",
            "Epoch 69/200\n",
            "352/352 [==============================] - 2s 4ms/step - loss: 0.8576 - accuracy: 0.7010 - val_loss: 1.0378 - val_accuracy: 0.6522\n",
            "Epoch 70/200\n",
            "352/352 [==============================] - 2s 4ms/step - loss: 0.8530 - accuracy: 0.7008 - val_loss: 1.0094 - val_accuracy: 0.6478\n",
            "Epoch 71/200\n",
            "352/352 [==============================] - 2s 4ms/step - loss: 0.8507 - accuracy: 0.7010 - val_loss: 1.0232 - val_accuracy: 0.6516\n",
            "Epoch 72/200\n",
            "352/352 [==============================] - 2s 4ms/step - loss: 0.8499 - accuracy: 0.7018 - val_loss: 1.0442 - val_accuracy: 0.6390\n",
            "Epoch 73/200\n",
            "352/352 [==============================] - 2s 4ms/step - loss: 0.8490 - accuracy: 0.7033 - val_loss: 1.0158 - val_accuracy: 0.6528\n",
            "Epoch 74/200\n",
            "352/352 [==============================] - 2s 4ms/step - loss: 0.8482 - accuracy: 0.7035 - val_loss: 1.0209 - val_accuracy: 0.6494\n",
            "Epoch 75/200\n",
            "352/352 [==============================] - 2s 4ms/step - loss: 0.8444 - accuracy: 0.7034 - val_loss: 1.0446 - val_accuracy: 0.6450\n",
            "Epoch 76/200\n",
            "352/352 [==============================] - 2s 4ms/step - loss: 0.8415 - accuracy: 0.7055 - val_loss: 1.0252 - val_accuracy: 0.6458\n",
            "Epoch 77/200\n",
            "352/352 [==============================] - 2s 4ms/step - loss: 0.8436 - accuracy: 0.7062 - val_loss: 1.0090 - val_accuracy: 0.6490\n",
            "Epoch 78/200\n",
            "352/352 [==============================] - 2s 4ms/step - loss: 0.8414 - accuracy: 0.7044 - val_loss: 1.0372 - val_accuracy: 0.6400\n",
            "Epoch 79/200\n",
            "352/352 [==============================] - 2s 4ms/step - loss: 0.8403 - accuracy: 0.7071 - val_loss: 1.0257 - val_accuracy: 0.6504\n",
            "Epoch 80/200\n",
            "352/352 [==============================] - 2s 4ms/step - loss: 0.8394 - accuracy: 0.7064 - val_loss: 1.0290 - val_accuracy: 0.6460\n",
            "Epoch 81/200\n",
            "352/352 [==============================] - 2s 4ms/step - loss: 0.8363 - accuracy: 0.7069 - val_loss: 1.0162 - val_accuracy: 0.6530\n",
            "Epoch 82/200\n",
            "352/352 [==============================] - 2s 4ms/step - loss: 0.8337 - accuracy: 0.7066 - val_loss: 1.0129 - val_accuracy: 0.6594\n",
            "Epoch 83/200\n",
            "352/352 [==============================] - 2s 4ms/step - loss: 0.8350 - accuracy: 0.7080 - val_loss: 1.0445 - val_accuracy: 0.6388\n",
            "Epoch 84/200\n",
            "352/352 [==============================] - 2s 4ms/step - loss: 0.8327 - accuracy: 0.7087 - val_loss: 1.0201 - val_accuracy: 0.6504\n",
            "Epoch 85/200\n",
            "352/352 [==============================] - 2s 4ms/step - loss: 0.8329 - accuracy: 0.7102 - val_loss: 1.0286 - val_accuracy: 0.6488\n",
            "Epoch 86/200\n",
            "352/352 [==============================] - 2s 4ms/step - loss: 0.8302 - accuracy: 0.7103 - val_loss: 1.0240 - val_accuracy: 0.6522\n",
            "Epoch 87/200\n",
            "352/352 [==============================] - 2s 4ms/step - loss: 0.8294 - accuracy: 0.7090 - val_loss: 1.0196 - val_accuracy: 0.6530\n",
            "Epoch 88/200\n",
            "352/352 [==============================] - 2s 5ms/step - loss: 0.8270 - accuracy: 0.7108 - val_loss: 1.0316 - val_accuracy: 0.6446\n",
            "Epoch 89/200\n",
            "352/352 [==============================] - 2s 5ms/step - loss: 0.8269 - accuracy: 0.7120 - val_loss: 1.0460 - val_accuracy: 0.6432\n",
            "Epoch 90/200\n",
            "352/352 [==============================] - 2s 4ms/step - loss: 0.8274 - accuracy: 0.7112 - val_loss: 1.0416 - val_accuracy: 0.6424\n",
            "Epoch 91/200\n",
            "352/352 [==============================] - 2s 4ms/step - loss: 0.8266 - accuracy: 0.7102 - val_loss: 1.0327 - val_accuracy: 0.6454\n",
            "Epoch 92/200\n",
            "352/352 [==============================] - 2s 4ms/step - loss: 0.8257 - accuracy: 0.7122 - val_loss: 1.0178 - val_accuracy: 0.6548\n",
            "Epoch 93/200\n",
            "352/352 [==============================] - 2s 5ms/step - loss: 0.8239 - accuracy: 0.7125 - val_loss: 1.0350 - val_accuracy: 0.6464\n",
            "Epoch 94/200\n",
            "352/352 [==============================] - 2s 5ms/step - loss: 0.8214 - accuracy: 0.7125 - val_loss: 1.0261 - val_accuracy: 0.6508\n",
            "Epoch 95/200\n",
            "352/352 [==============================] - 2s 5ms/step - loss: 0.8179 - accuracy: 0.7146 - val_loss: 1.0377 - val_accuracy: 0.6452\n",
            "Epoch 96/200\n",
            "352/352 [==============================] - 2s 5ms/step - loss: 0.8170 - accuracy: 0.7144 - val_loss: 1.0500 - val_accuracy: 0.6474\n",
            "Epoch 97/200\n",
            "352/352 [==============================] - 2s 4ms/step - loss: 0.8177 - accuracy: 0.7116 - val_loss: 1.0154 - val_accuracy: 0.6568\n",
            "Epoch 98/200\n",
            "352/352 [==============================] - 2s 5ms/step - loss: 0.8175 - accuracy: 0.7146 - val_loss: 1.0501 - val_accuracy: 0.6440\n",
            "Epoch 99/200\n",
            "352/352 [==============================] - 2s 5ms/step - loss: 0.8176 - accuracy: 0.7121 - val_loss: 1.0230 - val_accuracy: 0.6498\n",
            "Epoch 100/200\n",
            "352/352 [==============================] - 2s 5ms/step - loss: 0.8159 - accuracy: 0.7150 - val_loss: 1.0478 - val_accuracy: 0.6476\n",
            "Epoch 101/200\n",
            "352/352 [==============================] - 2s 4ms/step - loss: 0.8138 - accuracy: 0.7143 - val_loss: 1.0402 - val_accuracy: 0.6482\n",
            "Epoch 102/200\n",
            "352/352 [==============================] - 2s 4ms/step - loss: 0.8129 - accuracy: 0.7151 - val_loss: 1.0241 - val_accuracy: 0.6580\n",
            "Epoch 103/200\n",
            "352/352 [==============================] - 2s 4ms/step - loss: 0.8098 - accuracy: 0.7173 - val_loss: 1.0346 - val_accuracy: 0.6444\n",
            "Epoch 104/200\n",
            "352/352 [==============================] - 2s 4ms/step - loss: 0.8085 - accuracy: 0.7181 - val_loss: 1.0362 - val_accuracy: 0.6498\n",
            "Epoch 105/200\n",
            "352/352 [==============================] - 2s 4ms/step - loss: 0.8052 - accuracy: 0.7183 - val_loss: 1.0219 - val_accuracy: 0.6534\n",
            "Epoch 106/200\n",
            "352/352 [==============================] - 2s 4ms/step - loss: 0.8102 - accuracy: 0.7161 - val_loss: 1.0248 - val_accuracy: 0.6540\n",
            "Epoch 107/200\n",
            "352/352 [==============================] - 2s 4ms/step - loss: 0.8063 - accuracy: 0.7174 - val_loss: 1.0402 - val_accuracy: 0.6494\n",
            "Epoch 108/200\n",
            "352/352 [==============================] - 2s 4ms/step - loss: 0.8024 - accuracy: 0.7186 - val_loss: 1.0212 - val_accuracy: 0.6490\n",
            "Epoch 109/200\n",
            "352/352 [==============================] - 2s 4ms/step - loss: 0.8040 - accuracy: 0.7189 - val_loss: 1.0129 - val_accuracy: 0.6534\n",
            "Epoch 110/200\n",
            "352/352 [==============================] - 2s 4ms/step - loss: 0.8011 - accuracy: 0.7191 - val_loss: 1.0630 - val_accuracy: 0.6418\n",
            "Epoch 111/200\n",
            "352/352 [==============================] - 2s 4ms/step - loss: 0.8010 - accuracy: 0.7184 - val_loss: 1.0094 - val_accuracy: 0.6574\n",
            "Epoch 112/200\n",
            "352/352 [==============================] - 2s 5ms/step - loss: 0.7990 - accuracy: 0.7205 - val_loss: 1.0367 - val_accuracy: 0.6442\n",
            "Epoch 113/200\n",
            "352/352 [==============================] - 2s 5ms/step - loss: 0.8013 - accuracy: 0.7192 - val_loss: 1.0248 - val_accuracy: 0.6526\n",
            "Epoch 114/200\n",
            "352/352 [==============================] - 2s 4ms/step - loss: 0.7993 - accuracy: 0.7200 - val_loss: 1.0324 - val_accuracy: 0.6436\n",
            "Epoch 115/200\n",
            "352/352 [==============================] - 2s 4ms/step - loss: 0.7961 - accuracy: 0.7201 - val_loss: 1.0147 - val_accuracy: 0.6524\n",
            "Epoch 116/200\n",
            "352/352 [==============================] - 2s 4ms/step - loss: 0.7993 - accuracy: 0.7194 - val_loss: 1.0709 - val_accuracy: 0.6360\n",
            "Epoch 117/200\n",
            "352/352 [==============================] - 2s 4ms/step - loss: 0.8010 - accuracy: 0.7188 - val_loss: 1.0285 - val_accuracy: 0.6510\n",
            "Epoch 118/200\n",
            "352/352 [==============================] - 2s 5ms/step - loss: 0.7898 - accuracy: 0.7238 - val_loss: 1.0217 - val_accuracy: 0.6514\n",
            "Epoch 119/200\n",
            "352/352 [==============================] - 2s 4ms/step - loss: 0.7947 - accuracy: 0.7231 - val_loss: 1.0278 - val_accuracy: 0.6502\n",
            "Epoch 120/200\n",
            "352/352 [==============================] - 2s 4ms/step - loss: 0.7910 - accuracy: 0.7216 - val_loss: 1.0263 - val_accuracy: 0.6506\n",
            "Epoch 121/200\n",
            "352/352 [==============================] - 2s 4ms/step - loss: 0.7937 - accuracy: 0.7209 - val_loss: 1.0505 - val_accuracy: 0.6448\n",
            "Epoch 122/200\n",
            "352/352 [==============================] - 2s 4ms/step - loss: 0.7884 - accuracy: 0.7230 - val_loss: 1.0251 - val_accuracy: 0.6508\n",
            "Epoch 123/200\n",
            "352/352 [==============================] - 2s 4ms/step - loss: 0.7900 - accuracy: 0.7242 - val_loss: 1.0294 - val_accuracy: 0.6466\n",
            "Epoch 124/200\n",
            "352/352 [==============================] - 2s 4ms/step - loss: 0.7927 - accuracy: 0.7224 - val_loss: 1.0371 - val_accuracy: 0.6488\n",
            "Epoch 125/200\n",
            "352/352 [==============================] - 2s 4ms/step - loss: 0.7892 - accuracy: 0.7233 - val_loss: 1.0275 - val_accuracy: 0.6476\n",
            "Epoch 126/200\n",
            "352/352 [==============================] - 2s 5ms/step - loss: 0.7889 - accuracy: 0.7228 - val_loss: 1.0275 - val_accuracy: 0.6532\n",
            "Epoch 127/200\n",
            "352/352 [==============================] - 2s 4ms/step - loss: 0.7884 - accuracy: 0.7238 - val_loss: 1.0340 - val_accuracy: 0.6486\n",
            "Epoch 128/200\n",
            "352/352 [==============================] - 2s 4ms/step - loss: 0.7877 - accuracy: 0.7233 - val_loss: 1.0362 - val_accuracy: 0.6478\n",
            "Epoch 129/200\n",
            "352/352 [==============================] - 2s 5ms/step - loss: 0.7863 - accuracy: 0.7250 - val_loss: 1.0258 - val_accuracy: 0.6504\n",
            "Epoch 130/200\n",
            "352/352 [==============================] - 2s 4ms/step - loss: 0.7861 - accuracy: 0.7253 - val_loss: 1.0203 - val_accuracy: 0.6546\n",
            "Epoch 131/200\n",
            "352/352 [==============================] - 2s 4ms/step - loss: 0.7853 - accuracy: 0.7262 - val_loss: 1.0281 - val_accuracy: 0.6488\n",
            "Epoch 132/200\n",
            "352/352 [==============================] - 2s 4ms/step - loss: 0.7845 - accuracy: 0.7276 - val_loss: 1.0230 - val_accuracy: 0.6528\n",
            "Epoch 133/200\n",
            "352/352 [==============================] - 2s 5ms/step - loss: 0.7821 - accuracy: 0.7265 - val_loss: 1.0277 - val_accuracy: 0.6520\n",
            "Epoch 134/200\n",
            "352/352 [==============================] - 2s 5ms/step - loss: 0.7811 - accuracy: 0.7258 - val_loss: 1.0250 - val_accuracy: 0.6494\n",
            "Epoch 135/200\n",
            "352/352 [==============================] - 2s 5ms/step - loss: 0.7850 - accuracy: 0.7254 - val_loss: 1.0251 - val_accuracy: 0.6484\n",
            "Epoch 136/200\n",
            "352/352 [==============================] - 2s 5ms/step - loss: 0.7806 - accuracy: 0.7277 - val_loss: 1.0292 - val_accuracy: 0.6548\n",
            "Epoch 137/200\n",
            "352/352 [==============================] - 2s 5ms/step - loss: 0.7776 - accuracy: 0.7277 - val_loss: 1.0578 - val_accuracy: 0.6424\n",
            "Epoch 138/200\n",
            "352/352 [==============================] - 2s 5ms/step - loss: 0.7832 - accuracy: 0.7263 - val_loss: 1.0246 - val_accuracy: 0.6480\n",
            "Epoch 139/200\n",
            "352/352 [==============================] - 2s 4ms/step - loss: 0.7758 - accuracy: 0.7271 - val_loss: 1.0372 - val_accuracy: 0.6486\n",
            "Epoch 140/200\n",
            "352/352 [==============================] - 2s 4ms/step - loss: 0.7792 - accuracy: 0.7264 - val_loss: 1.0357 - val_accuracy: 0.6494\n",
            "Epoch 141/200\n",
            "352/352 [==============================] - 2s 4ms/step - loss: 0.7775 - accuracy: 0.7268 - val_loss: 1.0417 - val_accuracy: 0.6504\n",
            "Epoch 142/200\n",
            "352/352 [==============================] - 2s 4ms/step - loss: 0.7752 - accuracy: 0.7293 - val_loss: 1.0377 - val_accuracy: 0.6490\n",
            "Epoch 143/200\n",
            "352/352 [==============================] - 2s 5ms/step - loss: 0.7769 - accuracy: 0.7286 - val_loss: 1.0271 - val_accuracy: 0.6548\n",
            "Epoch 144/200\n",
            "352/352 [==============================] - 2s 5ms/step - loss: 0.7736 - accuracy: 0.7300 - val_loss: 1.0333 - val_accuracy: 0.6518\n",
            "Epoch 145/200\n",
            "352/352 [==============================] - 2s 5ms/step - loss: 0.7736 - accuracy: 0.7277 - val_loss: 1.0320 - val_accuracy: 0.6534\n",
            "Epoch 146/200\n",
            "352/352 [==============================] - 2s 5ms/step - loss: 0.7753 - accuracy: 0.7270 - val_loss: 1.0322 - val_accuracy: 0.6522\n",
            "Epoch 147/200\n",
            "352/352 [==============================] - 2s 4ms/step - loss: 0.7725 - accuracy: 0.7291 - val_loss: 1.0355 - val_accuracy: 0.6524\n",
            "Epoch 148/200\n",
            "352/352 [==============================] - 2s 4ms/step - loss: 0.7721 - accuracy: 0.7294 - val_loss: 1.0547 - val_accuracy: 0.6468\n",
            "Epoch 149/200\n",
            "352/352 [==============================] - 2s 4ms/step - loss: 0.7740 - accuracy: 0.7283 - val_loss: 1.0311 - val_accuracy: 0.6554\n",
            "Epoch 150/200\n",
            "352/352 [==============================] - 2s 5ms/step - loss: 0.7699 - accuracy: 0.7291 - val_loss: 1.0373 - val_accuracy: 0.6510\n",
            "Epoch 151/200\n",
            "352/352 [==============================] - 2s 4ms/step - loss: 0.7728 - accuracy: 0.7295 - val_loss: 1.0355 - val_accuracy: 0.6456\n",
            "Epoch 152/200\n",
            "352/352 [==============================] - 2s 4ms/step - loss: 0.7710 - accuracy: 0.7308 - val_loss: 1.0350 - val_accuracy: 0.6496\n",
            "Epoch 153/200\n",
            "352/352 [==============================] - 2s 4ms/step - loss: 0.7675 - accuracy: 0.7314 - val_loss: 1.0372 - val_accuracy: 0.6520\n",
            "Epoch 154/200\n",
            "352/352 [==============================] - 2s 4ms/step - loss: 0.7707 - accuracy: 0.7298 - val_loss: 1.0561 - val_accuracy: 0.6420\n",
            "Epoch 155/200\n",
            "352/352 [==============================] - 2s 4ms/step - loss: 0.7684 - accuracy: 0.7305 - val_loss: 1.0339 - val_accuracy: 0.6510\n",
            "Epoch 156/200\n",
            "352/352 [==============================] - 2s 4ms/step - loss: 0.7710 - accuracy: 0.7295 - val_loss: 1.0460 - val_accuracy: 0.6468\n",
            "Epoch 157/200\n",
            "352/352 [==============================] - 2s 4ms/step - loss: 0.7688 - accuracy: 0.7302 - val_loss: 1.0396 - val_accuracy: 0.6508\n",
            "Epoch 158/200\n",
            "352/352 [==============================] - 2s 4ms/step - loss: 0.7687 - accuracy: 0.7303 - val_loss: 1.0356 - val_accuracy: 0.6492\n",
            "Epoch 159/200\n",
            "352/352 [==============================] - 2s 4ms/step - loss: 0.7726 - accuracy: 0.7292 - val_loss: 1.0522 - val_accuracy: 0.6476\n",
            "Epoch 160/200\n",
            "352/352 [==============================] - 2s 4ms/step - loss: 0.7662 - accuracy: 0.7314 - val_loss: 1.0606 - val_accuracy: 0.6418\n",
            "Epoch 161/200\n",
            "352/352 [==============================] - 2s 4ms/step - loss: 0.7650 - accuracy: 0.7321 - val_loss: 1.0518 - val_accuracy: 0.6482\n",
            "Epoch 162/200\n",
            "352/352 [==============================] - 2s 4ms/step - loss: 0.7641 - accuracy: 0.7326 - val_loss: 1.0422 - val_accuracy: 0.6498\n",
            "Epoch 163/200\n",
            "352/352 [==============================] - 2s 4ms/step - loss: 0.7631 - accuracy: 0.7327 - val_loss: 1.0550 - val_accuracy: 0.6456\n",
            "Epoch 164/200\n",
            "352/352 [==============================] - 2s 4ms/step - loss: 0.7638 - accuracy: 0.7309 - val_loss: 1.0347 - val_accuracy: 0.6504\n",
            "Epoch 165/200\n",
            "352/352 [==============================] - 2s 4ms/step - loss: 0.7651 - accuracy: 0.7316 - val_loss: 1.0345 - val_accuracy: 0.6490\n",
            "Epoch 166/200\n",
            "352/352 [==============================] - 2s 4ms/step - loss: 0.7635 - accuracy: 0.7305 - val_loss: 1.0412 - val_accuracy: 0.6490\n",
            "Epoch 167/200\n",
            "352/352 [==============================] - 2s 4ms/step - loss: 0.7620 - accuracy: 0.7329 - val_loss: 1.0528 - val_accuracy: 0.6512\n",
            "Epoch 168/200\n",
            "352/352 [==============================] - 2s 4ms/step - loss: 0.7629 - accuracy: 0.7319 - val_loss: 1.0507 - val_accuracy: 0.6436\n",
            "Epoch 169/200\n",
            "352/352 [==============================] - 2s 4ms/step - loss: 0.7618 - accuracy: 0.7314 - val_loss: 1.0659 - val_accuracy: 0.6434\n",
            "Epoch 170/200\n",
            "352/352 [==============================] - 2s 4ms/step - loss: 0.7667 - accuracy: 0.7303 - val_loss: 1.0490 - val_accuracy: 0.6438\n",
            "Epoch 171/200\n",
            "352/352 [==============================] - 2s 4ms/step - loss: 0.7573 - accuracy: 0.7345 - val_loss: 1.0717 - val_accuracy: 0.6438\n",
            "Epoch 172/200\n",
            "352/352 [==============================] - 2s 4ms/step - loss: 0.7628 - accuracy: 0.7305 - val_loss: 1.0480 - val_accuracy: 0.6514\n",
            "Epoch 173/200\n",
            "352/352 [==============================] - 2s 4ms/step - loss: 0.7580 - accuracy: 0.7341 - val_loss: 1.0727 - val_accuracy: 0.6408\n",
            "Epoch 174/200\n",
            "352/352 [==============================] - 2s 4ms/step - loss: 0.7619 - accuracy: 0.7314 - val_loss: 1.0393 - val_accuracy: 0.6488\n",
            "Epoch 175/200\n",
            "352/352 [==============================] - 2s 4ms/step - loss: 0.7595 - accuracy: 0.7345 - val_loss: 1.0578 - val_accuracy: 0.6506\n",
            "Epoch 176/200\n",
            "352/352 [==============================] - 2s 4ms/step - loss: 0.7571 - accuracy: 0.7346 - val_loss: 1.0518 - val_accuracy: 0.6474\n",
            "Epoch 177/200\n",
            "352/352 [==============================] - 2s 4ms/step - loss: 0.7584 - accuracy: 0.7331 - val_loss: 1.0445 - val_accuracy: 0.6480\n",
            "Epoch 178/200\n",
            "352/352 [==============================] - 2s 4ms/step - loss: 0.7559 - accuracy: 0.7352 - val_loss: 1.0544 - val_accuracy: 0.6496\n",
            "Epoch 179/200\n",
            "352/352 [==============================] - 2s 4ms/step - loss: 0.7560 - accuracy: 0.7348 - val_loss: 1.0434 - val_accuracy: 0.6480\n",
            "Epoch 180/200\n",
            "352/352 [==============================] - 2s 4ms/step - loss: 0.7582 - accuracy: 0.7343 - val_loss: 1.0584 - val_accuracy: 0.6406\n",
            "Epoch 181/200\n",
            "352/352 [==============================] - 2s 4ms/step - loss: 0.7547 - accuracy: 0.7337 - val_loss: 1.0575 - val_accuracy: 0.6426\n",
            "Epoch 182/200\n",
            "352/352 [==============================] - 2s 4ms/step - loss: 0.7536 - accuracy: 0.7358 - val_loss: 1.0564 - val_accuracy: 0.6510\n",
            "Epoch 183/200\n",
            "352/352 [==============================] - 2s 4ms/step - loss: 0.7531 - accuracy: 0.7352 - val_loss: 1.0658 - val_accuracy: 0.6484\n",
            "Epoch 184/200\n",
            "352/352 [==============================] - 2s 4ms/step - loss: 0.7551 - accuracy: 0.7338 - val_loss: 1.0547 - val_accuracy: 0.6446\n",
            "Epoch 185/200\n",
            "352/352 [==============================] - 2s 4ms/step - loss: 0.7518 - accuracy: 0.7348 - val_loss: 1.0622 - val_accuracy: 0.6450\n",
            "Epoch 186/200\n",
            "352/352 [==============================] - 2s 4ms/step - loss: 0.7542 - accuracy: 0.7347 - val_loss: 1.0557 - val_accuracy: 0.6480\n",
            "Epoch 187/200\n",
            "352/352 [==============================] - 2s 4ms/step - loss: 0.7553 - accuracy: 0.7356 - val_loss: 1.0606 - val_accuracy: 0.6376\n",
            "Epoch 188/200\n",
            "352/352 [==============================] - 2s 4ms/step - loss: 0.7584 - accuracy: 0.7328 - val_loss: 1.0741 - val_accuracy: 0.6432\n",
            "Epoch 189/200\n",
            "352/352 [==============================] - 2s 4ms/step - loss: 0.7556 - accuracy: 0.7350 - val_loss: 1.0672 - val_accuracy: 0.6432\n",
            "Epoch 190/200\n",
            "352/352 [==============================] - 2s 4ms/step - loss: 0.7522 - accuracy: 0.7359 - val_loss: 1.0441 - val_accuracy: 0.6508\n",
            "Epoch 191/200\n",
            "352/352 [==============================] - 2s 4ms/step - loss: 0.7481 - accuracy: 0.7368 - val_loss: 1.0464 - val_accuracy: 0.6528\n",
            "Epoch 192/200\n",
            "352/352 [==============================] - 2s 4ms/step - loss: 0.7491 - accuracy: 0.7365 - val_loss: 1.0919 - val_accuracy: 0.6390\n",
            "Epoch 193/200\n",
            "352/352 [==============================] - 2s 4ms/step - loss: 0.7505 - accuracy: 0.7348 - val_loss: 1.0493 - val_accuracy: 0.6458\n",
            "Epoch 194/200\n",
            "352/352 [==============================] - 2s 4ms/step - loss: 0.7499 - accuracy: 0.7380 - val_loss: 1.0656 - val_accuracy: 0.6428\n",
            "Epoch 195/200\n",
            "352/352 [==============================] - 2s 4ms/step - loss: 0.7506 - accuracy: 0.7353 - val_loss: 1.0491 - val_accuracy: 0.6444\n",
            "Epoch 196/200\n",
            "352/352 [==============================] - 2s 4ms/step - loss: 0.7495 - accuracy: 0.7354 - val_loss: 1.0643 - val_accuracy: 0.6460\n",
            "Epoch 197/200\n",
            "352/352 [==============================] - 2s 4ms/step - loss: 0.7479 - accuracy: 0.7379 - val_loss: 1.0453 - val_accuracy: 0.6502\n",
            "Epoch 198/200\n",
            "352/352 [==============================] - 2s 4ms/step - loss: 0.7438 - accuracy: 0.7381 - val_loss: 1.0627 - val_accuracy: 0.6508\n",
            "Epoch 199/200\n",
            "352/352 [==============================] - 2s 4ms/step - loss: 0.7505 - accuracy: 0.7357 - val_loss: 1.0425 - val_accuracy: 0.6556\n",
            "Epoch 200/200\n",
            "352/352 [==============================] - 2s 5ms/step - loss: 0.7479 - accuracy: 0.7374 - val_loss: 1.0676 - val_accuracy: 0.6484\n"
          ]
        }
      ]
    },
    {
      "cell_type": "markdown",
      "source": [
        "####Graph for Model 1"
      ],
      "metadata": {
        "id": "wol2TRjJtW0F"
      }
    },
    {
      "cell_type": "code",
      "source": [
        "import matplotlib.pyplot as plt\n",
        "\n",
        "plt.plot(range(1,201),history.history['val_accuracy'],color='red')\n",
        "plt.legend(['Validation'])\n",
        "plt.xlabel('epochs')\n",
        "plt.ylabel('accuracy')\n",
        "plt.show()"
      ],
      "metadata": {
        "colab": {
          "base_uri": "https://localhost:8080/",
          "height": 279
        },
        "id": "U1yZtgtItZX3",
        "outputId": "ca7783a4-5b75-4fa0-f41f-98ee3224ec62"
      },
      "execution_count": null,
      "outputs": [
        {
          "output_type": "display_data",
          "data": {
            "text/plain": [
              "<Figure size 432x288 with 1 Axes>"
            ],
            "image/png": "[encoded data removed]"
          },
          "metadata": {
            "needs_background": "light"
          }
        }
      ]
    },
    {
      "cell_type": "markdown",
      "source": [
        "####Graph Train vs Test Model 1"
      ],
      "metadata": {
        "id": "oE2jwdwjuyln"
      }
    },
    {
      "cell_type": "code",
      "source": [
        "import matplotlib.pyplot as plt\n",
        "\n",
        "plt.plot(range(1,201),history.history['accuracy'],color='blue')\n",
        "plt.plot(range(1,201),history.history['val_accuracy'],color='red')\n",
        "plt.legend(['Train','Validation'])\n",
        "plt.xlabel('epochs')\n",
        "plt.ylabel('accuracy')\n",
        "plt.show()"
      ],
      "metadata": {
        "colab": {
          "base_uri": "https://localhost:8080/",
          "height": 279
        },
        "id": "mDcPMDRpumzM",
        "outputId": "14e8446f-e38a-4eed-932b-b88350decb7f"
      },
      "execution_count": null,
      "outputs": [
        {
          "output_type": "display_data",
          "data": {
            "text/plain": [
              "<Figure size 432x288 with 1 Axes>"
            ],
            "image/png": "[encoded data removed]"
          },
          "metadata": {
            "needs_background": "light"
          }
        }
      ]
    },
    {
      "cell_type": "code",
      "source": [
        "import matplotlib.pyplot as plt\n",
        "\n",
        "plt.plot(range(1,201),history.history['val_accuracy'],color='red')\n",
        "plt.legend(['Validation'])\n",
        "plt.xlabel('epochs')\n",
        "plt.ylabel('accuracy')\n",
        "plt.show()"
      ],
      "metadata": {
        "colab": {
          "base_uri": "https://localhost:8080/",
          "height": 279
        },
        "id": "INOZ1R-nuZWA",
        "outputId": "d07d96b1-5f55-4390-bfdd-8aa696accc83"
      },
      "execution_count": null,
      "outputs": [
        {
          "output_type": "display_data",
          "data": {
            "text/plain": [
              "<Figure size 432x288 with 1 Axes>"
            ],
            "image/png": "[encoded data removed]"
          },
          "metadata": {
            "needs_background": "light"
          }
        }
      ]
    },
    {
      "cell_type": "markdown",
      "source": [
        "##Augmentation\n",
        "\n",
        "Make sure Data is in range of [0,1]"
      ],
      "metadata": {
        "id": "NBnjK4BJWBPL"
      }
    },
    {
      "cell_type": "markdown",
      "source": [
        "###Dataset 1\n",
        "\n",
        "Brighten every pixel in every image by 10%, e.g., by multiplying 1.1. Make sure though, that they don’t exceed 1. For example, you may want to do something like this: np.minimum(1.1*X, 1)."
      ],
      "metadata": {
        "id": "ADxNmr6fWT4B"
      }
    },
    {
      "cell_type": "code",
      "source": [
        "aug_ds1 = np.minimum(1.1*X_train_norm, 1)"
      ],
      "metadata": {
        "id": "oXAkPh89VYO5"
      },
      "execution_count": null,
      "outputs": []
    },
    {
      "cell_type": "code",
      "source": [
        "print('Min: %.3f, Max: %.3f' % (aug_ds1.min(), aug_ds1.max()))"
      ],
      "metadata": {
        "colab": {
          "base_uri": "https://localhost:8080/"
        },
        "id": "WK7Xw-wgZpjx",
        "outputId": "ecdd12e2-9c62-4971-933f-e4434491f074"
      },
      "execution_count": null,
      "outputs": [
        {
          "output_type": "stream",
          "name": "stdout",
          "text": [
            "Min: 0.000, Max: 1.000\n"
          ]
        }
      ]
    },
    {
      "cell_type": "code",
      "source": [
        "aug_ds1 = tf.convert_to_tensor(aug_ds1)"
      ],
      "metadata": {
        "id": "alye1YTtYpOu"
      },
      "execution_count": null,
      "outputs": []
    },
    {
      "cell_type": "markdown",
      "source": [
        "###Dataset 2\n",
        "\n",
        "Darken every pixel in every image by 10%, e.g., by multiplying 0.9"
      ],
      "metadata": {
        "id": "tS8Mu2l2WwTR"
      }
    },
    {
      "cell_type": "code",
      "source": [
        "aug_ds2 = X_train_norm * 0.9"
      ],
      "metadata": {
        "id": "i6RAoSX0W9LW"
      },
      "execution_count": null,
      "outputs": []
    },
    {
      "cell_type": "code",
      "source": [
        "aug_ds2 = tf.convert_to_tensor(aug_ds2)"
      ],
      "metadata": {
        "id": "aYs16Y6-Yv_D"
      },
      "execution_count": null,
      "outputs": []
    },
    {
      "cell_type": "markdown",
      "source": [
        "###Dataset 3 \n",
        "\n",
        "Flip all images horizontally (not upside down, but in the left-right direction). As if they are mirrored."
      ],
      "metadata": {
        "id": "ItsG9Ns6WyNX"
      }
    },
    {
      "cell_type": "code",
      "source": [
        "aug_ds3  = tf.convert_to_tensor(X_train_norm)"
      ],
      "metadata": {
        "id": "sc3hheX6nOM6"
      },
      "execution_count": null,
      "outputs": []
    },
    {
      "cell_type": "code",
      "source": [
        "aug_ds3 = tf.image.flip_left_right(aug_ds3)"
      ],
      "metadata": {
        "id": "FPDMkmalX6zo"
      },
      "execution_count": null,
      "outputs": []
    },
    {
      "cell_type": "markdown",
      "source": [
        "###Dataset 4\n",
        "The original training set."
      ],
      "metadata": {
        "id": "_1akBSvjYHVB"
      }
    },
    {
      "cell_type": "code",
      "source": [
        "aug_ds4 = X_train_norm"
      ],
      "metadata": {
        "id": "gOp3aTeCYMt9"
      },
      "execution_count": null,
      "outputs": []
    },
    {
      "cell_type": "code",
      "source": [
        "aug_ds4 = tf.convert_to_tensor(aug_ds4)"
      ],
      "metadata": {
        "id": "vDfX_z2ZY5hA"
      },
      "execution_count": null,
      "outputs": []
    },
    {
      "cell_type": "markdown",
      "source": [
        "### Rescaling all Datasets to [-1,1]\n",
        "\n",
        "Refernce : https://stackoverflow.com/questions/38376478/changing-the-scale-of-a-tensor-in-tensorflow"
      ],
      "metadata": {
        "id": "wCVNVXp2ZMxp"
      }
    },
    {
      "cell_type": "code",
      "source": [
        "def rescale(data):\n",
        "  data = tf.math.divide(\n",
        "   tf.subtract(\n",
        "      data, \n",
        "      tf.reduce_min(data)\n",
        "   ), \n",
        "   tf.subtract(\n",
        "      tf.reduce_max(data), \n",
        "      tf.reduce_min(data)\n",
        "   )\n",
        "  )\n",
        "  return 2*data-1\n"
      ],
      "metadata": {
        "id": "PaTa5OhfaZQa"
      },
      "execution_count": null,
      "outputs": []
    },
    {
      "cell_type": "markdown",
      "source": [
        "I was encountering this error if i rescaled without casting to float32 : failed to allocate memory [Op:RealDiv]"
      ],
      "metadata": {
        "id": "rrDGwWlTgYtm"
      }
    },
    {
      "cell_type": "code",
      "source": [
        "aug_ds1 = tf.cast(aug_ds1,tf.float32)\n",
        "aug_ds2 = tf.cast(aug_ds2,tf.float32)\n",
        "aug_ds3 = tf.cast(aug_ds3,tf.float32)\n",
        "aug_ds4 = tf.cast(aug_ds4,tf.float32)"
      ],
      "metadata": {
        "id": "t2n1fFJ-f8nV"
      },
      "execution_count": null,
      "outputs": []
    },
    {
      "cell_type": "code",
      "source": [
        "aug_ds1_cen = rescale(aug_ds1)\n",
        "aug_ds2_cen = rescale(aug_ds2)\n",
        "aug_ds3_cen = rescale(aug_ds3)\n",
        "aug_ds4_cen = rescale(aug_ds4)"
      ],
      "metadata": {
        "id": "-zKg_PJPdCYc"
      },
      "execution_count": null,
      "outputs": []
    },
    {
      "cell_type": "code",
      "source": [
        "X_val_tensor = rescale(X_val_cen)"
      ],
      "metadata": {
        "id": "15btNO2Orr9h"
      },
      "execution_count": null,
      "outputs": []
    },
    {
      "cell_type": "markdown",
      "source": [
        "####Concat Data\n",
        "Ref: https://www.tensorflow.org/api_docs/python/tf/concat"
      ],
      "metadata": {
        "id": "tIe-fy_1gt_Z"
      }
    },
    {
      "cell_type": "code",
      "source": [
        "X_aug_train = tf.concat([aug_ds1_cen, aug_ds2_cen,aug_ds3_cen,aug_ds4_cen], 0)"
      ],
      "metadata": {
        "id": "MAETaX_ifTiw"
      },
      "execution_count": null,
      "outputs": []
    },
    {
      "cell_type": "code",
      "source": [
        "X_aug_train.shape"
      ],
      "metadata": {
        "colab": {
          "base_uri": "https://localhost:8080/"
        },
        "id": "hMf8iiSShE7g",
        "outputId": "862bbeff-b607-415c-99f8-d153e2288bae"
      },
      "execution_count": null,
      "outputs": [
        {
          "output_type": "execute_result",
          "data": {
            "text/plain": [
              "TensorShape([180000, 32, 32, 3])"
            ]
          },
          "metadata": {},
          "execution_count": 39
        }
      ]
    },
    {
      "cell_type": "code",
      "source": [
        "y_aug_train = tf.concat([y_train, y_train,y_train,y_train], 0)"
      ],
      "metadata": {
        "id": "acDQLhhIi-l4"
      },
      "execution_count": null,
      "outputs": []
    },
    {
      "cell_type": "code",
      "source": [
        "y_aug_train.shape"
      ],
      "metadata": {
        "colab": {
          "base_uri": "https://localhost:8080/"
        },
        "id": "VZE5nmeKjN6h",
        "outputId": "55dcbc8b-f62e-488b-8a5c-3ff1682c12ba"
      },
      "execution_count": null,
      "outputs": [
        {
          "output_type": "execute_result",
          "data": {
            "text/plain": [
              "TensorShape([180000, 1])"
            ]
          },
          "metadata": {},
          "execution_count": 41
        }
      ]
    },
    {
      "cell_type": "markdown",
      "source": [
        "###Visualize Data"
      ],
      "metadata": {
        "id": "ZBRq31LQhiOq"
      }
    },
    {
      "cell_type": "code",
      "source": [
        "import matplotlib.pyplot as plt\n",
        "\n",
        "plt.imshow(X_aug_train[100])\n",
        "plt.title('Brightened image')\n",
        "plt.show()"
      ],
      "metadata": {
        "colab": {
          "base_uri": "https://localhost:8080/",
          "height": 318
        },
        "id": "9Bv034IBhn6a",
        "outputId": "0220aaf4-a88f-4676-d01e-14dad208006e"
      },
      "execution_count": null,
      "outputs": [
        {
          "output_type": "stream",
          "name": "stderr",
          "text": [
            "WARNING:matplotlib.image:Clipping input data to the valid range for imshow with RGB data ([0..1] for floats or [0..255] for integers).\n"
          ]
        },
        {
          "output_type": "display_data",
          "data": {
            "text/plain": [
              "<Figure size 432x288 with 1 Axes>"
            ],
            "image/png": "[encoded data removed]"
          },
          "metadata": {
            "needs_background": "light"
          }
        }
      ]
    },
    {
      "cell_type": "code",
      "source": [
        "import matplotlib.pyplot as plt\n",
        "\n",
        "plt.imshow(X_aug_train[45000+100])\n",
        "plt.title('Darken image')\n",
        "plt.show()"
      ],
      "metadata": {
        "colab": {
          "base_uri": "https://localhost:8080/",
          "height": 318
        },
        "id": "Xd3_-tLah7tH",
        "outputId": "e8f9c149-47ae-466e-ce10-c6036afff535"
      },
      "execution_count": null,
      "outputs": [
        {
          "output_type": "stream",
          "name": "stderr",
          "text": [
            "WARNING:matplotlib.image:Clipping input data to the valid range for imshow with RGB data ([0..1] for floats or [0..255] for integers).\n"
          ]
        },
        {
          "output_type": "display_data",
          "data": {
            "text/plain": [
              "<Figure size 432x288 with 1 Axes>"
            ],
            "image/png": "[encoded data removed]"
          },
          "metadata": {
            "needs_background": "light"
          }
        }
      ]
    },
    {
      "cell_type": "code",
      "source": [
        "import matplotlib.pyplot as plt\n",
        "\n",
        "plt.imshow(X_aug_train[(2*45000)+100])\n",
        "plt.title('Left to Right image')\n",
        "plt.show()"
      ],
      "metadata": {
        "colab": {
          "base_uri": "https://localhost:8080/",
          "height": 318
        },
        "id": "_ZjQlt-fiGvJ",
        "outputId": "7bbdaecf-be85-4f13-b192-5e619d2a5c74"
      },
      "execution_count": null,
      "outputs": [
        {
          "output_type": "stream",
          "name": "stderr",
          "text": [
            "WARNING:matplotlib.image:Clipping input data to the valid range for imshow with RGB data ([0..1] for floats or [0..255] for integers).\n"
          ]
        },
        {
          "output_type": "display_data",
          "data": {
            "text/plain": [
              "<Figure size 432x288 with 1 Axes>"
            ],
            "image/png": "[encoded data removed]"
          },
          "metadata": {
            "needs_background": "light"
          }
        }
      ]
    },
    {
      "cell_type": "code",
      "source": [
        "import matplotlib.pyplot as plt\n",
        "\n",
        "plt.imshow(X_aug_train[(3*45000)+100])\n",
        "plt.title('Image')\n",
        "plt.show()"
      ],
      "metadata": {
        "colab": {
          "base_uri": "https://localhost:8080/",
          "height": 318
        },
        "id": "B3pUvZQYiPzx",
        "outputId": "14c5f8cd-78e6-46fd-bff8-018836d1905d"
      },
      "execution_count": null,
      "outputs": [
        {
          "output_type": "stream",
          "name": "stderr",
          "text": [
            "WARNING:matplotlib.image:Clipping input data to the valid range for imshow with RGB data ([0..1] for floats or [0..255] for integers).\n"
          ]
        },
        {
          "output_type": "display_data",
          "data": {
            "text/plain": [
              "<Figure size 432x288 with 1 Axes>"
            ],
            "image/png": "[encoded data removed]"
          },
          "metadata": {
            "needs_background": "light"
          }
        }
      ]
    },
    {
      "cell_type": "markdown",
      "source": [
        "###Retrain Model on Augmented Data"
      ],
      "metadata": {
        "id": "djbc8zWoiamE"
      }
    },
    {
      "cell_type": "code",
      "source": [
        "model2 = keras.Sequential([\n",
        "    keras.layers.Conv2D(filters = 10,kernel_size = (5,5),strides = 1, activation = 'relu',data_format='channels_last',input_shape=(32,32,3)),\n",
        "    keras.layers.MaxPool2D(pool_size = (2,2),strides = 2),\n",
        "    keras.layers.Conv2D(filters = 10,kernel_size = (5,5),strides = 1, activation = 'relu',data_format='channels_last' ),\n",
        "    keras.layers.MaxPool2D(pool_size = (2,2),strides = 2),\n",
        "    keras.layers.Flatten(),\n",
        "    keras.layers.Dense(units = 20, activation = 'relu', kernel_initializer='he_normal'),\n",
        "    keras.layers.Dense(units = 10, activation = 'softmax', kernel_initializer = 'he_normal')\n",
        "])"
      ],
      "metadata": {
        "id": "VTb2nZDIiggP"
      },
      "execution_count": null,
      "outputs": []
    },
    {
      "cell_type": "code",
      "source": [
        "model2.compile(optimizer='adam',loss='sparse_categorical_crossentropy',metrics=['accuracy'])"
      ],
      "metadata": {
        "id": "Ku4LdGZDir53"
      },
      "execution_count": null,
      "outputs": []
    },
    {
      "cell_type": "code",
      "source": [
        "history2 = model2.fit(X_aug_train, y_aug_train, validation_data=(X_val_tensor, y_val), batch_size=512, epochs=200)"
      ],
      "metadata": {
        "colab": {
          "base_uri": "https://localhost:8080/"
        },
        "id": "CgAQIoWlivsp",
        "outputId": "df255c86-8dcf-40af-b929-e51f97807eaa"
      },
      "execution_count": null,
      "outputs": [
        {
          "output_type": "stream",
          "name": "stdout",
          "text": [
            "Epoch 1/200\n",
            "352/352 [==============================] - 3s 9ms/step - loss: 1.6902 - accuracy: 0.3853 - val_loss: 1.4771 - val_accuracy: 0.4652\n",
            "Epoch 2/200\n",
            "352/352 [==============================] - 3s 8ms/step - loss: 1.4086 - accuracy: 0.4922 - val_loss: 1.3767 - val_accuracy: 0.5018\n",
            "Epoch 3/200\n",
            "352/352 [==============================] - 3s 8ms/step - loss: 1.3085 - accuracy: 0.5322 - val_loss: 1.2978 - val_accuracy: 0.5308\n",
            "Epoch 4/200\n",
            "352/352 [==============================] - 3s 8ms/step - loss: 1.2407 - accuracy: 0.5598 - val_loss: 1.2420 - val_accuracy: 0.5498\n",
            "Epoch 5/200\n",
            "352/352 [==============================] - 3s 8ms/step - loss: 1.1868 - accuracy: 0.5799 - val_loss: 1.1878 - val_accuracy: 0.5772\n",
            "Epoch 6/200\n",
            "352/352 [==============================] - 3s 8ms/step - loss: 1.1469 - accuracy: 0.5960 - val_loss: 1.1622 - val_accuracy: 0.5972\n",
            "Epoch 7/200\n",
            "352/352 [==============================] - 3s 8ms/step - loss: 1.1158 - accuracy: 0.6089 - val_loss: 1.1321 - val_accuracy: 0.6002\n",
            "Epoch 8/200\n",
            "352/352 [==============================] - 3s 8ms/step - loss: 1.0909 - accuracy: 0.6187 - val_loss: 1.1308 - val_accuracy: 0.6038\n",
            "Epoch 9/200\n",
            "352/352 [==============================] - 3s 8ms/step - loss: 1.0718 - accuracy: 0.6257 - val_loss: 1.1067 - val_accuracy: 0.6144\n",
            "Epoch 10/200\n",
            "352/352 [==============================] - 3s 8ms/step - loss: 1.0560 - accuracy: 0.6313 - val_loss: 1.0909 - val_accuracy: 0.6154\n",
            "Epoch 11/200\n",
            "352/352 [==============================] - 3s 8ms/step - loss: 1.0425 - accuracy: 0.6365 - val_loss: 1.0867 - val_accuracy: 0.6194\n",
            "Epoch 12/200\n",
            "352/352 [==============================] - 3s 8ms/step - loss: 1.0306 - accuracy: 0.6404 - val_loss: 1.0852 - val_accuracy: 0.6218\n",
            "Epoch 13/200\n",
            "352/352 [==============================] - 3s 8ms/step - loss: 1.0205 - accuracy: 0.6441 - val_loss: 1.0748 - val_accuracy: 0.6252\n",
            "Epoch 14/200\n",
            "352/352 [==============================] - 3s 8ms/step - loss: 1.0136 - accuracy: 0.6477 - val_loss: 1.0659 - val_accuracy: 0.6270\n",
            "Epoch 15/200\n",
            "352/352 [==============================] - 3s 8ms/step - loss: 1.0038 - accuracy: 0.6499 - val_loss: 1.0635 - val_accuracy: 0.6294\n",
            "Epoch 16/200\n",
            "352/352 [==============================] - 3s 8ms/step - loss: 0.9970 - accuracy: 0.6532 - val_loss: 1.0601 - val_accuracy: 0.6298\n",
            "Epoch 17/200\n",
            "352/352 [==============================] - 3s 8ms/step - loss: 0.9932 - accuracy: 0.6535 - val_loss: 1.0471 - val_accuracy: 0.6314\n",
            "Epoch 18/200\n",
            "352/352 [==============================] - 3s 8ms/step - loss: 0.9842 - accuracy: 0.6569 - val_loss: 1.0553 - val_accuracy: 0.6334\n",
            "Epoch 19/200\n",
            "352/352 [==============================] - 3s 8ms/step - loss: 0.9792 - accuracy: 0.6585 - val_loss: 1.0433 - val_accuracy: 0.6422\n",
            "Epoch 20/200\n",
            "352/352 [==============================] - 3s 8ms/step - loss: 0.9719 - accuracy: 0.6610 - val_loss: 1.0346 - val_accuracy: 0.6376\n",
            "Epoch 21/200\n",
            "352/352 [==============================] - 3s 8ms/step - loss: 0.9654 - accuracy: 0.6638 - val_loss: 1.0348 - val_accuracy: 0.6464\n",
            "Epoch 22/200\n",
            "352/352 [==============================] - 3s 8ms/step - loss: 0.9625 - accuracy: 0.6645 - val_loss: 1.0264 - val_accuracy: 0.6432\n",
            "Epoch 23/200\n",
            "352/352 [==============================] - 3s 9ms/step - loss: 0.9566 - accuracy: 0.6664 - val_loss: 1.0277 - val_accuracy: 0.6406\n",
            "Epoch 24/200\n",
            "352/352 [==============================] - 3s 8ms/step - loss: 0.9526 - accuracy: 0.6678 - val_loss: 1.0415 - val_accuracy: 0.6396\n",
            "Epoch 25/200\n",
            "352/352 [==============================] - 3s 8ms/step - loss: 0.9462 - accuracy: 0.6704 - val_loss: 1.0183 - val_accuracy: 0.6480\n",
            "Epoch 26/200\n",
            "352/352 [==============================] - 3s 8ms/step - loss: 0.9426 - accuracy: 0.6712 - val_loss: 1.0231 - val_accuracy: 0.6456\n",
            "Epoch 27/200\n",
            "352/352 [==============================] - 3s 8ms/step - loss: 0.9369 - accuracy: 0.6734 - val_loss: 1.0110 - val_accuracy: 0.6456\n",
            "Epoch 28/200\n",
            "352/352 [==============================] - 3s 8ms/step - loss: 0.9337 - accuracy: 0.6746 - val_loss: 1.0208 - val_accuracy: 0.6440\n",
            "Epoch 29/200\n",
            "352/352 [==============================] - 3s 8ms/step - loss: 0.9311 - accuracy: 0.6758 - val_loss: 1.0101 - val_accuracy: 0.6514\n",
            "Epoch 30/200\n",
            "352/352 [==============================] - 3s 8ms/step - loss: 0.9241 - accuracy: 0.6779 - val_loss: 0.9982 - val_accuracy: 0.6512\n",
            "Epoch 31/200\n",
            "352/352 [==============================] - 3s 8ms/step - loss: 0.9218 - accuracy: 0.6797 - val_loss: 1.0015 - val_accuracy: 0.6528\n",
            "Epoch 32/200\n",
            "352/352 [==============================] - 3s 8ms/step - loss: 0.9182 - accuracy: 0.6808 - val_loss: 1.0160 - val_accuracy: 0.6478\n",
            "Epoch 33/200\n",
            "352/352 [==============================] - 3s 8ms/step - loss: 0.9143 - accuracy: 0.6819 - val_loss: 1.0027 - val_accuracy: 0.6528\n",
            "Epoch 34/200\n",
            "352/352 [==============================] - 3s 8ms/step - loss: 0.9105 - accuracy: 0.6837 - val_loss: 1.0087 - val_accuracy: 0.6490\n",
            "Epoch 35/200\n",
            "352/352 [==============================] - 3s 8ms/step - loss: 0.9084 - accuracy: 0.6836 - val_loss: 0.9902 - val_accuracy: 0.6560\n",
            "Epoch 36/200\n",
            "352/352 [==============================] - 3s 8ms/step - loss: 0.9061 - accuracy: 0.6851 - val_loss: 1.0058 - val_accuracy: 0.6496\n",
            "Epoch 37/200\n",
            "352/352 [==============================] - 3s 8ms/step - loss: 0.9027 - accuracy: 0.6859 - val_loss: 1.0175 - val_accuracy: 0.6450\n",
            "Epoch 38/200\n",
            "352/352 [==============================] - 3s 8ms/step - loss: 0.9021 - accuracy: 0.6858 - val_loss: 0.9966 - val_accuracy: 0.6552\n",
            "Epoch 39/200\n",
            "352/352 [==============================] - 3s 8ms/step - loss: 0.9004 - accuracy: 0.6872 - val_loss: 0.9956 - val_accuracy: 0.6556\n",
            "Epoch 40/200\n",
            "352/352 [==============================] - 3s 8ms/step - loss: 0.8965 - accuracy: 0.6876 - val_loss: 1.0032 - val_accuracy: 0.6496\n",
            "Epoch 41/200\n",
            "352/352 [==============================] - 3s 8ms/step - loss: 0.8937 - accuracy: 0.6887 - val_loss: 1.0102 - val_accuracy: 0.6490\n",
            "Epoch 42/200\n",
            "352/352 [==============================] - 3s 8ms/step - loss: 0.8910 - accuracy: 0.6896 - val_loss: 0.9934 - val_accuracy: 0.6536\n",
            "Epoch 43/200\n",
            "352/352 [==============================] - 3s 8ms/step - loss: 0.8882 - accuracy: 0.6920 - val_loss: 1.0020 - val_accuracy: 0.6532\n",
            "Epoch 44/200\n",
            "352/352 [==============================] - 3s 8ms/step - loss: 0.8877 - accuracy: 0.6909 - val_loss: 0.9886 - val_accuracy: 0.6548\n",
            "Epoch 45/200\n",
            "352/352 [==============================] - 3s 8ms/step - loss: 0.8856 - accuracy: 0.6920 - val_loss: 0.9989 - val_accuracy: 0.6586\n",
            "Epoch 46/200\n",
            "352/352 [==============================] - 3s 8ms/step - loss: 0.8847 - accuracy: 0.6920 - val_loss: 0.9844 - val_accuracy: 0.6572\n",
            "Epoch 47/200\n",
            "352/352 [==============================] - 3s 8ms/step - loss: 0.8823 - accuracy: 0.6931 - val_loss: 0.9803 - val_accuracy: 0.6598\n",
            "Epoch 48/200\n",
            "352/352 [==============================] - 3s 8ms/step - loss: 0.8791 - accuracy: 0.6944 - val_loss: 0.9833 - val_accuracy: 0.6546\n",
            "Epoch 49/200\n",
            "352/352 [==============================] - 3s 8ms/step - loss: 0.8781 - accuracy: 0.6946 - val_loss: 0.9899 - val_accuracy: 0.6558\n",
            "Epoch 50/200\n",
            "352/352 [==============================] - 3s 8ms/step - loss: 0.8766 - accuracy: 0.6955 - val_loss: 1.0104 - val_accuracy: 0.6538\n",
            "Epoch 51/200\n",
            "352/352 [==============================] - 3s 8ms/step - loss: 0.8757 - accuracy: 0.6953 - val_loss: 0.9792 - val_accuracy: 0.6574\n",
            "Epoch 52/200\n",
            "352/352 [==============================] - 3s 8ms/step - loss: 0.8752 - accuracy: 0.6959 - val_loss: 0.9834 - val_accuracy: 0.6570\n",
            "Epoch 53/200\n",
            "352/352 [==============================] - 3s 8ms/step - loss: 0.8702 - accuracy: 0.6973 - val_loss: 0.9731 - val_accuracy: 0.6598\n",
            "Epoch 54/200\n",
            "352/352 [==============================] - 3s 8ms/step - loss: 0.8692 - accuracy: 0.6973 - val_loss: 1.0008 - val_accuracy: 0.6508\n",
            "Epoch 55/200\n",
            "352/352 [==============================] - 3s 8ms/step - loss: 0.8689 - accuracy: 0.6979 - val_loss: 0.9850 - val_accuracy: 0.6590\n",
            "Epoch 56/200\n",
            "352/352 [==============================] - 3s 8ms/step - loss: 0.8680 - accuracy: 0.6979 - val_loss: 0.9927 - val_accuracy: 0.6580\n",
            "Epoch 57/200\n",
            "352/352 [==============================] - 3s 8ms/step - loss: 0.8666 - accuracy: 0.6988 - val_loss: 0.9824 - val_accuracy: 0.6546\n",
            "Epoch 58/200\n",
            "352/352 [==============================] - 3s 8ms/step - loss: 0.8651 - accuracy: 0.6986 - val_loss: 0.9833 - val_accuracy: 0.6604\n",
            "Epoch 59/200\n",
            "352/352 [==============================] - 3s 8ms/step - loss: 0.8632 - accuracy: 0.6998 - val_loss: 0.9742 - val_accuracy: 0.6622\n",
            "Epoch 60/200\n",
            "352/352 [==============================] - 3s 8ms/step - loss: 0.8619 - accuracy: 0.7000 - val_loss: 0.9777 - val_accuracy: 0.6590\n",
            "Epoch 61/200\n",
            "352/352 [==============================] - 3s 8ms/step - loss: 0.8611 - accuracy: 0.7005 - val_loss: 0.9672 - val_accuracy: 0.6628\n",
            "Epoch 62/200\n",
            "352/352 [==============================] - 3s 8ms/step - loss: 0.8603 - accuracy: 0.7008 - val_loss: 0.9861 - val_accuracy: 0.6572\n",
            "Epoch 63/200\n",
            "352/352 [==============================] - 3s 8ms/step - loss: 0.8580 - accuracy: 0.7018 - val_loss: 0.9775 - val_accuracy: 0.6566\n",
            "Epoch 64/200\n",
            "352/352 [==============================] - 3s 8ms/step - loss: 0.8573 - accuracy: 0.7025 - val_loss: 0.9727 - val_accuracy: 0.6618\n",
            "Epoch 65/200\n",
            "352/352 [==============================] - 3s 8ms/step - loss: 0.8575 - accuracy: 0.7017 - val_loss: 0.9727 - val_accuracy: 0.6636\n",
            "Epoch 66/200\n",
            "352/352 [==============================] - 3s 8ms/step - loss: 0.8554 - accuracy: 0.7027 - val_loss: 0.9782 - val_accuracy: 0.6580\n",
            "Epoch 67/200\n",
            "352/352 [==============================] - 3s 8ms/step - loss: 0.8536 - accuracy: 0.7032 - val_loss: 0.9768 - val_accuracy: 0.6592\n",
            "Epoch 68/200\n",
            "352/352 [==============================] - 3s 8ms/step - loss: 0.8525 - accuracy: 0.7035 - val_loss: 0.9740 - val_accuracy: 0.6620\n",
            "Epoch 69/200\n",
            "352/352 [==============================] - 3s 8ms/step - loss: 0.8513 - accuracy: 0.7039 - val_loss: 0.9851 - val_accuracy: 0.6624\n",
            "Epoch 70/200\n",
            "352/352 [==============================] - 3s 8ms/step - loss: 0.8522 - accuracy: 0.7031 - val_loss: 0.9934 - val_accuracy: 0.6494\n",
            "Epoch 71/200\n",
            "352/352 [==============================] - 3s 8ms/step - loss: 0.8522 - accuracy: 0.7035 - val_loss: 0.9803 - val_accuracy: 0.6574\n",
            "Epoch 72/200\n",
            "352/352 [==============================] - 3s 8ms/step - loss: 0.8498 - accuracy: 0.7043 - val_loss: 0.9680 - val_accuracy: 0.6634\n",
            "Epoch 73/200\n",
            "352/352 [==============================] - 3s 8ms/step - loss: 0.8502 - accuracy: 0.7041 - val_loss: 0.9749 - val_accuracy: 0.6598\n",
            "Epoch 74/200\n",
            "352/352 [==============================] - 3s 8ms/step - loss: 0.8468 - accuracy: 0.7062 - val_loss: 0.9853 - val_accuracy: 0.6546\n",
            "Epoch 75/200\n",
            "352/352 [==============================] - 3s 8ms/step - loss: 0.8486 - accuracy: 0.7044 - val_loss: 0.9703 - val_accuracy: 0.6602\n",
            "Epoch 76/200\n",
            "352/352 [==============================] - 3s 8ms/step - loss: 0.8458 - accuracy: 0.7052 - val_loss: 0.9739 - val_accuracy: 0.6620\n",
            "Epoch 77/200\n",
            "352/352 [==============================] - 3s 8ms/step - loss: 0.8465 - accuracy: 0.7047 - val_loss: 0.9735 - val_accuracy: 0.6606\n",
            "Epoch 78/200\n",
            "352/352 [==============================] - 3s 8ms/step - loss: 0.8434 - accuracy: 0.7057 - val_loss: 0.9744 - val_accuracy: 0.6636\n",
            "Epoch 79/200\n",
            "352/352 [==============================] - 3s 8ms/step - loss: 0.8432 - accuracy: 0.7063 - val_loss: 0.9691 - val_accuracy: 0.6648\n",
            "Epoch 80/200\n",
            "352/352 [==============================] - 3s 8ms/step - loss: 0.8440 - accuracy: 0.7052 - val_loss: 0.9678 - val_accuracy: 0.6600\n",
            "Epoch 81/200\n",
            "352/352 [==============================] - 3s 8ms/step - loss: 0.8405 - accuracy: 0.7067 - val_loss: 0.9848 - val_accuracy: 0.6544\n",
            "Epoch 82/200\n",
            "352/352 [==============================] - 3s 8ms/step - loss: 0.8431 - accuracy: 0.7064 - val_loss: 0.9824 - val_accuracy: 0.6596\n",
            "Epoch 83/200\n",
            "352/352 [==============================] - 3s 8ms/step - loss: 0.8440 - accuracy: 0.7054 - val_loss: 0.9801 - val_accuracy: 0.6602\n",
            "Epoch 84/200\n",
            "352/352 [==============================] - 3s 8ms/step - loss: 0.8385 - accuracy: 0.7079 - val_loss: 0.9770 - val_accuracy: 0.6576\n",
            "Epoch 85/200\n",
            "352/352 [==============================] - 3s 8ms/step - loss: 0.8394 - accuracy: 0.7081 - val_loss: 0.9699 - val_accuracy: 0.6632\n",
            "Epoch 86/200\n",
            "352/352 [==============================] - 3s 8ms/step - loss: 0.8392 - accuracy: 0.7069 - val_loss: 0.9670 - val_accuracy: 0.6616\n",
            "Epoch 87/200\n",
            "352/352 [==============================] - 3s 8ms/step - loss: 0.8376 - accuracy: 0.7077 - val_loss: 0.9668 - val_accuracy: 0.6652\n",
            "Epoch 88/200\n",
            "352/352 [==============================] - 3s 8ms/step - loss: 0.8381 - accuracy: 0.7073 - val_loss: 0.9846 - val_accuracy: 0.6604\n",
            "Epoch 89/200\n",
            "352/352 [==============================] - 3s 8ms/step - loss: 0.8361 - accuracy: 0.7084 - val_loss: 0.9651 - val_accuracy: 0.6644\n",
            "Epoch 90/200\n",
            "352/352 [==============================] - 3s 8ms/step - loss: 0.8361 - accuracy: 0.7082 - val_loss: 0.9826 - val_accuracy: 0.6584\n",
            "Epoch 91/200\n",
            "352/352 [==============================] - 3s 8ms/step - loss: 0.8376 - accuracy: 0.7082 - val_loss: 0.9690 - val_accuracy: 0.6638\n",
            "Epoch 92/200\n",
            "352/352 [==============================] - 3s 8ms/step - loss: 0.8376 - accuracy: 0.7074 - val_loss: 0.9775 - val_accuracy: 0.6646\n",
            "Epoch 93/200\n",
            "352/352 [==============================] - 3s 8ms/step - loss: 0.8343 - accuracy: 0.7094 - val_loss: 0.9645 - val_accuracy: 0.6660\n",
            "Epoch 94/200\n",
            "352/352 [==============================] - 3s 8ms/step - loss: 0.8331 - accuracy: 0.7095 - val_loss: 0.9716 - val_accuracy: 0.6620\n",
            "Epoch 95/200\n",
            "352/352 [==============================] - 3s 8ms/step - loss: 0.8347 - accuracy: 0.7088 - val_loss: 0.9775 - val_accuracy: 0.6594\n",
            "Epoch 96/200\n",
            "352/352 [==============================] - 3s 8ms/step - loss: 0.8318 - accuracy: 0.7102 - val_loss: 0.9718 - val_accuracy: 0.6594\n",
            "Epoch 97/200\n",
            "352/352 [==============================] - 3s 8ms/step - loss: 0.8341 - accuracy: 0.7089 - val_loss: 0.9712 - val_accuracy: 0.6582\n",
            "Epoch 98/200\n",
            "352/352 [==============================] - 3s 8ms/step - loss: 0.8317 - accuracy: 0.7104 - val_loss: 0.9692 - val_accuracy: 0.6662\n",
            "Epoch 99/200\n",
            "352/352 [==============================] - 3s 8ms/step - loss: 0.8310 - accuracy: 0.7103 - val_loss: 0.9707 - val_accuracy: 0.6628\n",
            "Epoch 100/200\n",
            "352/352 [==============================] - 3s 8ms/step - loss: 0.8329 - accuracy: 0.7101 - val_loss: 0.9652 - val_accuracy: 0.6658\n",
            "Epoch 101/200\n",
            "352/352 [==============================] - 3s 8ms/step - loss: 0.8285 - accuracy: 0.7114 - val_loss: 0.9620 - val_accuracy: 0.6664\n",
            "Epoch 102/200\n",
            "352/352 [==============================] - 3s 8ms/step - loss: 0.8303 - accuracy: 0.7107 - val_loss: 0.9692 - val_accuracy: 0.6604\n",
            "Epoch 103/200\n",
            "352/352 [==============================] - 3s 8ms/step - loss: 0.8284 - accuracy: 0.7108 - val_loss: 0.9743 - val_accuracy: 0.6626\n",
            "Epoch 104/200\n",
            "352/352 [==============================] - 3s 8ms/step - loss: 0.8295 - accuracy: 0.7103 - val_loss: 0.9660 - val_accuracy: 0.6612\n",
            "Epoch 105/200\n",
            "352/352 [==============================] - 3s 8ms/step - loss: 0.8282 - accuracy: 0.7111 - val_loss: 0.9835 - val_accuracy: 0.6594\n",
            "Epoch 106/200\n",
            "352/352 [==============================] - 3s 8ms/step - loss: 0.8282 - accuracy: 0.7107 - val_loss: 0.9701 - val_accuracy: 0.6662\n",
            "Epoch 107/200\n",
            "352/352 [==============================] - 3s 8ms/step - loss: 0.8276 - accuracy: 0.7109 - val_loss: 0.9693 - val_accuracy: 0.6644\n",
            "Epoch 108/200\n",
            "352/352 [==============================] - 3s 8ms/step - loss: 0.8273 - accuracy: 0.7111 - val_loss: 0.9832 - val_accuracy: 0.6598\n",
            "Epoch 109/200\n",
            "352/352 [==============================] - 3s 8ms/step - loss: 0.8298 - accuracy: 0.7100 - val_loss: 0.9793 - val_accuracy: 0.6522\n",
            "Epoch 110/200\n",
            "352/352 [==============================] - 3s 8ms/step - loss: 0.8254 - accuracy: 0.7113 - val_loss: 0.9686 - val_accuracy: 0.6602\n",
            "Epoch 111/200\n",
            "352/352 [==============================] - 3s 8ms/step - loss: 0.8274 - accuracy: 0.7110 - val_loss: 0.9632 - val_accuracy: 0.6668\n",
            "Epoch 112/200\n",
            "352/352 [==============================] - 3s 8ms/step - loss: 0.8266 - accuracy: 0.7114 - val_loss: 0.9638 - val_accuracy: 0.6664\n",
            "Epoch 113/200\n",
            "352/352 [==============================] - 3s 8ms/step - loss: 0.8237 - accuracy: 0.7122 - val_loss: 0.9848 - val_accuracy: 0.6612\n",
            "Epoch 114/200\n",
            "352/352 [==============================] - 3s 8ms/step - loss: 0.8235 - accuracy: 0.7118 - val_loss: 0.9737 - val_accuracy: 0.6666\n",
            "Epoch 115/200\n",
            "352/352 [==============================] - 3s 8ms/step - loss: 0.8238 - accuracy: 0.7129 - val_loss: 0.9740 - val_accuracy: 0.6610\n",
            "Epoch 116/200\n",
            "352/352 [==============================] - 3s 8ms/step - loss: 0.8228 - accuracy: 0.7123 - val_loss: 0.9744 - val_accuracy: 0.6620\n",
            "Epoch 117/200\n",
            "352/352 [==============================] - 3s 8ms/step - loss: 0.8249 - accuracy: 0.7113 - val_loss: 0.9695 - val_accuracy: 0.6656\n",
            "Epoch 118/200\n",
            "352/352 [==============================] - 3s 8ms/step - loss: 0.8226 - accuracy: 0.7130 - val_loss: 0.9657 - val_accuracy: 0.6652\n",
            "Epoch 119/200\n",
            "352/352 [==============================] - 3s 8ms/step - loss: 0.8223 - accuracy: 0.7125 - val_loss: 0.9718 - val_accuracy: 0.6682\n",
            "Epoch 120/200\n",
            "352/352 [==============================] - 3s 8ms/step - loss: 0.8219 - accuracy: 0.7135 - val_loss: 0.9849 - val_accuracy: 0.6618\n",
            "Epoch 121/200\n",
            "352/352 [==============================] - 3s 8ms/step - loss: 0.8228 - accuracy: 0.7123 - val_loss: 0.9711 - val_accuracy: 0.6662\n",
            "Epoch 122/200\n",
            "352/352 [==============================] - 3s 8ms/step - loss: 0.8207 - accuracy: 0.7134 - val_loss: 0.9733 - val_accuracy: 0.6604\n",
            "Epoch 123/200\n",
            "352/352 [==============================] - 3s 8ms/step - loss: 0.8227 - accuracy: 0.7122 - val_loss: 0.9665 - val_accuracy: 0.6678\n",
            "Epoch 124/200\n",
            "352/352 [==============================] - 3s 8ms/step - loss: 0.8225 - accuracy: 0.7125 - val_loss: 0.9688 - val_accuracy: 0.6628\n",
            "Epoch 125/200\n",
            "352/352 [==============================] - 3s 8ms/step - loss: 0.8199 - accuracy: 0.7139 - val_loss: 0.9630 - val_accuracy: 0.6692\n",
            "Epoch 126/200\n",
            "352/352 [==============================] - 3s 9ms/step - loss: 0.8198 - accuracy: 0.7132 - val_loss: 0.9890 - val_accuracy: 0.6554\n",
            "Epoch 127/200\n",
            "352/352 [==============================] - 3s 9ms/step - loss: 0.8210 - accuracy: 0.7131 - val_loss: 0.9696 - val_accuracy: 0.6594\n",
            "Epoch 128/200\n",
            "352/352 [==============================] - 3s 10ms/step - loss: 0.8199 - accuracy: 0.7130 - val_loss: 0.9831 - val_accuracy: 0.6630\n",
            "Epoch 129/200\n",
            "352/352 [==============================] - 3s 8ms/step - loss: 0.8185 - accuracy: 0.7146 - val_loss: 0.9747 - val_accuracy: 0.6628\n",
            "Epoch 130/200\n",
            "352/352 [==============================] - 3s 8ms/step - loss: 0.8192 - accuracy: 0.7140 - val_loss: 0.9745 - val_accuracy: 0.6646\n",
            "Epoch 131/200\n",
            "352/352 [==============================] - 3s 8ms/step - loss: 0.8198 - accuracy: 0.7145 - val_loss: 0.9705 - val_accuracy: 0.6610\n",
            "Epoch 132/200\n",
            "352/352 [==============================] - 3s 8ms/step - loss: 0.8213 - accuracy: 0.7133 - val_loss: 0.9684 - val_accuracy: 0.6636\n",
            "Epoch 133/200\n",
            "352/352 [==============================] - 3s 8ms/step - loss: 0.8195 - accuracy: 0.7135 - val_loss: 0.9802 - val_accuracy: 0.6588\n",
            "Epoch 134/200\n",
            "352/352 [==============================] - 3s 8ms/step - loss: 0.8189 - accuracy: 0.7137 - val_loss: 0.9702 - val_accuracy: 0.6654\n",
            "Epoch 135/200\n",
            "352/352 [==============================] - 3s 8ms/step - loss: 0.8162 - accuracy: 0.7146 - val_loss: 0.9683 - val_accuracy: 0.6626\n",
            "Epoch 136/200\n",
            "352/352 [==============================] - 3s 8ms/step - loss: 0.8154 - accuracy: 0.7151 - val_loss: 0.9669 - val_accuracy: 0.6652\n",
            "Epoch 137/200\n",
            "352/352 [==============================] - 3s 8ms/step - loss: 0.8168 - accuracy: 0.7148 - val_loss: 0.9841 - val_accuracy: 0.6598\n",
            "Epoch 138/200\n",
            "352/352 [==============================] - 3s 8ms/step - loss: 0.8178 - accuracy: 0.7145 - val_loss: 0.9781 - val_accuracy: 0.6590\n",
            "Epoch 139/200\n",
            "352/352 [==============================] - 3s 8ms/step - loss: 0.8160 - accuracy: 0.7153 - val_loss: 0.9651 - val_accuracy: 0.6692\n",
            "Epoch 140/200\n",
            "352/352 [==============================] - 3s 8ms/step - loss: 0.8175 - accuracy: 0.7143 - val_loss: 0.9668 - val_accuracy: 0.6656\n",
            "Epoch 141/200\n",
            "352/352 [==============================] - 3s 8ms/step - loss: 0.8153 - accuracy: 0.7153 - val_loss: 0.9774 - val_accuracy: 0.6668\n",
            "Epoch 142/200\n",
            "352/352 [==============================] - 3s 8ms/step - loss: 0.8158 - accuracy: 0.7149 - val_loss: 0.9623 - val_accuracy: 0.6666\n",
            "Epoch 143/200\n",
            "352/352 [==============================] - 3s 9ms/step - loss: 0.8169 - accuracy: 0.7147 - val_loss: 0.9734 - val_accuracy: 0.6648\n",
            "Epoch 144/200\n",
            "352/352 [==============================] - 3s 8ms/step - loss: 0.8138 - accuracy: 0.7164 - val_loss: 0.9681 - val_accuracy: 0.6660\n",
            "Epoch 145/200\n",
            "352/352 [==============================] - 3s 8ms/step - loss: 0.8150 - accuracy: 0.7148 - val_loss: 0.9715 - val_accuracy: 0.6674\n",
            "Epoch 146/200\n",
            "352/352 [==============================] - 3s 8ms/step - loss: 0.8143 - accuracy: 0.7158 - val_loss: 0.9727 - val_accuracy: 0.6668\n",
            "Epoch 147/200\n",
            "352/352 [==============================] - 3s 8ms/step - loss: 0.8135 - accuracy: 0.7163 - val_loss: 0.9584 - val_accuracy: 0.6684\n",
            "Epoch 148/200\n",
            "352/352 [==============================] - 3s 8ms/step - loss: 0.8145 - accuracy: 0.7154 - val_loss: 0.9626 - val_accuracy: 0.6630\n",
            "Epoch 149/200\n",
            "352/352 [==============================] - 3s 8ms/step - loss: 0.8125 - accuracy: 0.7163 - val_loss: 0.9652 - val_accuracy: 0.6662\n",
            "Epoch 150/200\n",
            "352/352 [==============================] - 3s 8ms/step - loss: 0.8149 - accuracy: 0.7148 - val_loss: 0.9649 - val_accuracy: 0.6672\n",
            "Epoch 151/200\n",
            "352/352 [==============================] - 3s 8ms/step - loss: 0.8153 - accuracy: 0.7149 - val_loss: 0.9721 - val_accuracy: 0.6630\n",
            "Epoch 152/200\n",
            "352/352 [==============================] - 3s 8ms/step - loss: 0.8120 - accuracy: 0.7170 - val_loss: 0.9620 - val_accuracy: 0.6670\n",
            "Epoch 153/200\n",
            "352/352 [==============================] - 3s 8ms/step - loss: 0.8123 - accuracy: 0.7168 - val_loss: 0.9651 - val_accuracy: 0.6692\n",
            "Epoch 154/200\n",
            "352/352 [==============================] - 3s 8ms/step - loss: 0.8105 - accuracy: 0.7166 - val_loss: 0.9714 - val_accuracy: 0.6690\n",
            "Epoch 155/200\n",
            "352/352 [==============================] - 3s 8ms/step - loss: 0.8125 - accuracy: 0.7156 - val_loss: 0.9691 - val_accuracy: 0.6586\n",
            "Epoch 156/200\n",
            "352/352 [==============================] - 3s 8ms/step - loss: 0.8112 - accuracy: 0.7164 - val_loss: 0.9615 - val_accuracy: 0.6692\n",
            "Epoch 157/200\n",
            "352/352 [==============================] - 3s 8ms/step - loss: 0.8135 - accuracy: 0.7151 - val_loss: 0.9609 - val_accuracy: 0.6654\n",
            "Epoch 158/200\n",
            "352/352 [==============================] - 3s 8ms/step - loss: 0.8100 - accuracy: 0.7174 - val_loss: 0.9600 - val_accuracy: 0.6692\n",
            "Epoch 159/200\n",
            "352/352 [==============================] - 3s 8ms/step - loss: 0.8106 - accuracy: 0.7168 - val_loss: 0.9633 - val_accuracy: 0.6688\n",
            "Epoch 160/200\n",
            "352/352 [==============================] - 3s 8ms/step - loss: 0.8108 - accuracy: 0.7167 - val_loss: 0.9667 - val_accuracy: 0.6682\n",
            "Epoch 161/200\n",
            "352/352 [==============================] - 3s 8ms/step - loss: 0.8123 - accuracy: 0.7164 - val_loss: 0.9632 - val_accuracy: 0.6684\n",
            "Epoch 162/200\n",
            "352/352 [==============================] - 3s 8ms/step - loss: 0.8084 - accuracy: 0.7182 - val_loss: 0.9587 - val_accuracy: 0.6718\n",
            "Epoch 163/200\n",
            "352/352 [==============================] - 3s 8ms/step - loss: 0.8119 - accuracy: 0.7161 - val_loss: 0.9774 - val_accuracy: 0.6630\n",
            "Epoch 164/200\n",
            "352/352 [==============================] - 3s 8ms/step - loss: 0.8065 - accuracy: 0.7177 - val_loss: 0.9691 - val_accuracy: 0.6658\n",
            "Epoch 165/200\n",
            "352/352 [==============================] - 3s 9ms/step - loss: 0.8104 - accuracy: 0.7168 - val_loss: 0.9740 - val_accuracy: 0.6636\n",
            "Epoch 166/200\n",
            "352/352 [==============================] - 3s 8ms/step - loss: 0.8089 - accuracy: 0.7171 - val_loss: 0.9684 - val_accuracy: 0.6724\n",
            "Epoch 167/200\n",
            "352/352 [==============================] - 3s 8ms/step - loss: 0.8085 - accuracy: 0.7176 - val_loss: 0.9703 - val_accuracy: 0.6654\n",
            "Epoch 168/200\n",
            "352/352 [==============================] - 3s 9ms/step - loss: 0.8078 - accuracy: 0.7177 - val_loss: 0.9962 - val_accuracy: 0.6606\n",
            "Epoch 169/200\n",
            "352/352 [==============================] - 3s 8ms/step - loss: 0.8106 - accuracy: 0.7162 - val_loss: 0.9731 - val_accuracy: 0.6652\n",
            "Epoch 170/200\n",
            "352/352 [==============================] - 3s 8ms/step - loss: 0.8075 - accuracy: 0.7178 - val_loss: 0.9659 - val_accuracy: 0.6658\n",
            "Epoch 171/200\n",
            "352/352 [==============================] - 3s 8ms/step - loss: 0.8085 - accuracy: 0.7171 - val_loss: 0.9775 - val_accuracy: 0.6644\n",
            "Epoch 172/200\n",
            "352/352 [==============================] - 3s 8ms/step - loss: 0.8092 - accuracy: 0.7171 - val_loss: 0.9708 - val_accuracy: 0.6686\n",
            "Epoch 173/200\n",
            "352/352 [==============================] - 3s 8ms/step - loss: 0.8074 - accuracy: 0.7170 - val_loss: 0.9761 - val_accuracy: 0.6646\n",
            "Epoch 174/200\n",
            "352/352 [==============================] - 3s 8ms/step - loss: 0.8083 - accuracy: 0.7169 - val_loss: 0.9690 - val_accuracy: 0.6682\n",
            "Epoch 175/200\n",
            "352/352 [==============================] - 3s 8ms/step - loss: 0.8049 - accuracy: 0.7190 - val_loss: 0.9660 - val_accuracy: 0.6680\n",
            "Epoch 176/200\n",
            "352/352 [==============================] - 3s 8ms/step - loss: 0.8052 - accuracy: 0.7178 - val_loss: 0.9736 - val_accuracy: 0.6658\n",
            "Epoch 177/200\n",
            "352/352 [==============================] - 3s 8ms/step - loss: 0.8087 - accuracy: 0.7181 - val_loss: 0.9846 - val_accuracy: 0.6610\n",
            "Epoch 178/200\n",
            "352/352 [==============================] - 3s 8ms/step - loss: 0.8048 - accuracy: 0.7183 - val_loss: 0.9626 - val_accuracy: 0.6638\n",
            "Epoch 179/200\n",
            "352/352 [==============================] - 3s 8ms/step - loss: 0.8068 - accuracy: 0.7181 - val_loss: 0.9734 - val_accuracy: 0.6652\n",
            "Epoch 180/200\n",
            "352/352 [==============================] - 3s 8ms/step - loss: 0.8088 - accuracy: 0.7167 - val_loss: 0.9772 - val_accuracy: 0.6666\n",
            "Epoch 181/200\n",
            "352/352 [==============================] - 3s 8ms/step - loss: 0.8070 - accuracy: 0.7183 - val_loss: 0.9810 - val_accuracy: 0.6714\n",
            "Epoch 182/200\n",
            "352/352 [==============================] - 3s 9ms/step - loss: 0.8047 - accuracy: 0.7191 - val_loss: 0.9648 - val_accuracy: 0.6726\n",
            "Epoch 183/200\n",
            "352/352 [==============================] - 3s 8ms/step - loss: 0.8063 - accuracy: 0.7184 - val_loss: 0.9689 - val_accuracy: 0.6674\n",
            "Epoch 184/200\n",
            "352/352 [==============================] - 3s 8ms/step - loss: 0.8059 - accuracy: 0.7182 - val_loss: 0.9607 - val_accuracy: 0.6742\n",
            "Epoch 185/200\n",
            "352/352 [==============================] - 3s 8ms/step - loss: 0.8046 - accuracy: 0.7177 - val_loss: 0.9687 - val_accuracy: 0.6678\n",
            "Epoch 186/200\n",
            "352/352 [==============================] - 3s 8ms/step - loss: 0.8043 - accuracy: 0.7182 - val_loss: 0.9669 - val_accuracy: 0.6696\n",
            "Epoch 187/200\n",
            "352/352 [==============================] - 3s 8ms/step - loss: 0.8027 - accuracy: 0.7187 - val_loss: 0.9643 - val_accuracy: 0.6724\n",
            "Epoch 188/200\n",
            "352/352 [==============================] - 3s 8ms/step - loss: 0.8077 - accuracy: 0.7168 - val_loss: 0.9716 - val_accuracy: 0.6682\n",
            "Epoch 189/200\n",
            "352/352 [==============================] - 3s 8ms/step - loss: 0.8057 - accuracy: 0.7178 - val_loss: 0.9703 - val_accuracy: 0.6692\n",
            "Epoch 190/200\n",
            "352/352 [==============================] - 3s 8ms/step - loss: 0.8009 - accuracy: 0.7196 - val_loss: 0.9724 - val_accuracy: 0.6702\n",
            "Epoch 191/200\n",
            "352/352 [==============================] - 3s 8ms/step - loss: 0.8048 - accuracy: 0.7185 - val_loss: 0.9665 - val_accuracy: 0.6698\n",
            "Epoch 192/200\n",
            "352/352 [==============================] - 3s 8ms/step - loss: 0.8048 - accuracy: 0.7186 - val_loss: 0.9693 - val_accuracy: 0.6680\n",
            "Epoch 193/200\n",
            "352/352 [==============================] - 3s 8ms/step - loss: 0.8049 - accuracy: 0.7182 - val_loss: 0.9792 - val_accuracy: 0.6646\n",
            "Epoch 194/200\n",
            "352/352 [==============================] - 3s 8ms/step - loss: 0.8036 - accuracy: 0.7196 - val_loss: 0.9774 - val_accuracy: 0.6630\n",
            "Epoch 195/200\n",
            "352/352 [==============================] - 3s 8ms/step - loss: 0.8015 - accuracy: 0.7201 - val_loss: 0.9765 - val_accuracy: 0.6692\n",
            "Epoch 196/200\n",
            "352/352 [==============================] - 3s 8ms/step - loss: 0.8039 - accuracy: 0.7192 - val_loss: 0.9711 - val_accuracy: 0.6704\n",
            "Epoch 197/200\n",
            "352/352 [==============================] - 3s 8ms/step - loss: 0.8026 - accuracy: 0.7192 - val_loss: 0.9749 - val_accuracy: 0.6652\n",
            "Epoch 198/200\n",
            "352/352 [==============================] - 3s 8ms/step - loss: 0.8036 - accuracy: 0.7189 - val_loss: 0.9860 - val_accuracy: 0.6644\n",
            "Epoch 199/200\n",
            "352/352 [==============================] - 3s 9ms/step - loss: 0.8033 - accuracy: 0.7183 - val_loss: 0.9693 - val_accuracy: 0.6696\n",
            "Epoch 200/200\n",
            "352/352 [==============================] - 3s 8ms/step - loss: 0.8017 - accuracy: 0.7194 - val_loss: 0.9673 - val_accuracy: 0.6704\n"
          ]
        }
      ]
    },
    {
      "cell_type": "markdown",
      "source": [
        "####Graph for Model 2"
      ],
      "metadata": {
        "id": "dTKp3fgYuQc0"
      }
    },
    {
      "cell_type": "code",
      "source": [
        "import matplotlib.pyplot as plt\n",
        "\n",
        "plt.plot(range(1,201),history2.history['val_accuracy'],color='red')\n",
        "plt.legend(['Validation'])\n",
        "plt.xlabel('epochs')\n",
        "plt.ylabel('accuracy')\n",
        "plt.show()"
      ],
      "metadata": {
        "colab": {
          "base_uri": "https://localhost:8080/",
          "height": 279
        },
        "id": "V2FICOSmuTAC",
        "outputId": "9b7fef7e-80fb-4a89-85e8-24646cf9b953"
      },
      "execution_count": null,
      "outputs": [
        {
          "output_type": "display_data",
          "data": {
            "text/plain": [
              "<Figure size 432x288 with 1 Axes>"
            ],
            "image/png": "[encoded data removed]"
          },
          "metadata": {
            "needs_background": "light"
          }
        }
      ]
    },
    {
      "cell_type": "markdown",
      "source": [
        "####Graph Train vs Test Model 2"
      ],
      "metadata": {
        "id": "DwCKmqtXuuIg"
      }
    },
    {
      "cell_type": "code",
      "source": [
        "import matplotlib.pyplot as plt\n",
        "\n",
        "plt.plot(range(1,201),history2.history['accuracy'],color='blue')\n",
        "plt.plot(range(1,201),history2.history['val_accuracy'],color='red')\n",
        "plt.legend(['Train','Validation'])\n",
        "plt.xlabel('epochs')\n",
        "plt.ylabel('accuracy')\n",
        "plt.show()"
      ],
      "metadata": {
        "colab": {
          "base_uri": "https://localhost:8080/",
          "height": 279
        },
        "id": "eLohe1-mucmG",
        "outputId": "623b4ac3-7716-44da-86f3-0fce5d80669c"
      },
      "execution_count": null,
      "outputs": [
        {
          "output_type": "display_data",
          "data": {
            "text/plain": [
              "<Figure size 432x288 with 1 Axes>"
            ],
            "image/png": "[encoded data removed]"
          },
          "metadata": {
            "needs_background": "light"
          }
        }
      ]
    },
    {
      "cell_type": "markdown",
      "source": [
        "####Graph for Model1 vs Model 2"
      ],
      "metadata": {
        "id": "9ArqjI8CtPuu"
      }
    },
    {
      "cell_type": "code",
      "source": [
        "import matplotlib.pyplot as plt\n",
        "\n",
        "plt.plot(range(1,201),history.history['val_accuracy'],color='blue')\n",
        "plt.plot(range(1,201),history2.history['val_accuracy'],color='red')\n",
        "plt.legend(['Baseline model','Augmented data model'])\n",
        "plt.xlabel('epochs')\n",
        "plt.ylabel('validation accuracy')\n",
        "plt.show()"
      ],
      "metadata": {
        "colab": {
          "base_uri": "https://localhost:8080/",
          "height": 279
        },
        "id": "4LsI9P1utafy",
        "outputId": "99efa068-53b4-417f-ca64-4076b101baad"
      },
      "execution_count": null,
      "outputs": [
        {
          "output_type": "display_data",
          "data": {
            "text/plain": [
              "<Figure size 432x288 with 1 Axes>"
            ],
            "image/png": "[encoded data removed]"
          },
          "metadata": {
            "needs_background": "light"
          }
        }
      ]
    }
  ]
}