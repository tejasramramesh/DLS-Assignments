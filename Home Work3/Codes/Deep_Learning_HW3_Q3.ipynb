{
  "nbformat": 4,
  "nbformat_minor": 0,
  "metadata": {
    "colab": {
      "provenance": [],
      "machine_shape": "hm"
    },
    "kernelspec": {
      "name": "python3",
      "display_name": "Python 3"
    },
    "language_info": {
      "name": "python"
    },
    "accelerator": "GPU",
    "gpuClass": "standard"
  },
  "cells": [
    {
      "cell_type": "markdown",
      "source": [
        "#Home Work 3\n",
        "Dicussed and collaborated with : Sushant and Sylvia\n",
        "\n",
        "References:\n",
        "1.https://www.youtube.com/watch?v=3gzI4Z2OFgY&t=1172s\n",
        "2.https://www.youtube.com/watch?v=r6Ijqo5E3I4\n",
        "3.https://github.com/ShinoharaYuuyoru/NoiseReductionUsingGRU\n",
        "4.https://www.tensorflow.org/api_docs/python/tf/keras/layers/GRU\n"
      ],
      "metadata": {
        "id": "aewrn-nrJDek"
      }
    },
    {
      "cell_type": "code",
      "execution_count": null,
      "metadata": {
        "id": "DD6xOiJBIY9I",
        "colab": {
          "base_uri": "https://localhost:8080/"
        },
        "outputId": "f5caf86b-4502-4d6f-acd9-395da14adfbc"
      },
      "outputs": [
        {
          "output_type": "stream",
          "name": "stdout",
          "text": [
            "Found GPU at: /device:GPU:0\n"
          ]
        }
      ],
      "source": [
        "#Path: TensorFlow/Tejas/\n",
        "import tensorflow as tf\n",
        "device_name = tf.test.gpu_device_name()\n",
        "if device_name != '/device:GPU:0':\n",
        "  raise SystemError('GPU device not found')\n",
        "print('Found GPU at: {}'.format(device_name))"
      ]
    },
    {
      "cell_type": "code",
      "source": [
        "print(\"TensorFlow version:\", tf.__version__)"
      ],
      "metadata": {
        "id": "sIYSvxGjPzYE",
        "colab": {
          "base_uri": "https://localhost:8080/"
        },
        "outputId": "06c6f16c-1085-4e20-876d-b1f2e8c1fa6b"
      },
      "execution_count": null,
      "outputs": [
        {
          "output_type": "stream",
          "name": "stdout",
          "text": [
            "TensorFlow version: 2.9.2\n"
          ]
        }
      ]
    },
    {
      "cell_type": "code",
      "source": [
        "import tensorflow as tf\n",
        "import timeit\n",
        "\n",
        "device_name = tf.test.gpu_device_name()\n",
        "if device_name != '/device:GPU:0':\n",
        "  print(\n",
        "      '\\n\\nThis error most likely means that this notebook is not '\n",
        "      'configured to use a GPU.  Change this in Notebook Settings via the '\n",
        "      'command palette (cmd/ctrl-shift-P) or the Edit menu.\\n\\n')\n",
        "  raise SystemError('GPU device not found')\n",
        "\n",
        "def cpu():\n",
        "  with tf.device('/cpu:0'):\n",
        "    random_image_cpu = tf.random.normal((100, 100, 100, 3))\n",
        "    net_cpu = tf.keras.layers.Conv2D(32, 7)(random_image_cpu)\n",
        "    return tf.math.reduce_sum(net_cpu)\n",
        "\n",
        "def gpu():\n",
        "  with tf.device('/device:GPU:0'):\n",
        "    random_image_gpu = tf.random.normal((100, 100, 100, 3))\n",
        "    net_gpu = tf.keras.layers.Conv2D(32, 7)(random_image_gpu)\n",
        "    return tf.math.reduce_sum(net_gpu)\n",
        "  \n",
        "# We run each op once to warm up; see: https://stackoverflow.com/a/45067900\n",
        "cpu()\n",
        "gpu()\n",
        "\n",
        "# Run the op several times.\n",
        "print('Time (s) to convolve 32x7x7x3 filter over random 100x100x100x3 images '\n",
        "      '(batch x height x width x channel). Sum of ten runs.')\n",
        "print('CPU (s):')\n",
        "cpu_time = timeit.timeit('cpu()', number=10, setup=\"from __main__ import cpu\")\n",
        "print(cpu_time)\n",
        "print('GPU (s):')\n",
        "gpu_time = timeit.timeit('gpu()', number=10, setup=\"from __main__ import gpu\")\n",
        "print(gpu_time)\n",
        "print('GPU speedup over CPU: {}x'.format(int(cpu_time/gpu_time)))"
      ],
      "metadata": {
        "id": "Y-JDwvPrP1zg",
        "colab": {
          "base_uri": "https://localhost:8080/"
        },
        "outputId": "f72b1b0a-f040-4779-b8ec-43db2d123fcc"
      },
      "execution_count": null,
      "outputs": [
        {
          "output_type": "stream",
          "name": "stdout",
          "text": [
            "Time (s) to convolve 32x7x7x3 filter over random 100x100x100x3 images (batch x height x width x channel). Sum of ten runs.\n",
            "CPU (s):\n",
            "1.7211919259998467\n",
            "GPU (s):\n",
            "0.04042952400004651\n",
            "GPU speedup over CPU: 42x\n"
          ]
        }
      ]
    },
    {
      "cell_type": "markdown",
      "source": [
        "##Dependencies"
      ],
      "metadata": {
        "id": "Q5pMS0a1P6MS"
      }
    },
    {
      "cell_type": "code",
      "source": [
        "!pip install librosa"
      ],
      "metadata": {
        "colab": {
          "base_uri": "https://localhost:8080/"
        },
        "id": "9tuRVE7WQMJJ",
        "outputId": "781c9d6e-2ca6-4d81-d19f-58125704bb44"
      },
      "execution_count": null,
      "outputs": [
        {
          "output_type": "stream",
          "name": "stdout",
          "text": [
            "Looking in indexes: https://pypi.org/simple, https://us-python.pkg.dev/colab-wheels/public/simple/\n",
            "Requirement already satisfied: librosa in /usr/local/lib/python3.7/dist-packages (0.8.1)\n",
            "Requirement already satisfied: scikit-learn!=0.19.0,>=0.14.0 in /usr/local/lib/python3.7/dist-packages (from librosa) (1.0.2)\n",
            "Requirement already satisfied: numpy>=1.15.0 in /usr/local/lib/python3.7/dist-packages (from librosa) (1.21.6)\n",
            "Requirement already satisfied: decorator>=3.0.0 in /usr/local/lib/python3.7/dist-packages (from librosa) (4.4.2)\n",
            "Requirement already satisfied: soundfile>=0.10.2 in /usr/local/lib/python3.7/dist-packages (from librosa) (0.11.0)\n",
            "Requirement already satisfied: numba>=0.43.0 in /usr/local/lib/python3.7/dist-packages (from librosa) (0.56.3)\n",
            "Requirement already satisfied: packaging>=20.0 in /usr/local/lib/python3.7/dist-packages (from librosa) (21.3)\n",
            "Requirement already satisfied: scipy>=1.0.0 in /usr/local/lib/python3.7/dist-packages (from librosa) (1.7.3)\n",
            "Requirement already satisfied: audioread>=2.0.0 in /usr/local/lib/python3.7/dist-packages (from librosa) (3.0.0)\n",
            "Requirement already satisfied: resampy>=0.2.2 in /usr/local/lib/python3.7/dist-packages (from librosa) (0.4.2)\n",
            "Requirement already satisfied: joblib>=0.14 in /usr/local/lib/python3.7/dist-packages (from librosa) (1.2.0)\n",
            "Requirement already satisfied: pooch>=1.0 in /usr/local/lib/python3.7/dist-packages (from librosa) (1.6.0)\n",
            "Requirement already satisfied: llvmlite<0.40,>=0.39.0dev0 in /usr/local/lib/python3.7/dist-packages (from numba>=0.43.0->librosa) (0.39.1)\n",
            "Requirement already satisfied: setuptools in /usr/local/lib/python3.7/dist-packages (from numba>=0.43.0->librosa) (57.4.0)\n",
            "Requirement already satisfied: importlib-metadata in /usr/local/lib/python3.7/dist-packages (from numba>=0.43.0->librosa) (4.13.0)\n",
            "Requirement already satisfied: pyparsing!=3.0.5,>=2.0.2 in /usr/local/lib/python3.7/dist-packages (from packaging>=20.0->librosa) (3.0.9)\n",
            "Requirement already satisfied: requests>=2.19.0 in /usr/local/lib/python3.7/dist-packages (from pooch>=1.0->librosa) (2.23.0)\n",
            "Requirement already satisfied: appdirs>=1.3.0 in /usr/local/lib/python3.7/dist-packages (from pooch>=1.0->librosa) (1.4.4)\n",
            "Requirement already satisfied: chardet<4,>=3.0.2 in /usr/local/lib/python3.7/dist-packages (from requests>=2.19.0->pooch>=1.0->librosa) (3.0.4)\n",
            "Requirement already satisfied: urllib3!=1.25.0,!=1.25.1,<1.26,>=1.21.1 in /usr/local/lib/python3.7/dist-packages (from requests>=2.19.0->pooch>=1.0->librosa) (1.24.3)\n",
            "Requirement already satisfied: idna<3,>=2.5 in /usr/local/lib/python3.7/dist-packages (from requests>=2.19.0->pooch>=1.0->librosa) (2.10)\n",
            "Requirement already satisfied: certifi>=2017.4.17 in /usr/local/lib/python3.7/dist-packages (from requests>=2.19.0->pooch>=1.0->librosa) (2022.9.24)\n",
            "Requirement already satisfied: threadpoolctl>=2.0.0 in /usr/local/lib/python3.7/dist-packages (from scikit-learn!=0.19.0,>=0.14.0->librosa) (3.1.0)\n",
            "Requirement already satisfied: cffi>=1.0 in /usr/local/lib/python3.7/dist-packages (from soundfile>=0.10.2->librosa) (1.15.1)\n",
            "Requirement already satisfied: pycparser in /usr/local/lib/python3.7/dist-packages (from cffi>=1.0->soundfile>=0.10.2->librosa) (2.21)\n",
            "Requirement already satisfied: zipp>=0.5 in /usr/local/lib/python3.7/dist-packages (from importlib-metadata->numba>=0.43.0->librosa) (3.10.0)\n",
            "Requirement already satisfied: typing-extensions>=3.6.4 in /usr/local/lib/python3.7/dist-packages (from importlib-metadata->numba>=0.43.0->librosa) (4.1.1)\n"
          ]
        }
      ]
    },
    {
      "cell_type": "code",
      "source": [
        "import librosa\n",
        "from IPython.display import Audio"
      ],
      "metadata": {
        "id": "okkSZdmfQSok"
      },
      "execution_count": null,
      "outputs": []
    },
    {
      "cell_type": "code",
      "source": [
        "import numpy as np\n",
        "import random\n",
        "import pandas as pd\n",
        "import seaborn as sns\n",
        "import os\n",
        "import matplotlib.pyplot as plt\n",
        "from sklearn.decomposition import PCA\n",
        "from sklearn.manifold import TSNE\n",
        "from tensorflow import keras\n",
        "from tensorflow.keras import layers\n",
        "from keras.models import Model\n",
        "import keras.utils\n",
        "from keras import utils as np_utils\n",
        "from keras.models import Sequential\n",
        "from keras.layers import  Dense, Dropout, Activation, Flatten\n",
        "from tensorflow.keras import optimizers\n",
        "from librosa.core import stft,istft\n",
        "import soundfile as sf\n",
        "from sklearn.model_selection import train_test_split\n",
        "\n",
        "import tensorflow as tf\n",
        "%matplotlib inline"
      ],
      "metadata": {
        "id": "6AvhfgcsP9Ca"
      },
      "execution_count": null,
      "outputs": []
    },
    {
      "cell_type": "markdown",
      "source": [
        "##Mount Drive"
      ],
      "metadata": {
        "id": "WJAR1V4qQuJ6"
      }
    },
    {
      "cell_type": "code",
      "source": [
        "from google.colab import drive\n",
        "drive.mount('/content/drive')"
      ],
      "metadata": {
        "colab": {
          "base_uri": "https://localhost:8080/"
        },
        "id": "m2BgKaObQvyo",
        "outputId": "8ab4bce8-09fd-49b5-c9cc-863bee2e04d1"
      },
      "execution_count": null,
      "outputs": [
        {
          "output_type": "stream",
          "name": "stdout",
          "text": [
            "Mounted at /content/drive\n"
          ]
        }
      ]
    },
    {
      "cell_type": "code",
      "source": [
        "train_loc = '/content/drive/MyDrive/ENGR-E-533 /DATA/HW3/Audiodata/timit-homework/tr/' # has trx trs and trn in unsorted manner\n",
        "val_loc = '/content/drive/MyDrive/ENGR-E-533 /DATA/HW3/Audiodata/timit-homework/v/'\n",
        "test_loc = '/content/drive/MyDrive/ENGR-E-533 /DATA/HW3/Audiodata/timit-homework/te/'"
      ],
      "metadata": {
        "id": "0dZA27fBRTIe"
      },
      "execution_count": null,
      "outputs": []
    },
    {
      "cell_type": "code",
      "source": [
        "tr_list = os.listdir(train_loc)\n",
        "tr_list.sort() #sorted all files to be in the right order"
      ],
      "metadata": {
        "id": "7tmvUQVfRjJg"
      },
      "execution_count": null,
      "outputs": []
    },
    {
      "cell_type": "code",
      "source": [
        "print(tr_list)"
      ],
      "metadata": {
        "colab": {
          "base_uri": "https://localhost:8080/"
        },
        "id": "SkUnPf9vT3ro",
        "outputId": "e3613f32-fbf9-47d2-d5e6-532456c51663"
      },
      "execution_count": null,
      "outputs": [
        {
          "output_type": "stream",
          "name": "stdout",
          "text": [
            "['trn0000.wav', 'trn0001.wav', 'trn0002.wav', 'trn0003.wav', 'trn0004.wav', 'trn0005.wav', 'trn0006.wav', 'trn0007.wav', 'trn0008.wav', 'trn0009.wav', 'trn0010.wav', 'trn0011.wav', 'trn0012.wav', 'trn0013.wav', 'trn0014.wav', 'trn0015.wav', 'trn0016.wav', 'trn0017.wav', 'trn0018.wav', 'trn0019.wav', 'trn0020.wav', 'trn0021.wav', 'trn0022.wav', 'trn0023.wav', 'trn0024.wav', 'trn0025.wav', 'trn0026.wav', 'trn0027.wav', 'trn0028.wav', 'trn0029.wav', 'trn0030.wav', 'trn0031.wav', 'trn0032.wav', 'trn0033.wav', 'trn0034.wav', 'trn0035.wav', 'trn0036.wav', 'trn0037.wav', 'trn0038.wav', 'trn0039.wav', 'trn0040.wav', 'trn0041.wav', 'trn0042.wav', 'trn0043.wav', 'trn0044.wav', 'trn0045.wav', 'trn0046.wav', 'trn0047.wav', 'trn0048.wav', 'trn0049.wav', 'trn0050.wav', 'trn0051.wav', 'trn0052.wav', 'trn0053.wav', 'trn0054.wav', 'trn0055.wav', 'trn0056.wav', 'trn0057.wav', 'trn0058.wav', 'trn0059.wav', 'trn0060.wav', 'trn0061.wav', 'trn0062.wav', 'trn0063.wav', 'trn0064.wav', 'trn0065.wav', 'trn0066.wav', 'trn0067.wav', 'trn0068.wav', 'trn0069.wav', 'trn0070.wav', 'trn0071.wav', 'trn0072.wav', 'trn0073.wav', 'trn0074.wav', 'trn0075.wav', 'trn0076.wav', 'trn0077.wav', 'trn0078.wav', 'trn0079.wav', 'trn0080.wav', 'trn0081.wav', 'trn0082.wav', 'trn0083.wav', 'trn0084.wav', 'trn0085.wav', 'trn0086.wav', 'trn0087.wav', 'trn0088.wav', 'trn0089.wav', 'trn0090.wav', 'trn0091.wav', 'trn0092.wav', 'trn0093.wav', 'trn0094.wav', 'trn0095.wav', 'trn0096.wav', 'trn0097.wav', 'trn0098.wav', 'trn0099.wav', 'trn0100.wav', 'trn0101.wav', 'trn0102.wav', 'trn0103.wav', 'trn0104.wav', 'trn0105.wav', 'trn0106.wav', 'trn0107.wav', 'trn0108.wav', 'trn0109.wav', 'trn0110.wav', 'trn0111.wav', 'trn0112.wav', 'trn0113.wav', 'trn0114.wav', 'trn0115.wav', 'trn0116.wav', 'trn0117.wav', 'trn0118.wav', 'trn0119.wav', 'trn0120.wav', 'trn0121.wav', 'trn0122.wav', 'trn0123.wav', 'trn0124.wav', 'trn0125.wav', 'trn0126.wav', 'trn0127.wav', 'trn0128.wav', 'trn0129.wav', 'trn0130.wav', 'trn0131.wav', 'trn0132.wav', 'trn0133.wav', 'trn0134.wav', 'trn0135.wav', 'trn0136.wav', 'trn0137.wav', 'trn0138.wav', 'trn0139.wav', 'trn0140.wav', 'trn0141.wav', 'trn0142.wav', 'trn0143.wav', 'trn0144.wav', 'trn0145.wav', 'trn0146.wav', 'trn0147.wav', 'trn0148.wav', 'trn0149.wav', 'trn0150.wav', 'trn0151.wav', 'trn0152.wav', 'trn0153.wav', 'trn0154.wav', 'trn0155.wav', 'trn0156.wav', 'trn0157.wav', 'trn0158.wav', 'trn0159.wav', 'trn0160.wav', 'trn0161.wav', 'trn0162.wav', 'trn0163.wav', 'trn0164.wav', 'trn0165.wav', 'trn0166.wav', 'trn0167.wav', 'trn0168.wav', 'trn0169.wav', 'trn0170.wav', 'trn0171.wav', 'trn0172.wav', 'trn0173.wav', 'trn0174.wav', 'trn0175.wav', 'trn0176.wav', 'trn0177.wav', 'trn0178.wav', 'trn0179.wav', 'trn0180.wav', 'trn0181.wav', 'trn0182.wav', 'trn0183.wav', 'trn0184.wav', 'trn0185.wav', 'trn0186.wav', 'trn0187.wav', 'trn0188.wav', 'trn0189.wav', 'trn0190.wav', 'trn0191.wav', 'trn0192.wav', 'trn0193.wav', 'trn0194.wav', 'trn0195.wav', 'trn0196.wav', 'trn0197.wav', 'trn0198.wav', 'trn0199.wav', 'trn0200.wav', 'trn0201.wav', 'trn0202.wav', 'trn0203.wav', 'trn0204.wav', 'trn0205.wav', 'trn0206.wav', 'trn0207.wav', 'trn0208.wav', 'trn0209.wav', 'trn0210.wav', 'trn0211.wav', 'trn0212.wav', 'trn0213.wav', 'trn0214.wav', 'trn0215.wav', 'trn0216.wav', 'trn0217.wav', 'trn0218.wav', 'trn0219.wav', 'trn0220.wav', 'trn0221.wav', 'trn0222.wav', 'trn0223.wav', 'trn0224.wav', 'trn0225.wav', 'trn0226.wav', 'trn0227.wav', 'trn0228.wav', 'trn0229.wav', 'trn0230.wav', 'trn0231.wav', 'trn0232.wav', 'trn0233.wav', 'trn0234.wav', 'trn0235.wav', 'trn0236.wav', 'trn0237.wav', 'trn0238.wav', 'trn0239.wav', 'trn0240.wav', 'trn0241.wav', 'trn0242.wav', 'trn0243.wav', 'trn0244.wav', 'trn0245.wav', 'trn0246.wav', 'trn0247.wav', 'trn0248.wav', 'trn0249.wav', 'trn0250.wav', 'trn0251.wav', 'trn0252.wav', 'trn0253.wav', 'trn0254.wav', 'trn0255.wav', 'trn0256.wav', 'trn0257.wav', 'trn0258.wav', 'trn0259.wav', 'trn0260.wav', 'trn0261.wav', 'trn0262.wav', 'trn0263.wav', 'trn0264.wav', 'trn0265.wav', 'trn0266.wav', 'trn0267.wav', 'trn0268.wav', 'trn0269.wav', 'trn0270.wav', 'trn0271.wav', 'trn0272.wav', 'trn0273.wav', 'trn0274.wav', 'trn0275.wav', 'trn0276.wav', 'trn0277.wav', 'trn0278.wav', 'trn0279.wav', 'trn0280.wav', 'trn0281.wav', 'trn0282.wav', 'trn0283.wav', 'trn0284.wav', 'trn0285.wav', 'trn0286.wav', 'trn0287.wav', 'trn0288.wav', 'trn0289.wav', 'trn0290.wav', 'trn0291.wav', 'trn0292.wav', 'trn0293.wav', 'trn0294.wav', 'trn0295.wav', 'trn0296.wav', 'trn0297.wav', 'trn0298.wav', 'trn0299.wav', 'trn0300.wav', 'trn0301.wav', 'trn0302.wav', 'trn0303.wav', 'trn0304.wav', 'trn0305.wav', 'trn0306.wav', 'trn0307.wav', 'trn0308.wav', 'trn0309.wav', 'trn0310.wav', 'trn0311.wav', 'trn0312.wav', 'trn0313.wav', 'trn0314.wav', 'trn0315.wav', 'trn0316.wav', 'trn0317.wav', 'trn0318.wav', 'trn0319.wav', 'trn0320.wav', 'trn0321.wav', 'trn0322.wav', 'trn0323.wav', 'trn0324.wav', 'trn0325.wav', 'trn0326.wav', 'trn0327.wav', 'trn0328.wav', 'trn0329.wav', 'trn0330.wav', 'trn0331.wav', 'trn0332.wav', 'trn0333.wav', 'trn0334.wav', 'trn0335.wav', 'trn0336.wav', 'trn0337.wav', 'trn0338.wav', 'trn0339.wav', 'trn0340.wav', 'trn0341.wav', 'trn0342.wav', 'trn0343.wav', 'trn0344.wav', 'trn0345.wav', 'trn0346.wav', 'trn0347.wav', 'trn0348.wav', 'trn0349.wav', 'trn0350.wav', 'trn0351.wav', 'trn0352.wav', 'trn0353.wav', 'trn0354.wav', 'trn0355.wav', 'trn0356.wav', 'trn0357.wav', 'trn0358.wav', 'trn0359.wav', 'trn0360.wav', 'trn0361.wav', 'trn0362.wav', 'trn0363.wav', 'trn0364.wav', 'trn0365.wav', 'trn0366.wav', 'trn0367.wav', 'trn0368.wav', 'trn0369.wav', 'trn0370.wav', 'trn0371.wav', 'trn0372.wav', 'trn0373.wav', 'trn0374.wav', 'trn0375.wav', 'trn0376.wav', 'trn0377.wav', 'trn0378.wav', 'trn0379.wav', 'trn0380.wav', 'trn0381.wav', 'trn0382.wav', 'trn0383.wav', 'trn0384.wav', 'trn0385.wav', 'trn0386.wav', 'trn0387.wav', 'trn0388.wav', 'trn0389.wav', 'trn0390.wav', 'trn0391.wav', 'trn0392.wav', 'trn0393.wav', 'trn0394.wav', 'trn0395.wav', 'trn0396.wav', 'trn0397.wav', 'trn0398.wav', 'trn0399.wav', 'trn0400.wav', 'trn0401.wav', 'trn0402.wav', 'trn0403.wav', 'trn0404.wav', 'trn0405.wav', 'trn0406.wav', 'trn0407.wav', 'trn0408.wav', 'trn0409.wav', 'trn0410.wav', 'trn0411.wav', 'trn0412.wav', 'trn0413.wav', 'trn0414.wav', 'trn0415.wav', 'trn0416.wav', 'trn0417.wav', 'trn0418.wav', 'trn0419.wav', 'trn0420.wav', 'trn0421.wav', 'trn0422.wav', 'trn0423.wav', 'trn0424.wav', 'trn0425.wav', 'trn0426.wav', 'trn0427.wav', 'trn0428.wav', 'trn0429.wav', 'trn0430.wav', 'trn0431.wav', 'trn0432.wav', 'trn0433.wav', 'trn0434.wav', 'trn0435.wav', 'trn0436.wav', 'trn0437.wav', 'trn0438.wav', 'trn0439.wav', 'trn0440.wav', 'trn0441.wav', 'trn0442.wav', 'trn0443.wav', 'trn0444.wav', 'trn0445.wav', 'trn0446.wav', 'trn0447.wav', 'trn0448.wav', 'trn0449.wav', 'trn0450.wav', 'trn0451.wav', 'trn0452.wav', 'trn0453.wav', 'trn0454.wav', 'trn0455.wav', 'trn0456.wav', 'trn0457.wav', 'trn0458.wav', 'trn0459.wav', 'trn0460.wav', 'trn0461.wav', 'trn0462.wav', 'trn0463.wav', 'trn0464.wav', 'trn0465.wav', 'trn0466.wav', 'trn0467.wav', 'trn0468.wav', 'trn0469.wav', 'trn0470.wav', 'trn0471.wav', 'trn0472.wav', 'trn0473.wav', 'trn0474.wav', 'trn0475.wav', 'trn0476.wav', 'trn0477.wav', 'trn0478.wav', 'trn0479.wav', 'trn0480.wav', 'trn0481.wav', 'trn0482.wav', 'trn0483.wav', 'trn0484.wav', 'trn0485.wav', 'trn0486.wav', 'trn0487.wav', 'trn0488.wav', 'trn0489.wav', 'trn0490.wav', 'trn0491.wav', 'trn0492.wav', 'trn0493.wav', 'trn0494.wav', 'trn0495.wav', 'trn0496.wav', 'trn0497.wav', 'trn0498.wav', 'trn0499.wav', 'trn0500.wav', 'trn0501.wav', 'trn0502.wav', 'trn0503.wav', 'trn0504.wav', 'trn0505.wav', 'trn0506.wav', 'trn0507.wav', 'trn0508.wav', 'trn0509.wav', 'trn0510.wav', 'trn0511.wav', 'trn0512.wav', 'trn0513.wav', 'trn0514.wav', 'trn0515.wav', 'trn0516.wav', 'trn0517.wav', 'trn0518.wav', 'trn0519.wav', 'trn0520.wav', 'trn0521.wav', 'trn0522.wav', 'trn0523.wav', 'trn0524.wav', 'trn0525.wav', 'trn0526.wav', 'trn0527.wav', 'trn0528.wav', 'trn0529.wav', 'trn0530.wav', 'trn0531.wav', 'trn0532.wav', 'trn0533.wav', 'trn0534.wav', 'trn0535.wav', 'trn0536.wav', 'trn0537.wav', 'trn0538.wav', 'trn0539.wav', 'trn0540.wav', 'trn0541.wav', 'trn0542.wav', 'trn0543.wav', 'trn0544.wav', 'trn0545.wav', 'trn0546.wav', 'trn0547.wav', 'trn0548.wav', 'trn0549.wav', 'trn0550.wav', 'trn0551.wav', 'trn0552.wav', 'trn0553.wav', 'trn0554.wav', 'trn0555.wav', 'trn0556.wav', 'trn0557.wav', 'trn0558.wav', 'trn0559.wav', 'trn0560.wav', 'trn0561.wav', 'trn0562.wav', 'trn0563.wav', 'trn0564.wav', 'trn0565.wav', 'trn0566.wav', 'trn0567.wav', 'trn0568.wav', 'trn0569.wav', 'trn0570.wav', 'trn0571.wav', 'trn0572.wav', 'trn0573.wav', 'trn0574.wav', 'trn0575.wav', 'trn0576.wav', 'trn0577.wav', 'trn0578.wav', 'trn0579.wav', 'trn0580.wav', 'trn0581.wav', 'trn0582.wav', 'trn0583.wav', 'trn0584.wav', 'trn0585.wav', 'trn0586.wav', 'trn0587.wav', 'trn0588.wav', 'trn0589.wav', 'trn0590.wav', 'trn0591.wav', 'trn0592.wav', 'trn0593.wav', 'trn0594.wav', 'trn0595.wav', 'trn0596.wav', 'trn0597.wav', 'trn0598.wav', 'trn0599.wav', 'trn0600.wav', 'trn0601.wav', 'trn0602.wav', 'trn0603.wav', 'trn0604.wav', 'trn0605.wav', 'trn0606.wav', 'trn0607.wav', 'trn0608.wav', 'trn0609.wav', 'trn0610.wav', 'trn0611.wav', 'trn0612.wav', 'trn0613.wav', 'trn0614.wav', 'trn0615.wav', 'trn0616.wav', 'trn0617.wav', 'trn0618.wav', 'trn0619.wav', 'trn0620.wav', 'trn0621.wav', 'trn0622.wav', 'trn0623.wav', 'trn0624.wav', 'trn0625.wav', 'trn0626.wav', 'trn0627.wav', 'trn0628.wav', 'trn0629.wav', 'trn0630.wav', 'trn0631.wav', 'trn0632.wav', 'trn0633.wav', 'trn0634.wav', 'trn0635.wav', 'trn0636.wav', 'trn0637.wav', 'trn0638.wav', 'trn0639.wav', 'trn0640.wav', 'trn0641.wav', 'trn0642.wav', 'trn0643.wav', 'trn0644.wav', 'trn0645.wav', 'trn0646.wav', 'trn0647.wav', 'trn0648.wav', 'trn0649.wav', 'trn0650.wav', 'trn0651.wav', 'trn0652.wav', 'trn0653.wav', 'trn0654.wav', 'trn0655.wav', 'trn0656.wav', 'trn0657.wav', 'trn0658.wav', 'trn0659.wav', 'trn0660.wav', 'trn0661.wav', 'trn0662.wav', 'trn0663.wav', 'trn0664.wav', 'trn0665.wav', 'trn0666.wav', 'trn0667.wav', 'trn0668.wav', 'trn0669.wav', 'trn0670.wav', 'trn0671.wav', 'trn0672.wav', 'trn0673.wav', 'trn0674.wav', 'trn0675.wav', 'trn0676.wav', 'trn0677.wav', 'trn0678.wav', 'trn0679.wav', 'trn0680.wav', 'trn0681.wav', 'trn0682.wav', 'trn0683.wav', 'trn0684.wav', 'trn0685.wav', 'trn0686.wav', 'trn0687.wav', 'trn0688.wav', 'trn0689.wav', 'trn0690.wav', 'trn0691.wav', 'trn0692.wav', 'trn0693.wav', 'trn0694.wav', 'trn0695.wav', 'trn0696.wav', 'trn0697.wav', 'trn0698.wav', 'trn0699.wav', 'trn0700.wav', 'trn0701.wav', 'trn0702.wav', 'trn0703.wav', 'trn0704.wav', 'trn0705.wav', 'trn0706.wav', 'trn0707.wav', 'trn0708.wav', 'trn0709.wav', 'trn0710.wav', 'trn0711.wav', 'trn0712.wav', 'trn0713.wav', 'trn0714.wav', 'trn0715.wav', 'trn0716.wav', 'trn0717.wav', 'trn0718.wav', 'trn0719.wav', 'trn0720.wav', 'trn0721.wav', 'trn0722.wav', 'trn0723.wav', 'trn0724.wav', 'trn0725.wav', 'trn0726.wav', 'trn0727.wav', 'trn0728.wav', 'trn0729.wav', 'trn0730.wav', 'trn0731.wav', 'trn0732.wav', 'trn0733.wav', 'trn0734.wav', 'trn0735.wav', 'trn0736.wav', 'trn0737.wav', 'trn0738.wav', 'trn0739.wav', 'trn0740.wav', 'trn0741.wav', 'trn0742.wav', 'trn0743.wav', 'trn0744.wav', 'trn0745.wav', 'trn0746.wav', 'trn0747.wav', 'trn0748.wav', 'trn0749.wav', 'trn0750.wav', 'trn0751.wav', 'trn0752.wav', 'trn0753.wav', 'trn0754.wav', 'trn0755.wav', 'trn0756.wav', 'trn0757.wav', 'trn0758.wav', 'trn0759.wav', 'trn0760.wav', 'trn0761.wav', 'trn0762.wav', 'trn0763.wav', 'trn0764.wav', 'trn0765.wav', 'trn0766.wav', 'trn0767.wav', 'trn0768.wav', 'trn0769.wav', 'trn0770.wav', 'trn0771.wav', 'trn0772.wav', 'trn0773.wav', 'trn0774.wav', 'trn0775.wav', 'trn0776.wav', 'trn0777.wav', 'trn0778.wav', 'trn0779.wav', 'trn0780.wav', 'trn0781.wav', 'trn0782.wav', 'trn0783.wav', 'trn0784.wav', 'trn0785.wav', 'trn0786.wav', 'trn0787.wav', 'trn0788.wav', 'trn0789.wav', 'trn0790.wav', 'trn0791.wav', 'trn0792.wav', 'trn0793.wav', 'trn0794.wav', 'trn0795.wav', 'trn0796.wav', 'trn0797.wav', 'trn0798.wav', 'trn0799.wav', 'trn0800.wav', 'trn0801.wav', 'trn0802.wav', 'trn0803.wav', 'trn0804.wav', 'trn0805.wav', 'trn0806.wav', 'trn0807.wav', 'trn0808.wav', 'trn0809.wav', 'trn0810.wav', 'trn0811.wav', 'trn0812.wav', 'trn0813.wav', 'trn0814.wav', 'trn0815.wav', 'trn0816.wav', 'trn0817.wav', 'trn0818.wav', 'trn0819.wav', 'trn0820.wav', 'trn0821.wav', 'trn0822.wav', 'trn0823.wav', 'trn0824.wav', 'trn0825.wav', 'trn0826.wav', 'trn0827.wav', 'trn0828.wav', 'trn0829.wav', 'trn0830.wav', 'trn0831.wav', 'trn0832.wav', 'trn0833.wav', 'trn0834.wav', 'trn0835.wav', 'trn0836.wav', 'trn0837.wav', 'trn0838.wav', 'trn0839.wav', 'trn0840.wav', 'trn0841.wav', 'trn0842.wav', 'trn0843.wav', 'trn0844.wav', 'trn0845.wav', 'trn0846.wav', 'trn0847.wav', 'trn0848.wav', 'trn0849.wav', 'trn0850.wav', 'trn0851.wav', 'trn0852.wav', 'trn0853.wav', 'trn0854.wav', 'trn0855.wav', 'trn0856.wav', 'trn0857.wav', 'trn0858.wav', 'trn0859.wav', 'trn0860.wav', 'trn0861.wav', 'trn0862.wav', 'trn0863.wav', 'trn0864.wav', 'trn0865.wav', 'trn0866.wav', 'trn0867.wav', 'trn0868.wav', 'trn0869.wav', 'trn0870.wav', 'trn0871.wav', 'trn0872.wav', 'trn0873.wav', 'trn0874.wav', 'trn0875.wav', 'trn0876.wav', 'trn0877.wav', 'trn0878.wav', 'trn0879.wav', 'trn0880.wav', 'trn0881.wav', 'trn0882.wav', 'trn0883.wav', 'trn0884.wav', 'trn0885.wav', 'trn0886.wav', 'trn0887.wav', 'trn0888.wav', 'trn0889.wav', 'trn0890.wav', 'trn0891.wav', 'trn0892.wav', 'trn0893.wav', 'trn0894.wav', 'trn0895.wav', 'trn0896.wav', 'trn0897.wav', 'trn0898.wav', 'trn0899.wav', 'trn0900.wav', 'trn0901.wav', 'trn0902.wav', 'trn0903.wav', 'trn0904.wav', 'trn0905.wav', 'trn0906.wav', 'trn0907.wav', 'trn0908.wav', 'trn0909.wav', 'trn0910.wav', 'trn0911.wav', 'trn0912.wav', 'trn0913.wav', 'trn0914.wav', 'trn0915.wav', 'trn0916.wav', 'trn0917.wav', 'trn0918.wav', 'trn0919.wav', 'trn0920.wav', 'trn0921.wav', 'trn0922.wav', 'trn0923.wav', 'trn0924.wav', 'trn0925.wav', 'trn0926.wav', 'trn0927.wav', 'trn0928.wav', 'trn0929.wav', 'trn0930.wav', 'trn0931.wav', 'trn0932.wav', 'trn0933.wav', 'trn0934.wav', 'trn0935.wav', 'trn0936.wav', 'trn0937.wav', 'trn0938.wav', 'trn0939.wav', 'trn0940.wav', 'trn0941.wav', 'trn0942.wav', 'trn0943.wav', 'trn0944.wav', 'trn0945.wav', 'trn0946.wav', 'trn0947.wav', 'trn0948.wav', 'trn0949.wav', 'trn0950.wav', 'trn0951.wav', 'trn0952.wav', 'trn0953.wav', 'trn0954.wav', 'trn0955.wav', 'trn0956.wav', 'trn0957.wav', 'trn0958.wav', 'trn0959.wav', 'trn0960.wav', 'trn0961.wav', 'trn0962.wav', 'trn0963.wav', 'trn0964.wav', 'trn0965.wav', 'trn0966.wav', 'trn0967.wav', 'trn0968.wav', 'trn0969.wav', 'trn0970.wav', 'trn0971.wav', 'trn0972.wav', 'trn0973.wav', 'trn0974.wav', 'trn0975.wav', 'trn0976.wav', 'trn0977.wav', 'trn0978.wav', 'trn0979.wav', 'trn0980.wav', 'trn0981.wav', 'trn0982.wav', 'trn0983.wav', 'trn0984.wav', 'trn0985.wav', 'trn0986.wav', 'trn0987.wav', 'trn0988.wav', 'trn0989.wav', 'trn0990.wav', 'trn0991.wav', 'trn0992.wav', 'trn0993.wav', 'trn0994.wav', 'trn0995.wav', 'trn0996.wav', 'trn0997.wav', 'trn0998.wav', 'trn0999.wav', 'trn1000.wav', 'trn1001.wav', 'trn1002.wav', 'trn1003.wav', 'trn1004.wav', 'trn1005.wav', 'trn1006.wav', 'trn1007.wav', 'trn1008.wav', 'trn1009.wav', 'trn1010.wav', 'trn1011.wav', 'trn1012.wav', 'trn1013.wav', 'trn1014.wav', 'trn1015.wav', 'trn1016.wav', 'trn1017.wav', 'trn1018.wav', 'trn1019.wav', 'trn1020.wav', 'trn1021.wav', 'trn1022.wav', 'trn1023.wav', 'trn1024.wav', 'trn1025.wav', 'trn1026.wav', 'trn1027.wav', 'trn1028.wav', 'trn1029.wav', 'trn1030.wav', 'trn1031.wav', 'trn1032.wav', 'trn1033.wav', 'trn1034.wav', 'trn1035.wav', 'trn1036.wav', 'trn1037.wav', 'trn1038.wav', 'trn1039.wav', 'trn1040.wav', 'trn1041.wav', 'trn1042.wav', 'trn1043.wav', 'trn1044.wav', 'trn1045.wav', 'trn1046.wav', 'trn1047.wav', 'trn1048.wav', 'trn1049.wav', 'trn1050.wav', 'trn1051.wav', 'trn1052.wav', 'trn1053.wav', 'trn1054.wav', 'trn1055.wav', 'trn1056.wav', 'trn1057.wav', 'trn1058.wav', 'trn1059.wav', 'trn1060.wav', 'trn1061.wav', 'trn1062.wav', 'trn1063.wav', 'trn1064.wav', 'trn1065.wav', 'trn1066.wav', 'trn1067.wav', 'trn1068.wav', 'trn1069.wav', 'trn1070.wav', 'trn1071.wav', 'trn1072.wav', 'trn1073.wav', 'trn1074.wav', 'trn1075.wav', 'trn1076.wav', 'trn1077.wav', 'trn1078.wav', 'trn1079.wav', 'trn1080.wav', 'trn1081.wav', 'trn1082.wav', 'trn1083.wav', 'trn1084.wav', 'trn1085.wav', 'trn1086.wav', 'trn1087.wav', 'trn1088.wav', 'trn1089.wav', 'trn1090.wav', 'trn1091.wav', 'trn1092.wav', 'trn1093.wav', 'trn1094.wav', 'trn1095.wav', 'trn1096.wav', 'trn1097.wav', 'trn1098.wav', 'trn1099.wav', 'trn1100.wav', 'trn1101.wav', 'trn1102.wav', 'trn1103.wav', 'trn1104.wav', 'trn1105.wav', 'trn1106.wav', 'trn1107.wav', 'trn1108.wav', 'trn1109.wav', 'trn1110.wav', 'trn1111.wav', 'trn1112.wav', 'trn1113.wav', 'trn1114.wav', 'trn1115.wav', 'trn1116.wav', 'trn1117.wav', 'trn1118.wav', 'trn1119.wav', 'trn1120.wav', 'trn1121.wav', 'trn1122.wav', 'trn1123.wav', 'trn1124.wav', 'trn1125.wav', 'trn1126.wav', 'trn1127.wav', 'trn1128.wav', 'trn1129.wav', 'trn1130.wav', 'trn1131.wav', 'trn1132.wav', 'trn1133.wav', 'trn1134.wav', 'trn1135.wav', 'trn1136.wav', 'trn1137.wav', 'trn1138.wav', 'trn1139.wav', 'trn1140.wav', 'trn1141.wav', 'trn1142.wav', 'trn1143.wav', 'trn1144.wav', 'trn1145.wav', 'trn1146.wav', 'trn1147.wav', 'trn1148.wav', 'trn1149.wav', 'trn1150.wav', 'trn1151.wav', 'trn1152.wav', 'trn1153.wav', 'trn1154.wav', 'trn1155.wav', 'trn1156.wav', 'trn1157.wav', 'trn1158.wav', 'trn1159.wav', 'trn1160.wav', 'trn1161.wav', 'trn1162.wav', 'trn1163.wav', 'trn1164.wav', 'trn1165.wav', 'trn1166.wav', 'trn1167.wav', 'trn1168.wav', 'trn1169.wav', 'trn1170.wav', 'trn1171.wav', 'trn1172.wav', 'trn1173.wav', 'trn1174.wav', 'trn1175.wav', 'trn1176.wav', 'trn1177.wav', 'trn1178.wav', 'trn1179.wav', 'trn1180.wav', 'trn1181.wav', 'trn1182.wav', 'trn1183.wav', 'trn1184.wav', 'trn1185.wav', 'trn1186.wav', 'trn1187.wav', 'trn1188.wav', 'trn1189.wav', 'trn1190.wav', 'trn1191.wav', 'trn1192.wav', 'trn1193.wav', 'trn1194.wav', 'trn1195.wav', 'trn1196.wav', 'trn1197.wav', 'trn1198.wav', 'trn1199.wav', 'trs0000.wav', 'trs0001.wav', 'trs0002.wav', 'trs0003.wav', 'trs0004.wav', 'trs0005.wav', 'trs0006.wav', 'trs0007.wav', 'trs0008.wav', 'trs0009.wav', 'trs0010.wav', 'trs0011.wav', 'trs0012.wav', 'trs0013.wav', 'trs0014.wav', 'trs0015.wav', 'trs0016.wav', 'trs0017.wav', 'trs0018.wav', 'trs0019.wav', 'trs0020.wav', 'trs0021.wav', 'trs0022.wav', 'trs0023.wav', 'trs0024.wav', 'trs0025.wav', 'trs0026.wav', 'trs0027.wav', 'trs0028.wav', 'trs0029.wav', 'trs0030.wav', 'trs0031.wav', 'trs0032.wav', 'trs0033.wav', 'trs0034.wav', 'trs0035.wav', 'trs0036.wav', 'trs0037.wav', 'trs0038.wav', 'trs0039.wav', 'trs0040.wav', 'trs0041.wav', 'trs0042.wav', 'trs0043.wav', 'trs0044.wav', 'trs0045.wav', 'trs0046.wav', 'trs0047.wav', 'trs0048.wav', 'trs0049.wav', 'trs0050.wav', 'trs0051.wav', 'trs0052.wav', 'trs0053.wav', 'trs0054.wav', 'trs0055.wav', 'trs0056.wav', 'trs0057.wav', 'trs0058.wav', 'trs0059.wav', 'trs0060.wav', 'trs0061.wav', 'trs0062.wav', 'trs0063.wav', 'trs0064.wav', 'trs0065.wav', 'trs0066.wav', 'trs0067.wav', 'trs0068.wav', 'trs0069.wav', 'trs0070.wav', 'trs0071.wav', 'trs0072.wav', 'trs0073.wav', 'trs0074.wav', 'trs0075.wav', 'trs0076.wav', 'trs0077.wav', 'trs0078.wav', 'trs0079.wav', 'trs0080.wav', 'trs0081.wav', 'trs0082.wav', 'trs0083.wav', 'trs0084.wav', 'trs0085.wav', 'trs0086.wav', 'trs0087.wav', 'trs0088.wav', 'trs0089.wav', 'trs0090.wav', 'trs0091.wav', 'trs0092.wav', 'trs0093.wav', 'trs0094.wav', 'trs0095.wav', 'trs0096.wav', 'trs0097.wav', 'trs0098.wav', 'trs0099.wav', 'trs0100.wav', 'trs0101.wav', 'trs0102.wav', 'trs0103.wav', 'trs0104.wav', 'trs0105.wav', 'trs0106.wav', 'trs0107.wav', 'trs0108.wav', 'trs0109.wav', 'trs0110.wav', 'trs0111.wav', 'trs0112.wav', 'trs0113.wav', 'trs0114.wav', 'trs0115.wav', 'trs0116.wav', 'trs0117.wav', 'trs0118.wav', 'trs0119.wav', 'trs0120.wav', 'trs0121.wav', 'trs0122.wav', 'trs0123.wav', 'trs0124.wav', 'trs0125.wav', 'trs0126.wav', 'trs0127.wav', 'trs0128.wav', 'trs0129.wav', 'trs0130.wav', 'trs0131.wav', 'trs0132.wav', 'trs0133.wav', 'trs0134.wav', 'trs0135.wav', 'trs0136.wav', 'trs0137.wav', 'trs0138.wav', 'trs0139.wav', 'trs0140.wav', 'trs0141.wav', 'trs0142.wav', 'trs0143.wav', 'trs0144.wav', 'trs0145.wav', 'trs0146.wav', 'trs0147.wav', 'trs0148.wav', 'trs0149.wav', 'trs0150.wav', 'trs0151.wav', 'trs0152.wav', 'trs0153.wav', 'trs0154.wav', 'trs0155.wav', 'trs0156.wav', 'trs0157.wav', 'trs0158.wav', 'trs0159.wav', 'trs0160.wav', 'trs0161.wav', 'trs0162.wav', 'trs0163.wav', 'trs0164.wav', 'trs0165.wav', 'trs0166.wav', 'trs0167.wav', 'trs0168.wav', 'trs0169.wav', 'trs0170.wav', 'trs0171.wav', 'trs0172.wav', 'trs0173.wav', 'trs0174.wav', 'trs0175.wav', 'trs0176.wav', 'trs0177.wav', 'trs0178.wav', 'trs0179.wav', 'trs0180.wav', 'trs0181.wav', 'trs0182.wav', 'trs0183.wav', 'trs0184.wav', 'trs0185.wav', 'trs0186.wav', 'trs0187.wav', 'trs0188.wav', 'trs0189.wav', 'trs0190.wav', 'trs0191.wav', 'trs0192.wav', 'trs0193.wav', 'trs0194.wav', 'trs0195.wav', 'trs0196.wav', 'trs0197.wav', 'trs0198.wav', 'trs0199.wav', 'trs0200.wav', 'trs0201.wav', 'trs0202.wav', 'trs0203.wav', 'trs0204.wav', 'trs0205.wav', 'trs0206.wav', 'trs0207.wav', 'trs0208.wav', 'trs0209.wav', 'trs0210.wav', 'trs0211.wav', 'trs0212.wav', 'trs0213.wav', 'trs0214.wav', 'trs0215.wav', 'trs0216.wav', 'trs0217.wav', 'trs0218.wav', 'trs0219.wav', 'trs0220.wav', 'trs0221.wav', 'trs0222.wav', 'trs0223.wav', 'trs0224.wav', 'trs0225.wav', 'trs0226.wav', 'trs0227.wav', 'trs0228.wav', 'trs0229.wav', 'trs0230.wav', 'trs0231.wav', 'trs0232.wav', 'trs0233.wav', 'trs0234.wav', 'trs0235.wav', 'trs0236.wav', 'trs0237.wav', 'trs0238.wav', 'trs0239.wav', 'trs0240.wav', 'trs0241.wav', 'trs0242.wav', 'trs0243.wav', 'trs0244.wav', 'trs0245.wav', 'trs0246.wav', 'trs0247.wav', 'trs0248.wav', 'trs0249.wav', 'trs0250.wav', 'trs0251.wav', 'trs0252.wav', 'trs0253.wav', 'trs0254.wav', 'trs0255.wav', 'trs0256.wav', 'trs0257.wav', 'trs0258.wav', 'trs0259.wav', 'trs0260.wav', 'trs0261.wav', 'trs0262.wav', 'trs0263.wav', 'trs0264.wav', 'trs0265.wav', 'trs0266.wav', 'trs0267.wav', 'trs0268.wav', 'trs0269.wav', 'trs0270.wav', 'trs0271.wav', 'trs0272.wav', 'trs0273.wav', 'trs0274.wav', 'trs0275.wav', 'trs0276.wav', 'trs0277.wav', 'trs0278.wav', 'trs0279.wav', 'trs0280.wav', 'trs0281.wav', 'trs0282.wav', 'trs0283.wav', 'trs0284.wav', 'trs0285.wav', 'trs0286.wav', 'trs0287.wav', 'trs0288.wav', 'trs0289.wav', 'trs0290.wav', 'trs0291.wav', 'trs0292.wav', 'trs0293.wav', 'trs0294.wav', 'trs0295.wav', 'trs0296.wav', 'trs0297.wav', 'trs0298.wav', 'trs0299.wav', 'trs0300.wav', 'trs0301.wav', 'trs0302.wav', 'trs0303.wav', 'trs0304.wav', 'trs0305.wav', 'trs0306.wav', 'trs0307.wav', 'trs0308.wav', 'trs0309.wav', 'trs0310.wav', 'trs0311.wav', 'trs0312.wav', 'trs0313.wav', 'trs0314.wav', 'trs0315.wav', 'trs0316.wav', 'trs0317.wav', 'trs0318.wav', 'trs0319.wav', 'trs0320.wav', 'trs0321.wav', 'trs0322.wav', 'trs0323.wav', 'trs0324.wav', 'trs0325.wav', 'trs0326.wav', 'trs0327.wav', 'trs0328.wav', 'trs0329.wav', 'trs0330.wav', 'trs0331.wav', 'trs0332.wav', 'trs0333.wav', 'trs0334.wav', 'trs0335.wav', 'trs0336.wav', 'trs0337.wav', 'trs0338.wav', 'trs0339.wav', 'trs0340.wav', 'trs0341.wav', 'trs0342.wav', 'trs0343.wav', 'trs0344.wav', 'trs0345.wav', 'trs0346.wav', 'trs0347.wav', 'trs0348.wav', 'trs0349.wav', 'trs0350.wav', 'trs0351.wav', 'trs0352.wav', 'trs0353.wav', 'trs0354.wav', 'trs0355.wav', 'trs0356.wav', 'trs0357.wav', 'trs0358.wav', 'trs0359.wav', 'trs0360.wav', 'trs0361.wav', 'trs0362.wav', 'trs0363.wav', 'trs0364.wav', 'trs0365.wav', 'trs0366.wav', 'trs0367.wav', 'trs0368.wav', 'trs0369.wav', 'trs0370.wav', 'trs0371.wav', 'trs0372.wav', 'trs0373.wav', 'trs0374.wav', 'trs0375.wav', 'trs0376.wav', 'trs0377.wav', 'trs0378.wav', 'trs0379.wav', 'trs0380.wav', 'trs0381.wav', 'trs0382.wav', 'trs0383.wav', 'trs0384.wav', 'trs0385.wav', 'trs0386.wav', 'trs0387.wav', 'trs0388.wav', 'trs0389.wav', 'trs0390.wav', 'trs0391.wav', 'trs0392.wav', 'trs0393.wav', 'trs0394.wav', 'trs0395.wav', 'trs0396.wav', 'trs0397.wav', 'trs0398.wav', 'trs0399.wav', 'trs0400.wav', 'trs0401.wav', 'trs0402.wav', 'trs0403.wav', 'trs0404.wav', 'trs0405.wav', 'trs0406.wav', 'trs0407.wav', 'trs0408.wav', 'trs0409.wav', 'trs0410.wav', 'trs0411.wav', 'trs0412.wav', 'trs0413.wav', 'trs0414.wav', 'trs0415.wav', 'trs0416.wav', 'trs0417.wav', 'trs0418.wav', 'trs0419.wav', 'trs0420.wav', 'trs0421.wav', 'trs0422.wav', 'trs0423.wav', 'trs0424.wav', 'trs0425.wav', 'trs0426.wav', 'trs0427.wav', 'trs0428.wav', 'trs0429.wav', 'trs0430.wav', 'trs0431.wav', 'trs0432.wav', 'trs0433.wav', 'trs0434.wav', 'trs0435.wav', 'trs0436.wav', 'trs0437.wav', 'trs0438.wav', 'trs0439.wav', 'trs0440.wav', 'trs0441.wav', 'trs0442.wav', 'trs0443.wav', 'trs0444.wav', 'trs0445.wav', 'trs0446.wav', 'trs0447.wav', 'trs0448.wav', 'trs0449.wav', 'trs0450.wav', 'trs0451.wav', 'trs0452.wav', 'trs0453.wav', 'trs0454.wav', 'trs0455.wav', 'trs0456.wav', 'trs0457.wav', 'trs0458.wav', 'trs0459.wav', 'trs0460.wav', 'trs0461.wav', 'trs0462.wav', 'trs0463.wav', 'trs0464.wav', 'trs0465.wav', 'trs0466.wav', 'trs0467.wav', 'trs0468.wav', 'trs0469.wav', 'trs0470.wav', 'trs0471.wav', 'trs0472.wav', 'trs0473.wav', 'trs0474.wav', 'trs0475.wav', 'trs0476.wav', 'trs0477.wav', 'trs0478.wav', 'trs0479.wav', 'trs0480.wav', 'trs0481.wav', 'trs0482.wav', 'trs0483.wav', 'trs0484.wav', 'trs0485.wav', 'trs0486.wav', 'trs0487.wav', 'trs0488.wav', 'trs0489.wav', 'trs0490.wav', 'trs0491.wav', 'trs0492.wav', 'trs0493.wav', 'trs0494.wav', 'trs0495.wav', 'trs0496.wav', 'trs0497.wav', 'trs0498.wav', 'trs0499.wav', 'trs0500.wav', 'trs0501.wav', 'trs0502.wav', 'trs0503.wav', 'trs0504.wav', 'trs0505.wav', 'trs0506.wav', 'trs0507.wav', 'trs0508.wav', 'trs0509.wav', 'trs0510.wav', 'trs0511.wav', 'trs0512.wav', 'trs0513.wav', 'trs0514.wav', 'trs0515.wav', 'trs0516.wav', 'trs0517.wav', 'trs0518.wav', 'trs0519.wav', 'trs0520.wav', 'trs0521.wav', 'trs0522.wav', 'trs0523.wav', 'trs0524.wav', 'trs0525.wav', 'trs0526.wav', 'trs0527.wav', 'trs0528.wav', 'trs0529.wav', 'trs0530.wav', 'trs0531.wav', 'trs0532.wav', 'trs0533.wav', 'trs0534.wav', 'trs0535.wav', 'trs0536.wav', 'trs0537.wav', 'trs0538.wav', 'trs0539.wav', 'trs0540.wav', 'trs0541.wav', 'trs0542.wav', 'trs0543.wav', 'trs0544.wav', 'trs0545.wav', 'trs0546.wav', 'trs0547.wav', 'trs0548.wav', 'trs0549.wav', 'trs0550.wav', 'trs0551.wav', 'trs0552.wav', 'trs0553.wav', 'trs0554.wav', 'trs0555.wav', 'trs0556.wav', 'trs0557.wav', 'trs0558.wav', 'trs0559.wav', 'trs0560.wav', 'trs0561.wav', 'trs0562.wav', 'trs0563.wav', 'trs0564.wav', 'trs0565.wav', 'trs0566.wav', 'trs0567.wav', 'trs0568.wav', 'trs0569.wav', 'trs0570.wav', 'trs0571.wav', 'trs0572.wav', 'trs0573.wav', 'trs0574.wav', 'trs0575.wav', 'trs0576.wav', 'trs0577.wav', 'trs0578.wav', 'trs0579.wav', 'trs0580.wav', 'trs0581.wav', 'trs0582.wav', 'trs0583.wav', 'trs0584.wav', 'trs0585.wav', 'trs0586.wav', 'trs0587.wav', 'trs0588.wav', 'trs0589.wav', 'trs0590.wav', 'trs0591.wav', 'trs0592.wav', 'trs0593.wav', 'trs0594.wav', 'trs0595.wav', 'trs0596.wav', 'trs0597.wav', 'trs0598.wav', 'trs0599.wav', 'trs0600.wav', 'trs0601.wav', 'trs0602.wav', 'trs0603.wav', 'trs0604.wav', 'trs0605.wav', 'trs0606.wav', 'trs0607.wav', 'trs0608.wav', 'trs0609.wav', 'trs0610.wav', 'trs0611.wav', 'trs0612.wav', 'trs0613.wav', 'trs0614.wav', 'trs0615.wav', 'trs0616.wav', 'trs0617.wav', 'trs0618.wav', 'trs0619.wav', 'trs0620.wav', 'trs0621.wav', 'trs0622.wav', 'trs0623.wav', 'trs0624.wav', 'trs0625.wav', 'trs0626.wav', 'trs0627.wav', 'trs0628.wav', 'trs0629.wav', 'trs0630.wav', 'trs0631.wav', 'trs0632.wav', 'trs0633.wav', 'trs0634.wav', 'trs0635.wav', 'trs0636.wav', 'trs0637.wav', 'trs0638.wav', 'trs0639.wav', 'trs0640.wav', 'trs0641.wav', 'trs0642.wav', 'trs0643.wav', 'trs0644.wav', 'trs0645.wav', 'trs0646.wav', 'trs0647.wav', 'trs0648.wav', 'trs0649.wav', 'trs0650.wav', 'trs0651.wav', 'trs0652.wav', 'trs0653.wav', 'trs0654.wav', 'trs0655.wav', 'trs0656.wav', 'trs0657.wav', 'trs0658.wav', 'trs0659.wav', 'trs0660.wav', 'trs0661.wav', 'trs0662.wav', 'trs0663.wav', 'trs0664.wav', 'trs0665.wav', 'trs0666.wav', 'trs0667.wav', 'trs0668.wav', 'trs0669.wav', 'trs0670.wav', 'trs0671.wav', 'trs0672.wav', 'trs0673.wav', 'trs0674.wav', 'trs0675.wav', 'trs0676.wav', 'trs0677.wav', 'trs0678.wav', 'trs0679.wav', 'trs0680.wav', 'trs0681.wav', 'trs0682.wav', 'trs0683.wav', 'trs0684.wav', 'trs0685.wav', 'trs0686.wav', 'trs0687.wav', 'trs0688.wav', 'trs0689.wav', 'trs0690.wav', 'trs0691.wav', 'trs0692.wav', 'trs0693.wav', 'trs0694.wav', 'trs0695.wav', 'trs0696.wav', 'trs0697.wav', 'trs0698.wav', 'trs0699.wav', 'trs0700.wav', 'trs0701.wav', 'trs0702.wav', 'trs0703.wav', 'trs0704.wav', 'trs0705.wav', 'trs0706.wav', 'trs0707.wav', 'trs0708.wav', 'trs0709.wav', 'trs0710.wav', 'trs0711.wav', 'trs0712.wav', 'trs0713.wav', 'trs0714.wav', 'trs0715.wav', 'trs0716.wav', 'trs0717.wav', 'trs0718.wav', 'trs0719.wav', 'trs0720.wav', 'trs0721.wav', 'trs0722.wav', 'trs0723.wav', 'trs0724.wav', 'trs0725.wav', 'trs0726.wav', 'trs0727.wav', 'trs0728.wav', 'trs0729.wav', 'trs0730.wav', 'trs0731.wav', 'trs0732.wav', 'trs0733.wav', 'trs0734.wav', 'trs0735.wav', 'trs0736.wav', 'trs0737.wav', 'trs0738.wav', 'trs0739.wav', 'trs0740.wav', 'trs0741.wav', 'trs0742.wav', 'trs0743.wav', 'trs0744.wav', 'trs0745.wav', 'trs0746.wav', 'trs0747.wav', 'trs0748.wav', 'trs0749.wav', 'trs0750.wav', 'trs0751.wav', 'trs0752.wav', 'trs0753.wav', 'trs0754.wav', 'trs0755.wav', 'trs0756.wav', 'trs0757.wav', 'trs0758.wav', 'trs0759.wav', 'trs0760.wav', 'trs0761.wav', 'trs0762.wav', 'trs0763.wav', 'trs0764.wav', 'trs0765.wav', 'trs0766.wav', 'trs0767.wav', 'trs0768.wav', 'trs0769.wav', 'trs0770.wav', 'trs0771.wav', 'trs0772.wav', 'trs0773.wav', 'trs0774.wav', 'trs0775.wav', 'trs0776.wav', 'trs0777.wav', 'trs0778.wav', 'trs0779.wav', 'trs0780.wav', 'trs0781.wav', 'trs0782.wav', 'trs0783.wav', 'trs0784.wav', 'trs0785.wav', 'trs0786.wav', 'trs0787.wav', 'trs0788.wav', 'trs0789.wav', 'trs0790.wav', 'trs0791.wav', 'trs0792.wav', 'trs0793.wav', 'trs0794.wav', 'trs0795.wav', 'trs0796.wav', 'trs0797.wav', 'trs0798.wav', 'trs0799.wav', 'trs0800.wav', 'trs0801.wav', 'trs0802.wav', 'trs0803.wav', 'trs0804.wav', 'trs0805.wav', 'trs0806.wav', 'trs0807.wav', 'trs0808.wav', 'trs0809.wav', 'trs0810.wav', 'trs0811.wav', 'trs0812.wav', 'trs0813.wav', 'trs0814.wav', 'trs0815.wav', 'trs0816.wav', 'trs0817.wav', 'trs0818.wav', 'trs0819.wav', 'trs0820.wav', 'trs0821.wav', 'trs0822.wav', 'trs0823.wav', 'trs0824.wav', 'trs0825.wav', 'trs0826.wav', 'trs0827.wav', 'trs0828.wav', 'trs0829.wav', 'trs0830.wav', 'trs0831.wav', 'trs0832.wav', 'trs0833.wav', 'trs0834.wav', 'trs0835.wav', 'trs0836.wav', 'trs0837.wav', 'trs0838.wav', 'trs0839.wav', 'trs0840.wav', 'trs0841.wav', 'trs0842.wav', 'trs0843.wav', 'trs0844.wav', 'trs0845.wav', 'trs0846.wav', 'trs0847.wav', 'trs0848.wav', 'trs0849.wav', 'trs0850.wav', 'trs0851.wav', 'trs0852.wav', 'trs0853.wav', 'trs0854.wav', 'trs0855.wav', 'trs0856.wav', 'trs0857.wav', 'trs0858.wav', 'trs0859.wav', 'trs0860.wav', 'trs0861.wav', 'trs0862.wav', 'trs0863.wav', 'trs0864.wav', 'trs0865.wav', 'trs0866.wav', 'trs0867.wav', 'trs0868.wav', 'trs0869.wav', 'trs0870.wav', 'trs0871.wav', 'trs0872.wav', 'trs0873.wav', 'trs0874.wav', 'trs0875.wav', 'trs0876.wav', 'trs0877.wav', 'trs0878.wav', 'trs0879.wav', 'trs0880.wav', 'trs0881.wav', 'trs0882.wav', 'trs0883.wav', 'trs0884.wav', 'trs0885.wav', 'trs0886.wav', 'trs0887.wav', 'trs0888.wav', 'trs0889.wav', 'trs0890.wav', 'trs0891.wav', 'trs0892.wav', 'trs0893.wav', 'trs0894.wav', 'trs0895.wav', 'trs0896.wav', 'trs0897.wav', 'trs0898.wav', 'trs0899.wav', 'trs0900.wav', 'trs0901.wav', 'trs0902.wav', 'trs0903.wav', 'trs0904.wav', 'trs0905.wav', 'trs0906.wav', 'trs0907.wav', 'trs0908.wav', 'trs0909.wav', 'trs0910.wav', 'trs0911.wav', 'trs0912.wav', 'trs0913.wav', 'trs0914.wav', 'trs0915.wav', 'trs0916.wav', 'trs0917.wav', 'trs0918.wav', 'trs0919.wav', 'trs0920.wav', 'trs0921.wav', 'trs0922.wav', 'trs0923.wav', 'trs0924.wav', 'trs0925.wav', 'trs0926.wav', 'trs0927.wav', 'trs0928.wav', 'trs0929.wav', 'trs0930.wav', 'trs0931.wav', 'trs0932.wav', 'trs0933.wav', 'trs0934.wav', 'trs0935.wav', 'trs0936.wav', 'trs0937.wav', 'trs0938.wav', 'trs0939.wav', 'trs0940.wav', 'trs0941.wav', 'trs0942.wav', 'trs0943.wav', 'trs0944.wav', 'trs0945.wav', 'trs0946.wav', 'trs0947.wav', 'trs0948.wav', 'trs0949.wav', 'trs0950.wav', 'trs0951.wav', 'trs0952.wav', 'trs0953.wav', 'trs0954.wav', 'trs0955.wav', 'trs0956.wav', 'trs0957.wav', 'trs0958.wav', 'trs0959.wav', 'trs0960.wav', 'trs0961.wav', 'trs0962.wav', 'trs0963.wav', 'trs0964.wav', 'trs0965.wav', 'trs0966.wav', 'trs0967.wav', 'trs0968.wav', 'trs0969.wav', 'trs0970.wav', 'trs0971.wav', 'trs0972.wav', 'trs0973.wav', 'trs0974.wav', 'trs0975.wav', 'trs0976.wav', 'trs0977.wav', 'trs0978.wav', 'trs0979.wav', 'trs0980.wav', 'trs0981.wav', 'trs0982.wav', 'trs0983.wav', 'trs0984.wav', 'trs0985.wav', 'trs0986.wav', 'trs0987.wav', 'trs0988.wav', 'trs0989.wav', 'trs0990.wav', 'trs0991.wav', 'trs0992.wav', 'trs0993.wav', 'trs0994.wav', 'trs0995.wav', 'trs0996.wav', 'trs0997.wav', 'trs0998.wav', 'trs0999.wav', 'trs1000.wav', 'trs1001.wav', 'trs1002.wav', 'trs1003.wav', 'trs1004.wav', 'trs1005.wav', 'trs1006.wav', 'trs1007.wav', 'trs1008.wav', 'trs1009.wav', 'trs1010.wav', 'trs1011.wav', 'trs1012.wav', 'trs1013.wav', 'trs1014.wav', 'trs1015.wav', 'trs1016.wav', 'trs1017.wav', 'trs1018.wav', 'trs1019.wav', 'trs1020.wav', 'trs1021.wav', 'trs1022.wav', 'trs1023.wav', 'trs1024.wav', 'trs1025.wav', 'trs1026.wav', 'trs1027.wav', 'trs1028.wav', 'trs1029.wav', 'trs1030.wav', 'trs1031.wav', 'trs1032.wav', 'trs1033.wav', 'trs1034.wav', 'trs1035.wav', 'trs1036.wav', 'trs1037.wav', 'trs1038.wav', 'trs1039.wav', 'trs1040.wav', 'trs1041.wav', 'trs1042.wav', 'trs1043.wav', 'trs1044.wav', 'trs1045.wav', 'trs1046.wav', 'trs1047.wav', 'trs1048.wav', 'trs1049.wav', 'trs1050.wav', 'trs1051.wav', 'trs1052.wav', 'trs1053.wav', 'trs1054.wav', 'trs1055.wav', 'trs1056.wav', 'trs1057.wav', 'trs1058.wav', 'trs1059.wav', 'trs1060.wav', 'trs1061.wav', 'trs1062.wav', 'trs1063.wav', 'trs1064.wav', 'trs1065.wav', 'trs1066.wav', 'trs1067.wav', 'trs1068.wav', 'trs1069.wav', 'trs1070.wav', 'trs1071.wav', 'trs1072.wav', 'trs1073.wav', 'trs1074.wav', 'trs1075.wav', 'trs1076.wav', 'trs1077.wav', 'trs1078.wav', 'trs1079.wav', 'trs1080.wav', 'trs1081.wav', 'trs1082.wav', 'trs1083.wav', 'trs1084.wav', 'trs1085.wav', 'trs1086.wav', 'trs1087.wav', 'trs1088.wav', 'trs1089.wav', 'trs1090.wav', 'trs1091.wav', 'trs1092.wav', 'trs1093.wav', 'trs1094.wav', 'trs1095.wav', 'trs1096.wav', 'trs1097.wav', 'trs1098.wav', 'trs1099.wav', 'trs1100.wav', 'trs1101.wav', 'trs1102.wav', 'trs1103.wav', 'trs1104.wav', 'trs1105.wav', 'trs1106.wav', 'trs1107.wav', 'trs1108.wav', 'trs1109.wav', 'trs1110.wav', 'trs1111.wav', 'trs1112.wav', 'trs1113.wav', 'trs1114.wav', 'trs1115.wav', 'trs1116.wav', 'trs1117.wav', 'trs1118.wav', 'trs1119.wav', 'trs1120.wav', 'trs1121.wav', 'trs1122.wav', 'trs1123.wav', 'trs1124.wav', 'trs1125.wav', 'trs1126.wav', 'trs1127.wav', 'trs1128.wav', 'trs1129.wav', 'trs1130.wav', 'trs1131.wav', 'trs1132.wav', 'trs1133.wav', 'trs1134.wav', 'trs1135.wav', 'trs1136.wav', 'trs1137.wav', 'trs1138.wav', 'trs1139.wav', 'trs1140.wav', 'trs1141.wav', 'trs1142.wav', 'trs1143.wav', 'trs1144.wav', 'trs1145.wav', 'trs1146.wav', 'trs1147.wav', 'trs1148.wav', 'trs1149.wav', 'trs1150.wav', 'trs1151.wav', 'trs1152.wav', 'trs1153.wav', 'trs1154.wav', 'trs1155.wav', 'trs1156.wav', 'trs1157.wav', 'trs1158.wav', 'trs1159.wav', 'trs1160.wav', 'trs1161.wav', 'trs1162.wav', 'trs1163.wav', 'trs1164.wav', 'trs1165.wav', 'trs1166.wav', 'trs1167.wav', 'trs1168.wav', 'trs1169.wav', 'trs1170.wav', 'trs1171.wav', 'trs1172.wav', 'trs1173.wav', 'trs1174.wav', 'trs1175.wav', 'trs1176.wav', 'trs1177.wav', 'trs1178.wav', 'trs1179.wav', 'trs1180.wav', 'trs1181.wav', 'trs1182.wav', 'trs1183.wav', 'trs1184.wav', 'trs1185.wav', 'trs1186.wav', 'trs1187.wav', 'trs1188.wav', 'trs1189.wav', 'trs1190.wav', 'trs1191.wav', 'trs1192.wav', 'trs1193.wav', 'trs1194.wav', 'trs1195.wav', 'trs1196.wav', 'trs1197.wav', 'trs1198.wav', 'trs1199.wav', 'trx0000.wav', 'trx0001.wav', 'trx0002.wav', 'trx0003.wav', 'trx0004.wav', 'trx0005.wav', 'trx0006.wav', 'trx0007.wav', 'trx0008.wav', 'trx0009.wav', 'trx0010.wav', 'trx0011.wav', 'trx0012.wav', 'trx0013.wav', 'trx0014.wav', 'trx0015.wav', 'trx0016.wav', 'trx0017.wav', 'trx0018.wav', 'trx0019.wav', 'trx0020.wav', 'trx0021.wav', 'trx0022.wav', 'trx0023.wav', 'trx0024.wav', 'trx0025.wav', 'trx0026.wav', 'trx0027.wav', 'trx0028.wav', 'trx0029.wav', 'trx0030.wav', 'trx0031.wav', 'trx0032.wav', 'trx0033.wav', 'trx0034.wav', 'trx0035.wav', 'trx0036.wav', 'trx0037.wav', 'trx0038.wav', 'trx0039.wav', 'trx0040.wav', 'trx0041.wav', 'trx0042.wav', 'trx0043.wav', 'trx0044.wav', 'trx0045.wav', 'trx0046.wav', 'trx0047.wav', 'trx0048.wav', 'trx0049.wav', 'trx0050.wav', 'trx0051.wav', 'trx0052.wav', 'trx0053.wav', 'trx0054.wav', 'trx0055.wav', 'trx0056.wav', 'trx0057.wav', 'trx0058.wav', 'trx0059.wav', 'trx0060.wav', 'trx0061.wav', 'trx0062.wav', 'trx0063.wav', 'trx0064.wav', 'trx0065.wav', 'trx0066.wav', 'trx0067.wav', 'trx0068.wav', 'trx0069.wav', 'trx0070.wav', 'trx0071.wav', 'trx0072.wav', 'trx0073.wav', 'trx0074.wav', 'trx0075.wav', 'trx0076.wav', 'trx0077.wav', 'trx0078.wav', 'trx0079.wav', 'trx0080.wav', 'trx0081.wav', 'trx0082.wav', 'trx0083.wav', 'trx0084.wav', 'trx0085.wav', 'trx0086.wav', 'trx0087.wav', 'trx0088.wav', 'trx0089.wav', 'trx0090.wav', 'trx0091.wav', 'trx0092.wav', 'trx0093.wav', 'trx0094.wav', 'trx0095.wav', 'trx0096.wav', 'trx0097.wav', 'trx0098.wav', 'trx0099.wav', 'trx0100.wav', 'trx0101.wav', 'trx0102.wav', 'trx0103.wav', 'trx0104.wav', 'trx0105.wav', 'trx0106.wav', 'trx0107.wav', 'trx0108.wav', 'trx0109.wav', 'trx0110.wav', 'trx0111.wav', 'trx0112.wav', 'trx0113.wav', 'trx0114.wav', 'trx0115.wav', 'trx0116.wav', 'trx0117.wav', 'trx0118.wav', 'trx0119.wav', 'trx0120.wav', 'trx0121.wav', 'trx0122.wav', 'trx0123.wav', 'trx0124.wav', 'trx0125.wav', 'trx0126.wav', 'trx0127.wav', 'trx0128.wav', 'trx0129.wav', 'trx0130.wav', 'trx0131.wav', 'trx0132.wav', 'trx0133.wav', 'trx0134.wav', 'trx0135.wav', 'trx0136.wav', 'trx0137.wav', 'trx0138.wav', 'trx0139.wav', 'trx0140.wav', 'trx0141.wav', 'trx0142.wav', 'trx0143.wav', 'trx0144.wav', 'trx0145.wav', 'trx0146.wav', 'trx0147.wav', 'trx0148.wav', 'trx0149.wav', 'trx0150.wav', 'trx0151.wav', 'trx0152.wav', 'trx0153.wav', 'trx0154.wav', 'trx0155.wav', 'trx0156.wav', 'trx0157.wav', 'trx0158.wav', 'trx0159.wav', 'trx0160.wav', 'trx0161.wav', 'trx0162.wav', 'trx0163.wav', 'trx0164.wav', 'trx0165.wav', 'trx0166.wav', 'trx0167.wav', 'trx0168.wav', 'trx0169.wav', 'trx0170.wav', 'trx0171.wav', 'trx0172.wav', 'trx0173.wav', 'trx0174.wav', 'trx0175.wav', 'trx0176.wav', 'trx0177.wav', 'trx0178.wav', 'trx0179.wav', 'trx0180.wav', 'trx0181.wav', 'trx0182.wav', 'trx0183.wav', 'trx0184.wav', 'trx0185.wav', 'trx0186.wav', 'trx0187.wav', 'trx0188.wav', 'trx0189.wav', 'trx0190.wav', 'trx0191.wav', 'trx0192.wav', 'trx0193.wav', 'trx0194.wav', 'trx0195.wav', 'trx0196.wav', 'trx0197.wav', 'trx0198.wav', 'trx0199.wav', 'trx0200.wav', 'trx0201.wav', 'trx0202.wav', 'trx0203.wav', 'trx0204.wav', 'trx0205.wav', 'trx0206.wav', 'trx0207.wav', 'trx0208.wav', 'trx0209.wav', 'trx0210.wav', 'trx0211.wav', 'trx0212.wav', 'trx0213.wav', 'trx0214.wav', 'trx0215.wav', 'trx0216.wav', 'trx0217.wav', 'trx0218.wav', 'trx0219.wav', 'trx0220.wav', 'trx0221.wav', 'trx0222.wav', 'trx0223.wav', 'trx0224.wav', 'trx0225.wav', 'trx0226.wav', 'trx0227.wav', 'trx0228.wav', 'trx0229.wav', 'trx0230.wav', 'trx0231.wav', 'trx0232.wav', 'trx0233.wav', 'trx0234.wav', 'trx0235.wav', 'trx0236.wav', 'trx0237.wav', 'trx0238.wav', 'trx0239.wav', 'trx0240.wav', 'trx0241.wav', 'trx0242.wav', 'trx0243.wav', 'trx0244.wav', 'trx0245.wav', 'trx0246.wav', 'trx0247.wav', 'trx0248.wav', 'trx0249.wav', 'trx0250.wav', 'trx0251.wav', 'trx0252.wav', 'trx0253.wav', 'trx0254.wav', 'trx0255.wav', 'trx0256.wav', 'trx0257.wav', 'trx0258.wav', 'trx0259.wav', 'trx0260.wav', 'trx0261.wav', 'trx0262.wav', 'trx0263.wav', 'trx0264.wav', 'trx0265.wav', 'trx0266.wav', 'trx0267.wav', 'trx0268.wav', 'trx0269.wav', 'trx0270.wav', 'trx0271.wav', 'trx0272.wav', 'trx0273.wav', 'trx0274.wav', 'trx0275.wav', 'trx0276.wav', 'trx0277.wav', 'trx0278.wav', 'trx0279.wav', 'trx0280.wav', 'trx0281.wav', 'trx0282.wav', 'trx0283.wav', 'trx0284.wav', 'trx0285.wav', 'trx0286.wav', 'trx0287.wav', 'trx0288.wav', 'trx0289.wav', 'trx0290.wav', 'trx0291.wav', 'trx0292.wav', 'trx0293.wav', 'trx0294.wav', 'trx0295.wav', 'trx0296.wav', 'trx0297.wav', 'trx0298.wav', 'trx0299.wav', 'trx0300.wav', 'trx0301.wav', 'trx0302.wav', 'trx0303.wav', 'trx0304.wav', 'trx0305.wav', 'trx0306.wav', 'trx0307.wav', 'trx0308.wav', 'trx0309.wav', 'trx0310.wav', 'trx0311.wav', 'trx0312.wav', 'trx0313.wav', 'trx0314.wav', 'trx0315.wav', 'trx0316.wav', 'trx0317.wav', 'trx0318.wav', 'trx0319.wav', 'trx0320.wav', 'trx0321.wav', 'trx0322.wav', 'trx0323.wav', 'trx0324.wav', 'trx0325.wav', 'trx0326.wav', 'trx0327.wav', 'trx0328.wav', 'trx0329.wav', 'trx0330.wav', 'trx0331.wav', 'trx0332.wav', 'trx0333.wav', 'trx0334.wav', 'trx0335.wav', 'trx0336.wav', 'trx0337.wav', 'trx0338.wav', 'trx0339.wav', 'trx0340.wav', 'trx0341.wav', 'trx0342.wav', 'trx0343.wav', 'trx0344.wav', 'trx0345.wav', 'trx0346.wav', 'trx0347.wav', 'trx0348.wav', 'trx0349.wav', 'trx0350.wav', 'trx0351.wav', 'trx0352.wav', 'trx0353.wav', 'trx0354.wav', 'trx0355.wav', 'trx0356.wav', 'trx0357.wav', 'trx0358.wav', 'trx0359.wav', 'trx0360.wav', 'trx0361.wav', 'trx0362.wav', 'trx0363.wav', 'trx0364.wav', 'trx0365.wav', 'trx0366.wav', 'trx0367.wav', 'trx0368.wav', 'trx0369.wav', 'trx0370.wav', 'trx0371.wav', 'trx0372.wav', 'trx0373.wav', 'trx0374.wav', 'trx0375.wav', 'trx0376.wav', 'trx0377.wav', 'trx0378.wav', 'trx0379.wav', 'trx0380.wav', 'trx0381.wav', 'trx0382.wav', 'trx0383.wav', 'trx0384.wav', 'trx0385.wav', 'trx0386.wav', 'trx0387.wav', 'trx0388.wav', 'trx0389.wav', 'trx0390.wav', 'trx0391.wav', 'trx0392.wav', 'trx0393.wav', 'trx0394.wav', 'trx0395.wav', 'trx0396.wav', 'trx0397.wav', 'trx0398.wav', 'trx0399.wav', 'trx0400.wav', 'trx0401.wav', 'trx0402.wav', 'trx0403.wav', 'trx0404.wav', 'trx0405.wav', 'trx0406.wav', 'trx0407.wav', 'trx0408.wav', 'trx0409.wav', 'trx0410.wav', 'trx0411.wav', 'trx0412.wav', 'trx0413.wav', 'trx0414.wav', 'trx0415.wav', 'trx0416.wav', 'trx0417.wav', 'trx0418.wav', 'trx0419.wav', 'trx0420.wav', 'trx0421.wav', 'trx0422.wav', 'trx0423.wav', 'trx0424.wav', 'trx0425.wav', 'trx0426.wav', 'trx0427.wav', 'trx0428.wav', 'trx0429.wav', 'trx0430.wav', 'trx0431.wav', 'trx0432.wav', 'trx0433.wav', 'trx0434.wav', 'trx0435.wav', 'trx0436.wav', 'trx0437.wav', 'trx0438.wav', 'trx0439.wav', 'trx0440.wav', 'trx0441.wav', 'trx0442.wav', 'trx0443.wav', 'trx0444.wav', 'trx0445.wav', 'trx0446.wav', 'trx0447.wav', 'trx0448.wav', 'trx0449.wav', 'trx0450.wav', 'trx0451.wav', 'trx0452.wav', 'trx0453.wav', 'trx0454.wav', 'trx0455.wav', 'trx0456.wav', 'trx0457.wav', 'trx0458.wav', 'trx0459.wav', 'trx0460.wav', 'trx0461.wav', 'trx0462.wav', 'trx0463.wav', 'trx0464.wav', 'trx0465.wav', 'trx0466.wav', 'trx0467.wav', 'trx0468.wav', 'trx0469.wav', 'trx0470.wav', 'trx0471.wav', 'trx0472.wav', 'trx0473.wav', 'trx0474.wav', 'trx0475.wav', 'trx0476.wav', 'trx0477.wav', 'trx0478.wav', 'trx0479.wav', 'trx0480.wav', 'trx0481.wav', 'trx0482.wav', 'trx0483.wav', 'trx0484.wav', 'trx0485.wav', 'trx0486.wav', 'trx0487.wav', 'trx0488.wav', 'trx0489.wav', 'trx0490.wav', 'trx0491.wav', 'trx0492.wav', 'trx0493.wav', 'trx0494.wav', 'trx0495.wav', 'trx0496.wav', 'trx0497.wav', 'trx0498.wav', 'trx0499.wav', 'trx0500.wav', 'trx0501.wav', 'trx0502.wav', 'trx0503.wav', 'trx0504.wav', 'trx0505.wav', 'trx0506.wav', 'trx0507.wav', 'trx0508.wav', 'trx0509.wav', 'trx0510.wav', 'trx0511.wav', 'trx0512.wav', 'trx0513.wav', 'trx0514.wav', 'trx0515.wav', 'trx0516.wav', 'trx0517.wav', 'trx0518.wav', 'trx0519.wav', 'trx0520.wav', 'trx0521.wav', 'trx0522.wav', 'trx0523.wav', 'trx0524.wav', 'trx0525.wav', 'trx0526.wav', 'trx0527.wav', 'trx0528.wav', 'trx0529.wav', 'trx0530.wav', 'trx0531.wav', 'trx0532.wav', 'trx0533.wav', 'trx0534.wav', 'trx0535.wav', 'trx0536.wav', 'trx0537.wav', 'trx0538.wav', 'trx0539.wav', 'trx0540.wav', 'trx0541.wav', 'trx0542.wav', 'trx0543.wav', 'trx0544.wav', 'trx0545.wav', 'trx0546.wav', 'trx0547.wav', 'trx0548.wav', 'trx0549.wav', 'trx0550.wav', 'trx0551.wav', 'trx0552.wav', 'trx0553.wav', 'trx0554.wav', 'trx0555.wav', 'trx0556.wav', 'trx0557.wav', 'trx0558.wav', 'trx0559.wav', 'trx0560.wav', 'trx0561.wav', 'trx0562.wav', 'trx0563.wav', 'trx0564.wav', 'trx0565.wav', 'trx0566.wav', 'trx0567.wav', 'trx0568.wav', 'trx0569.wav', 'trx0570.wav', 'trx0571.wav', 'trx0572.wav', 'trx0573.wav', 'trx0574.wav', 'trx0575.wav', 'trx0576.wav', 'trx0577.wav', 'trx0578.wav', 'trx0579.wav', 'trx0580.wav', 'trx0581.wav', 'trx0582.wav', 'trx0583.wav', 'trx0584.wav', 'trx0585.wav', 'trx0586.wav', 'trx0587.wav', 'trx0588.wav', 'trx0589.wav', 'trx0590.wav', 'trx0591.wav', 'trx0592.wav', 'trx0593.wav', 'trx0594.wav', 'trx0595.wav', 'trx0596.wav', 'trx0597.wav', 'trx0598.wav', 'trx0599.wav', 'trx0600.wav', 'trx0601.wav', 'trx0602.wav', 'trx0603.wav', 'trx0604.wav', 'trx0605.wav', 'trx0606.wav', 'trx0607.wav', 'trx0608.wav', 'trx0609.wav', 'trx0610.wav', 'trx0611.wav', 'trx0612.wav', 'trx0613.wav', 'trx0614.wav', 'trx0615.wav', 'trx0616.wav', 'trx0617.wav', 'trx0618.wav', 'trx0619.wav', 'trx0620.wav', 'trx0621.wav', 'trx0622.wav', 'trx0623.wav', 'trx0624.wav', 'trx0625.wav', 'trx0626.wav', 'trx0627.wav', 'trx0628.wav', 'trx0629.wav', 'trx0630.wav', 'trx0631.wav', 'trx0632.wav', 'trx0633.wav', 'trx0634.wav', 'trx0635.wav', 'trx0636.wav', 'trx0637.wav', 'trx0638.wav', 'trx0639.wav', 'trx0640.wav', 'trx0641.wav', 'trx0642.wav', 'trx0643.wav', 'trx0644.wav', 'trx0645.wav', 'trx0646.wav', 'trx0647.wav', 'trx0648.wav', 'trx0649.wav', 'trx0650.wav', 'trx0651.wav', 'trx0652.wav', 'trx0653.wav', 'trx0654.wav', 'trx0655.wav', 'trx0656.wav', 'trx0657.wav', 'trx0658.wav', 'trx0659.wav', 'trx0660.wav', 'trx0661.wav', 'trx0662.wav', 'trx0663.wav', 'trx0664.wav', 'trx0665.wav', 'trx0666.wav', 'trx0667.wav', 'trx0668.wav', 'trx0669.wav', 'trx0670.wav', 'trx0671.wav', 'trx0672.wav', 'trx0673.wav', 'trx0674.wav', 'trx0675.wav', 'trx0676.wav', 'trx0677.wav', 'trx0678.wav', 'trx0679.wav', 'trx0680.wav', 'trx0681.wav', 'trx0682.wav', 'trx0683.wav', 'trx0684.wav', 'trx0685.wav', 'trx0686.wav', 'trx0687.wav', 'trx0688.wav', 'trx0689.wav', 'trx0690.wav', 'trx0691.wav', 'trx0692.wav', 'trx0693.wav', 'trx0694.wav', 'trx0695.wav', 'trx0696.wav', 'trx0697.wav', 'trx0698.wav', 'trx0699.wav', 'trx0700.wav', 'trx0701.wav', 'trx0702.wav', 'trx0703.wav', 'trx0704.wav', 'trx0705.wav', 'trx0706.wav', 'trx0707.wav', 'trx0708.wav', 'trx0709.wav', 'trx0710.wav', 'trx0711.wav', 'trx0712.wav', 'trx0713.wav', 'trx0714.wav', 'trx0715.wav', 'trx0716.wav', 'trx0717.wav', 'trx0718.wav', 'trx0719.wav', 'trx0720.wav', 'trx0721.wav', 'trx0722.wav', 'trx0723.wav', 'trx0724.wav', 'trx0725.wav', 'trx0726.wav', 'trx0727.wav', 'trx0728.wav', 'trx0729.wav', 'trx0730.wav', 'trx0731.wav', 'trx0732.wav', 'trx0733.wav', 'trx0734.wav', 'trx0735.wav', 'trx0736.wav', 'trx0737.wav', 'trx0738.wav', 'trx0739.wav', 'trx0740.wav', 'trx0741.wav', 'trx0742.wav', 'trx0743.wav', 'trx0744.wav', 'trx0745.wav', 'trx0746.wav', 'trx0747.wav', 'trx0748.wav', 'trx0749.wav', 'trx0750.wav', 'trx0751.wav', 'trx0752.wav', 'trx0753.wav', 'trx0754.wav', 'trx0755.wav', 'trx0756.wav', 'trx0757.wav', 'trx0758.wav', 'trx0759.wav', 'trx0760.wav', 'trx0761.wav', 'trx0762.wav', 'trx0763.wav', 'trx0764.wav', 'trx0765.wav', 'trx0766.wav', 'trx0767.wav', 'trx0768.wav', 'trx0769.wav', 'trx0770.wav', 'trx0771.wav', 'trx0772.wav', 'trx0773.wav', 'trx0774.wav', 'trx0775.wav', 'trx0776.wav', 'trx0777.wav', 'trx0778.wav', 'trx0779.wav', 'trx0780.wav', 'trx0781.wav', 'trx0782.wav', 'trx0783.wav', 'trx0784.wav', 'trx0785.wav', 'trx0786.wav', 'trx0787.wav', 'trx0788.wav', 'trx0789.wav', 'trx0790.wav', 'trx0791.wav', 'trx0792.wav', 'trx0793.wav', 'trx0794.wav', 'trx0795.wav', 'trx0796.wav', 'trx0797.wav', 'trx0798.wav', 'trx0799.wav', 'trx0800.wav', 'trx0801.wav', 'trx0802.wav', 'trx0803.wav', 'trx0804.wav', 'trx0805.wav', 'trx0806.wav', 'trx0807.wav', 'trx0808.wav', 'trx0809.wav', 'trx0810.wav', 'trx0811.wav', 'trx0812.wav', 'trx0813.wav', 'trx0814.wav', 'trx0815.wav', 'trx0816.wav', 'trx0817.wav', 'trx0818.wav', 'trx0819.wav', 'trx0820.wav', 'trx0821.wav', 'trx0822.wav', 'trx0823.wav', 'trx0824.wav', 'trx0825.wav', 'trx0826.wav', 'trx0827.wav', 'trx0828.wav', 'trx0829.wav', 'trx0830.wav', 'trx0831.wav', 'trx0832.wav', 'trx0833.wav', 'trx0834.wav', 'trx0835.wav', 'trx0836.wav', 'trx0837.wav', 'trx0838.wav', 'trx0839.wav', 'trx0840.wav', 'trx0841.wav', 'trx0842.wav', 'trx0843.wav', 'trx0844.wav', 'trx0845.wav', 'trx0846.wav', 'trx0847.wav', 'trx0848.wav', 'trx0849.wav', 'trx0850.wav', 'trx0851.wav', 'trx0852.wav', 'trx0853.wav', 'trx0854.wav', 'trx0855.wav', 'trx0856.wav', 'trx0857.wav', 'trx0858.wav', 'trx0859.wav', 'trx0860.wav', 'trx0861.wav', 'trx0862.wav', 'trx0863.wav', 'trx0864.wav', 'trx0865.wav', 'trx0866.wav', 'trx0867.wav', 'trx0868.wav', 'trx0869.wav', 'trx0870.wav', 'trx0871.wav', 'trx0872.wav', 'trx0873.wav', 'trx0874.wav', 'trx0875.wav', 'trx0876.wav', 'trx0877.wav', 'trx0878.wav', 'trx0879.wav', 'trx0880.wav', 'trx0881.wav', 'trx0882.wav', 'trx0883.wav', 'trx0884.wav', 'trx0885.wav', 'trx0886.wav', 'trx0887.wav', 'trx0888.wav', 'trx0889.wav', 'trx0890.wav', 'trx0891.wav', 'trx0892.wav', 'trx0893.wav', 'trx0894.wav', 'trx0895.wav', 'trx0896.wav', 'trx0897.wav', 'trx0898.wav', 'trx0899.wav', 'trx0900.wav', 'trx0901.wav', 'trx0902.wav', 'trx0903.wav', 'trx0904.wav', 'trx0905.wav', 'trx0906.wav', 'trx0907.wav', 'trx0908.wav', 'trx0909.wav', 'trx0910.wav', 'trx0911.wav', 'trx0912.wav', 'trx0913.wav', 'trx0914.wav', 'trx0915.wav', 'trx0916.wav', 'trx0917.wav', 'trx0918.wav', 'trx0919.wav', 'trx0920.wav', 'trx0921.wav', 'trx0922.wav', 'trx0923.wav', 'trx0924.wav', 'trx0925.wav', 'trx0926.wav', 'trx0927.wav', 'trx0928.wav', 'trx0929.wav', 'trx0930.wav', 'trx0931.wav', 'trx0932.wav', 'trx0933.wav', 'trx0934.wav', 'trx0935.wav', 'trx0936.wav', 'trx0937.wav', 'trx0938.wav', 'trx0939.wav', 'trx0940.wav', 'trx0941.wav', 'trx0942.wav', 'trx0943.wav', 'trx0944.wav', 'trx0945.wav', 'trx0946.wav', 'trx0947.wav', 'trx0948.wav', 'trx0949.wav', 'trx0950.wav', 'trx0951.wav', 'trx0952.wav', 'trx0953.wav', 'trx0954.wav', 'trx0955.wav', 'trx0956.wav', 'trx0957.wav', 'trx0958.wav', 'trx0959.wav', 'trx0960.wav', 'trx0961.wav', 'trx0962.wav', 'trx0963.wav', 'trx0964.wav', 'trx0965.wav', 'trx0966.wav', 'trx0967.wav', 'trx0968.wav', 'trx0969.wav', 'trx0970.wav', 'trx0971.wav', 'trx0972.wav', 'trx0973.wav', 'trx0974.wav', 'trx0975.wav', 'trx0976.wav', 'trx0977.wav', 'trx0978.wav', 'trx0979.wav', 'trx0980.wav', 'trx0981.wav', 'trx0982.wav', 'trx0983.wav', 'trx0984.wav', 'trx0985.wav', 'trx0986.wav', 'trx0987.wav', 'trx0988.wav', 'trx0989.wav', 'trx0990.wav', 'trx0991.wav', 'trx0992.wav', 'trx0993.wav', 'trx0994.wav', 'trx0995.wav', 'trx0996.wav', 'trx0997.wav', 'trx0998.wav', 'trx0999.wav', 'trx1000.wav', 'trx1001.wav', 'trx1002.wav', 'trx1003.wav', 'trx1004.wav', 'trx1005.wav', 'trx1006.wav', 'trx1007.wav', 'trx1008.wav', 'trx1009.wav', 'trx1010.wav', 'trx1011.wav', 'trx1012.wav', 'trx1013.wav', 'trx1014.wav', 'trx1015.wav', 'trx1016.wav', 'trx1017.wav', 'trx1018.wav', 'trx1019.wav', 'trx1020.wav', 'trx1021.wav', 'trx1022.wav', 'trx1023.wav', 'trx1024.wav', 'trx1025.wav', 'trx1026.wav', 'trx1027.wav', 'trx1028.wav', 'trx1029.wav', 'trx1030.wav', 'trx1031.wav', 'trx1032.wav', 'trx1033.wav', 'trx1034.wav', 'trx1035.wav', 'trx1036.wav', 'trx1037.wav', 'trx1038.wav', 'trx1039.wav', 'trx1040.wav', 'trx1041.wav', 'trx1042.wav', 'trx1043.wav', 'trx1044.wav', 'trx1045.wav', 'trx1046.wav', 'trx1047.wav', 'trx1048.wav', 'trx1049.wav', 'trx1050.wav', 'trx1051.wav', 'trx1052.wav', 'trx1053.wav', 'trx1054.wav', 'trx1055.wav', 'trx1056.wav', 'trx1057.wav', 'trx1058.wav', 'trx1059.wav', 'trx1060.wav', 'trx1061.wav', 'trx1062.wav', 'trx1063.wav', 'trx1064.wav', 'trx1065.wav', 'trx1066.wav', 'trx1067.wav', 'trx1068.wav', 'trx1069.wav', 'trx1070.wav', 'trx1071.wav', 'trx1072.wav', 'trx1073.wav', 'trx1074.wav', 'trx1075.wav', 'trx1076.wav', 'trx1077.wav', 'trx1078.wav', 'trx1079.wav', 'trx1080.wav', 'trx1081.wav', 'trx1082.wav', 'trx1083.wav', 'trx1084.wav', 'trx1085.wav', 'trx1086.wav', 'trx1087.wav', 'trx1088.wav', 'trx1089.wav', 'trx1090.wav', 'trx1091.wav', 'trx1092.wav', 'trx1093.wav', 'trx1094.wav', 'trx1095.wav', 'trx1096.wav', 'trx1097.wav', 'trx1098.wav', 'trx1099.wav', 'trx1100.wav', 'trx1101.wav', 'trx1102.wav', 'trx1103.wav', 'trx1104.wav', 'trx1105.wav', 'trx1106.wav', 'trx1107.wav', 'trx1108.wav', 'trx1109.wav', 'trx1110.wav', 'trx1111.wav', 'trx1112.wav', 'trx1113.wav', 'trx1114.wav', 'trx1115.wav', 'trx1116.wav', 'trx1117.wav', 'trx1118.wav', 'trx1119.wav', 'trx1120.wav', 'trx1121.wav', 'trx1122.wav', 'trx1123.wav', 'trx1124.wav', 'trx1125.wav', 'trx1126.wav', 'trx1127.wav', 'trx1128.wav', 'trx1129.wav', 'trx1130.wav', 'trx1131.wav', 'trx1132.wav', 'trx1133.wav', 'trx1134.wav', 'trx1135.wav', 'trx1136.wav', 'trx1137.wav', 'trx1138.wav', 'trx1139.wav', 'trx1140.wav', 'trx1141.wav', 'trx1142.wav', 'trx1143.wav', 'trx1144.wav', 'trx1145.wav', 'trx1146.wav', 'trx1147.wav', 'trx1148.wav', 'trx1149.wav', 'trx1150.wav', 'trx1151.wav', 'trx1152.wav', 'trx1153.wav', 'trx1154.wav', 'trx1155.wav', 'trx1156.wav', 'trx1157.wav', 'trx1158.wav', 'trx1159.wav', 'trx1160.wav', 'trx1161.wav', 'trx1162.wav', 'trx1163.wav', 'trx1164.wav', 'trx1165.wav', 'trx1166.wav', 'trx1167.wav', 'trx1168.wav', 'trx1169.wav', 'trx1170.wav', 'trx1171.wav', 'trx1172.wav', 'trx1173.wav', 'trx1174.wav', 'trx1175.wav', 'trx1176.wav', 'trx1177.wav', 'trx1178.wav', 'trx1179.wav', 'trx1180.wav', 'trx1181.wav', 'trx1182.wav', 'trx1183.wav', 'trx1184.wav', 'trx1185.wav', 'trx1186.wav', 'trx1187.wav', 'trx1188.wav', 'trx1189.wav', 'trx1190.wav', 'trx1191.wav', 'trx1192.wav', 'trx1193.wav', 'trx1194.wav', 'trx1195.wav', 'trx1196.wav', 'trx1197.wav', 'trx1198.wav', 'trx1199.wav']\n"
          ]
        }
      ]
    },
    {
      "cell_type": "markdown",
      "source": [
        "##Data Loading"
      ],
      "metadata": {
        "id": "9mHQowNOSCCa"
      }
    },
    {
      "cell_type": "code",
      "source": [
        "'''\n",
        "N_stft = []\n",
        "X_stft = []\n",
        "S_stft = []\n",
        "for files in tr_list:\n",
        "  #print(files)\n",
        "  if files.startswith('trn'):\n",
        "    #print('TRN')\n",
        "    n, sr = librosa.load('/content/drive/MyDrive/ENGR-E-533 /DATA/HW3/Audiodata/timit-homework/tr/'+files, sr=None)\n",
        "    N = librosa.stft(n, n_fft=1024, hop_length=512)\n",
        "    N_stft.append(np.abs(N))\n",
        "  elif files.startswith('trx'):\n",
        "    #print('TRX')\n",
        "    x,sr = librosa.load('/content/drive/MyDrive/ENGR-E-533 /DATA/HW3/Audiodata/timit-homework/tr/'+files, sr=None)\n",
        "    X = librosa.stft(x, n_fft=1024, hop_length=512)\n",
        "    X_stft.append(np.abs(X))\n",
        "  elif files.startswith('trs'):\n",
        "    #print('TRS')\n",
        "    s,sr = librosa.load('/content/drive/MyDrive/ENGR-E-533 /DATA/HW3/Audiodata/timit-homework/tr/'+files, sr=None)\n",
        "    S = librosa.stft(s, n_fft=1024, hop_length=512)\n",
        "    S_stft.append(np.abs(S))\n",
        "'''\n",
        "\n"
      ],
      "metadata": {
        "id": "Sl1e24izZLEt",
        "colab": {
          "base_uri": "https://localhost:8080/",
          "height": 139
        },
        "outputId": "f5ac0ad2-703e-490b-b296-56035d0a550a"
      },
      "execution_count": null,
      "outputs": [
        {
          "output_type": "execute_result",
          "data": {
            "text/plain": [
              "\"\\nN_stft = []\\nX_stft = []\\nS_stft = []\\nfor files in tr_list:\\n  #print(files)\\n  if files.startswith('trn'):\\n    #print('TRN')\\n    n, sr = librosa.load('/content/drive/MyDrive/ENGR-E-533 /DATA/HW3/Audiodata/timit-homework/tr/'+files, sr=None)\\n    N = librosa.stft(n, n_fft=1024, hop_length=512)\\n    N_stft.append(np.abs(N))\\n  elif files.startswith('trx'):\\n    #print('TRX')\\n    x,sr = librosa.load('/content/drive/MyDrive/ENGR-E-533 /DATA/HW3/Audiodata/timit-homework/tr/'+files, sr=None)\\n    X = librosa.stft(x, n_fft=1024, hop_length=512)\\n    X_stft.append(np.abs(X))\\n  elif files.startswith('trs'):\\n    #print('TRS')\\n    s,sr = librosa.load('/content/drive/MyDrive/ENGR-E-533 /DATA/HW3/Audiodata/timit-homework/tr/'+files, sr=None)\\n    S = librosa.stft(s, n_fft=1024, hop_length=512)\\n    S_stft.append(np.abs(S))\\n\""
            ],
            "application/vnd.google.colaboratory.intrinsic+json": {
              "type": "string"
            }
          },
          "metadata": {},
          "execution_count": 12
        }
      ]
    },
    {
      "cell_type": "markdown",
      "source": [
        "##Functions to Load Train, Test and Validation Data"
      ],
      "metadata": {
        "id": "lMy9qQu25xsZ"
      }
    },
    {
      "cell_type": "code",
      "source": [
        "def load_data_train(path):\n",
        "  x_train=[]\n",
        "  clean_data=[]\n",
        "  noisy_data=[]\n",
        "  for file in os.listdir(path):\n",
        "    if file.startswith('trx') :\n",
        "      #if file not in x:\n",
        "        x_train.append(file)\n",
        "\n",
        "    elif file.startswith('trs') :\n",
        "      #if file not in clean:\n",
        "        clean_data.append(file)\n",
        "\n",
        "    elif file.startswith('trn'):\n",
        "      #if file not in noise:\n",
        "        noisy_data.append(file)\n",
        "  \n",
        "  x_train.sort()\n",
        "  clean_data.sort()\n",
        "  noisy_data.sort()\n",
        "\n",
        "  return x_train,clean_data,noisy_data"
      ],
      "metadata": {
        "id": "-A-tF17UdRv9"
      },
      "execution_count": null,
      "outputs": []
    },
    {
      "cell_type": "code",
      "source": [
        "def load_data_test(path):\n",
        "  x_test=[]\n",
        "  clean_data=[]\n",
        "  noisy_data=[]\n",
        "  for file in os.listdir(path):\n",
        "    if file.startswith('tex') :\n",
        "      #if file not in x:\n",
        "        x_test.append(file)\n",
        "\n",
        "    elif  file.startswith('tes') :\n",
        "      #if file not in clean:\n",
        "        clean_data.append(file)\n",
        "\n",
        "    elif  file.startswith('ten') :\n",
        "      #if file not in noise:\n",
        "        noisy_data.append(file)\n",
        "  \n",
        "  x_test.sort()\n",
        "  clean_data.sort()\n",
        "  noisy_data.sort()\n",
        "\n",
        "  return x_test,clean_data,noisy_data"
      ],
      "metadata": {
        "id": "fkCteDGQ3c7W"
      },
      "execution_count": null,
      "outputs": []
    },
    {
      "cell_type": "code",
      "source": [
        "def load_data_validation(path):\n",
        "  x_valid=[]\n",
        "  clean_data=[]\n",
        "  noisy_data=[]\n",
        "  for file in os.listdir(path):\n",
        "    if file.startswith('vx'):\n",
        "      #if file not in x:\n",
        "        x_valid.append(file)\n",
        "\n",
        "    elif file.startswith('vs'):\n",
        "      #if file not in clean:\n",
        "        clean_data.append(file)\n",
        "\n",
        "    elif file.startswith('vn'):\n",
        "      #if file not in noise:\n",
        "        noisy_data.append(file)\n",
        "  \n",
        "  x_valid.sort()\n",
        "  clean_data.sort()\n",
        "  noisy_data.sort()\n",
        "\n",
        "  return x_valid,clean_data,noisy_data"
      ],
      "metadata": {
        "id": "nMDwEGIm3pOP"
      },
      "execution_count": null,
      "outputs": []
    },
    {
      "cell_type": "markdown",
      "source": [
        "##Load Train Test and Validation Data "
      ],
      "metadata": {
        "id": "qaGugs3b52XB"
      }
    },
    {
      "cell_type": "code",
      "source": [
        "x_train, clean_train, noisy_train = load_data_train(train_loc)"
      ],
      "metadata": {
        "id": "cYYE8o6F56L6"
      },
      "execution_count": null,
      "outputs": []
    },
    {
      "cell_type": "code",
      "source": [
        "len(x_train)"
      ],
      "metadata": {
        "colab": {
          "base_uri": "https://localhost:8080/"
        },
        "id": "TTMotH-YSXmY",
        "outputId": "b6bb44c6-43fb-4f9e-e2ca-e94f7ebde225"
      },
      "execution_count": null,
      "outputs": [
        {
          "output_type": "execute_result",
          "data": {
            "text/plain": [
              "1200"
            ]
          },
          "metadata": {},
          "execution_count": 17
        }
      ]
    },
    {
      "cell_type": "code",
      "source": [
        "x_train"
      ],
      "metadata": {
        "colab": {
          "base_uri": "https://localhost:8080/"
        },
        "id": "N69Vk9gCSG7t",
        "outputId": "d2491b88-9324-4048-f786-00d95cf85e4a"
      },
      "execution_count": null,
      "outputs": [
        {
          "output_type": "execute_result",
          "data": {
            "text/plain": [
              "['trx0000.wav',\n",
              " 'trx0001.wav',\n",
              " 'trx0002.wav',\n",
              " 'trx0003.wav',\n",
              " 'trx0004.wav',\n",
              " 'trx0005.wav',\n",
              " 'trx0006.wav',\n",
              " 'trx0007.wav',\n",
              " 'trx0008.wav',\n",
              " 'trx0009.wav',\n",
              " 'trx0010.wav',\n",
              " 'trx0011.wav',\n",
              " 'trx0012.wav',\n",
              " 'trx0013.wav',\n",
              " 'trx0014.wav',\n",
              " 'trx0015.wav',\n",
              " 'trx0016.wav',\n",
              " 'trx0017.wav',\n",
              " 'trx0018.wav',\n",
              " 'trx0019.wav',\n",
              " 'trx0020.wav',\n",
              " 'trx0021.wav',\n",
              " 'trx0022.wav',\n",
              " 'trx0023.wav',\n",
              " 'trx0024.wav',\n",
              " 'trx0025.wav',\n",
              " 'trx0026.wav',\n",
              " 'trx0027.wav',\n",
              " 'trx0028.wav',\n",
              " 'trx0029.wav',\n",
              " 'trx0030.wav',\n",
              " 'trx0031.wav',\n",
              " 'trx0032.wav',\n",
              " 'trx0033.wav',\n",
              " 'trx0034.wav',\n",
              " 'trx0035.wav',\n",
              " 'trx0036.wav',\n",
              " 'trx0037.wav',\n",
              " 'trx0038.wav',\n",
              " 'trx0039.wav',\n",
              " 'trx0040.wav',\n",
              " 'trx0041.wav',\n",
              " 'trx0042.wav',\n",
              " 'trx0043.wav',\n",
              " 'trx0044.wav',\n",
              " 'trx0045.wav',\n",
              " 'trx0046.wav',\n",
              " 'trx0047.wav',\n",
              " 'trx0048.wav',\n",
              " 'trx0049.wav',\n",
              " 'trx0050.wav',\n",
              " 'trx0051.wav',\n",
              " 'trx0052.wav',\n",
              " 'trx0053.wav',\n",
              " 'trx0054.wav',\n",
              " 'trx0055.wav',\n",
              " 'trx0056.wav',\n",
              " 'trx0057.wav',\n",
              " 'trx0058.wav',\n",
              " 'trx0059.wav',\n",
              " 'trx0060.wav',\n",
              " 'trx0061.wav',\n",
              " 'trx0062.wav',\n",
              " 'trx0063.wav',\n",
              " 'trx0064.wav',\n",
              " 'trx0065.wav',\n",
              " 'trx0066.wav',\n",
              " 'trx0067.wav',\n",
              " 'trx0068.wav',\n",
              " 'trx0069.wav',\n",
              " 'trx0070.wav',\n",
              " 'trx0071.wav',\n",
              " 'trx0072.wav',\n",
              " 'trx0073.wav',\n",
              " 'trx0074.wav',\n",
              " 'trx0075.wav',\n",
              " 'trx0076.wav',\n",
              " 'trx0077.wav',\n",
              " 'trx0078.wav',\n",
              " 'trx0079.wav',\n",
              " 'trx0080.wav',\n",
              " 'trx0081.wav',\n",
              " 'trx0082.wav',\n",
              " 'trx0083.wav',\n",
              " 'trx0084.wav',\n",
              " 'trx0085.wav',\n",
              " 'trx0086.wav',\n",
              " 'trx0087.wav',\n",
              " 'trx0088.wav',\n",
              " 'trx0089.wav',\n",
              " 'trx0090.wav',\n",
              " 'trx0091.wav',\n",
              " 'trx0092.wav',\n",
              " 'trx0093.wav',\n",
              " 'trx0094.wav',\n",
              " 'trx0095.wav',\n",
              " 'trx0096.wav',\n",
              " 'trx0097.wav',\n",
              " 'trx0098.wav',\n",
              " 'trx0099.wav',\n",
              " 'trx0100.wav',\n",
              " 'trx0101.wav',\n",
              " 'trx0102.wav',\n",
              " 'trx0103.wav',\n",
              " 'trx0104.wav',\n",
              " 'trx0105.wav',\n",
              " 'trx0106.wav',\n",
              " 'trx0107.wav',\n",
              " 'trx0108.wav',\n",
              " 'trx0109.wav',\n",
              " 'trx0110.wav',\n",
              " 'trx0111.wav',\n",
              " 'trx0112.wav',\n",
              " 'trx0113.wav',\n",
              " 'trx0114.wav',\n",
              " 'trx0115.wav',\n",
              " 'trx0116.wav',\n",
              " 'trx0117.wav',\n",
              " 'trx0118.wav',\n",
              " 'trx0119.wav',\n",
              " 'trx0120.wav',\n",
              " 'trx0121.wav',\n",
              " 'trx0122.wav',\n",
              " 'trx0123.wav',\n",
              " 'trx0124.wav',\n",
              " 'trx0125.wav',\n",
              " 'trx0126.wav',\n",
              " 'trx0127.wav',\n",
              " 'trx0128.wav',\n",
              " 'trx0129.wav',\n",
              " 'trx0130.wav',\n",
              " 'trx0131.wav',\n",
              " 'trx0132.wav',\n",
              " 'trx0133.wav',\n",
              " 'trx0134.wav',\n",
              " 'trx0135.wav',\n",
              " 'trx0136.wav',\n",
              " 'trx0137.wav',\n",
              " 'trx0138.wav',\n",
              " 'trx0139.wav',\n",
              " 'trx0140.wav',\n",
              " 'trx0141.wav',\n",
              " 'trx0142.wav',\n",
              " 'trx0143.wav',\n",
              " 'trx0144.wav',\n",
              " 'trx0145.wav',\n",
              " 'trx0146.wav',\n",
              " 'trx0147.wav',\n",
              " 'trx0148.wav',\n",
              " 'trx0149.wav',\n",
              " 'trx0150.wav',\n",
              " 'trx0151.wav',\n",
              " 'trx0152.wav',\n",
              " 'trx0153.wav',\n",
              " 'trx0154.wav',\n",
              " 'trx0155.wav',\n",
              " 'trx0156.wav',\n",
              " 'trx0157.wav',\n",
              " 'trx0158.wav',\n",
              " 'trx0159.wav',\n",
              " 'trx0160.wav',\n",
              " 'trx0161.wav',\n",
              " 'trx0162.wav',\n",
              " 'trx0163.wav',\n",
              " 'trx0164.wav',\n",
              " 'trx0165.wav',\n",
              " 'trx0166.wav',\n",
              " 'trx0167.wav',\n",
              " 'trx0168.wav',\n",
              " 'trx0169.wav',\n",
              " 'trx0170.wav',\n",
              " 'trx0171.wav',\n",
              " 'trx0172.wav',\n",
              " 'trx0173.wav',\n",
              " 'trx0174.wav',\n",
              " 'trx0175.wav',\n",
              " 'trx0176.wav',\n",
              " 'trx0177.wav',\n",
              " 'trx0178.wav',\n",
              " 'trx0179.wav',\n",
              " 'trx0180.wav',\n",
              " 'trx0181.wav',\n",
              " 'trx0182.wav',\n",
              " 'trx0183.wav',\n",
              " 'trx0184.wav',\n",
              " 'trx0185.wav',\n",
              " 'trx0186.wav',\n",
              " 'trx0187.wav',\n",
              " 'trx0188.wav',\n",
              " 'trx0189.wav',\n",
              " 'trx0190.wav',\n",
              " 'trx0191.wav',\n",
              " 'trx0192.wav',\n",
              " 'trx0193.wav',\n",
              " 'trx0194.wav',\n",
              " 'trx0195.wav',\n",
              " 'trx0196.wav',\n",
              " 'trx0197.wav',\n",
              " 'trx0198.wav',\n",
              " 'trx0199.wav',\n",
              " 'trx0200.wav',\n",
              " 'trx0201.wav',\n",
              " 'trx0202.wav',\n",
              " 'trx0203.wav',\n",
              " 'trx0204.wav',\n",
              " 'trx0205.wav',\n",
              " 'trx0206.wav',\n",
              " 'trx0207.wav',\n",
              " 'trx0208.wav',\n",
              " 'trx0209.wav',\n",
              " 'trx0210.wav',\n",
              " 'trx0211.wav',\n",
              " 'trx0212.wav',\n",
              " 'trx0213.wav',\n",
              " 'trx0214.wav',\n",
              " 'trx0215.wav',\n",
              " 'trx0216.wav',\n",
              " 'trx0217.wav',\n",
              " 'trx0218.wav',\n",
              " 'trx0219.wav',\n",
              " 'trx0220.wav',\n",
              " 'trx0221.wav',\n",
              " 'trx0222.wav',\n",
              " 'trx0223.wav',\n",
              " 'trx0224.wav',\n",
              " 'trx0225.wav',\n",
              " 'trx0226.wav',\n",
              " 'trx0227.wav',\n",
              " 'trx0228.wav',\n",
              " 'trx0229.wav',\n",
              " 'trx0230.wav',\n",
              " 'trx0231.wav',\n",
              " 'trx0232.wav',\n",
              " 'trx0233.wav',\n",
              " 'trx0234.wav',\n",
              " 'trx0235.wav',\n",
              " 'trx0236.wav',\n",
              " 'trx0237.wav',\n",
              " 'trx0238.wav',\n",
              " 'trx0239.wav',\n",
              " 'trx0240.wav',\n",
              " 'trx0241.wav',\n",
              " 'trx0242.wav',\n",
              " 'trx0243.wav',\n",
              " 'trx0244.wav',\n",
              " 'trx0245.wav',\n",
              " 'trx0246.wav',\n",
              " 'trx0247.wav',\n",
              " 'trx0248.wav',\n",
              " 'trx0249.wav',\n",
              " 'trx0250.wav',\n",
              " 'trx0251.wav',\n",
              " 'trx0252.wav',\n",
              " 'trx0253.wav',\n",
              " 'trx0254.wav',\n",
              " 'trx0255.wav',\n",
              " 'trx0256.wav',\n",
              " 'trx0257.wav',\n",
              " 'trx0258.wav',\n",
              " 'trx0259.wav',\n",
              " 'trx0260.wav',\n",
              " 'trx0261.wav',\n",
              " 'trx0262.wav',\n",
              " 'trx0263.wav',\n",
              " 'trx0264.wav',\n",
              " 'trx0265.wav',\n",
              " 'trx0266.wav',\n",
              " 'trx0267.wav',\n",
              " 'trx0268.wav',\n",
              " 'trx0269.wav',\n",
              " 'trx0270.wav',\n",
              " 'trx0271.wav',\n",
              " 'trx0272.wav',\n",
              " 'trx0273.wav',\n",
              " 'trx0274.wav',\n",
              " 'trx0275.wav',\n",
              " 'trx0276.wav',\n",
              " 'trx0277.wav',\n",
              " 'trx0278.wav',\n",
              " 'trx0279.wav',\n",
              " 'trx0280.wav',\n",
              " 'trx0281.wav',\n",
              " 'trx0282.wav',\n",
              " 'trx0283.wav',\n",
              " 'trx0284.wav',\n",
              " 'trx0285.wav',\n",
              " 'trx0286.wav',\n",
              " 'trx0287.wav',\n",
              " 'trx0288.wav',\n",
              " 'trx0289.wav',\n",
              " 'trx0290.wav',\n",
              " 'trx0291.wav',\n",
              " 'trx0292.wav',\n",
              " 'trx0293.wav',\n",
              " 'trx0294.wav',\n",
              " 'trx0295.wav',\n",
              " 'trx0296.wav',\n",
              " 'trx0297.wav',\n",
              " 'trx0298.wav',\n",
              " 'trx0299.wav',\n",
              " 'trx0300.wav',\n",
              " 'trx0301.wav',\n",
              " 'trx0302.wav',\n",
              " 'trx0303.wav',\n",
              " 'trx0304.wav',\n",
              " 'trx0305.wav',\n",
              " 'trx0306.wav',\n",
              " 'trx0307.wav',\n",
              " 'trx0308.wav',\n",
              " 'trx0309.wav',\n",
              " 'trx0310.wav',\n",
              " 'trx0311.wav',\n",
              " 'trx0312.wav',\n",
              " 'trx0313.wav',\n",
              " 'trx0314.wav',\n",
              " 'trx0315.wav',\n",
              " 'trx0316.wav',\n",
              " 'trx0317.wav',\n",
              " 'trx0318.wav',\n",
              " 'trx0319.wav',\n",
              " 'trx0320.wav',\n",
              " 'trx0321.wav',\n",
              " 'trx0322.wav',\n",
              " 'trx0323.wav',\n",
              " 'trx0324.wav',\n",
              " 'trx0325.wav',\n",
              " 'trx0326.wav',\n",
              " 'trx0327.wav',\n",
              " 'trx0328.wav',\n",
              " 'trx0329.wav',\n",
              " 'trx0330.wav',\n",
              " 'trx0331.wav',\n",
              " 'trx0332.wav',\n",
              " 'trx0333.wav',\n",
              " 'trx0334.wav',\n",
              " 'trx0335.wav',\n",
              " 'trx0336.wav',\n",
              " 'trx0337.wav',\n",
              " 'trx0338.wav',\n",
              " 'trx0339.wav',\n",
              " 'trx0340.wav',\n",
              " 'trx0341.wav',\n",
              " 'trx0342.wav',\n",
              " 'trx0343.wav',\n",
              " 'trx0344.wav',\n",
              " 'trx0345.wav',\n",
              " 'trx0346.wav',\n",
              " 'trx0347.wav',\n",
              " 'trx0348.wav',\n",
              " 'trx0349.wav',\n",
              " 'trx0350.wav',\n",
              " 'trx0351.wav',\n",
              " 'trx0352.wav',\n",
              " 'trx0353.wav',\n",
              " 'trx0354.wav',\n",
              " 'trx0355.wav',\n",
              " 'trx0356.wav',\n",
              " 'trx0357.wav',\n",
              " 'trx0358.wav',\n",
              " 'trx0359.wav',\n",
              " 'trx0360.wav',\n",
              " 'trx0361.wav',\n",
              " 'trx0362.wav',\n",
              " 'trx0363.wav',\n",
              " 'trx0364.wav',\n",
              " 'trx0365.wav',\n",
              " 'trx0366.wav',\n",
              " 'trx0367.wav',\n",
              " 'trx0368.wav',\n",
              " 'trx0369.wav',\n",
              " 'trx0370.wav',\n",
              " 'trx0371.wav',\n",
              " 'trx0372.wav',\n",
              " 'trx0373.wav',\n",
              " 'trx0374.wav',\n",
              " 'trx0375.wav',\n",
              " 'trx0376.wav',\n",
              " 'trx0377.wav',\n",
              " 'trx0378.wav',\n",
              " 'trx0379.wav',\n",
              " 'trx0380.wav',\n",
              " 'trx0381.wav',\n",
              " 'trx0382.wav',\n",
              " 'trx0383.wav',\n",
              " 'trx0384.wav',\n",
              " 'trx0385.wav',\n",
              " 'trx0386.wav',\n",
              " 'trx0387.wav',\n",
              " 'trx0388.wav',\n",
              " 'trx0389.wav',\n",
              " 'trx0390.wav',\n",
              " 'trx0391.wav',\n",
              " 'trx0392.wav',\n",
              " 'trx0393.wav',\n",
              " 'trx0394.wav',\n",
              " 'trx0395.wav',\n",
              " 'trx0396.wav',\n",
              " 'trx0397.wav',\n",
              " 'trx0398.wav',\n",
              " 'trx0399.wav',\n",
              " 'trx0400.wav',\n",
              " 'trx0401.wav',\n",
              " 'trx0402.wav',\n",
              " 'trx0403.wav',\n",
              " 'trx0404.wav',\n",
              " 'trx0405.wav',\n",
              " 'trx0406.wav',\n",
              " 'trx0407.wav',\n",
              " 'trx0408.wav',\n",
              " 'trx0409.wav',\n",
              " 'trx0410.wav',\n",
              " 'trx0411.wav',\n",
              " 'trx0412.wav',\n",
              " 'trx0413.wav',\n",
              " 'trx0414.wav',\n",
              " 'trx0415.wav',\n",
              " 'trx0416.wav',\n",
              " 'trx0417.wav',\n",
              " 'trx0418.wav',\n",
              " 'trx0419.wav',\n",
              " 'trx0420.wav',\n",
              " 'trx0421.wav',\n",
              " 'trx0422.wav',\n",
              " 'trx0423.wav',\n",
              " 'trx0424.wav',\n",
              " 'trx0425.wav',\n",
              " 'trx0426.wav',\n",
              " 'trx0427.wav',\n",
              " 'trx0428.wav',\n",
              " 'trx0429.wav',\n",
              " 'trx0430.wav',\n",
              " 'trx0431.wav',\n",
              " 'trx0432.wav',\n",
              " 'trx0433.wav',\n",
              " 'trx0434.wav',\n",
              " 'trx0435.wav',\n",
              " 'trx0436.wav',\n",
              " 'trx0437.wav',\n",
              " 'trx0438.wav',\n",
              " 'trx0439.wav',\n",
              " 'trx0440.wav',\n",
              " 'trx0441.wav',\n",
              " 'trx0442.wav',\n",
              " 'trx0443.wav',\n",
              " 'trx0444.wav',\n",
              " 'trx0445.wav',\n",
              " 'trx0446.wav',\n",
              " 'trx0447.wav',\n",
              " 'trx0448.wav',\n",
              " 'trx0449.wav',\n",
              " 'trx0450.wav',\n",
              " 'trx0451.wav',\n",
              " 'trx0452.wav',\n",
              " 'trx0453.wav',\n",
              " 'trx0454.wav',\n",
              " 'trx0455.wav',\n",
              " 'trx0456.wav',\n",
              " 'trx0457.wav',\n",
              " 'trx0458.wav',\n",
              " 'trx0459.wav',\n",
              " 'trx0460.wav',\n",
              " 'trx0461.wav',\n",
              " 'trx0462.wav',\n",
              " 'trx0463.wav',\n",
              " 'trx0464.wav',\n",
              " 'trx0465.wav',\n",
              " 'trx0466.wav',\n",
              " 'trx0467.wav',\n",
              " 'trx0468.wav',\n",
              " 'trx0469.wav',\n",
              " 'trx0470.wav',\n",
              " 'trx0471.wav',\n",
              " 'trx0472.wav',\n",
              " 'trx0473.wav',\n",
              " 'trx0474.wav',\n",
              " 'trx0475.wav',\n",
              " 'trx0476.wav',\n",
              " 'trx0477.wav',\n",
              " 'trx0478.wav',\n",
              " 'trx0479.wav',\n",
              " 'trx0480.wav',\n",
              " 'trx0481.wav',\n",
              " 'trx0482.wav',\n",
              " 'trx0483.wav',\n",
              " 'trx0484.wav',\n",
              " 'trx0485.wav',\n",
              " 'trx0486.wav',\n",
              " 'trx0487.wav',\n",
              " 'trx0488.wav',\n",
              " 'trx0489.wav',\n",
              " 'trx0490.wav',\n",
              " 'trx0491.wav',\n",
              " 'trx0492.wav',\n",
              " 'trx0493.wav',\n",
              " 'trx0494.wav',\n",
              " 'trx0495.wav',\n",
              " 'trx0496.wav',\n",
              " 'trx0497.wav',\n",
              " 'trx0498.wav',\n",
              " 'trx0499.wav',\n",
              " 'trx0500.wav',\n",
              " 'trx0501.wav',\n",
              " 'trx0502.wav',\n",
              " 'trx0503.wav',\n",
              " 'trx0504.wav',\n",
              " 'trx0505.wav',\n",
              " 'trx0506.wav',\n",
              " 'trx0507.wav',\n",
              " 'trx0508.wav',\n",
              " 'trx0509.wav',\n",
              " 'trx0510.wav',\n",
              " 'trx0511.wav',\n",
              " 'trx0512.wav',\n",
              " 'trx0513.wav',\n",
              " 'trx0514.wav',\n",
              " 'trx0515.wav',\n",
              " 'trx0516.wav',\n",
              " 'trx0517.wav',\n",
              " 'trx0518.wav',\n",
              " 'trx0519.wav',\n",
              " 'trx0520.wav',\n",
              " 'trx0521.wav',\n",
              " 'trx0522.wav',\n",
              " 'trx0523.wav',\n",
              " 'trx0524.wav',\n",
              " 'trx0525.wav',\n",
              " 'trx0526.wav',\n",
              " 'trx0527.wav',\n",
              " 'trx0528.wav',\n",
              " 'trx0529.wav',\n",
              " 'trx0530.wav',\n",
              " 'trx0531.wav',\n",
              " 'trx0532.wav',\n",
              " 'trx0533.wav',\n",
              " 'trx0534.wav',\n",
              " 'trx0535.wav',\n",
              " 'trx0536.wav',\n",
              " 'trx0537.wav',\n",
              " 'trx0538.wav',\n",
              " 'trx0539.wav',\n",
              " 'trx0540.wav',\n",
              " 'trx0541.wav',\n",
              " 'trx0542.wav',\n",
              " 'trx0543.wav',\n",
              " 'trx0544.wav',\n",
              " 'trx0545.wav',\n",
              " 'trx0546.wav',\n",
              " 'trx0547.wav',\n",
              " 'trx0548.wav',\n",
              " 'trx0549.wav',\n",
              " 'trx0550.wav',\n",
              " 'trx0551.wav',\n",
              " 'trx0552.wav',\n",
              " 'trx0553.wav',\n",
              " 'trx0554.wav',\n",
              " 'trx0555.wav',\n",
              " 'trx0556.wav',\n",
              " 'trx0557.wav',\n",
              " 'trx0558.wav',\n",
              " 'trx0559.wav',\n",
              " 'trx0560.wav',\n",
              " 'trx0561.wav',\n",
              " 'trx0562.wav',\n",
              " 'trx0563.wav',\n",
              " 'trx0564.wav',\n",
              " 'trx0565.wav',\n",
              " 'trx0566.wav',\n",
              " 'trx0567.wav',\n",
              " 'trx0568.wav',\n",
              " 'trx0569.wav',\n",
              " 'trx0570.wav',\n",
              " 'trx0571.wav',\n",
              " 'trx0572.wav',\n",
              " 'trx0573.wav',\n",
              " 'trx0574.wav',\n",
              " 'trx0575.wav',\n",
              " 'trx0576.wav',\n",
              " 'trx0577.wav',\n",
              " 'trx0578.wav',\n",
              " 'trx0579.wav',\n",
              " 'trx0580.wav',\n",
              " 'trx0581.wav',\n",
              " 'trx0582.wav',\n",
              " 'trx0583.wav',\n",
              " 'trx0584.wav',\n",
              " 'trx0585.wav',\n",
              " 'trx0586.wav',\n",
              " 'trx0587.wav',\n",
              " 'trx0588.wav',\n",
              " 'trx0589.wav',\n",
              " 'trx0590.wav',\n",
              " 'trx0591.wav',\n",
              " 'trx0592.wav',\n",
              " 'trx0593.wav',\n",
              " 'trx0594.wav',\n",
              " 'trx0595.wav',\n",
              " 'trx0596.wav',\n",
              " 'trx0597.wav',\n",
              " 'trx0598.wav',\n",
              " 'trx0599.wav',\n",
              " 'trx0600.wav',\n",
              " 'trx0601.wav',\n",
              " 'trx0602.wav',\n",
              " 'trx0603.wav',\n",
              " 'trx0604.wav',\n",
              " 'trx0605.wav',\n",
              " 'trx0606.wav',\n",
              " 'trx0607.wav',\n",
              " 'trx0608.wav',\n",
              " 'trx0609.wav',\n",
              " 'trx0610.wav',\n",
              " 'trx0611.wav',\n",
              " 'trx0612.wav',\n",
              " 'trx0613.wav',\n",
              " 'trx0614.wav',\n",
              " 'trx0615.wav',\n",
              " 'trx0616.wav',\n",
              " 'trx0617.wav',\n",
              " 'trx0618.wav',\n",
              " 'trx0619.wav',\n",
              " 'trx0620.wav',\n",
              " 'trx0621.wav',\n",
              " 'trx0622.wav',\n",
              " 'trx0623.wav',\n",
              " 'trx0624.wav',\n",
              " 'trx0625.wav',\n",
              " 'trx0626.wav',\n",
              " 'trx0627.wav',\n",
              " 'trx0628.wav',\n",
              " 'trx0629.wav',\n",
              " 'trx0630.wav',\n",
              " 'trx0631.wav',\n",
              " 'trx0632.wav',\n",
              " 'trx0633.wav',\n",
              " 'trx0634.wav',\n",
              " 'trx0635.wav',\n",
              " 'trx0636.wav',\n",
              " 'trx0637.wav',\n",
              " 'trx0638.wav',\n",
              " 'trx0639.wav',\n",
              " 'trx0640.wav',\n",
              " 'trx0641.wav',\n",
              " 'trx0642.wav',\n",
              " 'trx0643.wav',\n",
              " 'trx0644.wav',\n",
              " 'trx0645.wav',\n",
              " 'trx0646.wav',\n",
              " 'trx0647.wav',\n",
              " 'trx0648.wav',\n",
              " 'trx0649.wav',\n",
              " 'trx0650.wav',\n",
              " 'trx0651.wav',\n",
              " 'trx0652.wav',\n",
              " 'trx0653.wav',\n",
              " 'trx0654.wav',\n",
              " 'trx0655.wav',\n",
              " 'trx0656.wav',\n",
              " 'trx0657.wav',\n",
              " 'trx0658.wav',\n",
              " 'trx0659.wav',\n",
              " 'trx0660.wav',\n",
              " 'trx0661.wav',\n",
              " 'trx0662.wav',\n",
              " 'trx0663.wav',\n",
              " 'trx0664.wav',\n",
              " 'trx0665.wav',\n",
              " 'trx0666.wav',\n",
              " 'trx0667.wav',\n",
              " 'trx0668.wav',\n",
              " 'trx0669.wav',\n",
              " 'trx0670.wav',\n",
              " 'trx0671.wav',\n",
              " 'trx0672.wav',\n",
              " 'trx0673.wav',\n",
              " 'trx0674.wav',\n",
              " 'trx0675.wav',\n",
              " 'trx0676.wav',\n",
              " 'trx0677.wav',\n",
              " 'trx0678.wav',\n",
              " 'trx0679.wav',\n",
              " 'trx0680.wav',\n",
              " 'trx0681.wav',\n",
              " 'trx0682.wav',\n",
              " 'trx0683.wav',\n",
              " 'trx0684.wav',\n",
              " 'trx0685.wav',\n",
              " 'trx0686.wav',\n",
              " 'trx0687.wav',\n",
              " 'trx0688.wav',\n",
              " 'trx0689.wav',\n",
              " 'trx0690.wav',\n",
              " 'trx0691.wav',\n",
              " 'trx0692.wav',\n",
              " 'trx0693.wav',\n",
              " 'trx0694.wav',\n",
              " 'trx0695.wav',\n",
              " 'trx0696.wav',\n",
              " 'trx0697.wav',\n",
              " 'trx0698.wav',\n",
              " 'trx0699.wav',\n",
              " 'trx0700.wav',\n",
              " 'trx0701.wav',\n",
              " 'trx0702.wav',\n",
              " 'trx0703.wav',\n",
              " 'trx0704.wav',\n",
              " 'trx0705.wav',\n",
              " 'trx0706.wav',\n",
              " 'trx0707.wav',\n",
              " 'trx0708.wav',\n",
              " 'trx0709.wav',\n",
              " 'trx0710.wav',\n",
              " 'trx0711.wav',\n",
              " 'trx0712.wav',\n",
              " 'trx0713.wav',\n",
              " 'trx0714.wav',\n",
              " 'trx0715.wav',\n",
              " 'trx0716.wav',\n",
              " 'trx0717.wav',\n",
              " 'trx0718.wav',\n",
              " 'trx0719.wav',\n",
              " 'trx0720.wav',\n",
              " 'trx0721.wav',\n",
              " 'trx0722.wav',\n",
              " 'trx0723.wav',\n",
              " 'trx0724.wav',\n",
              " 'trx0725.wav',\n",
              " 'trx0726.wav',\n",
              " 'trx0727.wav',\n",
              " 'trx0728.wav',\n",
              " 'trx0729.wav',\n",
              " 'trx0730.wav',\n",
              " 'trx0731.wav',\n",
              " 'trx0732.wav',\n",
              " 'trx0733.wav',\n",
              " 'trx0734.wav',\n",
              " 'trx0735.wav',\n",
              " 'trx0736.wav',\n",
              " 'trx0737.wav',\n",
              " 'trx0738.wav',\n",
              " 'trx0739.wav',\n",
              " 'trx0740.wav',\n",
              " 'trx0741.wav',\n",
              " 'trx0742.wav',\n",
              " 'trx0743.wav',\n",
              " 'trx0744.wav',\n",
              " 'trx0745.wav',\n",
              " 'trx0746.wav',\n",
              " 'trx0747.wav',\n",
              " 'trx0748.wav',\n",
              " 'trx0749.wav',\n",
              " 'trx0750.wav',\n",
              " 'trx0751.wav',\n",
              " 'trx0752.wav',\n",
              " 'trx0753.wav',\n",
              " 'trx0754.wav',\n",
              " 'trx0755.wav',\n",
              " 'trx0756.wav',\n",
              " 'trx0757.wav',\n",
              " 'trx0758.wav',\n",
              " 'trx0759.wav',\n",
              " 'trx0760.wav',\n",
              " 'trx0761.wav',\n",
              " 'trx0762.wav',\n",
              " 'trx0763.wav',\n",
              " 'trx0764.wav',\n",
              " 'trx0765.wav',\n",
              " 'trx0766.wav',\n",
              " 'trx0767.wav',\n",
              " 'trx0768.wav',\n",
              " 'trx0769.wav',\n",
              " 'trx0770.wav',\n",
              " 'trx0771.wav',\n",
              " 'trx0772.wav',\n",
              " 'trx0773.wav',\n",
              " 'trx0774.wav',\n",
              " 'trx0775.wav',\n",
              " 'trx0776.wav',\n",
              " 'trx0777.wav',\n",
              " 'trx0778.wav',\n",
              " 'trx0779.wav',\n",
              " 'trx0780.wav',\n",
              " 'trx0781.wav',\n",
              " 'trx0782.wav',\n",
              " 'trx0783.wav',\n",
              " 'trx0784.wav',\n",
              " 'trx0785.wav',\n",
              " 'trx0786.wav',\n",
              " 'trx0787.wav',\n",
              " 'trx0788.wav',\n",
              " 'trx0789.wav',\n",
              " 'trx0790.wav',\n",
              " 'trx0791.wav',\n",
              " 'trx0792.wav',\n",
              " 'trx0793.wav',\n",
              " 'trx0794.wav',\n",
              " 'trx0795.wav',\n",
              " 'trx0796.wav',\n",
              " 'trx0797.wav',\n",
              " 'trx0798.wav',\n",
              " 'trx0799.wav',\n",
              " 'trx0800.wav',\n",
              " 'trx0801.wav',\n",
              " 'trx0802.wav',\n",
              " 'trx0803.wav',\n",
              " 'trx0804.wav',\n",
              " 'trx0805.wav',\n",
              " 'trx0806.wav',\n",
              " 'trx0807.wav',\n",
              " 'trx0808.wav',\n",
              " 'trx0809.wav',\n",
              " 'trx0810.wav',\n",
              " 'trx0811.wav',\n",
              " 'trx0812.wav',\n",
              " 'trx0813.wav',\n",
              " 'trx0814.wav',\n",
              " 'trx0815.wav',\n",
              " 'trx0816.wav',\n",
              " 'trx0817.wav',\n",
              " 'trx0818.wav',\n",
              " 'trx0819.wav',\n",
              " 'trx0820.wav',\n",
              " 'trx0821.wav',\n",
              " 'trx0822.wav',\n",
              " 'trx0823.wav',\n",
              " 'trx0824.wav',\n",
              " 'trx0825.wav',\n",
              " 'trx0826.wav',\n",
              " 'trx0827.wav',\n",
              " 'trx0828.wav',\n",
              " 'trx0829.wav',\n",
              " 'trx0830.wav',\n",
              " 'trx0831.wav',\n",
              " 'trx0832.wav',\n",
              " 'trx0833.wav',\n",
              " 'trx0834.wav',\n",
              " 'trx0835.wav',\n",
              " 'trx0836.wav',\n",
              " 'trx0837.wav',\n",
              " 'trx0838.wav',\n",
              " 'trx0839.wav',\n",
              " 'trx0840.wav',\n",
              " 'trx0841.wav',\n",
              " 'trx0842.wav',\n",
              " 'trx0843.wav',\n",
              " 'trx0844.wav',\n",
              " 'trx0845.wav',\n",
              " 'trx0846.wav',\n",
              " 'trx0847.wav',\n",
              " 'trx0848.wav',\n",
              " 'trx0849.wav',\n",
              " 'trx0850.wav',\n",
              " 'trx0851.wav',\n",
              " 'trx0852.wav',\n",
              " 'trx0853.wav',\n",
              " 'trx0854.wav',\n",
              " 'trx0855.wav',\n",
              " 'trx0856.wav',\n",
              " 'trx0857.wav',\n",
              " 'trx0858.wav',\n",
              " 'trx0859.wav',\n",
              " 'trx0860.wav',\n",
              " 'trx0861.wav',\n",
              " 'trx0862.wav',\n",
              " 'trx0863.wav',\n",
              " 'trx0864.wav',\n",
              " 'trx0865.wav',\n",
              " 'trx0866.wav',\n",
              " 'trx0867.wav',\n",
              " 'trx0868.wav',\n",
              " 'trx0869.wav',\n",
              " 'trx0870.wav',\n",
              " 'trx0871.wav',\n",
              " 'trx0872.wav',\n",
              " 'trx0873.wav',\n",
              " 'trx0874.wav',\n",
              " 'trx0875.wav',\n",
              " 'trx0876.wav',\n",
              " 'trx0877.wav',\n",
              " 'trx0878.wav',\n",
              " 'trx0879.wav',\n",
              " 'trx0880.wav',\n",
              " 'trx0881.wav',\n",
              " 'trx0882.wav',\n",
              " 'trx0883.wav',\n",
              " 'trx0884.wav',\n",
              " 'trx0885.wav',\n",
              " 'trx0886.wav',\n",
              " 'trx0887.wav',\n",
              " 'trx0888.wav',\n",
              " 'trx0889.wav',\n",
              " 'trx0890.wav',\n",
              " 'trx0891.wav',\n",
              " 'trx0892.wav',\n",
              " 'trx0893.wav',\n",
              " 'trx0894.wav',\n",
              " 'trx0895.wav',\n",
              " 'trx0896.wav',\n",
              " 'trx0897.wav',\n",
              " 'trx0898.wav',\n",
              " 'trx0899.wav',\n",
              " 'trx0900.wav',\n",
              " 'trx0901.wav',\n",
              " 'trx0902.wav',\n",
              " 'trx0903.wav',\n",
              " 'trx0904.wav',\n",
              " 'trx0905.wav',\n",
              " 'trx0906.wav',\n",
              " 'trx0907.wav',\n",
              " 'trx0908.wav',\n",
              " 'trx0909.wav',\n",
              " 'trx0910.wav',\n",
              " 'trx0911.wav',\n",
              " 'trx0912.wav',\n",
              " 'trx0913.wav',\n",
              " 'trx0914.wav',\n",
              " 'trx0915.wav',\n",
              " 'trx0916.wav',\n",
              " 'trx0917.wav',\n",
              " 'trx0918.wav',\n",
              " 'trx0919.wav',\n",
              " 'trx0920.wav',\n",
              " 'trx0921.wav',\n",
              " 'trx0922.wav',\n",
              " 'trx0923.wav',\n",
              " 'trx0924.wav',\n",
              " 'trx0925.wav',\n",
              " 'trx0926.wav',\n",
              " 'trx0927.wav',\n",
              " 'trx0928.wav',\n",
              " 'trx0929.wav',\n",
              " 'trx0930.wav',\n",
              " 'trx0931.wav',\n",
              " 'trx0932.wav',\n",
              " 'trx0933.wav',\n",
              " 'trx0934.wav',\n",
              " 'trx0935.wav',\n",
              " 'trx0936.wav',\n",
              " 'trx0937.wav',\n",
              " 'trx0938.wav',\n",
              " 'trx0939.wav',\n",
              " 'trx0940.wav',\n",
              " 'trx0941.wav',\n",
              " 'trx0942.wav',\n",
              " 'trx0943.wav',\n",
              " 'trx0944.wav',\n",
              " 'trx0945.wav',\n",
              " 'trx0946.wav',\n",
              " 'trx0947.wav',\n",
              " 'trx0948.wav',\n",
              " 'trx0949.wav',\n",
              " 'trx0950.wav',\n",
              " 'trx0951.wav',\n",
              " 'trx0952.wav',\n",
              " 'trx0953.wav',\n",
              " 'trx0954.wav',\n",
              " 'trx0955.wav',\n",
              " 'trx0956.wav',\n",
              " 'trx0957.wav',\n",
              " 'trx0958.wav',\n",
              " 'trx0959.wav',\n",
              " 'trx0960.wav',\n",
              " 'trx0961.wav',\n",
              " 'trx0962.wav',\n",
              " 'trx0963.wav',\n",
              " 'trx0964.wav',\n",
              " 'trx0965.wav',\n",
              " 'trx0966.wav',\n",
              " 'trx0967.wav',\n",
              " 'trx0968.wav',\n",
              " 'trx0969.wav',\n",
              " 'trx0970.wav',\n",
              " 'trx0971.wav',\n",
              " 'trx0972.wav',\n",
              " 'trx0973.wav',\n",
              " 'trx0974.wav',\n",
              " 'trx0975.wav',\n",
              " 'trx0976.wav',\n",
              " 'trx0977.wav',\n",
              " 'trx0978.wav',\n",
              " 'trx0979.wav',\n",
              " 'trx0980.wav',\n",
              " 'trx0981.wav',\n",
              " 'trx0982.wav',\n",
              " 'trx0983.wav',\n",
              " 'trx0984.wav',\n",
              " 'trx0985.wav',\n",
              " 'trx0986.wav',\n",
              " 'trx0987.wav',\n",
              " 'trx0988.wav',\n",
              " 'trx0989.wav',\n",
              " 'trx0990.wav',\n",
              " 'trx0991.wav',\n",
              " 'trx0992.wav',\n",
              " 'trx0993.wav',\n",
              " 'trx0994.wav',\n",
              " 'trx0995.wav',\n",
              " 'trx0996.wav',\n",
              " 'trx0997.wav',\n",
              " 'trx0998.wav',\n",
              " 'trx0999.wav',\n",
              " ...]"
            ]
          },
          "metadata": {},
          "execution_count": 18
        }
      ]
    },
    {
      "cell_type": "code",
      "source": [
        "len(clean_train)"
      ],
      "metadata": {
        "colab": {
          "base_uri": "https://localhost:8080/"
        },
        "id": "egCbdB02SKap",
        "outputId": "da4dc786-81ab-4537-c518-a6e83de657ff"
      },
      "execution_count": null,
      "outputs": [
        {
          "output_type": "execute_result",
          "data": {
            "text/plain": [
              "1200"
            ]
          },
          "metadata": {},
          "execution_count": 19
        }
      ]
    },
    {
      "cell_type": "code",
      "source": [
        "len(noisy_train)"
      ],
      "metadata": {
        "colab": {
          "base_uri": "https://localhost:8080/"
        },
        "id": "juIba1JqSPGt",
        "outputId": "5f7e84e7-f770-401c-e845-b0a80037bb19"
      },
      "execution_count": null,
      "outputs": [
        {
          "output_type": "execute_result",
          "data": {
            "text/plain": [
              "1200"
            ]
          },
          "metadata": {},
          "execution_count": 20
        }
      ]
    },
    {
      "cell_type": "code",
      "source": [
        "x_validation, clean_validation, noisy_validation = load_data_validation(val_loc)"
      ],
      "metadata": {
        "id": "bBmPUbtZ7Jig"
      },
      "execution_count": null,
      "outputs": []
    },
    {
      "cell_type": "code",
      "source": [
        "len(x_validation)"
      ],
      "metadata": {
        "colab": {
          "base_uri": "https://localhost:8080/"
        },
        "id": "ykx-UPW5h3fG",
        "outputId": "e2effdd1-aba0-4b4e-ad3f-0b23f2afa238"
      },
      "execution_count": null,
      "outputs": [
        {
          "output_type": "execute_result",
          "data": {
            "text/plain": [
              "1200"
            ]
          },
          "metadata": {},
          "execution_count": 22
        }
      ]
    },
    {
      "cell_type": "code",
      "source": [
        "len(clean_validation)"
      ],
      "metadata": {
        "colab": {
          "base_uri": "https://localhost:8080/"
        },
        "id": "ECtCjMM_h_UA",
        "outputId": "99c50305-e5db-4c30-e0f6-ec38910e5c43"
      },
      "execution_count": null,
      "outputs": [
        {
          "output_type": "execute_result",
          "data": {
            "text/plain": [
              "1200"
            ]
          },
          "metadata": {},
          "execution_count": 23
        }
      ]
    },
    {
      "cell_type": "code",
      "source": [
        "len(noisy_validation)"
      ],
      "metadata": {
        "colab": {
          "base_uri": "https://localhost:8080/"
        },
        "id": "oWgl7_2th_aO",
        "outputId": "77e331b3-6a1b-44ac-ce40-c408bce6179a"
      },
      "execution_count": null,
      "outputs": [
        {
          "output_type": "execute_result",
          "data": {
            "text/plain": [
              "1200"
            ]
          },
          "metadata": {},
          "execution_count": 24
        }
      ]
    },
    {
      "cell_type": "code",
      "source": [
        "x_test, clean_test, noisy_test = load_data_test(test_loc)"
      ],
      "metadata": {
        "id": "O7N7Y7NX8j1r"
      },
      "execution_count": null,
      "outputs": []
    },
    {
      "cell_type": "markdown",
      "source": [
        "##STFT Function ( absolute and transpose taken )"
      ],
      "metadata": {
        "id": "jp2G_d7R9BYT"
      }
    },
    {
      "cell_type": "code",
      "source": [
        "def stft_calc(path,files):\n",
        "  data = []\n",
        "  for i in files:\n",
        "    s,sr = librosa.load(path+i,sr=None)\n",
        "    S = librosa.stft(s,n_fft =1024 , hop_length =512)\n",
        "    pad = np.zeros((513, 178))\n",
        "    pad[:, :S.shape[1]] = S\n",
        "    pad=pad.T\n",
        "    pad_abs = np.abs(pad)\n",
        "    data.append(pad_abs)\n",
        "  return data"
      ],
      "metadata": {
        "id": "s_7V56yR8_j_"
      },
      "execution_count": null,
      "outputs": []
    },
    {
      "cell_type": "markdown",
      "source": [
        "##STFT for Training Data"
      ],
      "metadata": {
        "id": "-kbGVt0Z-3ci"
      }
    },
    {
      "cell_type": "code",
      "source": [
        "stft_x_train = stft_calc(train_loc,x_train)"
      ],
      "metadata": {
        "colab": {
          "base_uri": "https://localhost:8080/"
        },
        "id": "JjYGIJ7Y-51I",
        "outputId": "67586fb5-5fee-475c-ac59-d4458c86f0f0"
      },
      "execution_count": null,
      "outputs": [
        {
          "output_type": "stream",
          "name": "stderr",
          "text": [
            "/usr/local/lib/python3.7/dist-packages/ipykernel_launcher.py:7: ComplexWarning: Casting complex values to real discards the imaginary part\n",
            "  import sys\n"
          ]
        }
      ]
    },
    {
      "cell_type": "code",
      "source": [
        "stft_clean_train = stft_calc(train_loc,clean_train)"
      ],
      "metadata": {
        "colab": {
          "base_uri": "https://localhost:8080/"
        },
        "id": "atop_aly-_gs",
        "outputId": "61a33917-98b2-477e-9281-2396ba349c09"
      },
      "execution_count": null,
      "outputs": [
        {
          "output_type": "stream",
          "name": "stderr",
          "text": [
            "/usr/local/lib/python3.7/dist-packages/ipykernel_launcher.py:7: ComplexWarning: Casting complex values to real discards the imaginary part\n",
            "  import sys\n"
          ]
        }
      ]
    },
    {
      "cell_type": "code",
      "source": [
        "stft_noisy_train = stft_calc(train_loc,noisy_train)"
      ],
      "metadata": {
        "colab": {
          "base_uri": "https://localhost:8080/"
        },
        "id": "5FXFMm5O-_wk",
        "outputId": "6b762818-765f-43b4-c158-8f1c5f3651e7"
      },
      "execution_count": null,
      "outputs": [
        {
          "output_type": "stream",
          "name": "stderr",
          "text": [
            "/usr/local/lib/python3.7/dist-packages/ipykernel_launcher.py:7: ComplexWarning: Casting complex values to real discards the imaginary part\n",
            "  import sys\n"
          ]
        }
      ]
    },
    {
      "cell_type": "code",
      "source": [
        "print(\"Shape of stft_x_train is : \",stft_x_train[0].shape)\n",
        "print(\"Shape of stft_clean_train  is : \",stft_clean_train [0].shape)\n",
        "print(\"Shape of stft_noisy_train is : \",stft_noisy_train[0].shape)"
      ],
      "metadata": {
        "colab": {
          "base_uri": "https://localhost:8080/"
        },
        "id": "QjXjN-4aAXgr",
        "outputId": "dcb1ddf9-a29c-4f11-9c76-e269d536b8c1"
      },
      "execution_count": null,
      "outputs": [
        {
          "output_type": "stream",
          "name": "stdout",
          "text": [
            "Shape of stft_x_train is :  (178, 513)\n",
            "Shape of stft_clean_train  is :  (178, 513)\n",
            "Shape of stft_noisy_train is :  (178, 513)\n"
          ]
        }
      ]
    },
    {
      "cell_type": "markdown",
      "source": [
        "##STFT for Validation Data"
      ],
      "metadata": {
        "id": "0-dW9ITXBLPn"
      }
    },
    {
      "cell_type": "code",
      "source": [
        "stft_x_val = stft_calc(val_loc,x_validation)"
      ],
      "metadata": {
        "colab": {
          "base_uri": "https://localhost:8080/"
        },
        "id": "ud6iNNmyBPOR",
        "outputId": "2307c365-fb09-4ec6-ebf2-d56d291845dc"
      },
      "execution_count": null,
      "outputs": [
        {
          "output_type": "stream",
          "name": "stderr",
          "text": [
            "/usr/local/lib/python3.7/dist-packages/ipykernel_launcher.py:7: ComplexWarning: Casting complex values to real discards the imaginary part\n",
            "  import sys\n"
          ]
        }
      ]
    },
    {
      "cell_type": "code",
      "source": [
        "stft_clean_val = stft_calc(val_loc, clean_validation)"
      ],
      "metadata": {
        "colab": {
          "base_uri": "https://localhost:8080/"
        },
        "id": "O-d9LPdkBZq6",
        "outputId": "720f1ea7-a8aa-498b-c1a9-de5692e6b8ed"
      },
      "execution_count": null,
      "outputs": [
        {
          "output_type": "stream",
          "name": "stderr",
          "text": [
            "/usr/local/lib/python3.7/dist-packages/ipykernel_launcher.py:7: ComplexWarning: Casting complex values to real discards the imaginary part\n",
            "  import sys\n"
          ]
        }
      ]
    },
    {
      "cell_type": "code",
      "source": [
        "stft_noisy_val= stft_calc(val_loc, noisy_validation)"
      ],
      "metadata": {
        "colab": {
          "base_uri": "https://localhost:8080/"
        },
        "id": "88382HqTBjPn",
        "outputId": "6c67482e-f160-4179-db03-7619a0660dda"
      },
      "execution_count": null,
      "outputs": [
        {
          "output_type": "stream",
          "name": "stderr",
          "text": [
            "/usr/local/lib/python3.7/dist-packages/ipykernel_launcher.py:7: ComplexWarning: Casting complex values to real discards the imaginary part\n",
            "  import sys\n"
          ]
        }
      ]
    },
    {
      "cell_type": "code",
      "source": [
        "print(\"Shape of stft_x_val is : \",stft_x_val[0].shape)\n",
        "print(\"Shape of stft_clean_val  is : \",stft_clean_val[0].shape)\n",
        "print(\"Shape of stft_noisy_val is : \",stft_noisy_val[0].shape)"
      ],
      "metadata": {
        "colab": {
          "base_uri": "https://localhost:8080/"
        },
        "id": "AZJgGUmWBzrV",
        "outputId": "9c02f448-7582-4985-8905-1e82b503b8da"
      },
      "execution_count": null,
      "outputs": [
        {
          "output_type": "stream",
          "name": "stdout",
          "text": [
            "Shape of stft_x_val is :  (178, 513)\n",
            "Shape of stft_clean_val  is :  (178, 513)\n",
            "Shape of stft_noisy_val is :  (178, 513)\n"
          ]
        }
      ]
    },
    {
      "cell_type": "markdown",
      "source": [
        "##IBM Matrix"
      ],
      "metadata": {
        "id": "FAVhKkG2CB1Y"
      }
    },
    {
      "cell_type": "code",
      "source": [
        "train_ibm = [(stft_clean_train[i] > stft_noisy_train[i]).astype(int) for i in range(len(stft_clean_train))]"
      ],
      "metadata": {
        "id": "EWp95kh5CEsL"
      },
      "execution_count": null,
      "outputs": []
    },
    {
      "cell_type": "code",
      "source": [
        "print(len(stft_clean_train))\n",
        "print(len(stft_noisy_train))"
      ],
      "metadata": {
        "colab": {
          "base_uri": "https://localhost:8080/"
        },
        "id": "5H6DZR04RhWe",
        "outputId": "1b765ca6-64bf-46ab-a6fe-c1705fea8391"
      },
      "execution_count": null,
      "outputs": [
        {
          "output_type": "stream",
          "name": "stdout",
          "text": [
            "1200\n",
            "1200\n"
          ]
        }
      ]
    },
    {
      "cell_type": "code",
      "source": [
        "train_ibm = np.stack(train_ibm)\n",
        "noise_train_new = np.stack(stft_noisy_train)"
      ],
      "metadata": {
        "id": "sKgipP_zCK_D"
      },
      "execution_count": null,
      "outputs": []
    },
    {
      "cell_type": "markdown",
      "source": [
        "##IBM Matrix for validation"
      ],
      "metadata": {
        "id": "ut6_qLVpDf3q"
      }
    },
    {
      "cell_type": "code",
      "source": [
        "val_ibm = [(stft_clean_val[i] > stft_noisy_val[i]).astype(int) for i in range(len(stft_clean_val))]"
      ],
      "metadata": {
        "id": "Tn8ftEcSDkqv"
      },
      "execution_count": null,
      "outputs": []
    },
    {
      "cell_type": "code",
      "source": [
        "val_ibm = np.stack(val_ibm)\n",
        "noise_val_new = np.stack(stft_noisy_val)"
      ],
      "metadata": {
        "id": "WG7RajFODszP"
      },
      "execution_count": null,
      "outputs": []
    },
    {
      "cell_type": "markdown",
      "source": [
        "##Model"
      ],
      "metadata": {
        "id": "EqHYYi2vXL3S"
      }
    },
    {
      "cell_type": "code",
      "source": [
        "model = tf.keras.Sequential([\n",
        "    tf.keras.layers.GRU(513, return_sequences=True,dropout = 0.2),\n",
        "    tf.keras.layers.GRU(513, return_sequences=True,dropout = 0.2),\n",
        "    tf.keras.layers.GRU(513, return_sequences=True),\n",
        "    tf.keras.layers.Dense(513,activation = 'sigmoid')\n",
        "])"
      ],
      "metadata": {
        "id": "qoOfiq6db5Bk"
      },
      "execution_count": null,
      "outputs": []
    },
    {
      "cell_type": "code",
      "source": [
        "model.compile(optimizer = 'adam',loss = 'binary_crossentropy')"
      ],
      "metadata": {
        "id": "v8KeGw2jXSPj"
      },
      "execution_count": null,
      "outputs": []
    },
    {
      "cell_type": "code",
      "source": [
        "history = model.fit(noise_train_new, train_ibm, epochs=20, batch_size=10)"
      ],
      "metadata": {
        "id": "BawPz90oiJ9S",
        "colab": {
          "base_uri": "https://localhost:8080/"
        },
        "outputId": "405882ee-fa05-4c59-b5bf-74427d6cf8cb"
      },
      "execution_count": null,
      "outputs": [
        {
          "output_type": "stream",
          "name": "stdout",
          "text": [
            "Epoch 1/20\n",
            "120/120 [==============================] - 13s 60ms/step - loss: 0.4651\n",
            "Epoch 2/20\n",
            "120/120 [==============================] - 7s 59ms/step - loss: 0.3348\n",
            "Epoch 3/20\n",
            "120/120 [==============================] - 7s 60ms/step - loss: 0.3276\n",
            "Epoch 4/20\n",
            "120/120 [==============================] - 7s 61ms/step - loss: 0.3056\n",
            "Epoch 5/20\n",
            "120/120 [==============================] - 7s 61ms/step - loss: 0.2937\n",
            "Epoch 6/20\n",
            "120/120 [==============================] - 7s 61ms/step - loss: 0.2926\n",
            "Epoch 7/20\n",
            "120/120 [==============================] - 7s 59ms/step - loss: 0.3055\n",
            "Epoch 8/20\n",
            "120/120 [==============================] - 7s 59ms/step - loss: 0.2946\n",
            "Epoch 9/20\n",
            "120/120 [==============================] - 7s 59ms/step - loss: 0.2878\n",
            "Epoch 10/20\n",
            "120/120 [==============================] - 7s 59ms/step - loss: 0.2874\n",
            "Epoch 11/20\n",
            "120/120 [==============================] - 7s 59ms/step - loss: 0.2856\n",
            "Epoch 12/20\n",
            "120/120 [==============================] - 7s 59ms/step - loss: 0.2829\n",
            "Epoch 13/20\n",
            "120/120 [==============================] - 7s 58ms/step - loss: 0.2858\n",
            "Epoch 14/20\n",
            "120/120 [==============================] - 7s 59ms/step - loss: 0.2909\n",
            "Epoch 15/20\n",
            "120/120 [==============================] - 7s 60ms/step - loss: 0.2836\n",
            "Epoch 16/20\n",
            "120/120 [==============================] - 7s 60ms/step - loss: 0.2862\n",
            "Epoch 17/20\n",
            "120/120 [==============================] - 7s 60ms/step - loss: 0.2814\n",
            "Epoch 18/20\n",
            "120/120 [==============================] - 7s 60ms/step - loss: 0.2821\n",
            "Epoch 19/20\n",
            "120/120 [==============================] - 7s 60ms/step - loss: 0.2803\n",
            "Epoch 20/20\n",
            "120/120 [==============================] - 7s 60ms/step - loss: 0.2779\n"
          ]
        }
      ]
    },
    {
      "cell_type": "code",
      "source": [
        "model.save('/content/drive/MyDrive/ENGR-E-533 /DATA/HW3/Models/GRUmodel.h5')"
      ],
      "metadata": {
        "id": "kb8faClLiNsn"
      },
      "execution_count": null,
      "outputs": []
    },
    {
      "cell_type": "code",
      "source": [
        "model.evaluate(noise_val_new, val_ibm, batch_size=10)"
      ],
      "metadata": {
        "id": "_EaM9hm7imI9",
        "colab": {
          "base_uri": "https://localhost:8080/"
        },
        "outputId": "e8371268-dbf0-4ec4-9777-9da0b91df463"
      },
      "execution_count": null,
      "outputs": [
        {
          "output_type": "stream",
          "name": "stdout",
          "text": [
            "120/120 [==============================] - 4s 27ms/step - loss: 0.3007\n"
          ]
        },
        {
          "output_type": "execute_result",
          "data": {
            "text/plain": [
              "0.3006991446018219"
            ]
          },
          "metadata": {},
          "execution_count": 50
        }
      ]
    },
    {
      "cell_type": "markdown",
      "source": [
        "###SNR Function"
      ],
      "metadata": {
        "id": "30ZWkSPdi2Fo"
      }
    },
    {
      "cell_type": "code",
      "source": [
        "def snr_calc(clean, reconstruct):\n",
        "    print(clean.shape)\n",
        "    recon = reconstruct[:clean.shape[0]]\n",
        "    return 10*np.log10(np.sum(clean**2)/np.sum(clean - reconstruct)**2)"
      ],
      "metadata": {
        "id": "BDamKJNEiyMG"
      },
      "execution_count": null,
      "outputs": []
    },
    {
      "cell_type": "markdown",
      "source": [
        "##Predict IBM Mask"
      ],
      "metadata": {
        "id": "eRBPuJ83jC7V"
      }
    },
    {
      "cell_type": "code",
      "source": [
        "predmodel = model.predict(noise_val_new)"
      ],
      "metadata": {
        "id": "C6PkuTqbi_L2",
        "colab": {
          "base_uri": "https://localhost:8080/"
        },
        "outputId": "7823320f-fce2-4e76-c7ed-fe987aee42cb"
      },
      "execution_count": null,
      "outputs": [
        {
          "output_type": "stream",
          "name": "stdout",
          "text": [
            "38/38 [==============================] - 3s 39ms/step\n"
          ]
        }
      ]
    },
    {
      "cell_type": "code",
      "source": [
        "def stft_calc_2(path,input):\n",
        "  data_abs=[]\n",
        "  data=[]\n",
        "  for i in input:\n",
        "    s, sr = librosa.load(path+i, sr=None)\n",
        "    S = librosa.stft(s, n_fft=1024, hop_length=512)\n",
        "    padding = np.zeros((513, 178))\n",
        "    padding[:, :S.shape[1]] = S\n",
        "    padding=padding.T\n",
        "    pad_abs = np.abs(padding)\n",
        "    data.append(padding)\n",
        "    data_abs.append(pad_abs)\n",
        "  return data,data_abs"
      ],
      "metadata": {
        "id": "CDusAVUejoK0"
      },
      "execution_count": null,
      "outputs": []
    },
    {
      "cell_type": "code",
      "source": [
        "def stft_calc_3(path,input):\n",
        "  data_abs=[]\n",
        "  data=[]\n",
        "  for i in input:\n",
        "    s, sr = librosa.load(path+i, sr=None)\n",
        "    S = librosa.stft(s, n_fft=1024, hop_length=512)\n",
        "    padding = np.zeros((513, 178))\n",
        "    padding[:, :S.shape[1]] = S\n",
        "    padding=padding.T\n",
        "    pad_abs = np.abs(padding)\n",
        "    data.append(S)\n",
        "    data_abs.append(pad_abs)\n",
        "  return data,data_abs"
      ],
      "metadata": {
        "id": "CW1BY7aLmPjI"
      },
      "execution_count": null,
      "outputs": []
    },
    {
      "cell_type": "code",
      "source": [
        "val_data_noisy,noisy_val_2 = stft_calc_2(val_loc,noisy_validation)"
      ],
      "metadata": {
        "id": "fT6YM6BBmZKl",
        "colab": {
          "base_uri": "https://localhost:8080/"
        },
        "outputId": "4098ec09-fde1-4452-ca1b-42af25ab8f9c"
      },
      "execution_count": null,
      "outputs": [
        {
          "output_type": "stream",
          "name": "stderr",
          "text": [
            "/usr/local/lib/python3.7/dist-packages/ipykernel_launcher.py:8: ComplexWarning: Casting complex values to real discards the imaginary part\n",
            "  \n"
          ]
        }
      ]
    },
    {
      "cell_type": "code",
      "source": [
        "val_data_clean,clean_val_2 = stft_calc_3(val_loc,clean_validation)"
      ],
      "metadata": {
        "id": "TEAh6aj9mvyl",
        "colab": {
          "base_uri": "https://localhost:8080/"
        },
        "outputId": "6976581d-3d5a-4fa9-b864-02148d946e7f"
      },
      "execution_count": null,
      "outputs": [
        {
          "output_type": "stream",
          "name": "stderr",
          "text": [
            "/usr/local/lib/python3.7/dist-packages/ipykernel_launcher.py:8: ComplexWarning: Casting complex values to real discards the imaginary part\n",
            "  \n"
          ]
        }
      ]
    },
    {
      "cell_type": "code",
      "source": [
        "val_data_noisy = np.stack(val_data_noisy)"
      ],
      "metadata": {
        "id": "dT2PtkLmnHDd"
      },
      "execution_count": null,
      "outputs": []
    },
    {
      "cell_type": "markdown",
      "source": [
        "##Recover Validation Sequence"
      ],
      "metadata": {
        "id": "OVktzwuwnVTL"
      }
    },
    {
      "cell_type": "code",
      "source": [
        "predclean = np.multiply(predmodel, val_data_noisy)"
      ],
      "metadata": {
        "id": "SOd8xfULnX75"
      },
      "execution_count": null,
      "outputs": []
    },
    {
      "cell_type": "markdown",
      "source": [
        "##SNR Calc !"
      ],
      "metadata": {
        "id": "iKLrd9L9n28D"
      }
    },
    {
      "cell_type": "code",
      "source": [
        "snr_values = []\n",
        "for i in range(len(val_data_clean)):\n",
        "    St = librosa.istft(val_data_clean[i], hop_length=512)\n",
        "    St2 = librosa.istft(predclean[i].T, hop_length=512)\n",
        "    s = sum((St)**2)\n",
        "    St2 = St2[:St.shape[0]]\n",
        "    #diff_st = sum(np.subtract(S_test,S_test_2)**2)+1e-20\n",
        "    SNR = 10*np.log10(np.sum(St**2)/np.sum(St - St2)**2)\n",
        "    snr_values.append(SNR)"
      ],
      "metadata": {
        "id": "Wwg-TW-6n09R"
      },
      "execution_count": null,
      "outputs": []
    },
    {
      "cell_type": "code",
      "source": [
        "snr_values"
      ],
      "metadata": {
        "colab": {
          "base_uri": "https://localhost:8080/"
        },
        "id": "u6DOCySj21En",
        "outputId": "cc99f041-708d-4b4c-9718-59eaba0dbeb0"
      },
      "execution_count": null,
      "outputs": [
        {
          "output_type": "execute_result",
          "data": {
            "text/plain": [
              "[16.38892795071706,\n",
              " 15.615083560995306,\n",
              " 14.665395473238991,\n",
              " 36.93242456059883,\n",
              " 18.297234053259924,\n",
              " 18.59006302751704,\n",
              " 15.479006744525023,\n",
              " 20.156330637872557,\n",
              " 18.601987474305428,\n",
              " 16.137552297591288,\n",
              " 15.007599385456864,\n",
              " 19.735694702208097,\n",
              " 29.6108047403142,\n",
              " 19.37216910570872,\n",
              " 30.236119749786194,\n",
              " 16.63748944643444,\n",
              " 14.158572638585639,\n",
              " 18.906308134004338,\n",
              " 11.763260534141688,\n",
              " 14.558349344700359,\n",
              " 27.20540068563401,\n",
              " 21.487152216235653,\n",
              " 33.96537094076403,\n",
              " 18.361116455623158,\n",
              " 19.621504279266876,\n",
              " 19.55182817059688,\n",
              " 18.144369936265846,\n",
              " 18.617527283321575,\n",
              " 29.823031845068925,\n",
              " 21.90555873533297,\n",
              " 22.78771237893333,\n",
              " 23.586969143045554,\n",
              " 35.88999963497824,\n",
              " 25.20061685923001,\n",
              " 27.692583138111267,\n",
              " 24.337327522013187,\n",
              " 20.118929373990163,\n",
              " 23.913184910062334,\n",
              " 26.916495093574426,\n",
              " 29.1175033243263,\n",
              " 23.101941005000274,\n",
              " 22.003931749203502,\n",
              " 21.186107368132134,\n",
              " 19.772027227982637,\n",
              " 16.91259549894182,\n",
              " 20.698285660207617,\n",
              " 26.82393266625438,\n",
              " 20.05897718951855,\n",
              " 23.86483709349324,\n",
              " 17.407156469666692,\n",
              " 10.121313827813879,\n",
              " 9.979518713082632,\n",
              " 14.870087431568123,\n",
              " 12.191042267665226,\n",
              " 10.791936182172757,\n",
              " 10.99045360529768,\n",
              " 10.488059531974114,\n",
              " 10.217376628248402,\n",
              " 6.851053678446043,\n",
              " 9.290453788260882,\n",
              " 11.55051978135205,\n",
              " 10.28153077733496,\n",
              " 14.1002537277075,\n",
              " 11.121322222390923,\n",
              " 7.651777099366573,\n",
              " 10.896009987749695,\n",
              " 13.245370397676698,\n",
              " 8.42133932562241,\n",
              " 12.858102844047528,\n",
              " 11.696730208930806,\n",
              " 20.967766395444794,\n",
              " 25.36054814264311,\n",
              " 12.074484581107903,\n",
              " 21.84288222683953,\n",
              " 17.820888867732386,\n",
              " 19.33388490281549,\n",
              " 21.549084377438604,\n",
              " 20.1185430548008,\n",
              " 16.158469081399353,\n",
              " 18.65656438569278,\n",
              " 21.707359552774147,\n",
              " 30.745789029006616,\n",
              " 53.637456597965794,\n",
              " 20.734200188722156,\n",
              " 25.778152831905285,\n",
              " 38.632756849477644,\n",
              " 26.27895240075639,\n",
              " 26.196284482938893,\n",
              " 22.6709134436614,\n",
              " 18.794110910896087,\n",
              " 11.23672614323499,\n",
              " 10.550728390558799,\n",
              " 9.008569809273512,\n",
              " 10.855441299330757,\n",
              " 11.500786995687784,\n",
              " 9.81368270821065,\n",
              " 10.030373113822888,\n",
              " 12.346081310359573,\n",
              " 12.143351606217195,\n",
              " 12.962117333738167,\n",
              " 18.16442978438991,\n",
              " 13.384673415223814,\n",
              " 11.590546362935587,\n",
              " 16.03552979864204,\n",
              " 12.45573041198192,\n",
              " 13.509921633612937,\n",
              " 16.129940228929772,\n",
              " 14.908735410292802,\n",
              " 14.87192374974678,\n",
              " 11.527224759801669,\n",
              " 11.83124981267379,\n",
              " 13.157098503348097,\n",
              " 8.438044863476051,\n",
              " 11.238746785468086,\n",
              " 14.124930093118802,\n",
              " 11.48651423673136,\n",
              " 10.35236535170952,\n",
              " 15.254152075271517,\n",
              " 13.057080504983354,\n",
              " 12.128661056116794,\n",
              " 17.329468033373338,\n",
              " 15.499884747856708,\n",
              " 12.332223269176865,\n",
              " 19.736797323744998,\n",
              " 12.836865963688318,\n",
              " 18.21972111346807,\n",
              " 20.45254374281931,\n",
              " 15.877452996754009,\n",
              " 16.232268636341107,\n",
              " 30.993311428331815,\n",
              " 36.52915771774119,\n",
              " 57.78391456878485,\n",
              " 18.383605732886274,\n",
              " 34.803214463495806,\n",
              " 37.17323631254585,\n",
              " 20.42371740137584,\n",
              " 22.160516005349386,\n",
              " 38.30505780038298,\n",
              " 16.80750310145751,\n",
              " 30.304069665553858,\n",
              " 30.68415741024041,\n",
              " 29.707129665203173,\n",
              " 22.788236746180583,\n",
              " 38.38131205061116,\n",
              " 42.941357192527924,\n",
              " 48.14742616949477,\n",
              " 27.788806103815634,\n",
              " 25.547165439116995,\n",
              " 17.613880862506992,\n",
              " 48.73882970251771,\n",
              " 28.35183529123979,\n",
              " 34.04374957869421,\n",
              " 17.820638892219556,\n",
              " 25.842153939181458,\n",
              " 16.391546539228123,\n",
              " 26.30561850823346,\n",
              " 26.91881703091792,\n",
              " 33.71822618501674,\n",
              " 21.27682125420804,\n",
              " 27.896348164248245,\n",
              " 14.787818511612658,\n",
              " 14.469716431468347,\n",
              " 13.241911927667884,\n",
              " 13.925187981071488,\n",
              " 13.51429158507907,\n",
              " 20.609194845943982,\n",
              " 15.26245769111856,\n",
              " 16.28752486245002,\n",
              " 14.346193112341624,\n",
              " 16.01611043612894,\n",
              " 26.979184392683273,\n",
              " 21.851817019700185,\n",
              " 14.76989568382179,\n",
              " 51.70110334881116,\n",
              " 13.414906381973125,\n",
              " 25.781490545632675,\n",
              " 19.551243195734468,\n",
              " 19.994368095471682,\n",
              " 18.69875239481192,\n",
              " 45.027539095907194,\n",
              " 34.87630616336134,\n",
              " 33.519684389579304,\n",
              " 26.733902296691568,\n",
              " 28.21408088687848,\n",
              " 20.686776996717946,\n",
              " 12.650967512960259,\n",
              " 29.838699715102734,\n",
              " 26.73448158446076,\n",
              " 30.187556689433897,\n",
              " 17.36269915830141,\n",
              " 27.401960063519923,\n",
              " 29.566553605623138,\n",
              " 16.134543300859015,\n",
              " 19.281606934229757,\n",
              " 50.147727270646136,\n",
              " 21.813397378937864,\n",
              " 36.26063577933031,\n",
              " 34.13789502117795,\n",
              " 12.124831974652883,\n",
              " 23.45833410584487,\n",
              " 20.97558120938329,\n",
              " 25.006410029656408,\n",
              " 17.434248472400846,\n",
              " 33.23751823565862,\n",
              " 20.166195403736545,\n",
              " 16.708793184792757,\n",
              " 25.25486921564235,\n",
              " 32.23367432876935,\n",
              " 18.843051118351898,\n",
              " 25.242601753558183,\n",
              " 10.888519449824944,\n",
              " 10.031222177117023,\n",
              " 13.532823109636723,\n",
              " 11.735154357195398,\n",
              " 9.554077191991778,\n",
              " 9.97715965582347,\n",
              " 6.01479253306133,\n",
              " 11.316456510145432,\n",
              " 11.10866488100642,\n",
              " 10.396334854611222,\n",
              " 13.43319173599201,\n",
              " 12.143263432462648,\n",
              " 10.772436468724628,\n",
              " 14.13820711659353,\n",
              " 10.984899483824947,\n",
              " 15.948557784002372,\n",
              " 11.810815810130482,\n",
              " 11.90822893718809,\n",
              " 10.82812827046833,\n",
              " 10.630508438071294,\n",
              " 12.967190042628456,\n",
              " 13.794478294452762,\n",
              " 9.548410753732233,\n",
              " 13.009004081007733,\n",
              " 11.22136964999106,\n",
              " 13.558574604457544,\n",
              " 13.575647843023848,\n",
              " 13.702907652472039,\n",
              " 10.842703348101663,\n",
              " 11.94723147535035,\n",
              " 15.925627436476075,\n",
              " 14.775590736347235,\n",
              " 18.042635808464325,\n",
              " 13.195027523531023,\n",
              " 11.843634116662509,\n",
              " 15.879300270606718,\n",
              " 12.406623127416086,\n",
              " 12.87101696356081,\n",
              " 18.655164200365522,\n",
              " 18.639424649995554,\n",
              " 15.656404544631236,\n",
              " 18.964532845715215,\n",
              " 16.352789264610646,\n",
              " 16.180979442516843,\n",
              " 14.084977387301095,\n",
              " 14.546687087170064,\n",
              " 18.390063778228406,\n",
              " 13.642760351927997,\n",
              " 12.077303314327324,\n",
              " 16.117581798133912,\n",
              " 12.015286760678807,\n",
              " 10.909837767711101,\n",
              " 10.247007859880457,\n",
              " 11.659126855893378,\n",
              " 7.214364135149264,\n",
              " 6.723986824858087,\n",
              " 12.703005356578785,\n",
              " 11.376856208444785,\n",
              " 11.045245017655667,\n",
              " 10.494427328639782,\n",
              " 9.973567867744167,\n",
              " 9.981889746272191,\n",
              " 6.318408809847953,\n",
              " 11.957975333373248,\n",
              " 12.406258102347165,\n",
              " 10.866218099975036,\n",
              " 12.370503074313184,\n",
              " 10.493796694850008,\n",
              " 17.030670409761505,\n",
              " 10.672186597600897,\n",
              " 11.620487902491906,\n",
              " 14.913906986925829,\n",
              " 13.26457627816926,\n",
              " 10.490983480368257,\n",
              " 16.42216783258503,\n",
              " 13.139554296643084,\n",
              " 12.969003322979976,\n",
              " 12.435680545837291,\n",
              " 16.91823771094358,\n",
              " 16.620250295798147,\n",
              " 13.561960103703283,\n",
              " 10.186556657256174,\n",
              " 10.427307360463494,\n",
              " 10.687216070510292,\n",
              " 13.2945980196275,\n",
              " 12.43941499016561,\n",
              " 15.641980513888473,\n",
              " 11.04735890353049,\n",
              " 8.330024809890588,\n",
              " 12.63035598254421,\n",
              " 22.918496855929863,\n",
              " 23.291189536631837,\n",
              " 22.181424768946986,\n",
              " 23.107813964581645,\n",
              " 23.793853542755038,\n",
              " 53.79424321404143,\n",
              " 27.193464693990954,\n",
              " 23.938999360961127,\n",
              " 39.38876017841252,\n",
              " 18.83499762187833,\n",
              " 12.598162801845715,\n",
              " 12.974402490433546,\n",
              " 10.547463233814668,\n",
              " 12.687027540399319,\n",
              " 7.520748138550264,\n",
              " 23.122422897652065,\n",
              " 12.596096539526949,\n",
              " 12.681273709247131,\n",
              " 12.573067128506278,\n",
              " 29.108367346980803,\n",
              " 30.274521463099205,\n",
              " 33.960822498850845,\n",
              " 34.332080073874295,\n",
              " 34.03131902726171,\n",
              " 20.0513142693337,\n",
              " 44.64146757811096,\n",
              " 34.29553245102855,\n",
              " 48.70774893147629,\n",
              " 28.426779196154737,\n",
              " 22.514504175268826,\n",
              " 38.47114713430607,\n",
              " 31.673166312633047,\n",
              " 29.877986417464335,\n",
              " 26.239773782409877,\n",
              " 30.308758431053896,\n",
              " 25.97205774145627,\n",
              " 23.746431953207146,\n",
              " 36.46849834617978,\n",
              " 30.61991198993602,\n",
              " 18.84375501030211,\n",
              " 19.72863190866026,\n",
              " 15.691823708080225,\n",
              " 23.988405518435762,\n",
              " 19.196092518392536,\n",
              " 27.490645939756583,\n",
              " 19.84215951316072,\n",
              " 15.428639824059351,\n",
              " 19.03158220876453,\n",
              " 23.90444821827554,\n",
              " 15.45698587837582,\n",
              " 26.96771654740307,\n",
              " 23.318348350329497,\n",
              " 18.59562257714372,\n",
              " 33.2533112580159,\n",
              " 28.668061010988918,\n",
              " 17.837118218475634,\n",
              " 42.05377306522714,\n",
              " 27.93205136984715,\n",
              " 21.294072970411634,\n",
              " 29.305782251782663,\n",
              " 18.39749366569521,\n",
              " 28.239387997104725,\n",
              " 19.73456905359323,\n",
              " 36.82169056084557,\n",
              " 27.367600833532105,\n",
              " 21.210065553894566,\n",
              " 66.23543187615485,\n",
              " 19.402727119342437,\n",
              " 17.48065308127707,\n",
              " 36.28699122666021,\n",
              " 15.591971529186036,\n",
              " 17.070131610069797,\n",
              " 29.789897122190663,\n",
              " 18.837569447657735,\n",
              " 16.86513982724972,\n",
              " 17.903293570390684,\n",
              " 15.907475013902337,\n",
              " 16.817490387616566,\n",
              " 18.48080490166035,\n",
              " 16.845890408240244,\n",
              " 21.38337921209683,\n",
              " 44.73500631305039,\n",
              " 22.449754576972015,\n",
              " 33.980955462924165,\n",
              " 25.61142487133633,\n",
              " 29.00019087259099,\n",
              " 23.20666348269025,\n",
              " 30.88437081086001,\n",
              " 29.867085009940904,\n",
              " 21.37913858643155,\n",
              " 12.395739687021965,\n",
              " 10.161731161543797,\n",
              " 14.623937360687405,\n",
              " 11.035300206337869,\n",
              " 11.66987254124735,\n",
              " 10.85627050285848,\n",
              " 11.240291172493514,\n",
              " 11.250711942941674,\n",
              " 11.613368881799925,\n",
              " 9.93514719624915,\n",
              " 15.030264637212243,\n",
              " 16.488290786464294,\n",
              " 16.591618914818312,\n",
              " 14.842348713734259,\n",
              " 11.021192040685515,\n",
              " 15.472630584242012,\n",
              " 13.475704701708025,\n",
              " 14.997730682073156,\n",
              " 13.69994961941529,\n",
              " 13.814328757575161,\n",
              " 17.711151852480896,\n",
              " 19.60329361440753,\n",
              " 25.81512146273166,\n",
              " 20.37971151736607,\n",
              " 13.273922540700598,\n",
              " 23.281844590519434,\n",
              " 22.882572785832078,\n",
              " 14.478450704423597,\n",
              " 16.449565344639545,\n",
              " 21.80224256330328,\n",
              " 13.875221975917107,\n",
              " 17.441784518309507,\n",
              " 16.454782728811153,\n",
              " 14.464828743427056,\n",
              " 18.734774960376228,\n",
              " 17.343313699714706,\n",
              " 16.384131107534685,\n",
              " 13.44635668738306,\n",
              " 10.368229200302101,\n",
              " 13.2608173417125,\n",
              " 13.190845706527949,\n",
              " 15.392858594457104,\n",
              " 14.674021332826019,\n",
              " 14.017341725962709,\n",
              " 9.400014855136444,\n",
              " 13.569592300902023,\n",
              " 12.25035412424291,\n",
              " 13.860833336934611,\n",
              " 14.25076906117728,\n",
              " 14.075100628394635,\n",
              " 16.971955347736007,\n",
              " 16.071012166524508,\n",
              " 11.768919514139892,\n",
              " 14.780332828294398,\n",
              " 15.85090054408144,\n",
              " 18.003449551574743,\n",
              " 16.103472627648607,\n",
              " 15.175478293741262,\n",
              " 15.156677243656347,\n",
              " 20.110058357288885,\n",
              " 16.087351798117677,\n",
              " 17.073954309047323,\n",
              " 13.156888424701233,\n",
              " 15.328008606469442,\n",
              " 12.967554401569068,\n",
              " 17.10603787131444,\n",
              " 26.588679182849088,\n",
              " 19.513466128204083,\n",
              " 13.220116338173444,\n",
              " 14.96105546015876,\n",
              " 32.30436461192436,\n",
              " 28.137994062655736,\n",
              " 28.886063543499198,\n",
              " 33.555899497160524,\n",
              " 44.81668583313565,\n",
              " 10.637248622973344,\n",
              " 28.29831870149301,\n",
              " 24.84696860327893,\n",
              " 47.012409091106406,\n",
              " 27.12151472571825,\n",
              " 14.129640090171765,\n",
              " 12.0913319665744,\n",
              " 11.668262591108782,\n",
              " 16.63623946112608,\n",
              " 11.954607510820976,\n",
              " 16.34973014307527,\n",
              " 11.843820759151019,\n",
              " 11.067018804482323,\n",
              " 8.448840217540576,\n",
              " 13.960093720234898,\n",
              " 12.679189501977886,\n",
              " 14.466828337578123,\n",
              " 11.079456412325438,\n",
              " 13.654799111123147,\n",
              " 11.241832498214613,\n",
              " 11.250231891964281,\n",
              " 12.772010649360645,\n",
              " 12.712749485797868,\n",
              " 9.593893895870938,\n",
              " 9.791283731038853,\n",
              " 32.935675886974416,\n",
              " 27.405410642458413,\n",
              " 15.438370115704807,\n",
              " 28.90402295717559,\n",
              " 22.01118091872806,\n",
              " 28.11050886905236,\n",
              " 21.256155878822305,\n",
              " 18.135476806727883,\n",
              " 19.7487413838472,\n",
              " 26.853377752468752,\n",
              " 6.704887911750087,\n",
              " 6.104455376116867,\n",
              " 5.740593577568269,\n",
              " 5.713988680308466,\n",
              " 5.597044718943373,\n",
              " 7.0946506428003175,\n",
              " 8.281152755598196,\n",
              " 6.799986523653216,\n",
              " 7.93011907944551,\n",
              " 6.92506675721241,\n",
              " 8.599175211069818,\n",
              " 9.58485778480831,\n",
              " 6.729311636076534,\n",
              " 7.718449918149291,\n",
              " 9.019580710452576,\n",
              " 7.811496613054092,\n",
              " 8.173971826278896,\n",
              " 8.222800150811569,\n",
              " 6.799867507473884,\n",
              " 8.378894205117595,\n",
              " 16.730450282554987,\n",
              " 18.666463423215948,\n",
              " 25.531859511942333,\n",
              " 11.996377287544021,\n",
              " 13.201961037801926,\n",
              " 16.04388438420091,\n",
              " 18.356877449500224,\n",
              " 16.34670777264459,\n",
              " 20.001896908576033,\n",
              " 13.219049550709885,\n",
              " 11.610686803847742,\n",
              " 10.905155552746757,\n",
              " 13.914658309598,\n",
              " 12.1640274223743,\n",
              " 11.007429870754844,\n",
              " 11.768729287892409,\n",
              " 6.298696871850024,\n",
              " 11.583089373213413,\n",
              " 12.98317648536891,\n",
              " 12.328703869784345,\n",
              " 12.839054615197538,\n",
              " 15.597228990510729,\n",
              " 10.076503536773735,\n",
              " 17.515002261260292,\n",
              " 16.723546846127384,\n",
              " 14.158140475195669,\n",
              " 16.259287169269466,\n",
              " 14.167585821252622,\n",
              " 18.992870436380983,\n",
              " 17.4525461388181,\n",
              " 11.599018303310153,\n",
              " 12.232460386926888,\n",
              " 10.8396579400065,\n",
              " 12.77182012117512,\n",
              " 18.921863230796543,\n",
              " 8.803078111739929,\n",
              " 13.043174084852534,\n",
              " 14.686868509537634,\n",
              " 14.700589848901933,\n",
              " 11.86040820334275,\n",
              " 8.896239574639843,\n",
              " 9.46417804785829,\n",
              " 10.739672071439601,\n",
              " 10.520879839174919,\n",
              " 10.347929984072422,\n",
              " 10.145585870342959,\n",
              " 10.649574921954452,\n",
              " 10.02481098497684,\n",
              " 6.709918182060654,\n",
              " 11.015936629690767,\n",
              " 11.153130789419825,\n",
              " 9.226149883223677,\n",
              " 6.676305923880274,\n",
              " 7.2372484153036964,\n",
              " 12.462758087837212,\n",
              " 6.978009826504968,\n",
              " 8.376952327633246,\n",
              " 8.565020207463256,\n",
              " 7.228678192311037,\n",
              " 6.747145398171311,\n",
              " 9.095815072469804,\n",
              " 11.064385091637785,\n",
              " 8.343078437932894,\n",
              " 10.56299674076602,\n",
              " 14.645738771302055,\n",
              " 10.572806221567586,\n",
              " 9.565104193762146,\n",
              " 10.914809344762082,\n",
              " 8.03785015014006,\n",
              " 11.377223176941598,\n",
              " 22.997572985123995,\n",
              " 18.42629634761785,\n",
              " 29.803656494162208,\n",
              " 20.827497897768513,\n",
              " 16.89105286973694,\n",
              " 19.261094222977178,\n",
              " 17.39170868129878,\n",
              " 21.720250638725815,\n",
              " 18.617800441919783,\n",
              " 17.555412874301027,\n",
              " 30.002629384779453,\n",
              " 27.555286495380695,\n",
              " 18.43676777156999,\n",
              " 39.2673118772243,\n",
              " 33.015249343562004,\n",
              " 39.26322393184653,\n",
              " 22.943832527365544,\n",
              " 60.493366305314396,\n",
              " 17.475268768085378,\n",
              " 64.47787405738546,\n",
              " 19.180551840483044,\n",
              " 18.201572752695384,\n",
              " 26.643974219901587,\n",
              " 18.74066052940661,\n",
              " 23.422091872920404,\n",
              " 22.402326801010265,\n",
              " 25.343537459739288,\n",
              " 18.58883712690006,\n",
              " 24.173517947951417,\n",
              " 28.454905910447327,\n",
              " 21.282740956602524,\n",
              " 50.95175964251997,\n",
              " 23.77829435165456,\n",
              " 20.786045577586243,\n",
              " 24.99271703008911,\n",
              " 27.411706318554202,\n",
              " 70.60684070220145,\n",
              " 24.991914199939753,\n",
              " 19.008442491217238,\n",
              " 24.982620818817452,\n",
              " 24.38714009878749,\n",
              " 26.12205116447763,\n",
              " 41.11222665310599,\n",
              " 28.283905110619298,\n",
              " 22.54588746916881,\n",
              " 19.39800774436138,\n",
              " 28.7276448930324,\n",
              " 25.17291047449536,\n",
              " 24.58722860906301,\n",
              " 35.8622403521137,\n",
              " 18.69861067297237,\n",
              " 25.947708015520142,\n",
              " 29.951294207947043,\n",
              " 17.09271591378881,\n",
              " 18.221581282864612,\n",
              " 17.425140660645503,\n",
              " 17.27409394467002,\n",
              " 21.215004629344687,\n",
              " 14.9150092034597,\n",
              " 21.841692865692192,\n",
              " 23.372616891010303,\n",
              " 22.52217389588955,\n",
              " 25.433346483608116,\n",
              " 19.783212300302132,\n",
              " 24.655706331479767,\n",
              " 19.08241977245464,\n",
              " 16.695901329142863,\n",
              " 22.24255977417669,\n",
              " 27.85055169375343,\n",
              " 23.45751001103098,\n",
              " 24.833544099994448,\n",
              " 22.59380420384843,\n",
              " 50.60115414082168,\n",
              " 17.568333530250563,\n",
              " 24.457474092018177,\n",
              " 18.65764313366432,\n",
              " 22.608203287925882,\n",
              " 23.35478418175618,\n",
              " 32.97122549000025,\n",
              " 24.702275675330476,\n",
              " 43.27708290216036,\n",
              " 23.0768807262099,\n",
              " 22.802650371362585,\n",
              " 24.928052183745667,\n",
              " 32.3257535310058,\n",
              " 15.653226109139586,\n",
              " 24.19397436690906,\n",
              " 27.029959798247553,\n",
              " 15.713012769612678,\n",
              " 46.61947402174482,\n",
              " 26.295134988733267,\n",
              " 26.022211742439296,\n",
              " 16.722142091299016,\n",
              " 26.196434486925774,\n",
              " 21.639980491223763,\n",
              " 25.44410414509395,\n",
              " 22.39118441774876,\n",
              " 27.07368037274695,\n",
              " 28.345900047299804,\n",
              " 33.84054520703276,\n",
              " 47.836727254944726,\n",
              " 31.17659248850259,\n",
              " 31.939236228872005,\n",
              " 34.188175253757386,\n",
              " 27.83496743707555,\n",
              " 36.8947059109471,\n",
              " 34.61488414539106,\n",
              " 34.879920526941376,\n",
              " 12.149866531743642,\n",
              " 34.3787589158818,\n",
              " 32.434206736251504,\n",
              " 43.957587943567056,\n",
              " 18.631688229281544,\n",
              " 33.02194004398203,\n",
              " 35.46175102691883,\n",
              " 31.563571793186075,\n",
              " 26.34237334771468,\n",
              " 51.25203071723001,\n",
              " 28.755433309401184,\n",
              " 33.99296372732426,\n",
              " 32.96103417457316,\n",
              " 20.97836849708914,\n",
              " 15.751152670849326,\n",
              " 27.06432065787718,\n",
              " 37.96737272927389,\n",
              " 22.157667060128603,\n",
              " 25.011910175728502,\n",
              " 24.834430870453946,\n",
              " 30.362615386153262,\n",
              " 18.88279595097488,\n",
              " 12.099158776415557,\n",
              " 58.75710158255518,\n",
              " 32.93553846749351,\n",
              " 23.86964584221389,\n",
              " 41.37353181135453,\n",
              " 23.07645658037094,\n",
              " 12.239031865711219,\n",
              " 33.21349275649456,\n",
              " 22.13920099059991,\n",
              " 30.895560769543053,\n",
              " 26.48773173941195,\n",
              " 27.661670816570798,\n",
              " 25.218013481585473,\n",
              " 25.84531620059234,\n",
              " 44.427159432482675,\n",
              " 24.45117462440657,\n",
              " 21.12132675928732,\n",
              " 38.5379483762939,\n",
              " 17.106015404859324,\n",
              " 39.04499891182378,\n",
              " 39.988123139976075,\n",
              " 26.58250021009525,\n",
              " 28.273463018185193,\n",
              " 33.02055236062494,\n",
              " 18.107209557653324,\n",
              " 28.074359944386575,\n",
              " 18.36815552895786,\n",
              " 44.6267250864831,\n",
              " 39.071527741453394,\n",
              " 17.819204517691006,\n",
              " 19.315980746170585,\n",
              " 19.702525725323333,\n",
              " 15.235729283611573,\n",
              " 16.610919361783864,\n",
              " 26.126976161918908,\n",
              " 21.42474163898231,\n",
              " 20.713697203994318,\n",
              " 22.77691667133508,\n",
              " 17.944891991384576,\n",
              " 31.14583339162833,\n",
              " 30.948213300458228,\n",
              " 32.68719269095698,\n",
              " 21.511372765889107,\n",
              " 33.16953293716519,\n",
              " 34.85662074851574,\n",
              " 27.248677357495374,\n",
              " 26.20741863473313,\n",
              " 31.41187349532653,\n",
              " 23.14233781025837,\n",
              " 42.39794992678097,\n",
              " 36.54726119114831,\n",
              " 46.67366092874018,\n",
              " 25.327350363735846,\n",
              " 23.20718319137905,\n",
              " 31.552809177725983,\n",
              " 21.8431882876428,\n",
              " 31.84029198353249,\n",
              " 32.22381983162017,\n",
              " 9.612039600130757,\n",
              " 20.98426121614014,\n",
              " 42.210511688819494,\n",
              " 50.067779986512235,\n",
              " 38.1515427973221,\n",
              " 33.59471634212254,\n",
              " 32.19313944783835,\n",
              " 55.156848759599136,\n",
              " 28.674411837958004,\n",
              " 34.623654693563644,\n",
              " 21.392801445873776,\n",
              " 21.94730263734327,\n",
              " 19.860742117034217,\n",
              " 20.03608519451253,\n",
              " 29.410806033785747,\n",
              " 30.724320028254432,\n",
              " 16.495824302552812,\n",
              " 16.67377335934645,\n",
              " 17.963207664357252,\n",
              " 20.6185646973153,\n",
              " 17.93304747335224,\n",
              " 14.571437253649453,\n",
              " 16.709329845631935,\n",
              " 17.509149892437378,\n",
              " 12.363030645171973,\n",
              " 17.04371192411828,\n",
              " 18.16098750773756,\n",
              " 8.33214599525143,\n",
              " 26.179068749710833,\n",
              " 17.750070439584483,\n",
              " 24.016268461223127,\n",
              " 20.013237287308925,\n",
              " 27.280690960115898,\n",
              " 28.261287270514202,\n",
              " 26.340053170513738,\n",
              " 28.034279622076763,\n",
              " 30.656686328251666,\n",
              " 57.25618457462993,\n",
              " 30.76485766589585,\n",
              " 37.28000730498268,\n",
              " 19.6608946393738,\n",
              " 31.830783022633806,\n",
              " 16.888138943388984,\n",
              " 15.269368335369574,\n",
              " 18.8817693411443,\n",
              " 15.305137160753105,\n",
              " 20.950311050721474,\n",
              " 13.785097963493424,\n",
              " 12.356199018740163,\n",
              " 16.481531525831564,\n",
              " 20.422081205741627,\n",
              " 14.928450438011238,\n",
              " 11.730323302014249,\n",
              " 13.92117220598907,\n",
              " 10.755937314964761,\n",
              " 13.379039125822787,\n",
              " 15.084312675115966,\n",
              " 11.437481438736125,\n",
              " 7.730166294157619,\n",
              " 15.002570125392898,\n",
              " 12.012614322892162,\n",
              " 15.424262719318607,\n",
              " 15.656382547217431,\n",
              " 11.640920275734912,\n",
              " 24.82015092669527,\n",
              " 14.736995549378651,\n",
              " 11.991631760442536,\n",
              " 30.474387087450392,\n",
              " 17.996611601620465,\n",
              " 14.598491579329629,\n",
              " 12.519952806499806,\n",
              " 10.703787848296262,\n",
              " 9.773321280456065,\n",
              " 15.916578885936715,\n",
              " 12.675704267047145,\n",
              " 18.70108004082347,\n",
              " 20.87963305272909,\n",
              " 22.730038681711598,\n",
              " 13.758137556312384,\n",
              " 17.733234913819686,\n",
              " 17.524835282669372,\n",
              " 20.436301731818087,\n",
              " 14.570996114279353,\n",
              " 15.896880806434826,\n",
              " 22.08477835464747,\n",
              " 24.2322554693206,\n",
              " 15.190905588839449,\n",
              " 15.873590412209293,\n",
              " 16.849728945556887,\n",
              " 16.27924694781035,\n",
              " 17.230634174130486,\n",
              " 14.81690718612544,\n",
              " 12.432730953392014,\n",
              " 14.265537501715091,\n",
              " 8.599496751291165,\n",
              " 13.318085674268952,\n",
              " 11.802007107785993,\n",
              " 12.428279570956747,\n",
              " 11.217392708083064,\n",
              " 13.596298328770269,\n",
              " 11.594548324222362,\n",
              " 12.32104351914181,\n",
              " 11.690240338125072,\n",
              " 12.269769313509975,\n",
              " 12.711342764870729,\n",
              " 14.541536311247295,\n",
              " 9.97846974480736,\n",
              " 13.107476424770642,\n",
              " 11.621961637827754,\n",
              " 11.484568826402084,\n",
              " 14.505582304608659,\n",
              " 14.196770160181496,\n",
              " 8.619438594466796,\n",
              " 11.880678829732974,\n",
              " 6.60504336052492,\n",
              " 9.419773917484637,\n",
              " 9.410757147716545,\n",
              " 16.255406870248038,\n",
              " 11.10379502703353,\n",
              " 9.628110618533798,\n",
              " 8.883341660529885,\n",
              " 10.720459690797075,\n",
              " 41.75960916938473,\n",
              " 46.288844295369664,\n",
              " 23.22601032522604,\n",
              " 32.612588263437075,\n",
              " 32.27376074485081,\n",
              " 41.27574554841809,\n",
              " 13.439347646755209,\n",
              " 31.796736438695735,\n",
              " 15.925489319073636,\n",
              " 35.66949781776222,\n",
              " 14.282324137855664,\n",
              " 13.352935028529904,\n",
              " 21.074341641259853,\n",
              " 11.89327166651964,\n",
              " 17.64413002435259,\n",
              " 13.38264519533963,\n",
              " 12.596397815684755,\n",
              " 13.560907453912115,\n",
              " 12.293496192357035,\n",
              " 17.795196654899073,\n",
              " 4.476920950893042,\n",
              " 4.020983427115742,\n",
              " 7.00513204228717,\n",
              " 3.640020991114905,\n",
              " 4.003684876712239,\n",
              " 2.7774939174411175,\n",
              " 4.988372311989791,\n",
              " 4.210936401055909,\n",
              " 3.3050480211223405,\n",
              " 2.679716614609708,\n",
              " 9.681314604693053,\n",
              " 8.592031076889706,\n",
              " 5.860200350350578,\n",
              " 9.637018438264247,\n",
              " 11.513526297611097,\n",
              " 9.007222203671258,\n",
              " 8.85851721547606,\n",
              " 9.58950098542697,\n",
              " 12.665109221432187,\n",
              " 9.889391888242045,\n",
              " 5.250528682199153,\n",
              " 6.151394633904395,\n",
              " 8.497047197847804,\n",
              " 5.395855889151191,\n",
              " 6.009006764971126,\n",
              " 4.991213965521083,\n",
              " 3.8908787241302356,\n",
              " 5.218980349994707,\n",
              " 5.639659220968117,\n",
              " 4.132479266344166,\n",
              " 5.267682192715761,\n",
              " 5.272749331072763,\n",
              " 3.8098529686496163,\n",
              " 4.725085312823282,\n",
              " 6.638655421519319,\n",
              " 4.710029125820483,\n",
              " 4.930538163820987,\n",
              " 4.574320311978033,\n",
              " 3.814133820610897,\n",
              " 4.309257781418476,\n",
              " 4.152900948595044,\n",
              " 3.5279648541454933,\n",
              " 2.977275424807748,\n",
              " 4.368096908936284,\n",
              " 4.337108699314292,\n",
              " 4.066761205359533,\n",
              " 3.9634922148592273,\n",
              " 4.204914064218174,\n",
              " 3.7388698986910214,\n",
              " 3.9150784043571285,\n",
              " 19.453219317656085,\n",
              " 19.209328007762487,\n",
              " 13.723018174149908,\n",
              " 20.068454539152505,\n",
              " 19.037586145450142,\n",
              " 20.042865843032125,\n",
              " 24.606856534870648,\n",
              " 22.00467444608925,\n",
              " 23.23283649162579,\n",
              " 16.68732256168915,\n",
              " 15.321928353804958,\n",
              " 15.21859557984562,\n",
              " 18.881951079357773,\n",
              " 15.077037777874533,\n",
              " 16.011748120731607,\n",
              " 46.95834029793679,\n",
              " 15.955913673421891,\n",
              " 15.274077839995769,\n",
              " 13.458926309433625,\n",
              " 18.458000238459,\n",
              " 26.315096920753867,\n",
              " 28.256620902230047,\n",
              " 29.449172725079286,\n",
              " 23.556646019188832,\n",
              " 24.34968167005868,\n",
              " 34.21177980422158,\n",
              " 44.62551526353845,\n",
              " 12.882400678073731,\n",
              " 37.17821820552389,\n",
              " 16.679471249229103,\n",
              " ...]"
            ]
          },
          "metadata": {},
          "execution_count": 61
        }
      ]
    },
    {
      "cell_type": "code",
      "source": [
        "import statistics\n",
        "statistics.mean(snr_values)"
      ],
      "metadata": {
        "colab": {
          "base_uri": "https://localhost:8080/"
        },
        "id": "f5ire9KS3y4S",
        "outputId": "49575c8a-f261-47a7-d228-de23c1ca392e"
      },
      "execution_count": null,
      "outputs": [
        {
          "output_type": "execute_result",
          "data": {
            "text/plain": [
              "20.531155842283795"
            ]
          },
          "metadata": {},
          "execution_count": 64
        }
      ]
    },
    {
      "cell_type": "markdown",
      "source": [
        "##Test Data Set"
      ],
      "metadata": {
        "id": "a0Ray1-n462-"
      }
    },
    {
      "cell_type": "code",
      "source": [
        "def stft_calc_4(path,input):\n",
        "  data_abs=[]\n",
        "  data=[]\n",
        "  for i in input:\n",
        "    s, sr = librosa.load(path+i, sr=None)\n",
        "    S = librosa.stft(s, n_fft=1024, hop_length=512)\n",
        "    padding = np.zeros((513, 195))\n",
        "    padding[:, :S.shape[1]] = S\n",
        "    padding=padding.T\n",
        "    pad_abs = np.abs(padding)\n",
        "    data.append(padding)\n",
        "    data_abs.append(pad_abs)\n",
        "  return data,data_abs"
      ],
      "metadata": {
        "id": "_wJ3wMEo4cVY"
      },
      "execution_count": null,
      "outputs": []
    },
    {
      "cell_type": "code",
      "source": [
        "test_noisy_data,noise_test_new = stft_calc_4(test_loc,x_test)"
      ],
      "metadata": {
        "colab": {
          "base_uri": "https://localhost:8080/"
        },
        "id": "3QmOU41G5HIt",
        "outputId": "b3afed9f-f1c6-4eff-941f-e99cbd19465b"
      },
      "execution_count": null,
      "outputs": [
        {
          "output_type": "stream",
          "name": "stderr",
          "text": [
            "/usr/local/lib/python3.7/dist-packages/ipykernel_launcher.py:8: ComplexWarning: Casting complex values to real discards the imaginary part\n",
            "  \n"
          ]
        }
      ]
    },
    {
      "cell_type": "code",
      "source": [
        "noisy_test_2 = np.stack(noise_test_new)"
      ],
      "metadata": {
        "id": "wCuge7oT5TLZ"
      },
      "execution_count": null,
      "outputs": []
    },
    {
      "cell_type": "markdown",
      "source": [
        "##IBM Mask for test Set"
      ],
      "metadata": {
        "id": "iZKQpi4M5Xz8"
      }
    },
    {
      "cell_type": "code",
      "source": [
        "test_predmodel =  model.predict(noisy_test_2, batch_size=10)"
      ],
      "metadata": {
        "colab": {
          "base_uri": "https://localhost:8080/"
        },
        "id": "6u7hyNrq5ahP",
        "outputId": "f7901364-ab90-4716-cb2e-5beb708ed55f"
      },
      "execution_count": null,
      "outputs": [
        {
          "output_type": "stream",
          "name": "stdout",
          "text": [
            "40/40 [==============================] - 2s 29ms/step\n"
          ]
        }
      ]
    },
    {
      "cell_type": "code",
      "source": [
        "noisy_test_data = np.stack(test_noisy_data)"
      ],
      "metadata": {
        "id": "TctJ01Pg5oLM"
      },
      "execution_count": null,
      "outputs": []
    },
    {
      "cell_type": "markdown",
      "source": [
        "##Generate Clean sequence from test"
      ],
      "metadata": {
        "id": "_yI8_fC75z_T"
      }
    },
    {
      "cell_type": "code",
      "source": [
        "test_cleanpred = np.multiply(test_predmodel, noisy_test_data)"
      ],
      "metadata": {
        "id": "DsLevWiA5xEp"
      },
      "execution_count": null,
      "outputs": []
    },
    {
      "cell_type": "code",
      "source": [
        "store = '/content/drive/MyDrive/ENGR-E-533 /DATA/HW3/Output/'\n",
        "\n",
        "for i in range(len(x_test)):\n",
        "  test_s , test_sr = librosa.load(test_loc+x_test[i], sr=None)\n",
        "  test_out = librosa.istft(test_cleanpred[i].T, win_length=1024, hop_length=512)\n",
        "  test_out = test_out[:test_s.shape[0]]\n",
        "  sf.write(store+x_test[i]+\"_cleaned.wav\",test_out,test_sr)"
      ],
      "metadata": {
        "id": "TTiJJlt26DhJ"
      },
      "execution_count": null,
      "outputs": []
    },
    {
      "cell_type": "code",
      "source": [
        "%%shell\n",
        "jupyter nbconvert --to html /content/Deep_Learning_HW3_Q3.ipynb"
      ],
      "metadata": {
        "colab": {
          "base_uri": "https://localhost:8080/"
        },
        "id": "wMIhsXo78Spv",
        "outputId": "a035e8ba-288b-4181-b6fb-ed38a531da47"
      },
      "execution_count": null,
      "outputs": [
        {
          "output_type": "stream",
          "name": "stdout",
          "text": [
            "[NbConvertApp] Converting notebook /content/Deep_Learning_HW3_Q3.ipynb to html\n",
            "[NbConvertApp] Writing 490393 bytes to /content/Deep_Learning_HW3_Q3.html\n"
          ]
        },
        {
          "output_type": "execute_result",
          "data": {
            "text/plain": []
          },
          "metadata": {},
          "execution_count": 78
        }
      ]
    }
  ]
}